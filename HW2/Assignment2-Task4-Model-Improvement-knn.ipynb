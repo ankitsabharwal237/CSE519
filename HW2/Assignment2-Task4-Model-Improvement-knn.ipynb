{
 "cells": [
  {
   "cell_type": "code",
   "execution_count": 151,
   "metadata": {
    "collapsed": true
   },
   "outputs": [],
   "source": [
    "%matplotlib inline\n",
    "\n",
    "import matplotlib\n",
    "import numpy as np\n",
    "import matplotlib.pyplot as plt\n",
    "import pandas as pd\n",
    "import datetime\n",
    "import seaborn as sns\n",
    "from collections import defaultdict\n",
    "from sklearn import preprocessing\n",
    "from sklearn.model_selection import train_test_split\n",
    "from sklearn.preprocessing import Imputer\n",
    "from sklearn import datasets, linear_model\n",
    "from sklearn import neighbors\n",
    "from sklearn.metrics import mean_squared_error, r2_score\n",
    "from sklearn.preprocessing import LabelEncoder"
   ]
  },
  {
   "cell_type": "code",
   "execution_count": 221,
   "metadata": {
    "collapsed": true
   },
   "outputs": [],
   "source": [
    "## Read the Key, logerror, transaction date set\n",
    "df_parcel = pd.read_csv(\"c:/Users/ibipul/Documents/Python Scripts/datasets/zillow_data/train_2016_v2.csv\")"
   ]
  },
  {
   "cell_type": "code",
   "execution_count": 222,
   "metadata": {
    "collapsed": true
   },
   "outputs": [],
   "source": [
    "## Read the attribute set\n",
    "df_properties = pd.read_csv(\"c:/Users/ibipul/Documents/Python Scripts/datasets/zillow_data/properties_2016.csv\",low_memory=False)"
   ]
  },
  {
   "cell_type": "code",
   "execution_count": 251,
   "metadata": {},
   "outputs": [],
   "source": [
    "#Checking for missing data\n",
    "#for i in df_properties.columns:\n",
    "#    print(i, \", Number of Non-Null Values is: \", sum(df_properties[i].notnull()*1))"
   ]
  },
  {
   "cell_type": "code",
   "execution_count": 225,
   "metadata": {},
   "outputs": [],
   "source": [
    "# Categorical variables are Numeric here. Replace NaN's with 0.0, then hot one encode.\n",
    "categorical_variables=['airconditioningtypeid','buildingqualitytypeid','heatingorsystemtypeid']\n",
    "## Impute the NaN's in the following columns with median values\n",
    "numeric_variables = ['bathroomcnt','bedroomcnt','roomcnt','fullbathcnt', 'calculatedbathnbr','unitcnt',\n",
    "          'calculatedfinishedsquarefeet', 'finishedsquarefeet12','garagetotalsqft','lotsizesquarefeet','yearbuilt',\n",
    "          'structuretaxvaluedollarcnt','taxvaluedollarcnt', 'landtaxvaluedollarcnt']\n",
    "# This is the key variable that will help with the join\n",
    "key_variable = ['parcelid']\n",
    "# Full variable list:\n",
    "properties_variables = key_variable + numeric_variables + categorical_variables"
   ]
  },
  {
   "cell_type": "code",
   "execution_count": 226,
   "metadata": {},
   "outputs": [],
   "source": [
    "## Sub setting the properties variables\n",
    "df = df_properties[properties_variables]"
   ]
  },
  {
   "cell_type": "code",
   "execution_count": 227,
   "metadata": {
    "collapsed": true
   },
   "outputs": [],
   "source": [
    "## Merging the id,logerr,transaction data set with the above\n",
    "dfmain = pd.merge(df_parcel,df,on='parcelid')"
   ]
  },
  {
   "cell_type": "code",
   "execution_count": 228,
   "metadata": {
    "collapsed": true
   },
   "outputs": [],
   "source": [
    "# date parser\n",
    "def get_month(transaction_date):\n",
    "    s=transaction_date.split('-')\n",
    "    month=int(s[1])\n",
    "    return month\n",
    "\n",
    "# Adding a new column as month of transaction\n",
    "dfmain['month'] = dfmain['transactiondate'].apply(lambda x: get_month(x))"
   ]
  },
  {
   "cell_type": "code",
   "execution_count": 229,
   "metadata": {},
   "outputs": [
    {
     "data": {
      "text/plain": [
       "(90275, 21)"
      ]
     },
     "execution_count": 229,
     "metadata": {},
     "output_type": "execute_result"
    }
   ],
   "source": [
    "dfmain.shape"
   ]
  },
  {
   "cell_type": "code",
   "execution_count": 230,
   "metadata": {},
   "outputs": [
    {
     "name": "stdout",
     "output_type": "stream",
     "text": [
      "bathroomcnt 90275\n",
      "bedroomcnt 90275\n",
      "roomcnt 90275\n",
      "fullbathcnt 89093\n",
      "calculatedbathnbr 89093\n",
      "unitcnt 58353\n",
      "calculatedfinishedsquarefeet 89614\n",
      "finishedsquarefeet12 85596\n",
      "garagetotalsqft 29937\n",
      "lotsizesquarefeet 80125\n",
      "yearbuilt 89519\n",
      "structuretaxvaluedollarcnt 89895\n",
      "taxvaluedollarcnt 90274\n",
      "landtaxvaluedollarcnt 90274\n"
     ]
    }
   ],
   "source": [
    "#Checking for missing data in numeric variables\n",
    "for i in numeric_variables:\n",
    "    print(i, sum(dfmain[i].notnull()*1))"
   ]
  },
  {
   "cell_type": "code",
   "execution_count": 231,
   "metadata": {
    "collapsed": true
   },
   "outputs": [],
   "source": [
    "#Creating an imputation dictionary\n",
    "imputation_dict = defaultdict()\n",
    "for i in numeric_variables:\n",
    "    x = sum(dfmain[i].notnull()*1)\n",
    "    #print(i, x)\n",
    "    if (90275 -x) !=0:\n",
    "        imputation_dict[i]=dfmain[i].median()"
   ]
  },
  {
   "cell_type": "code",
   "execution_count": 232,
   "metadata": {},
   "outputs": [
    {
     "data": {
      "text/plain": [
       "defaultdict(None,\n",
       "            {'calculatedbathnbr': 2.0,\n",
       "             'calculatedfinishedsquarefeet': 1540.0,\n",
       "             'finishedsquarefeet12': 1518.0,\n",
       "             'fullbathcnt': 2.0,\n",
       "             'garagetotalsqft': 433.0,\n",
       "             'landtaxvaluedollarcnt': 192970.0,\n",
       "             'lotsizesquarefeet': 7200.0,\n",
       "             'structuretaxvaluedollarcnt': 132000.0,\n",
       "             'taxvaluedollarcnt': 342872.0,\n",
       "             'unitcnt': 1.0,\n",
       "             'yearbuilt': 1970.0})"
      ]
     },
     "execution_count": 232,
     "metadata": {},
     "output_type": "execute_result"
    }
   ],
   "source": [
    "imputation_dict"
   ]
  },
  {
   "cell_type": "code",
   "execution_count": 233,
   "metadata": {},
   "outputs": [
    {
     "name": "stdout",
     "output_type": "stream",
     "text": [
      "imputation happened for:  fullbathcnt  with  2.0\n",
      "imputation happened for:  calculatedbathnbr  with  2.0\n",
      "imputation happened for:  unitcnt  with  1.0\n",
      "imputation happened for:  calculatedfinishedsquarefeet  with  1540.0\n",
      "imputation happened for:  finishedsquarefeet12  with  1518.0\n",
      "imputation happened for:  garagetotalsqft  with  433.0\n",
      "imputation happened for:  lotsizesquarefeet  with  7200.0\n",
      "imputation happened for:  yearbuilt  with  1970.0\n",
      "imputation happened for:  structuretaxvaluedollarcnt  with  132000.0\n",
      "imputation happened for:  taxvaluedollarcnt  with  342872.0\n",
      "imputation happened for:  landtaxvaluedollarcnt  with  192970.0\n"
     ]
    }
   ],
   "source": [
    "# Imputing missing data with median values of columns\n",
    "for i in numeric_variables:\n",
    "    x = sum(dfmain[i].isnull()*1)\n",
    "    if x>0:\n",
    "        dfmain[i].replace(np.nan,imputation_dict[i],inplace=True)\n",
    "        print(\"imputation happened for: \", i,\" with \",imputation_dict[i])"
   ]
  },
  {
   "cell_type": "code",
   "execution_count": 234,
   "metadata": {},
   "outputs": [],
   "source": [
    "#Normalizing The Numeric variables\n",
    "for i in numeric_variables:\n",
    "    mu = dfmain[i].mean()\n",
    "    sig = dfmain[i].std()\n",
    "    dfmain[i]=(dfmain[i]-mu)/sig"
   ]
  },
  {
   "cell_type": "code",
   "execution_count": 235,
   "metadata": {},
   "outputs": [
    {
     "data": {
      "text/html": [
       "<div>\n",
       "<style>\n",
       "    .dataframe thead tr:only-child th {\n",
       "        text-align: right;\n",
       "    }\n",
       "\n",
       "    .dataframe thead th {\n",
       "        text-align: left;\n",
       "    }\n",
       "\n",
       "    .dataframe tbody tr th {\n",
       "        vertical-align: top;\n",
       "    }\n",
       "</style>\n",
       "<table border=\"1\" class=\"dataframe\">\n",
       "  <thead>\n",
       "    <tr style=\"text-align: right;\">\n",
       "      <th></th>\n",
       "      <th>parcelid</th>\n",
       "      <th>logerror</th>\n",
       "      <th>transactiondate</th>\n",
       "      <th>bathroomcnt</th>\n",
       "      <th>bedroomcnt</th>\n",
       "      <th>roomcnt</th>\n",
       "      <th>fullbathcnt</th>\n",
       "      <th>calculatedbathnbr</th>\n",
       "      <th>unitcnt</th>\n",
       "      <th>calculatedfinishedsquarefeet</th>\n",
       "      <th>...</th>\n",
       "      <th>garagetotalsqft</th>\n",
       "      <th>lotsizesquarefeet</th>\n",
       "      <th>yearbuilt</th>\n",
       "      <th>structuretaxvaluedollarcnt</th>\n",
       "      <th>taxvaluedollarcnt</th>\n",
       "      <th>landtaxvaluedollarcnt</th>\n",
       "      <th>airconditioningtypeid</th>\n",
       "      <th>buildingqualitytypeid</th>\n",
       "      <th>heatingorsystemtypeid</th>\n",
       "      <th>month</th>\n",
       "    </tr>\n",
       "  </thead>\n",
       "  <tbody>\n",
       "    <tr>\n",
       "      <th>0</th>\n",
       "      <td>11016594</td>\n",
       "      <td>0.0276</td>\n",
       "      <td>2016-01-01</td>\n",
       "      <td>-0.278285</td>\n",
       "      <td>-0.027558</td>\n",
       "      <td>-0.524366</td>\n",
       "      <td>-0.248716</td>\n",
       "      <td>-0.314477</td>\n",
       "      <td>-0.110974</td>\n",
       "      <td>-0.094574</td>\n",
       "      <td>...</td>\n",
       "      <td>0.182241</td>\n",
       "      <td>-0.166419</td>\n",
       "      <td>-0.403360</td>\n",
       "      <td>-0.273759</td>\n",
       "      <td>-0.175716</td>\n",
       "      <td>-0.102170</td>\n",
       "      <td>1.0</td>\n",
       "      <td>4.0</td>\n",
       "      <td>2.0</td>\n",
       "      <td>1</td>\n",
       "    </tr>\n",
       "    <tr>\n",
       "      <th>1</th>\n",
       "      <td>14366692</td>\n",
       "      <td>-0.1684</td>\n",
       "      <td>2016-01-01</td>\n",
       "      <td>1.215335</td>\n",
       "      <td>0.837168</td>\n",
       "      <td>-0.524366</td>\n",
       "      <td>0.795989</td>\n",
       "      <td>1.231281</td>\n",
       "      <td>-0.110974</td>\n",
       "      <td>0.531391</td>\n",
       "      <td>...</td>\n",
       "      <td>0.402113</td>\n",
       "      <td>-0.200236</td>\n",
       "      <td>1.920832</td>\n",
       "      <td>0.798069</td>\n",
       "      <td>0.230423</td>\n",
       "      <td>-0.098038</td>\n",
       "      <td>NaN</td>\n",
       "      <td>NaN</td>\n",
       "      <td>NaN</td>\n",
       "      <td>1</td>\n",
       "    </tr>\n",
       "    <tr>\n",
       "      <th>2</th>\n",
       "      <td>12098116</td>\n",
       "      <td>-0.0040</td>\n",
       "      <td>2016-01-01</td>\n",
       "      <td>0.717462</td>\n",
       "      <td>-0.892284</td>\n",
       "      <td>-0.524366</td>\n",
       "      <td>0.795989</td>\n",
       "      <td>0.716029</td>\n",
       "      <td>-0.110974</td>\n",
       "      <td>0.481659</td>\n",
       "      <td>...</td>\n",
       "      <td>0.182241</td>\n",
       "      <td>-0.132515</td>\n",
       "      <td>-1.206262</td>\n",
       "      <td>-0.564877</td>\n",
       "      <td>-0.608716</td>\n",
       "      <td>-0.550377</td>\n",
       "      <td>1.0</td>\n",
       "      <td>4.0</td>\n",
       "      <td>2.0</td>\n",
       "      <td>1</td>\n",
       "    </tr>\n",
       "    <tr>\n",
       "      <th>3</th>\n",
       "      <td>12643413</td>\n",
       "      <td>0.0218</td>\n",
       "      <td>2016-01-02</td>\n",
       "      <td>-0.278285</td>\n",
       "      <td>-0.892284</td>\n",
       "      <td>-0.524366</td>\n",
       "      <td>-0.248716</td>\n",
       "      <td>-0.314477</td>\n",
       "      <td>-0.110974</td>\n",
       "      <td>-1.008116</td>\n",
       "      <td>...</td>\n",
       "      <td>0.182241</td>\n",
       "      <td>0.384846</td>\n",
       "      <td>0.779865</td>\n",
       "      <td>-0.040117</td>\n",
       "      <td>-0.383490</td>\n",
       "      <td>-0.511800</td>\n",
       "      <td>1.0</td>\n",
       "      <td>4.0</td>\n",
       "      <td>2.0</td>\n",
       "      <td>1</td>\n",
       "    </tr>\n",
       "    <tr>\n",
       "      <th>4</th>\n",
       "      <td>14432541</td>\n",
       "      <td>-0.0050</td>\n",
       "      <td>2016-01-02</td>\n",
       "      <td>0.219588</td>\n",
       "      <td>0.837168</td>\n",
       "      <td>2.312889</td>\n",
       "      <td>-0.248716</td>\n",
       "      <td>0.200776</td>\n",
       "      <td>-0.110974</td>\n",
       "      <td>0.553013</td>\n",
       "      <td>...</td>\n",
       "      <td>1.218781</td>\n",
       "      <td>-0.179719</td>\n",
       "      <td>0.526317</td>\n",
       "      <td>-0.049431</td>\n",
       "      <td>-0.041667</td>\n",
       "      <td>-0.033352</td>\n",
       "      <td>NaN</td>\n",
       "      <td>NaN</td>\n",
       "      <td>NaN</td>\n",
       "      <td>1</td>\n",
       "    </tr>\n",
       "  </tbody>\n",
       "</table>\n",
       "<p>5 rows × 21 columns</p>\n",
       "</div>"
      ],
      "text/plain": [
       "   parcelid  logerror transactiondate  bathroomcnt  bedroomcnt   roomcnt  \\\n",
       "0  11016594    0.0276      2016-01-01    -0.278285   -0.027558 -0.524366   \n",
       "1  14366692   -0.1684      2016-01-01     1.215335    0.837168 -0.524366   \n",
       "2  12098116   -0.0040      2016-01-01     0.717462   -0.892284 -0.524366   \n",
       "3  12643413    0.0218      2016-01-02    -0.278285   -0.892284 -0.524366   \n",
       "4  14432541   -0.0050      2016-01-02     0.219588    0.837168  2.312889   \n",
       "\n",
       "   fullbathcnt  calculatedbathnbr   unitcnt  calculatedfinishedsquarefeet  \\\n",
       "0    -0.248716          -0.314477 -0.110974                     -0.094574   \n",
       "1     0.795989           1.231281 -0.110974                      0.531391   \n",
       "2     0.795989           0.716029 -0.110974                      0.481659   \n",
       "3    -0.248716          -0.314477 -0.110974                     -1.008116   \n",
       "4    -0.248716           0.200776 -0.110974                      0.553013   \n",
       "\n",
       "   ...    garagetotalsqft  lotsizesquarefeet  yearbuilt  \\\n",
       "0  ...           0.182241          -0.166419  -0.403360   \n",
       "1  ...           0.402113          -0.200236   1.920832   \n",
       "2  ...           0.182241          -0.132515  -1.206262   \n",
       "3  ...           0.182241           0.384846   0.779865   \n",
       "4  ...           1.218781          -0.179719   0.526317   \n",
       "\n",
       "   structuretaxvaluedollarcnt  taxvaluedollarcnt  landtaxvaluedollarcnt  \\\n",
       "0                   -0.273759          -0.175716              -0.102170   \n",
       "1                    0.798069           0.230423              -0.098038   \n",
       "2                   -0.564877          -0.608716              -0.550377   \n",
       "3                   -0.040117          -0.383490              -0.511800   \n",
       "4                   -0.049431          -0.041667              -0.033352   \n",
       "\n",
       "   airconditioningtypeid  buildingqualitytypeid  heatingorsystemtypeid  month  \n",
       "0                    1.0                    4.0                    2.0      1  \n",
       "1                    NaN                    NaN                    NaN      1  \n",
       "2                    1.0                    4.0                    2.0      1  \n",
       "3                    1.0                    4.0                    2.0      1  \n",
       "4                    NaN                    NaN                    NaN      1  \n",
       "\n",
       "[5 rows x 21 columns]"
      ]
     },
     "execution_count": 235,
     "metadata": {},
     "output_type": "execute_result"
    }
   ],
   "source": [
    "dfmain.head()"
   ]
  },
  {
   "cell_type": "code",
   "execution_count": 236,
   "metadata": {},
   "outputs": [
    {
     "name": "stdout",
     "output_type": "stream",
     "text": [
      "airconditioningtypeid 28781\n",
      "buildingqualitytypeid 57364\n",
      "heatingorsystemtypeid 56080\n"
     ]
    }
   ],
   "source": [
    "# Checking for NaNs in categorical numeric variables\n",
    "for i in categorical_variables:\n",
    "    print(i, sum(dfmain[i].notnull()*1))\n"
   ]
  },
  {
   "cell_type": "code",
   "execution_count": 237,
   "metadata": {
    "collapsed": true
   },
   "outputs": [],
   "source": [
    "## Replacing NaNs in Categorical variables with 0's\n",
    "for i in categorical_variables:\n",
    "    dfmain[i].replace(np.nan,0.0,inplace=True)"
   ]
  },
  {
   "cell_type": "code",
   "execution_count": 238,
   "metadata": {},
   "outputs": [
    {
     "name": "stdout",
     "output_type": "stream",
     "text": [
      "airconditioningtypeid 90275\n",
      "buildingqualitytypeid 90275\n",
      "heatingorsystemtypeid 90275\n"
     ]
    }
   ],
   "source": [
    "# Checking for NaNs in categorical numeric variables\n",
    "for i in categorical_variables:\n",
    "    print(i, sum(dfmain[i].notnull()*1))"
   ]
  },
  {
   "cell_type": "code",
   "execution_count": 239,
   "metadata": {},
   "outputs": [],
   "source": [
    "# Month is also a categorical variable so it should be one-hot encoded\n",
    "categorical_variables.append('month')"
   ]
  },
  {
   "cell_type": "code",
   "execution_count": 241,
   "metadata": {},
   "outputs": [
    {
     "name": "stdout",
     "output_type": "stream",
     "text": [
      "One Hot Encoding:  airconditioningtypeid\n",
      "One Hot Encoding:  buildingqualitytypeid\n",
      "One Hot Encoding:  heatingorsystemtypeid\n",
      "One Hot Encoding:  month\n"
     ]
    }
   ],
   "source": [
    "## One hot encoding the categorical variables\n",
    "columnsToEncode = categorical_variables\n",
    "# Adding dummies\n",
    "for feature in columnsToEncode:\n",
    "        print('One Hot Encoding: ', feature)\n",
    "        dfmain = pd.concat([dfmain, pd.get_dummies(dfmain[feature],prefix=feature)], axis=1)\n",
    "        del dfmain[feature]\n"
   ]
  },
  {
   "cell_type": "code",
   "execution_count": 242,
   "metadata": {},
   "outputs": [
    {
     "data": {
      "text/html": [
       "<div>\n",
       "<style>\n",
       "    .dataframe thead tr:only-child th {\n",
       "        text-align: right;\n",
       "    }\n",
       "\n",
       "    .dataframe thead th {\n",
       "        text-align: left;\n",
       "    }\n",
       "\n",
       "    .dataframe tbody tr th {\n",
       "        vertical-align: top;\n",
       "    }\n",
       "</style>\n",
       "<table border=\"1\" class=\"dataframe\">\n",
       "  <thead>\n",
       "    <tr style=\"text-align: right;\">\n",
       "      <th></th>\n",
       "      <th>parcelid</th>\n",
       "      <th>logerror</th>\n",
       "      <th>transactiondate</th>\n",
       "      <th>bathroomcnt</th>\n",
       "      <th>bedroomcnt</th>\n",
       "      <th>roomcnt</th>\n",
       "      <th>fullbathcnt</th>\n",
       "      <th>calculatedbathnbr</th>\n",
       "      <th>unitcnt</th>\n",
       "      <th>calculatedfinishedsquarefeet</th>\n",
       "      <th>...</th>\n",
       "      <th>month_3</th>\n",
       "      <th>month_4</th>\n",
       "      <th>month_5</th>\n",
       "      <th>month_6</th>\n",
       "      <th>month_7</th>\n",
       "      <th>month_8</th>\n",
       "      <th>month_9</th>\n",
       "      <th>month_10</th>\n",
       "      <th>month_11</th>\n",
       "      <th>month_12</th>\n",
       "    </tr>\n",
       "  </thead>\n",
       "  <tbody>\n",
       "    <tr>\n",
       "      <th>0</th>\n",
       "      <td>11016594</td>\n",
       "      <td>0.0276</td>\n",
       "      <td>2016-01-01</td>\n",
       "      <td>-0.278285</td>\n",
       "      <td>-0.027558</td>\n",
       "      <td>-0.524366</td>\n",
       "      <td>-0.248716</td>\n",
       "      <td>-0.314477</td>\n",
       "      <td>-0.110974</td>\n",
       "      <td>-0.094574</td>\n",
       "      <td>...</td>\n",
       "      <td>0</td>\n",
       "      <td>0</td>\n",
       "      <td>0</td>\n",
       "      <td>0</td>\n",
       "      <td>0</td>\n",
       "      <td>0</td>\n",
       "      <td>0</td>\n",
       "      <td>0</td>\n",
       "      <td>0</td>\n",
       "      <td>0</td>\n",
       "    </tr>\n",
       "    <tr>\n",
       "      <th>1</th>\n",
       "      <td>14366692</td>\n",
       "      <td>-0.1684</td>\n",
       "      <td>2016-01-01</td>\n",
       "      <td>1.215335</td>\n",
       "      <td>0.837168</td>\n",
       "      <td>-0.524366</td>\n",
       "      <td>0.795989</td>\n",
       "      <td>1.231281</td>\n",
       "      <td>-0.110974</td>\n",
       "      <td>0.531391</td>\n",
       "      <td>...</td>\n",
       "      <td>0</td>\n",
       "      <td>0</td>\n",
       "      <td>0</td>\n",
       "      <td>0</td>\n",
       "      <td>0</td>\n",
       "      <td>0</td>\n",
       "      <td>0</td>\n",
       "      <td>0</td>\n",
       "      <td>0</td>\n",
       "      <td>0</td>\n",
       "    </tr>\n",
       "    <tr>\n",
       "      <th>2</th>\n",
       "      <td>12098116</td>\n",
       "      <td>-0.0040</td>\n",
       "      <td>2016-01-01</td>\n",
       "      <td>0.717462</td>\n",
       "      <td>-0.892284</td>\n",
       "      <td>-0.524366</td>\n",
       "      <td>0.795989</td>\n",
       "      <td>0.716029</td>\n",
       "      <td>-0.110974</td>\n",
       "      <td>0.481659</td>\n",
       "      <td>...</td>\n",
       "      <td>0</td>\n",
       "      <td>0</td>\n",
       "      <td>0</td>\n",
       "      <td>0</td>\n",
       "      <td>0</td>\n",
       "      <td>0</td>\n",
       "      <td>0</td>\n",
       "      <td>0</td>\n",
       "      <td>0</td>\n",
       "      <td>0</td>\n",
       "    </tr>\n",
       "    <tr>\n",
       "      <th>3</th>\n",
       "      <td>12643413</td>\n",
       "      <td>0.0218</td>\n",
       "      <td>2016-01-02</td>\n",
       "      <td>-0.278285</td>\n",
       "      <td>-0.892284</td>\n",
       "      <td>-0.524366</td>\n",
       "      <td>-0.248716</td>\n",
       "      <td>-0.314477</td>\n",
       "      <td>-0.110974</td>\n",
       "      <td>-1.008116</td>\n",
       "      <td>...</td>\n",
       "      <td>0</td>\n",
       "      <td>0</td>\n",
       "      <td>0</td>\n",
       "      <td>0</td>\n",
       "      <td>0</td>\n",
       "      <td>0</td>\n",
       "      <td>0</td>\n",
       "      <td>0</td>\n",
       "      <td>0</td>\n",
       "      <td>0</td>\n",
       "    </tr>\n",
       "    <tr>\n",
       "      <th>4</th>\n",
       "      <td>14432541</td>\n",
       "      <td>-0.0050</td>\n",
       "      <td>2016-01-02</td>\n",
       "      <td>0.219588</td>\n",
       "      <td>0.837168</td>\n",
       "      <td>2.312889</td>\n",
       "      <td>-0.248716</td>\n",
       "      <td>0.200776</td>\n",
       "      <td>-0.110974</td>\n",
       "      <td>0.553013</td>\n",
       "      <td>...</td>\n",
       "      <td>0</td>\n",
       "      <td>0</td>\n",
       "      <td>0</td>\n",
       "      <td>0</td>\n",
       "      <td>0</td>\n",
       "      <td>0</td>\n",
       "      <td>0</td>\n",
       "      <td>0</td>\n",
       "      <td>0</td>\n",
       "      <td>0</td>\n",
       "    </tr>\n",
       "  </tbody>\n",
       "</table>\n",
       "<p>5 rows × 58 columns</p>\n",
       "</div>"
      ],
      "text/plain": [
       "   parcelid  logerror transactiondate  bathroomcnt  bedroomcnt   roomcnt  \\\n",
       "0  11016594    0.0276      2016-01-01    -0.278285   -0.027558 -0.524366   \n",
       "1  14366692   -0.1684      2016-01-01     1.215335    0.837168 -0.524366   \n",
       "2  12098116   -0.0040      2016-01-01     0.717462   -0.892284 -0.524366   \n",
       "3  12643413    0.0218      2016-01-02    -0.278285   -0.892284 -0.524366   \n",
       "4  14432541   -0.0050      2016-01-02     0.219588    0.837168  2.312889   \n",
       "\n",
       "   fullbathcnt  calculatedbathnbr   unitcnt  calculatedfinishedsquarefeet  \\\n",
       "0    -0.248716          -0.314477 -0.110974                     -0.094574   \n",
       "1     0.795989           1.231281 -0.110974                      0.531391   \n",
       "2     0.795989           0.716029 -0.110974                      0.481659   \n",
       "3    -0.248716          -0.314477 -0.110974                     -1.008116   \n",
       "4    -0.248716           0.200776 -0.110974                      0.553013   \n",
       "\n",
       "     ...     month_3  month_4  month_5  month_6  month_7  month_8  month_9  \\\n",
       "0    ...           0        0        0        0        0        0        0   \n",
       "1    ...           0        0        0        0        0        0        0   \n",
       "2    ...           0        0        0        0        0        0        0   \n",
       "3    ...           0        0        0        0        0        0        0   \n",
       "4    ...           0        0        0        0        0        0        0   \n",
       "\n",
       "   month_10  month_11  month_12  \n",
       "0         0         0         0  \n",
       "1         0         0         0  \n",
       "2         0         0         0  \n",
       "3         0         0         0  \n",
       "4         0         0         0  \n",
       "\n",
       "[5 rows x 58 columns]"
      ]
     },
     "execution_count": 242,
     "metadata": {},
     "output_type": "execute_result"
    }
   ],
   "source": [
    "dfmain.head()"
   ]
  },
  {
   "cell_type": "code",
   "execution_count": 243,
   "metadata": {},
   "outputs": [
    {
     "data": {
      "text/plain": [
       "Index(['parcelid', 'logerror', 'transactiondate', 'bathroomcnt', 'bedroomcnt',\n",
       "       'roomcnt', 'fullbathcnt', 'calculatedbathnbr', 'unitcnt',\n",
       "       'calculatedfinishedsquarefeet', 'finishedsquarefeet12',\n",
       "       'garagetotalsqft', 'lotsizesquarefeet', 'yearbuilt',\n",
       "       'structuretaxvaluedollarcnt', 'taxvaluedollarcnt',\n",
       "       'landtaxvaluedollarcnt', 'airconditioningtypeid_0.0',\n",
       "       'airconditioningtypeid_1.0', 'airconditioningtypeid_3.0',\n",
       "       'airconditioningtypeid_5.0', 'airconditioningtypeid_9.0',\n",
       "       'airconditioningtypeid_11.0', 'airconditioningtypeid_13.0',\n",
       "       'buildingqualitytypeid_0.0', 'buildingqualitytypeid_1.0',\n",
       "       'buildingqualitytypeid_4.0', 'buildingqualitytypeid_6.0',\n",
       "       'buildingqualitytypeid_7.0', 'buildingqualitytypeid_8.0',\n",
       "       'buildingqualitytypeid_10.0', 'buildingqualitytypeid_11.0',\n",
       "       'buildingqualitytypeid_12.0', 'heatingorsystemtypeid_0.0',\n",
       "       'heatingorsystemtypeid_1.0', 'heatingorsystemtypeid_2.0',\n",
       "       'heatingorsystemtypeid_6.0', 'heatingorsystemtypeid_7.0',\n",
       "       'heatingorsystemtypeid_10.0', 'heatingorsystemtypeid_11.0',\n",
       "       'heatingorsystemtypeid_12.0', 'heatingorsystemtypeid_13.0',\n",
       "       'heatingorsystemtypeid_14.0', 'heatingorsystemtypeid_18.0',\n",
       "       'heatingorsystemtypeid_20.0', 'heatingorsystemtypeid_24.0', 'month_1',\n",
       "       'month_2', 'month_3', 'month_4', 'month_5', 'month_6', 'month_7',\n",
       "       'month_8', 'month_9', 'month_10', 'month_11', 'month_12'],\n",
       "      dtype='object')"
      ]
     },
     "execution_count": 243,
     "metadata": {},
     "output_type": "execute_result"
    }
   ],
   "source": [
    "dfmain.columns"
   ]
  },
  {
   "cell_type": "code",
   "execution_count": 244,
   "metadata": {
    "collapsed": true
   },
   "outputs": [],
   "source": [
    "## Creating a test-train split\n",
    "train=dfmain.sample(frac=0.75,random_state=200)\n",
    "test=dfmain.drop(train.index)"
   ]
  },
  {
   "cell_type": "code",
   "execution_count": 245,
   "metadata": {},
   "outputs": [
    {
     "data": {
      "text/plain": [
       "(67706, 58)"
      ]
     },
     "execution_count": 245,
     "metadata": {},
     "output_type": "execute_result"
    }
   ],
   "source": [
    "train.shape"
   ]
  },
  {
   "cell_type": "code",
   "execution_count": 246,
   "metadata": {},
   "outputs": [
    {
     "data": {
      "text/plain": [
       "(22569, 58)"
      ]
     },
     "execution_count": 246,
     "metadata": {},
     "output_type": "execute_result"
    }
   ],
   "source": [
    "test.shape"
   ]
  },
  {
   "cell_type": "code",
   "execution_count": 247,
   "metadata": {},
   "outputs": [],
   "source": [
    "# Separating predictors and response variables\n",
    "all_column_names = list(train.columns)\n",
    "for i in ['parcelid','logerror','transactiondate']:\n",
    "    all_column_names.remove(i)\n",
    "# X variables\n",
    "x_vars = all_column_names\n",
    "y_var = 'logerror'\n",
    "# Train set\n",
    "train_Y = train[y_var]\n",
    "train_X = train[x_vars]\n",
    "#Test set\n",
    "test_Y = train[y_var]\n",
    "test_X = train[x_vars]"
   ]
  },
  {
   "cell_type": "code",
   "execution_count": 248,
   "metadata": {},
   "outputs": [
    {
     "data": {
      "text/plain": [
       "'logerror'"
      ]
     },
     "execution_count": 248,
     "metadata": {},
     "output_type": "execute_result"
    }
   ],
   "source": [
    "y_var"
   ]
  },
  {
   "cell_type": "code",
   "execution_count": 249,
   "metadata": {},
   "outputs": [],
   "source": [
    "#Create a K-Nearest Neighbour model\n",
    "knn = neighbors.KNeighborsRegressor(n_neighbors=5)\n",
    "# Train the model using the training sets & Make predictions using the testing set\n",
    "logerror_prediction_y = knn.fit(train_X, train_Y).predict(test_X)"
   ]
  },
  {
   "cell_type": "code",
   "execution_count": 250,
   "metadata": {},
   "outputs": [
    {
     "name": "stdout",
     "output_type": "stream",
     "text": [
      "Mean squared error: 0.02\n",
      "Variance score: 0.23\n"
     ]
    }
   ],
   "source": [
    "# The mean squared error\n",
    "print(\"Mean squared error: %.2f\"\n",
    "      % mean_squared_error(test_Y, logerror_prediction_y))\n",
    "# Explained variance score: 1 is perfect prediction\n",
    "print('Variance score: %.2f' % r2_score(test_Y, logerror_prediction_y))"
   ]
  },
  {
   "cell_type": "code",
   "execution_count": null,
   "metadata": {
    "collapsed": true
   },
   "outputs": [],
   "source": []
  }
 ],
 "metadata": {
  "kernelspec": {
   "display_name": "Python 3",
   "language": "python",
   "name": "python3"
  },
  "language_info": {
   "codemirror_mode": {
    "name": "ipython",
    "version": 3
   },
   "file_extension": ".py",
   "mimetype": "text/x-python",
   "name": "python",
   "nbconvert_exporter": "python",
   "pygments_lexer": "ipython3",
   "version": "3.6.1"
  }
 },
 "nbformat": 4,
 "nbformat_minor": 2
}

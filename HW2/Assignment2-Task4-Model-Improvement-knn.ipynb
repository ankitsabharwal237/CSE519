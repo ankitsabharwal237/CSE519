{
 "cells": [
  {
   "cell_type": "code",
   "execution_count": 151,
   "metadata": {
    "collapsed": true
   },
   "outputs": [],
   "source": [
    "%matplotlib inline\n",
    "\n",
    "import matplotlib\n",
    "import numpy as np\n",
    "import matplotlib.pyplot as plt\n",
    "import pandas as pd\n",
    "import datetime\n",
    "import seaborn as sns\n",
    "from collections import defaultdict\n",
    "from sklearn import preprocessing\n",
    "from sklearn.model_selection import train_test_split\n",
    "from sklearn.preprocessing import Imputer\n",
    "from sklearn import datasets, linear_model\n",
    "from sklearn import neighbors\n",
    "from sklearn.metrics import mean_squared_error, r2_score\n",
    "from sklearn.preprocessing import LabelEncoder"
   ]
  },
  {
   "cell_type": "code",
   "execution_count": 2,
   "metadata": {
    "collapsed": true
   },
   "outputs": [],
   "source": [
    "## Read the Key, logerror, transaction date set\n",
    "df_parcel = pd.read_csv(\"c:/Users/ibipul/Documents/Python Scripts/datasets/zillow_data/train_2016_v2.csv\")"
   ]
  },
  {
   "cell_type": "code",
   "execution_count": 3,
   "metadata": {
    "collapsed": true
   },
   "outputs": [],
   "source": [
    "## Read the attribute set\n",
    "df_properties = pd.read_csv(\"c:/Users/ibipul/Documents/Python Scripts/datasets/zillow_data/properties_2016.csv\",low_memory=False)"
   ]
  },
  {
   "cell_type": "code",
   "execution_count": 8,
   "metadata": {},
   "outputs": [
    {
     "name": "stdout",
     "output_type": "stream",
     "text": [
      "parcelid 2985217\n",
      "airconditioningtypeid 811519\n",
      "architecturalstyletypeid 6061\n",
      "basementsqft 1628\n",
      "bathroomcnt 2973755\n",
      "bedroomcnt 2973767\n",
      "buildingclasstypeid 12629\n",
      "buildingqualitytypeid 1938488\n",
      "calculatedbathnbr 2856305\n",
      "decktypeid 17096\n",
      "finishedfloor1squarefeet 202717\n",
      "calculatedfinishedsquarefeet 2929652\n",
      "finishedsquarefeet12 2709184\n",
      "finishedsquarefeet13 7672\n",
      "finishedsquarefeet15 190798\n",
      "finishedsquarefeet50 202717\n",
      "finishedsquarefeet6 22001\n",
      "fips 2973780\n",
      "fireplacecnt 312637\n",
      "fullbathcnt 2856305\n",
      "garagecarcnt 883267\n",
      "garagetotalsqft 883267\n",
      "hashottuborspa 69014\n",
      "heatingorsystemtypeid 1806401\n",
      "latitude 2973780\n",
      "longitude 2973780\n",
      "lotsizesquarefeet 2709118\n",
      "poolcnt 517534\n",
      "poolsizesum 27960\n",
      "pooltypeid10 36939\n",
      "pooltypeid2 32075\n",
      "pooltypeid7 485459\n",
      "propertycountylandusecode 2972940\n",
      "propertylandusetypeid 2973780\n",
      "propertyzoningdesc 1978629\n",
      "rawcensustractandblock 2973780\n",
      "regionidcity 2922372\n",
      "regionidcounty 2973780\n",
      "regionidneighborhood 1156402\n",
      "regionidzip 2971237\n",
      "roomcnt 2973742\n",
      "storytypeid 1624\n",
      "threequarterbathnbr 311631\n",
      "typeconstructiontypeid 6747\n",
      "unitcnt 1977490\n",
      "yardbuildingsqft17 80355\n",
      "yardbuildingsqft26 2647\n",
      "yearbuilt 2925289\n",
      "numberofstories 682069\n",
      "fireplaceflag 5163\n",
      "structuretaxvaluedollarcnt 2930235\n",
      "taxvaluedollarcnt 2942667\n",
      "assessmentyear 2973778\n",
      "landtaxvaluedollarcnt 2917484\n",
      "taxamount 2953967\n",
      "taxdelinquencyflag 56462\n",
      "taxdelinquencyyear 56464\n",
      "censustractandblock 2910091\n"
     ]
    }
   ],
   "source": [
    "#Checking for missing data\n",
    "for i in df_properties.columns:\n",
    "    print(i, sum(df_properties[i].notnull()*1))"
   ]
  },
  {
   "cell_type": "code",
   "execution_count": 30,
   "metadata": {},
   "outputs": [],
   "source": [
    "# #Replace Nans in these variable values with Zeroes and hot encode the numeric values\n",
    "categorical_variables=['airconditioningtypeid','buildingqualitytypeid','heatingorsystemtypeid']\n",
    "## Impute the following with median values\n",
    "numeric_variables = ['bathroomcnt','bedroomcnt','roomcnt','fullbathcnt', 'calculatedbathnbr',\n",
    "          'calculatedfinishedsquarefeet', 'finishedsquarefeet12','garagetotalsqft','yearbuilt',\n",
    "          'structuretaxvaluedollarcnt','taxvaluedollarcnt', 'landtaxvaluedollarcnt']\n",
    "# This is the key variable that will help with the join\n",
    "key_variable = ['parcelid']\n",
    "# Full variable list:\n",
    "properties_variables = key_variable + numeric_variables + categorical_variables"
   ]
  },
  {
   "cell_type": "code",
   "execution_count": 32,
   "metadata": {},
   "outputs": [],
   "source": [
    "## Sub setting the properties variables\n",
    "df = df_properties[properties_variables]"
   ]
  },
  {
   "cell_type": "code",
   "execution_count": 104,
   "metadata": {
    "collapsed": true
   },
   "outputs": [],
   "source": [
    "## Merging the id,logerr,transaction data set with the above\n",
    "dfmain = pd.merge(df_parcel,df,on='parcelid')"
   ]
  },
  {
   "cell_type": "code",
   "execution_count": 105,
   "metadata": {
    "collapsed": true
   },
   "outputs": [],
   "source": [
    "# date parser\n",
    "def get_month(transaction_date):\n",
    "    s=transaction_date.split('-')\n",
    "    month=int(s[1])\n",
    "    return month\n",
    "\n",
    "# Adding a new column as month of transaction\n",
    "dfmain['month'] = dfmain['transactiondate'].apply(lambda x: get_month(x))"
   ]
  },
  {
   "cell_type": "code",
   "execution_count": 106,
   "metadata": {},
   "outputs": [
    {
     "data": {
      "text/plain": [
       "(90275, 19)"
      ]
     },
     "execution_count": 106,
     "metadata": {},
     "output_type": "execute_result"
    }
   ],
   "source": [
    "dfmain.shape"
   ]
  },
  {
   "cell_type": "code",
   "execution_count": 107,
   "metadata": {},
   "outputs": [
    {
     "name": "stdout",
     "output_type": "stream",
     "text": [
      "bathroomcnt 90275\n",
      "bedroomcnt 90275\n",
      "roomcnt 90275\n",
      "fullbathcnt 89093\n",
      "calculatedbathnbr 89093\n",
      "calculatedfinishedsquarefeet 89614\n",
      "finishedsquarefeet12 85596\n",
      "garagetotalsqft 29937\n",
      "yearbuilt 89519\n",
      "structuretaxvaluedollarcnt 89895\n",
      "taxvaluedollarcnt 90274\n",
      "landtaxvaluedollarcnt 90274\n"
     ]
    }
   ],
   "source": [
    "## Impute numeric variables\n",
    "#Checking for missing data\n",
    "for i in numeric_variables:\n",
    "    print(i, sum(dfmain[i].notnull()*1))"
   ]
  },
  {
   "cell_type": "code",
   "execution_count": 108,
   "metadata": {
    "collapsed": true
   },
   "outputs": [],
   "source": [
    "#Creating an imputation dictionary\n",
    "imputation_dict = defaultdict()\n",
    "for i in numeric_variables:\n",
    "    x = sum(dfmain[i].notnull()*1)\n",
    "    #print(i, x)\n",
    "    if (90275 -x) !=0:\n",
    "        imputation_dict[i]=dfmain[i].median()"
   ]
  },
  {
   "cell_type": "code",
   "execution_count": 109,
   "metadata": {},
   "outputs": [
    {
     "data": {
      "text/plain": [
       "defaultdict(None,\n",
       "            {'calculatedbathnbr': 2.0,\n",
       "             'calculatedfinishedsquarefeet': 1540.0,\n",
       "             'finishedsquarefeet12': 1518.0,\n",
       "             'fullbathcnt': 2.0,\n",
       "             'garagetotalsqft': 433.0,\n",
       "             'landtaxvaluedollarcnt': 192970.0,\n",
       "             'structuretaxvaluedollarcnt': 132000.0,\n",
       "             'taxvaluedollarcnt': 342872.0,\n",
       "             'yearbuilt': 1970.0})"
      ]
     },
     "execution_count": 109,
     "metadata": {},
     "output_type": "execute_result"
    }
   ],
   "source": [
    "imputation_dict"
   ]
  },
  {
   "cell_type": "code",
   "execution_count": 110,
   "metadata": {},
   "outputs": [
    {
     "name": "stdout",
     "output_type": "stream",
     "text": [
      "imputation happened for:  fullbathcnt  with  2.0\n",
      "imputation happened for:  calculatedbathnbr  with  2.0\n",
      "imputation happened for:  calculatedfinishedsquarefeet  with  1540.0\n",
      "imputation happened for:  finishedsquarefeet12  with  1518.0\n",
      "imputation happened for:  garagetotalsqft  with  433.0\n",
      "imputation happened for:  yearbuilt  with  1970.0\n",
      "imputation happened for:  structuretaxvaluedollarcnt  with  132000.0\n",
      "imputation happened for:  taxvaluedollarcnt  with  342872.0\n",
      "imputation happened for:  landtaxvaluedollarcnt  with  192970.0\n"
     ]
    }
   ],
   "source": [
    "# Imputing missing data with median values of columns\n",
    "for i in numeric_variables:\n",
    "    x = sum(dfmain[i].isnull()*1)\n",
    "    if x>0:\n",
    "        dfmain[i].replace(np.nan,imputation_dict[i],inplace=True)\n",
    "        print(\"imputation happened for: \", i,\" with \",imputation_dict[i])"
   ]
  },
  {
   "cell_type": "code",
   "execution_count": 111,
   "metadata": {},
   "outputs": [
    {
     "data": {
      "text/html": [
       "<div>\n",
       "<style>\n",
       "    .dataframe thead tr:only-child th {\n",
       "        text-align: right;\n",
       "    }\n",
       "\n",
       "    .dataframe thead th {\n",
       "        text-align: left;\n",
       "    }\n",
       "\n",
       "    .dataframe tbody tr th {\n",
       "        vertical-align: top;\n",
       "    }\n",
       "</style>\n",
       "<table border=\"1\" class=\"dataframe\">\n",
       "  <thead>\n",
       "    <tr style=\"text-align: right;\">\n",
       "      <th></th>\n",
       "      <th>parcelid</th>\n",
       "      <th>logerror</th>\n",
       "      <th>transactiondate</th>\n",
       "      <th>bathroomcnt</th>\n",
       "      <th>bedroomcnt</th>\n",
       "      <th>roomcnt</th>\n",
       "      <th>fullbathcnt</th>\n",
       "      <th>calculatedbathnbr</th>\n",
       "      <th>calculatedfinishedsquarefeet</th>\n",
       "      <th>finishedsquarefeet12</th>\n",
       "      <th>garagetotalsqft</th>\n",
       "      <th>yearbuilt</th>\n",
       "      <th>structuretaxvaluedollarcnt</th>\n",
       "      <th>taxvaluedollarcnt</th>\n",
       "      <th>landtaxvaluedollarcnt</th>\n",
       "      <th>airconditioningtypeid</th>\n",
       "      <th>buildingqualitytypeid</th>\n",
       "      <th>heatingorsystemtypeid</th>\n",
       "      <th>month</th>\n",
       "    </tr>\n",
       "  </thead>\n",
       "  <tbody>\n",
       "    <tr>\n",
       "      <th>0</th>\n",
       "      <td>11016594</td>\n",
       "      <td>0.0276</td>\n",
       "      <td>2016-01-01</td>\n",
       "      <td>2.0</td>\n",
       "      <td>3.0</td>\n",
       "      <td>0.0</td>\n",
       "      <td>2.0</td>\n",
       "      <td>2.0</td>\n",
       "      <td>1684.0</td>\n",
       "      <td>1684.0</td>\n",
       "      <td>433.0</td>\n",
       "      <td>1959.0</td>\n",
       "      <td>122754.0</td>\n",
       "      <td>360170.0</td>\n",
       "      <td>237416.0</td>\n",
       "      <td>1.0</td>\n",
       "      <td>4.0</td>\n",
       "      <td>2.0</td>\n",
       "      <td>1</td>\n",
       "    </tr>\n",
       "    <tr>\n",
       "      <th>1</th>\n",
       "      <td>14366692</td>\n",
       "      <td>-0.1684</td>\n",
       "      <td>2016-01-01</td>\n",
       "      <td>3.5</td>\n",
       "      <td>4.0</td>\n",
       "      <td>0.0</td>\n",
       "      <td>3.0</td>\n",
       "      <td>3.5</td>\n",
       "      <td>2263.0</td>\n",
       "      <td>2263.0</td>\n",
       "      <td>468.0</td>\n",
       "      <td>2014.0</td>\n",
       "      <td>346458.0</td>\n",
       "      <td>585529.0</td>\n",
       "      <td>239071.0</td>\n",
       "      <td>NaN</td>\n",
       "      <td>NaN</td>\n",
       "      <td>NaN</td>\n",
       "      <td>1</td>\n",
       "    </tr>\n",
       "    <tr>\n",
       "      <th>2</th>\n",
       "      <td>12098116</td>\n",
       "      <td>-0.0040</td>\n",
       "      <td>2016-01-01</td>\n",
       "      <td>3.0</td>\n",
       "      <td>2.0</td>\n",
       "      <td>0.0</td>\n",
       "      <td>3.0</td>\n",
       "      <td>3.0</td>\n",
       "      <td>2217.0</td>\n",
       "      <td>2217.0</td>\n",
       "      <td>433.0</td>\n",
       "      <td>1940.0</td>\n",
       "      <td>61994.0</td>\n",
       "      <td>119906.0</td>\n",
       "      <td>57912.0</td>\n",
       "      <td>1.0</td>\n",
       "      <td>4.0</td>\n",
       "      <td>2.0</td>\n",
       "      <td>1</td>\n",
       "    </tr>\n",
       "    <tr>\n",
       "      <th>3</th>\n",
       "      <td>12643413</td>\n",
       "      <td>0.0218</td>\n",
       "      <td>2016-01-02</td>\n",
       "      <td>2.0</td>\n",
       "      <td>2.0</td>\n",
       "      <td>0.0</td>\n",
       "      <td>2.0</td>\n",
       "      <td>2.0</td>\n",
       "      <td>839.0</td>\n",
       "      <td>839.0</td>\n",
       "      <td>433.0</td>\n",
       "      <td>1987.0</td>\n",
       "      <td>171518.0</td>\n",
       "      <td>244880.0</td>\n",
       "      <td>73362.0</td>\n",
       "      <td>1.0</td>\n",
       "      <td>4.0</td>\n",
       "      <td>2.0</td>\n",
       "      <td>1</td>\n",
       "    </tr>\n",
       "    <tr>\n",
       "      <th>4</th>\n",
       "      <td>14432541</td>\n",
       "      <td>-0.0050</td>\n",
       "      <td>2016-01-02</td>\n",
       "      <td>2.5</td>\n",
       "      <td>4.0</td>\n",
       "      <td>8.0</td>\n",
       "      <td>2.0</td>\n",
       "      <td>2.5</td>\n",
       "      <td>2283.0</td>\n",
       "      <td>2283.0</td>\n",
       "      <td>598.0</td>\n",
       "      <td>1981.0</td>\n",
       "      <td>169574.0</td>\n",
       "      <td>434551.0</td>\n",
       "      <td>264977.0</td>\n",
       "      <td>NaN</td>\n",
       "      <td>NaN</td>\n",
       "      <td>NaN</td>\n",
       "      <td>1</td>\n",
       "    </tr>\n",
       "  </tbody>\n",
       "</table>\n",
       "</div>"
      ],
      "text/plain": [
       "   parcelid  logerror transactiondate  bathroomcnt  bedroomcnt  roomcnt  \\\n",
       "0  11016594    0.0276      2016-01-01          2.0         3.0      0.0   \n",
       "1  14366692   -0.1684      2016-01-01          3.5         4.0      0.0   \n",
       "2  12098116   -0.0040      2016-01-01          3.0         2.0      0.0   \n",
       "3  12643413    0.0218      2016-01-02          2.0         2.0      0.0   \n",
       "4  14432541   -0.0050      2016-01-02          2.5         4.0      8.0   \n",
       "\n",
       "   fullbathcnt  calculatedbathnbr  calculatedfinishedsquarefeet  \\\n",
       "0          2.0                2.0                        1684.0   \n",
       "1          3.0                3.5                        2263.0   \n",
       "2          3.0                3.0                        2217.0   \n",
       "3          2.0                2.0                         839.0   \n",
       "4          2.0                2.5                        2283.0   \n",
       "\n",
       "   finishedsquarefeet12  garagetotalsqft  yearbuilt  \\\n",
       "0                1684.0            433.0     1959.0   \n",
       "1                2263.0            468.0     2014.0   \n",
       "2                2217.0            433.0     1940.0   \n",
       "3                 839.0            433.0     1987.0   \n",
       "4                2283.0            598.0     1981.0   \n",
       "\n",
       "   structuretaxvaluedollarcnt  taxvaluedollarcnt  landtaxvaluedollarcnt  \\\n",
       "0                    122754.0           360170.0               237416.0   \n",
       "1                    346458.0           585529.0               239071.0   \n",
       "2                     61994.0           119906.0                57912.0   \n",
       "3                    171518.0           244880.0                73362.0   \n",
       "4                    169574.0           434551.0               264977.0   \n",
       "\n",
       "   airconditioningtypeid  buildingqualitytypeid  heatingorsystemtypeid  month  \n",
       "0                    1.0                    4.0                    2.0      1  \n",
       "1                    NaN                    NaN                    NaN      1  \n",
       "2                    1.0                    4.0                    2.0      1  \n",
       "3                    1.0                    4.0                    2.0      1  \n",
       "4                    NaN                    NaN                    NaN      1  "
      ]
     },
     "execution_count": 111,
     "metadata": {},
     "output_type": "execute_result"
    }
   ],
   "source": [
    "dfmain.head()"
   ]
  },
  {
   "cell_type": "code",
   "execution_count": 112,
   "metadata": {},
   "outputs": [
    {
     "name": "stdout",
     "output_type": "stream",
     "text": [
      "airconditioningtypeid 28781\n",
      "buildingqualitytypeid 57364\n",
      "heatingorsystemtypeid 56080\n"
     ]
    }
   ],
   "source": [
    "# Checking for NaNs in categorical numeric variables\n",
    "for i in categorical_variables:\n",
    "    print(i, sum(dfmain[i].notnull()*1))\n"
   ]
  },
  {
   "cell_type": "code",
   "execution_count": 113,
   "metadata": {
    "collapsed": true
   },
   "outputs": [],
   "source": [
    "## Replacing NaNs in Categorical variables with 0's\n",
    "for i in categorical_variables:\n",
    "    dfmain[i].replace(np.nan,0.0,inplace=True)"
   ]
  },
  {
   "cell_type": "code",
   "execution_count": 114,
   "metadata": {},
   "outputs": [
    {
     "name": "stdout",
     "output_type": "stream",
     "text": [
      "airconditioningtypeid 90275\n",
      "buildingqualitytypeid 90275\n",
      "heatingorsystemtypeid 90275\n"
     ]
    }
   ],
   "source": [
    "# Checking for NaNs in categorical numeric variables\n",
    "for i in categorical_variables:\n",
    "    print(i, sum(dfmain[i].notnull()*1))"
   ]
  },
  {
   "cell_type": "code",
   "execution_count": 115,
   "metadata": {},
   "outputs": [
    {
     "name": "stdout",
     "output_type": "stream",
     "text": [
      "One Hot Encoding:  airconditioningtypeid\n",
      "One Hot Encoding:  buildingqualitytypeid\n",
      "One Hot Encoding:  heatingorsystemtypeid\n"
     ]
    }
   ],
   "source": [
    "## One hot encoding the categorical variables\n",
    "columnsToEncode = categorical_variables\n",
    "# Adding dummies\n",
    "for feature in columnsToEncode:\n",
    "        print('One Hot Encoding: ', feature)\n",
    "        dfmain = pd.concat([dfmain, pd.get_dummies(dfmain[feature],prefix=feature)], axis=1)\n",
    "        del dfmain[feature]\n"
   ]
  },
  {
   "cell_type": "code",
   "execution_count": 116,
   "metadata": {},
   "outputs": [
    {
     "data": {
      "text/html": [
       "<div>\n",
       "<style>\n",
       "    .dataframe thead tr:only-child th {\n",
       "        text-align: right;\n",
       "    }\n",
       "\n",
       "    .dataframe thead th {\n",
       "        text-align: left;\n",
       "    }\n",
       "\n",
       "    .dataframe tbody tr th {\n",
       "        vertical-align: top;\n",
       "    }\n",
       "</style>\n",
       "<table border=\"1\" class=\"dataframe\">\n",
       "  <thead>\n",
       "    <tr style=\"text-align: right;\">\n",
       "      <th></th>\n",
       "      <th>parcelid</th>\n",
       "      <th>logerror</th>\n",
       "      <th>transactiondate</th>\n",
       "      <th>bathroomcnt</th>\n",
       "      <th>bedroomcnt</th>\n",
       "      <th>roomcnt</th>\n",
       "      <th>fullbathcnt</th>\n",
       "      <th>calculatedbathnbr</th>\n",
       "      <th>calculatedfinishedsquarefeet</th>\n",
       "      <th>finishedsquarefeet12</th>\n",
       "      <th>...</th>\n",
       "      <th>heatingorsystemtypeid_6.0</th>\n",
       "      <th>heatingorsystemtypeid_7.0</th>\n",
       "      <th>heatingorsystemtypeid_10.0</th>\n",
       "      <th>heatingorsystemtypeid_11.0</th>\n",
       "      <th>heatingorsystemtypeid_12.0</th>\n",
       "      <th>heatingorsystemtypeid_13.0</th>\n",
       "      <th>heatingorsystemtypeid_14.0</th>\n",
       "      <th>heatingorsystemtypeid_18.0</th>\n",
       "      <th>heatingorsystemtypeid_20.0</th>\n",
       "      <th>heatingorsystemtypeid_24.0</th>\n",
       "    </tr>\n",
       "  </thead>\n",
       "  <tbody>\n",
       "    <tr>\n",
       "      <th>0</th>\n",
       "      <td>11016594</td>\n",
       "      <td>0.0276</td>\n",
       "      <td>2016-01-01</td>\n",
       "      <td>2.0</td>\n",
       "      <td>3.0</td>\n",
       "      <td>0.0</td>\n",
       "      <td>2.0</td>\n",
       "      <td>2.0</td>\n",
       "      <td>1684.0</td>\n",
       "      <td>1684.0</td>\n",
       "      <td>...</td>\n",
       "      <td>0</td>\n",
       "      <td>0</td>\n",
       "      <td>0</td>\n",
       "      <td>0</td>\n",
       "      <td>0</td>\n",
       "      <td>0</td>\n",
       "      <td>0</td>\n",
       "      <td>0</td>\n",
       "      <td>0</td>\n",
       "      <td>0</td>\n",
       "    </tr>\n",
       "    <tr>\n",
       "      <th>1</th>\n",
       "      <td>14366692</td>\n",
       "      <td>-0.1684</td>\n",
       "      <td>2016-01-01</td>\n",
       "      <td>3.5</td>\n",
       "      <td>4.0</td>\n",
       "      <td>0.0</td>\n",
       "      <td>3.0</td>\n",
       "      <td>3.5</td>\n",
       "      <td>2263.0</td>\n",
       "      <td>2263.0</td>\n",
       "      <td>...</td>\n",
       "      <td>0</td>\n",
       "      <td>0</td>\n",
       "      <td>0</td>\n",
       "      <td>0</td>\n",
       "      <td>0</td>\n",
       "      <td>0</td>\n",
       "      <td>0</td>\n",
       "      <td>0</td>\n",
       "      <td>0</td>\n",
       "      <td>0</td>\n",
       "    </tr>\n",
       "    <tr>\n",
       "      <th>2</th>\n",
       "      <td>12098116</td>\n",
       "      <td>-0.0040</td>\n",
       "      <td>2016-01-01</td>\n",
       "      <td>3.0</td>\n",
       "      <td>2.0</td>\n",
       "      <td>0.0</td>\n",
       "      <td>3.0</td>\n",
       "      <td>3.0</td>\n",
       "      <td>2217.0</td>\n",
       "      <td>2217.0</td>\n",
       "      <td>...</td>\n",
       "      <td>0</td>\n",
       "      <td>0</td>\n",
       "      <td>0</td>\n",
       "      <td>0</td>\n",
       "      <td>0</td>\n",
       "      <td>0</td>\n",
       "      <td>0</td>\n",
       "      <td>0</td>\n",
       "      <td>0</td>\n",
       "      <td>0</td>\n",
       "    </tr>\n",
       "    <tr>\n",
       "      <th>3</th>\n",
       "      <td>12643413</td>\n",
       "      <td>0.0218</td>\n",
       "      <td>2016-01-02</td>\n",
       "      <td>2.0</td>\n",
       "      <td>2.0</td>\n",
       "      <td>0.0</td>\n",
       "      <td>2.0</td>\n",
       "      <td>2.0</td>\n",
       "      <td>839.0</td>\n",
       "      <td>839.0</td>\n",
       "      <td>...</td>\n",
       "      <td>0</td>\n",
       "      <td>0</td>\n",
       "      <td>0</td>\n",
       "      <td>0</td>\n",
       "      <td>0</td>\n",
       "      <td>0</td>\n",
       "      <td>0</td>\n",
       "      <td>0</td>\n",
       "      <td>0</td>\n",
       "      <td>0</td>\n",
       "    </tr>\n",
       "    <tr>\n",
       "      <th>4</th>\n",
       "      <td>14432541</td>\n",
       "      <td>-0.0050</td>\n",
       "      <td>2016-01-02</td>\n",
       "      <td>2.5</td>\n",
       "      <td>4.0</td>\n",
       "      <td>8.0</td>\n",
       "      <td>2.0</td>\n",
       "      <td>2.5</td>\n",
       "      <td>2283.0</td>\n",
       "      <td>2283.0</td>\n",
       "      <td>...</td>\n",
       "      <td>0</td>\n",
       "      <td>0</td>\n",
       "      <td>0</td>\n",
       "      <td>0</td>\n",
       "      <td>0</td>\n",
       "      <td>0</td>\n",
       "      <td>0</td>\n",
       "      <td>0</td>\n",
       "      <td>0</td>\n",
       "      <td>0</td>\n",
       "    </tr>\n",
       "  </tbody>\n",
       "</table>\n",
       "<p>5 rows × 45 columns</p>\n",
       "</div>"
      ],
      "text/plain": [
       "   parcelid  logerror transactiondate  bathroomcnt  bedroomcnt  roomcnt  \\\n",
       "0  11016594    0.0276      2016-01-01          2.0         3.0      0.0   \n",
       "1  14366692   -0.1684      2016-01-01          3.5         4.0      0.0   \n",
       "2  12098116   -0.0040      2016-01-01          3.0         2.0      0.0   \n",
       "3  12643413    0.0218      2016-01-02          2.0         2.0      0.0   \n",
       "4  14432541   -0.0050      2016-01-02          2.5         4.0      8.0   \n",
       "\n",
       "   fullbathcnt  calculatedbathnbr  calculatedfinishedsquarefeet  \\\n",
       "0          2.0                2.0                        1684.0   \n",
       "1          3.0                3.5                        2263.0   \n",
       "2          3.0                3.0                        2217.0   \n",
       "3          2.0                2.0                         839.0   \n",
       "4          2.0                2.5                        2283.0   \n",
       "\n",
       "   finishedsquarefeet12             ...              \\\n",
       "0                1684.0             ...               \n",
       "1                2263.0             ...               \n",
       "2                2217.0             ...               \n",
       "3                 839.0             ...               \n",
       "4                2283.0             ...               \n",
       "\n",
       "   heatingorsystemtypeid_6.0  heatingorsystemtypeid_7.0  \\\n",
       "0                          0                          0   \n",
       "1                          0                          0   \n",
       "2                          0                          0   \n",
       "3                          0                          0   \n",
       "4                          0                          0   \n",
       "\n",
       "   heatingorsystemtypeid_10.0  heatingorsystemtypeid_11.0  \\\n",
       "0                           0                           0   \n",
       "1                           0                           0   \n",
       "2                           0                           0   \n",
       "3                           0                           0   \n",
       "4                           0                           0   \n",
       "\n",
       "   heatingorsystemtypeid_12.0  heatingorsystemtypeid_13.0  \\\n",
       "0                           0                           0   \n",
       "1                           0                           0   \n",
       "2                           0                           0   \n",
       "3                           0                           0   \n",
       "4                           0                           0   \n",
       "\n",
       "   heatingorsystemtypeid_14.0  heatingorsystemtypeid_18.0  \\\n",
       "0                           0                           0   \n",
       "1                           0                           0   \n",
       "2                           0                           0   \n",
       "3                           0                           0   \n",
       "4                           0                           0   \n",
       "\n",
       "   heatingorsystemtypeid_20.0  heatingorsystemtypeid_24.0  \n",
       "0                           0                           0  \n",
       "1                           0                           0  \n",
       "2                           0                           0  \n",
       "3                           0                           0  \n",
       "4                           0                           0  \n",
       "\n",
       "[5 rows x 45 columns]"
      ]
     },
     "execution_count": 116,
     "metadata": {},
     "output_type": "execute_result"
    }
   ],
   "source": [
    "dfmain.head()"
   ]
  },
  {
   "cell_type": "code",
   "execution_count": 117,
   "metadata": {},
   "outputs": [
    {
     "data": {
      "text/plain": [
       "Index(['parcelid', 'logerror', 'transactiondate', 'bathroomcnt', 'bedroomcnt',\n",
       "       'roomcnt', 'fullbathcnt', 'calculatedbathnbr',\n",
       "       'calculatedfinishedsquarefeet', 'finishedsquarefeet12',\n",
       "       'garagetotalsqft', 'yearbuilt', 'structuretaxvaluedollarcnt',\n",
       "       'taxvaluedollarcnt', 'landtaxvaluedollarcnt', 'month',\n",
       "       'airconditioningtypeid_0.0', 'airconditioningtypeid_1.0',\n",
       "       'airconditioningtypeid_3.0', 'airconditioningtypeid_5.0',\n",
       "       'airconditioningtypeid_9.0', 'airconditioningtypeid_11.0',\n",
       "       'airconditioningtypeid_13.0', 'buildingqualitytypeid_0.0',\n",
       "       'buildingqualitytypeid_1.0', 'buildingqualitytypeid_4.0',\n",
       "       'buildingqualitytypeid_6.0', 'buildingqualitytypeid_7.0',\n",
       "       'buildingqualitytypeid_8.0', 'buildingqualitytypeid_10.0',\n",
       "       'buildingqualitytypeid_11.0', 'buildingqualitytypeid_12.0',\n",
       "       'heatingorsystemtypeid_0.0', 'heatingorsystemtypeid_1.0',\n",
       "       'heatingorsystemtypeid_2.0', 'heatingorsystemtypeid_6.0',\n",
       "       'heatingorsystemtypeid_7.0', 'heatingorsystemtypeid_10.0',\n",
       "       'heatingorsystemtypeid_11.0', 'heatingorsystemtypeid_12.0',\n",
       "       'heatingorsystemtypeid_13.0', 'heatingorsystemtypeid_14.0',\n",
       "       'heatingorsystemtypeid_18.0', 'heatingorsystemtypeid_20.0',\n",
       "       'heatingorsystemtypeid_24.0'],\n",
       "      dtype='object')"
      ]
     },
     "execution_count": 117,
     "metadata": {},
     "output_type": "execute_result"
    }
   ],
   "source": [
    "dfmain.columns"
   ]
  },
  {
   "cell_type": "code",
   "execution_count": 121,
   "metadata": {
    "collapsed": true
   },
   "outputs": [],
   "source": [
    "## Creating a test-train split\n",
    "train=dfmain.sample(frac=0.75,random_state=200)\n",
    "test=dfmain.drop(train.index)"
   ]
  },
  {
   "cell_type": "code",
   "execution_count": 122,
   "metadata": {},
   "outputs": [
    {
     "data": {
      "text/plain": [
       "(67706, 45)"
      ]
     },
     "execution_count": 122,
     "metadata": {},
     "output_type": "execute_result"
    }
   ],
   "source": [
    "train.shape"
   ]
  },
  {
   "cell_type": "code",
   "execution_count": 123,
   "metadata": {},
   "outputs": [
    {
     "data": {
      "text/plain": [
       "(22569, 45)"
      ]
     },
     "execution_count": 123,
     "metadata": {},
     "output_type": "execute_result"
    }
   ],
   "source": [
    "test.shape"
   ]
  },
  {
   "cell_type": "code",
   "execution_count": 148,
   "metadata": {},
   "outputs": [],
   "source": [
    "# Separating predictors and response variables\n",
    "all_column_names = list(train.columns)\n",
    "for i in ['parcelid','logerror','transactiondate']:\n",
    "    all_column_names.remove(i)\n",
    "# X variables\n",
    "x_vars = all_column_names\n",
    "y_var = 'logerror'\n",
    "# Train set\n",
    "train_Y = train[y_var]\n",
    "train_X = train[x_vars]\n",
    "#Test set\n",
    "test_Y = train[y_var]\n",
    "test_X = train[x_vars]"
   ]
  },
  {
   "cell_type": "code",
   "execution_count": 153,
   "metadata": {},
   "outputs": [],
   "source": [
    "#Create a K-Nearest Neighbour model\n",
    "knn = neighbors.KNeighborsRegressor(n_neighbors=5)\n",
    "# Train the model using the training sets & Make predictions using the testing set\n",
    "logerror_prediction_y = knn.fit(train_X, train_Y).predict(test_X)"
   ]
  },
  {
   "cell_type": "code",
   "execution_count": 154,
   "metadata": {},
   "outputs": [
    {
     "name": "stdout",
     "output_type": "stream",
     "text": [
      "Mean squared error: 0.02\n",
      "Variance score: 0.21\n"
     ]
    }
   ],
   "source": [
    "# The mean squared error\n",
    "print(\"Mean squared error: %.2f\"\n",
    "      % mean_squared_error(test_Y, logerror_prediction_y))\n",
    "# Explained variance score: 1 is perfect prediction\n",
    "print('Variance score: %.2f' % r2_score(test_Y, logerror_prediction_y))"
   ]
  },
  {
   "cell_type": "code",
   "execution_count": null,
   "metadata": {
    "collapsed": true
   },
   "outputs": [],
   "source": []
  }
 ],
 "metadata": {
  "kernelspec": {
   "display_name": "Python 3",
   "language": "python",
   "name": "python3"
  },
  "language_info": {
   "codemirror_mode": {
    "name": "ipython",
    "version": 3
   },
   "file_extension": ".py",
   "mimetype": "text/x-python",
   "name": "python",
   "nbconvert_exporter": "python",
   "pygments_lexer": "ipython3",
   "version": "3.6.1"
  }
 },
 "nbformat": 4,
 "nbformat_minor": 2
}

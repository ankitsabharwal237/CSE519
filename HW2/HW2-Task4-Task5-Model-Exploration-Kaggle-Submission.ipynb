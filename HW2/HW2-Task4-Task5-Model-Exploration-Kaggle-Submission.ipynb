{
 "cells": [
  {
   "cell_type": "markdown",
   "metadata": {},
   "source": [
    "# Work pipeline of Task 4 & Task 5\n",
    "## Kaggle Submission score: 0.0650391 (v.1), 0.0650219 (v.2)\n",
    "\n",
    " This file is divided into 3 phases\n",
    "    - Data cleaning\n",
    "    - Training and Testing with a few models\n",
    "    - Using the entire Properties dataset to \n",
    "    make a prediction and submission to Kaggle"
   ]
  },
  {
   "cell_type": "code",
   "execution_count": 556,
   "metadata": {
    "collapsed": true
   },
   "outputs": [],
   "source": [
    "%matplotlib inline\n",
    "\n",
    "import matplotlib\n",
    "import numpy as np\n",
    "import matplotlib.pyplot as plt\n",
    "import pandas as pd\n",
    "import datetime\n",
    "import seaborn as sns\n",
    "from collections import defaultdict\n",
    "from sklearn import preprocessing\n",
    "from sklearn.model_selection import train_test_split\n",
    "from sklearn.preprocessing import Imputer\n",
    "from sklearn import datasets, linear_model\n",
    "from sklearn import neighbors\n",
    "from sklearn.metrics import mean_squared_error, r2_score\n",
    "from sklearn.preprocessing import LabelEncoder\n",
    "from sklearn.ensemble import RandomForestRegressor\n",
    "from sklearn.datasets import make_regression"
   ]
  },
  {
   "cell_type": "code",
   "execution_count": 557,
   "metadata": {
    "collapsed": true
   },
   "outputs": [],
   "source": [
    "## Read the Key, logerror, transaction date set\n",
    "df_parcel = pd.read_csv(\"c:/Users/ibipul/Documents/Python Scripts/datasets/zillow_data/train_2016_v2.csv\")"
   ]
  },
  {
   "cell_type": "code",
   "execution_count": 558,
   "metadata": {
    "collapsed": true
   },
   "outputs": [],
   "source": [
    "## Read the attribute set\n",
    "df_properties = pd.read_csv(\"c:/Users/ibipul/Documents/Python Scripts/datasets/zillow_data/properties_2016.csv\",low_memory=False)"
   ]
  },
  {
   "cell_type": "markdown",
   "metadata": {
    "collapsed": true
   },
   "source": [
    "## Variable Selection and Data cleanup \n",
    "    - In this stage we use the selected variables and re-format and clean the data up for subsequent modelling.\n",
    "    - First the two data tables are joined & relevant variables are selected.\n",
    "    - After this Numeric and Categorical variables (which are numeric labels) are treated separately.\n",
    "        -For Numeric variables we impute missing variables with Median values of the column. \n",
    "        They are alseo normalised using the mean and standard deviation of the columns.\n",
    "        -For Categorical variables are 0 imputed as a new category of 'no-info' and then one hot encoded\n",
    "    - Finally The data is split into a 75-25 Train test split and model building takes place."
   ]
  },
  {
   "cell_type": "code",
   "execution_count": 560,
   "metadata": {
    "collapsed": true
   },
   "outputs": [],
   "source": [
    "# Categorical variables are Numeric here. Replace NaN's with 0.0, then hot one encode.\n",
    "categorical_variables=['airconditioningtypeid','buildingqualitytypeid','heatingorsystemtypeid']\n",
    "\n",
    "## Impute the NaN's in the following columns with median values\n",
    "numeric_variables = ['bathroomcnt','bedroomcnt','roomcnt','fullbathcnt', 'calculatedbathnbr',\n",
    "          'calculatedfinishedsquarefeet', 'finishedsquarefeet12','garagetotalsqft',\n",
    "          'structuretaxvaluedollarcnt','taxvaluedollarcnt', 'landtaxvaluedollarcnt']\n",
    "\n",
    "# This is the key variable that will help with the join\n",
    "key_variable = ['parcelid']\n",
    "\n",
    "# Full variable list:\n",
    "properties_variables = key_variable + numeric_variables + categorical_variables"
   ]
  },
  {
   "cell_type": "code",
   "execution_count": 561,
   "metadata": {
    "collapsed": true
   },
   "outputs": [],
   "source": [
    "## Sub setting the properties variables\n",
    "df = df_properties[properties_variables]"
   ]
  },
  {
   "cell_type": "code",
   "execution_count": 562,
   "metadata": {
    "collapsed": true
   },
   "outputs": [],
   "source": [
    "## Merging the id,logerr,transaction data set with the above\n",
    "dfmain = pd.merge(df_parcel,df,on='parcelid')"
   ]
  },
  {
   "cell_type": "code",
   "execution_count": 563,
   "metadata": {
    "collapsed": true
   },
   "outputs": [],
   "source": [
    "# date parser\n",
    "def get_month(transaction_date):\n",
    "    s=transaction_date.split('-')\n",
    "    month=int(s[1])\n",
    "    return month\n",
    "\n",
    "# Adding a new column as month of transaction\n",
    "dfmain['month'] = dfmain['transactiondate'].apply(lambda x: get_month(x))"
   ]
  },
  {
   "cell_type": "code",
   "execution_count": 564,
   "metadata": {
    "scrolled": false
   },
   "outputs": [
    {
     "data": {
      "text/plain": [
       "<matplotlib.axes._subplots.AxesSubplot at 0x1680dbd7cc0>"
      ]
     },
     "execution_count": 564,
     "metadata": {},
     "output_type": "execute_result"
    },
    {
     "data": {
      "image/png": "[encoded data removed]",
      "text/plain": [
       "<matplotlib.figure.Figure at 0x1680dbd7518>"
      ]
     },
     "metadata": {},
     "output_type": "display_data"
    }
   ],
   "source": [
    "df_corr = dfmain[numeric_variables + ['logerror', 'month']]\n",
    "sns.heatmap(df_corr.corr(), xticklabels=df_corr.columns.values,yticklabels=df_corr.columns.values)"
   ]
  },
  {
   "cell_type": "code",
   "execution_count": 565,
   "metadata": {},
   "outputs": [
    {
     "data": {
      "text/plain": [
       "(90275, 18)"
      ]
     },
     "execution_count": 565,
     "metadata": {},
     "output_type": "execute_result"
    }
   ],
   "source": [
    "dfmain.shape"
   ]
  },
  {
   "cell_type": "code",
   "execution_count": 567,
   "metadata": {
    "collapsed": true
   },
   "outputs": [],
   "source": [
    "#Checking for missing data in numeric variables\n",
    "#for i in numeric_variables:\n",
    "#    print(i, sum(dfmain[i].notnull()*1))"
   ]
  },
  {
   "cell_type": "code",
   "execution_count": 568,
   "metadata": {
    "collapsed": true
   },
   "outputs": [],
   "source": [
    "#Creating an imputation dictionary\n",
    "imputation_dict = defaultdict()\n",
    "for i in numeric_variables:\n",
    "    x = sum(dfmain[i].notnull()*1)\n",
    "    imputation_dict[i]=dfmain[i].median()"
   ]
  },
  {
   "cell_type": "code",
   "execution_count": 569,
   "metadata": {},
   "outputs": [
    {
     "data": {
      "text/plain": [
       "defaultdict(None,\n",
       "            {'bathroomcnt': 2.0,\n",
       "             'bedroomcnt': 3.0,\n",
       "             'calculatedbathnbr': 2.0,\n",
       "             'calculatedfinishedsquarefeet': 1540.0,\n",
       "             'finishedsquarefeet12': 1518.0,\n",
       "             'fullbathcnt': 2.0,\n",
       "             'garagetotalsqft': 433.0,\n",
       "             'landtaxvaluedollarcnt': 192970.0,\n",
       "             'roomcnt': 0.0,\n",
       "             'structuretaxvaluedollarcnt': 132000.0,\n",
       "             'taxvaluedollarcnt': 342872.0})"
      ]
     },
     "execution_count": 569,
     "metadata": {},
     "output_type": "execute_result"
    }
   ],
   "source": [
    "imputation_dict"
   ]
  },
  {
   "cell_type": "code",
   "execution_count": 570,
   "metadata": {},
   "outputs": [
    {
     "name": "stdout",
     "output_type": "stream",
     "text": [
      "imputation happened for:  fullbathcnt  with  2.0\n",
      "imputation happened for:  calculatedbathnbr  with  2.0\n",
      "imputation happened for:  calculatedfinishedsquarefeet  with  1540.0\n",
      "imputation happened for:  finishedsquarefeet12  with  1518.0\n",
      "imputation happened for:  garagetotalsqft  with  433.0\n",
      "imputation happened for:  structuretaxvaluedollarcnt  with  132000.0\n",
      "imputation happened for:  taxvaluedollarcnt  with  342872.0\n",
      "imputation happened for:  landtaxvaluedollarcnt  with  192970.0\n"
     ]
    }
   ],
   "source": [
    "# Imputing missing data with median values of columns\n",
    "for i in numeric_variables:\n",
    "    x = sum(dfmain[i].isnull()*1)\n",
    "    if x>0:\n",
    "        dfmain[i].replace(np.nan,imputation_dict[i],inplace=True)\n",
    "        print(\"imputation happened for: \", i,\" with \",imputation_dict[i])"
   ]
  },
  {
   "cell_type": "code",
   "execution_count": 571,
   "metadata": {
    "collapsed": true
   },
   "outputs": [],
   "source": [
    "#Normalizing The Numeric variables\n",
    "# Creating dictionaries for mu and sigma\n",
    "#Creating an imputation dictionary\n",
    "mu_dict = defaultdict()\n",
    "sig_dict = defaultdict()\n",
    "for i in numeric_variables:\n",
    "    mu_dict[i] = dfmain[i].mean()\n",
    "    sig_dict[i] = dfmain[i].std()\n",
    "    dfmain[i]=(dfmain[i]-mu_dict[i])/sig_dict[i]\n",
    "    \n",
    "# Hence we store the Mu and Std dev dictionary from the training phase"
   ]
  },
  {
   "cell_type": "code",
   "execution_count": 572,
   "metadata": {},
   "outputs": [
    {
     "data": {
      "text/html": [
       "<div>\n",
       "<style>\n",
       "    .dataframe thead tr:only-child th {\n",
       "        text-align: right;\n",
       "    }\n",
       "\n",
       "    .dataframe thead th {\n",
       "        text-align: left;\n",
       "    }\n",
       "\n",
       "    .dataframe tbody tr th {\n",
       "        vertical-align: top;\n",
       "    }\n",
       "</style>\n",
       "<table border=\"1\" class=\"dataframe\">\n",
       "  <thead>\n",
       "    <tr style=\"text-align: right;\">\n",
       "      <th></th>\n",
       "      <th>parcelid</th>\n",
       "      <th>logerror</th>\n",
       "      <th>transactiondate</th>\n",
       "      <th>bathroomcnt</th>\n",
       "      <th>bedroomcnt</th>\n",
       "      <th>roomcnt</th>\n",
       "      <th>fullbathcnt</th>\n",
       "      <th>calculatedbathnbr</th>\n",
       "      <th>calculatedfinishedsquarefeet</th>\n",
       "      <th>finishedsquarefeet12</th>\n",
       "      <th>garagetotalsqft</th>\n",
       "      <th>structuretaxvaluedollarcnt</th>\n",
       "      <th>taxvaluedollarcnt</th>\n",
       "      <th>landtaxvaluedollarcnt</th>\n",
       "      <th>airconditioningtypeid</th>\n",
       "      <th>buildingqualitytypeid</th>\n",
       "      <th>heatingorsystemtypeid</th>\n",
       "      <th>month</th>\n",
       "    </tr>\n",
       "  </thead>\n",
       "  <tbody>\n",
       "    <tr>\n",
       "      <th>0</th>\n",
       "      <td>11016594</td>\n",
       "      <td>0.0276</td>\n",
       "      <td>2016-01-01</td>\n",
       "      <td>-0.278285</td>\n",
       "      <td>-0.027558</td>\n",
       "      <td>-0.524366</td>\n",
       "      <td>-0.248716</td>\n",
       "      <td>-0.314477</td>\n",
       "      <td>-0.094574</td>\n",
       "      <td>-0.055962</td>\n",
       "      <td>0.182241</td>\n",
       "      <td>-0.273759</td>\n",
       "      <td>-0.175716</td>\n",
       "      <td>-0.102170</td>\n",
       "      <td>1.0</td>\n",
       "      <td>4.0</td>\n",
       "      <td>2.0</td>\n",
       "      <td>1</td>\n",
       "    </tr>\n",
       "    <tr>\n",
       "      <th>1</th>\n",
       "      <td>14366692</td>\n",
       "      <td>-0.1684</td>\n",
       "      <td>2016-01-01</td>\n",
       "      <td>1.215335</td>\n",
       "      <td>0.837168</td>\n",
       "      <td>-0.524366</td>\n",
       "      <td>0.795989</td>\n",
       "      <td>1.231281</td>\n",
       "      <td>0.531391</td>\n",
       "      <td>0.596447</td>\n",
       "      <td>0.402113</td>\n",
       "      <td>0.798069</td>\n",
       "      <td>0.230423</td>\n",
       "      <td>-0.098038</td>\n",
       "      <td>NaN</td>\n",
       "      <td>NaN</td>\n",
       "      <td>NaN</td>\n",
       "      <td>1</td>\n",
       "    </tr>\n",
       "    <tr>\n",
       "      <th>2</th>\n",
       "      <td>12098116</td>\n",
       "      <td>-0.0040</td>\n",
       "      <td>2016-01-01</td>\n",
       "      <td>0.717462</td>\n",
       "      <td>-0.892284</td>\n",
       "      <td>-0.524366</td>\n",
       "      <td>0.795989</td>\n",
       "      <td>0.716029</td>\n",
       "      <td>0.481659</td>\n",
       "      <td>0.544615</td>\n",
       "      <td>0.182241</td>\n",
       "      <td>-0.564877</td>\n",
       "      <td>-0.608716</td>\n",
       "      <td>-0.550377</td>\n",
       "      <td>1.0</td>\n",
       "      <td>4.0</td>\n",
       "      <td>2.0</td>\n",
       "      <td>1</td>\n",
       "    </tr>\n",
       "    <tr>\n",
       "      <th>3</th>\n",
       "      <td>12643413</td>\n",
       "      <td>0.0218</td>\n",
       "      <td>2016-01-02</td>\n",
       "      <td>-0.278285</td>\n",
       "      <td>-0.892284</td>\n",
       "      <td>-0.524366</td>\n",
       "      <td>-0.248716</td>\n",
       "      <td>-0.314477</td>\n",
       "      <td>-1.008116</td>\n",
       "      <td>-1.008097</td>\n",
       "      <td>0.182241</td>\n",
       "      <td>-0.040117</td>\n",
       "      <td>-0.383490</td>\n",
       "      <td>-0.511800</td>\n",
       "      <td>1.0</td>\n",
       "      <td>4.0</td>\n",
       "      <td>2.0</td>\n",
       "      <td>1</td>\n",
       "    </tr>\n",
       "    <tr>\n",
       "      <th>4</th>\n",
       "      <td>14432541</td>\n",
       "      <td>-0.0050</td>\n",
       "      <td>2016-01-02</td>\n",
       "      <td>0.219588</td>\n",
       "      <td>0.837168</td>\n",
       "      <td>2.312889</td>\n",
       "      <td>-0.248716</td>\n",
       "      <td>0.200776</td>\n",
       "      <td>0.553013</td>\n",
       "      <td>0.618983</td>\n",
       "      <td>1.218781</td>\n",
       "      <td>-0.049431</td>\n",
       "      <td>-0.041667</td>\n",
       "      <td>-0.033352</td>\n",
       "      <td>NaN</td>\n",
       "      <td>NaN</td>\n",
       "      <td>NaN</td>\n",
       "      <td>1</td>\n",
       "    </tr>\n",
       "  </tbody>\n",
       "</table>\n",
       "</div>"
      ],
      "text/plain": [
       "   parcelid  logerror transactiondate  bathroomcnt  bedroomcnt   roomcnt  \\\n",
       "0  11016594    0.0276      2016-01-01    -0.278285   -0.027558 -0.524366   \n",
       "1  14366692   -0.1684      2016-01-01     1.215335    0.837168 -0.524366   \n",
       "2  12098116   -0.0040      2016-01-01     0.717462   -0.892284 -0.524366   \n",
       "3  12643413    0.0218      2016-01-02    -0.278285   -0.892284 -0.524366   \n",
       "4  14432541   -0.0050      2016-01-02     0.219588    0.837168  2.312889   \n",
       "\n",
       "   fullbathcnt  calculatedbathnbr  calculatedfinishedsquarefeet  \\\n",
       "0    -0.248716          -0.314477                     -0.094574   \n",
       "1     0.795989           1.231281                      0.531391   \n",
       "2     0.795989           0.716029                      0.481659   \n",
       "3    -0.248716          -0.314477                     -1.008116   \n",
       "4    -0.248716           0.200776                      0.553013   \n",
       "\n",
       "   finishedsquarefeet12  garagetotalsqft  structuretaxvaluedollarcnt  \\\n",
       "0             -0.055962         0.182241                   -0.273759   \n",
       "1              0.596447         0.402113                    0.798069   \n",
       "2              0.544615         0.182241                   -0.564877   \n",
       "3             -1.008097         0.182241                   -0.040117   \n",
       "4              0.618983         1.218781                   -0.049431   \n",
       "\n",
       "   taxvaluedollarcnt  landtaxvaluedollarcnt  airconditioningtypeid  \\\n",
       "0          -0.175716              -0.102170                    1.0   \n",
       "1           0.230423              -0.098038                    NaN   \n",
       "2          -0.608716              -0.550377                    1.0   \n",
       "3          -0.383490              -0.511800                    1.0   \n",
       "4          -0.041667              -0.033352                    NaN   \n",
       "\n",
       "   buildingqualitytypeid  heatingorsystemtypeid  month  \n",
       "0                    4.0                    2.0      1  \n",
       "1                    NaN                    NaN      1  \n",
       "2                    4.0                    2.0      1  \n",
       "3                    4.0                    2.0      1  \n",
       "4                    NaN                    NaN      1  "
      ]
     },
     "execution_count": 572,
     "metadata": {},
     "output_type": "execute_result"
    }
   ],
   "source": [
    "dfmain.head()"
   ]
  },
  {
   "cell_type": "code",
   "execution_count": 573,
   "metadata": {},
   "outputs": [
    {
     "name": "stdout",
     "output_type": "stream",
     "text": [
      "airconditioningtypeid 28781\n",
      "buildingqualitytypeid 57364\n",
      "heatingorsystemtypeid 56080\n"
     ]
    }
   ],
   "source": [
    "# Checking for NaNs in categorical numeric variables\n",
    "for i in categorical_variables:\n",
    "    print(i, sum(dfmain[i].notnull()*1))"
   ]
  },
  {
   "cell_type": "code",
   "execution_count": 574,
   "metadata": {},
   "outputs": [
    {
     "data": {
      "text/plain": [
       "['airconditioningtypeid', 'buildingqualitytypeid', 'heatingorsystemtypeid']"
      ]
     },
     "execution_count": 574,
     "metadata": {},
     "output_type": "execute_result"
    }
   ],
   "source": [
    "categorical_variables"
   ]
  },
  {
   "cell_type": "code",
   "execution_count": 575,
   "metadata": {
    "collapsed": true
   },
   "outputs": [],
   "source": [
    "## Replacing NaNs in Categorical variables with 0's\n",
    "for i in categorical_variables:\n",
    "    dfmain[i].replace(np.nan,0.0,inplace=True)"
   ]
  },
  {
   "cell_type": "code",
   "execution_count": 576,
   "metadata": {},
   "outputs": [
    {
     "name": "stdout",
     "output_type": "stream",
     "text": [
      "airconditioningtypeid 90275\n",
      "buildingqualitytypeid 90275\n",
      "heatingorsystemtypeid 90275\n"
     ]
    }
   ],
   "source": [
    "# Checking for NaNs in categorical numeric variables\n",
    "for i in categorical_variables:\n",
    "    print(i, sum(dfmain[i].notnull()*1))"
   ]
  },
  {
   "cell_type": "code",
   "execution_count": 577,
   "metadata": {
    "collapsed": true
   },
   "outputs": [],
   "source": [
    "# Month is also a categorical variable so it should be one-hot encoded\n",
    "categorical_variables.append('month')"
   ]
  },
  {
   "cell_type": "code",
   "execution_count": 578,
   "metadata": {},
   "outputs": [
    {
     "name": "stdout",
     "output_type": "stream",
     "text": [
      "One Hot Encoding:  airconditioningtypeid\n",
      "One Hot Encoding:  buildingqualitytypeid\n",
      "One Hot Encoding:  heatingorsystemtypeid\n",
      "One Hot Encoding:  month\n"
     ]
    }
   ],
   "source": [
    "## One hot encoding the categorical variables\n",
    "columnsToEncode = categorical_variables\n",
    "# Adding dummies\n",
    "for feature in columnsToEncode:\n",
    "        print('One Hot Encoding: ', feature)\n",
    "        dfmain = pd.concat([dfmain, pd.get_dummies(dfmain[feature],prefix=feature)], axis=1)\n",
    "        del dfmain[feature]\n"
   ]
  },
  {
   "cell_type": "code",
   "execution_count": 579,
   "metadata": {},
   "outputs": [
    {
     "data": {
      "text/html": [
       "<div>\n",
       "<style>\n",
       "    .dataframe thead tr:only-child th {\n",
       "        text-align: right;\n",
       "    }\n",
       "\n",
       "    .dataframe thead th {\n",
       "        text-align: left;\n",
       "    }\n",
       "\n",
       "    .dataframe tbody tr th {\n",
       "        vertical-align: top;\n",
       "    }\n",
       "</style>\n",
       "<table border=\"1\" class=\"dataframe\">\n",
       "  <thead>\n",
       "    <tr style=\"text-align: right;\">\n",
       "      <th></th>\n",
       "      <th>parcelid</th>\n",
       "      <th>logerror</th>\n",
       "      <th>transactiondate</th>\n",
       "      <th>bathroomcnt</th>\n",
       "      <th>bedroomcnt</th>\n",
       "      <th>roomcnt</th>\n",
       "      <th>fullbathcnt</th>\n",
       "      <th>calculatedbathnbr</th>\n",
       "      <th>calculatedfinishedsquarefeet</th>\n",
       "      <th>finishedsquarefeet12</th>\n",
       "      <th>...</th>\n",
       "      <th>month_3</th>\n",
       "      <th>month_4</th>\n",
       "      <th>month_5</th>\n",
       "      <th>month_6</th>\n",
       "      <th>month_7</th>\n",
       "      <th>month_8</th>\n",
       "      <th>month_9</th>\n",
       "      <th>month_10</th>\n",
       "      <th>month_11</th>\n",
       "      <th>month_12</th>\n",
       "    </tr>\n",
       "  </thead>\n",
       "  <tbody>\n",
       "    <tr>\n",
       "      <th>0</th>\n",
       "      <td>11016594</td>\n",
       "      <td>0.0276</td>\n",
       "      <td>2016-01-01</td>\n",
       "      <td>-0.278285</td>\n",
       "      <td>-0.027558</td>\n",
       "      <td>-0.524366</td>\n",
       "      <td>-0.248716</td>\n",
       "      <td>-0.314477</td>\n",
       "      <td>-0.094574</td>\n",
       "      <td>-0.055962</td>\n",
       "      <td>...</td>\n",
       "      <td>0</td>\n",
       "      <td>0</td>\n",
       "      <td>0</td>\n",
       "      <td>0</td>\n",
       "      <td>0</td>\n",
       "      <td>0</td>\n",
       "      <td>0</td>\n",
       "      <td>0</td>\n",
       "      <td>0</td>\n",
       "      <td>0</td>\n",
       "    </tr>\n",
       "    <tr>\n",
       "      <th>1</th>\n",
       "      <td>14366692</td>\n",
       "      <td>-0.1684</td>\n",
       "      <td>2016-01-01</td>\n",
       "      <td>1.215335</td>\n",
       "      <td>0.837168</td>\n",
       "      <td>-0.524366</td>\n",
       "      <td>0.795989</td>\n",
       "      <td>1.231281</td>\n",
       "      <td>0.531391</td>\n",
       "      <td>0.596447</td>\n",
       "      <td>...</td>\n",
       "      <td>0</td>\n",
       "      <td>0</td>\n",
       "      <td>0</td>\n",
       "      <td>0</td>\n",
       "      <td>0</td>\n",
       "      <td>0</td>\n",
       "      <td>0</td>\n",
       "      <td>0</td>\n",
       "      <td>0</td>\n",
       "      <td>0</td>\n",
       "    </tr>\n",
       "    <tr>\n",
       "      <th>2</th>\n",
       "      <td>12098116</td>\n",
       "      <td>-0.0040</td>\n",
       "      <td>2016-01-01</td>\n",
       "      <td>0.717462</td>\n",
       "      <td>-0.892284</td>\n",
       "      <td>-0.524366</td>\n",
       "      <td>0.795989</td>\n",
       "      <td>0.716029</td>\n",
       "      <td>0.481659</td>\n",
       "      <td>0.544615</td>\n",
       "      <td>...</td>\n",
       "      <td>0</td>\n",
       "      <td>0</td>\n",
       "      <td>0</td>\n",
       "      <td>0</td>\n",
       "      <td>0</td>\n",
       "      <td>0</td>\n",
       "      <td>0</td>\n",
       "      <td>0</td>\n",
       "      <td>0</td>\n",
       "      <td>0</td>\n",
       "    </tr>\n",
       "    <tr>\n",
       "      <th>3</th>\n",
       "      <td>12643413</td>\n",
       "      <td>0.0218</td>\n",
       "      <td>2016-01-02</td>\n",
       "      <td>-0.278285</td>\n",
       "      <td>-0.892284</td>\n",
       "      <td>-0.524366</td>\n",
       "      <td>-0.248716</td>\n",
       "      <td>-0.314477</td>\n",
       "      <td>-1.008116</td>\n",
       "      <td>-1.008097</td>\n",
       "      <td>...</td>\n",
       "      <td>0</td>\n",
       "      <td>0</td>\n",
       "      <td>0</td>\n",
       "      <td>0</td>\n",
       "      <td>0</td>\n",
       "      <td>0</td>\n",
       "      <td>0</td>\n",
       "      <td>0</td>\n",
       "      <td>0</td>\n",
       "      <td>0</td>\n",
       "    </tr>\n",
       "    <tr>\n",
       "      <th>4</th>\n",
       "      <td>14432541</td>\n",
       "      <td>-0.0050</td>\n",
       "      <td>2016-01-02</td>\n",
       "      <td>0.219588</td>\n",
       "      <td>0.837168</td>\n",
       "      <td>2.312889</td>\n",
       "      <td>-0.248716</td>\n",
       "      <td>0.200776</td>\n",
       "      <td>0.553013</td>\n",
       "      <td>0.618983</td>\n",
       "      <td>...</td>\n",
       "      <td>0</td>\n",
       "      <td>0</td>\n",
       "      <td>0</td>\n",
       "      <td>0</td>\n",
       "      <td>0</td>\n",
       "      <td>0</td>\n",
       "      <td>0</td>\n",
       "      <td>0</td>\n",
       "      <td>0</td>\n",
       "      <td>0</td>\n",
       "    </tr>\n",
       "  </tbody>\n",
       "</table>\n",
       "<p>5 rows × 55 columns</p>\n",
       "</div>"
      ],
      "text/plain": [
       "   parcelid  logerror transactiondate  bathroomcnt  bedroomcnt   roomcnt  \\\n",
       "0  11016594    0.0276      2016-01-01    -0.278285   -0.027558 -0.524366   \n",
       "1  14366692   -0.1684      2016-01-01     1.215335    0.837168 -0.524366   \n",
       "2  12098116   -0.0040      2016-01-01     0.717462   -0.892284 -0.524366   \n",
       "3  12643413    0.0218      2016-01-02    -0.278285   -0.892284 -0.524366   \n",
       "4  14432541   -0.0050      2016-01-02     0.219588    0.837168  2.312889   \n",
       "\n",
       "   fullbathcnt  calculatedbathnbr  calculatedfinishedsquarefeet  \\\n",
       "0    -0.248716          -0.314477                     -0.094574   \n",
       "1     0.795989           1.231281                      0.531391   \n",
       "2     0.795989           0.716029                      0.481659   \n",
       "3    -0.248716          -0.314477                     -1.008116   \n",
       "4    -0.248716           0.200776                      0.553013   \n",
       "\n",
       "   finishedsquarefeet12    ...     month_3  month_4  month_5  month_6  \\\n",
       "0             -0.055962    ...           0        0        0        0   \n",
       "1              0.596447    ...           0        0        0        0   \n",
       "2              0.544615    ...           0        0        0        0   \n",
       "3             -1.008097    ...           0        0        0        0   \n",
       "4              0.618983    ...           0        0        0        0   \n",
       "\n",
       "   month_7  month_8  month_9  month_10  month_11  month_12  \n",
       "0        0        0        0         0         0         0  \n",
       "1        0        0        0         0         0         0  \n",
       "2        0        0        0         0         0         0  \n",
       "3        0        0        0         0         0         0  \n",
       "4        0        0        0         0         0         0  \n",
       "\n",
       "[5 rows x 55 columns]"
      ]
     },
     "execution_count": 579,
     "metadata": {},
     "output_type": "execute_result"
    }
   ],
   "source": [
    "dfmain.head()"
   ]
  },
  {
   "cell_type": "code",
   "execution_count": 554,
   "metadata": {
    "collapsed": true
   },
   "outputs": [],
   "source": [
    "#dfmain.columns"
   ]
  },
  {
   "cell_type": "code",
   "execution_count": 580,
   "metadata": {
    "collapsed": true
   },
   "outputs": [],
   "source": [
    "## Creating a test-train split\n",
    "train=dfmain.sample(frac=0.75,random_state=200)\n",
    "test=dfmain.drop(train.index)"
   ]
  },
  {
   "cell_type": "code",
   "execution_count": 581,
   "metadata": {},
   "outputs": [
    {
     "data": {
      "text/html": [
       "<div>\n",
       "<style>\n",
       "    .dataframe thead tr:only-child th {\n",
       "        text-align: right;\n",
       "    }\n",
       "\n",
       "    .dataframe thead th {\n",
       "        text-align: left;\n",
       "    }\n",
       "\n",
       "    .dataframe tbody tr th {\n",
       "        vertical-align: top;\n",
       "    }\n",
       "</style>\n",
       "<table border=\"1\" class=\"dataframe\">\n",
       "  <thead>\n",
       "    <tr style=\"text-align: right;\">\n",
       "      <th></th>\n",
       "      <th>parcelid</th>\n",
       "      <th>logerror</th>\n",
       "      <th>transactiondate</th>\n",
       "      <th>bathroomcnt</th>\n",
       "      <th>bedroomcnt</th>\n",
       "      <th>roomcnt</th>\n",
       "      <th>fullbathcnt</th>\n",
       "      <th>calculatedbathnbr</th>\n",
       "      <th>calculatedfinishedsquarefeet</th>\n",
       "      <th>finishedsquarefeet12</th>\n",
       "      <th>...</th>\n",
       "      <th>month_3</th>\n",
       "      <th>month_4</th>\n",
       "      <th>month_5</th>\n",
       "      <th>month_6</th>\n",
       "      <th>month_7</th>\n",
       "      <th>month_8</th>\n",
       "      <th>month_9</th>\n",
       "      <th>month_10</th>\n",
       "      <th>month_11</th>\n",
       "      <th>month_12</th>\n",
       "    </tr>\n",
       "  </thead>\n",
       "  <tbody>\n",
       "    <tr>\n",
       "      <th>33534</th>\n",
       "      <td>12298892</td>\n",
       "      <td>-0.0070</td>\n",
       "      <td>2016-05-10</td>\n",
       "      <td>-1.274032</td>\n",
       "      <td>-0.892284</td>\n",
       "      <td>-0.524366</td>\n",
       "      <td>-1.293420</td>\n",
       "      <td>-1.344982</td>\n",
       "      <td>-0.676214</td>\n",
       "      <td>-0.662174</td>\n",
       "      <td>...</td>\n",
       "      <td>0</td>\n",
       "      <td>0</td>\n",
       "      <td>1</td>\n",
       "      <td>0</td>\n",
       "      <td>0</td>\n",
       "      <td>0</td>\n",
       "      <td>0</td>\n",
       "      <td>0</td>\n",
       "      <td>0</td>\n",
       "      <td>0</td>\n",
       "    </tr>\n",
       "    <tr>\n",
       "      <th>74398</th>\n",
       "      <td>12546271</td>\n",
       "      <td>-0.1791</td>\n",
       "      <td>2016-09-09</td>\n",
       "      <td>1.713209</td>\n",
       "      <td>2.566620</td>\n",
       "      <td>-0.524366</td>\n",
       "      <td>1.840694</td>\n",
       "      <td>1.746534</td>\n",
       "      <td>2.139007</td>\n",
       "      <td>-0.243009</td>\n",
       "      <td>...</td>\n",
       "      <td>0</td>\n",
       "      <td>0</td>\n",
       "      <td>0</td>\n",
       "      <td>0</td>\n",
       "      <td>0</td>\n",
       "      <td>0</td>\n",
       "      <td>1</td>\n",
       "      <td>0</td>\n",
       "      <td>0</td>\n",
       "      <td>0</td>\n",
       "    </tr>\n",
       "    <tr>\n",
       "      <th>18216</th>\n",
       "      <td>14465356</td>\n",
       "      <td>0.0020</td>\n",
       "      <td>2016-03-22</td>\n",
       "      <td>0.219588</td>\n",
       "      <td>0.837168</td>\n",
       "      <td>2.667546</td>\n",
       "      <td>-0.248716</td>\n",
       "      <td>0.200776</td>\n",
       "      <td>1.323847</td>\n",
       "      <td>1.422382</td>\n",
       "      <td>...</td>\n",
       "      <td>1</td>\n",
       "      <td>0</td>\n",
       "      <td>0</td>\n",
       "      <td>0</td>\n",
       "      <td>0</td>\n",
       "      <td>0</td>\n",
       "      <td>0</td>\n",
       "      <td>0</td>\n",
       "      <td>0</td>\n",
       "      <td>0</td>\n",
       "    </tr>\n",
       "    <tr>\n",
       "      <th>72001</th>\n",
       "      <td>12069190</td>\n",
       "      <td>-0.0090</td>\n",
       "      <td>2016-08-31</td>\n",
       "      <td>0.717462</td>\n",
       "      <td>-0.892284</td>\n",
       "      <td>-0.524366</td>\n",
       "      <td>0.795989</td>\n",
       "      <td>0.716029</td>\n",
       "      <td>-0.478370</td>\n",
       "      <td>-0.455972</td>\n",
       "      <td>...</td>\n",
       "      <td>0</td>\n",
       "      <td>0</td>\n",
       "      <td>0</td>\n",
       "      <td>0</td>\n",
       "      <td>0</td>\n",
       "      <td>1</td>\n",
       "      <td>0</td>\n",
       "      <td>0</td>\n",
       "      <td>0</td>\n",
       "      <td>0</td>\n",
       "    </tr>\n",
       "    <tr>\n",
       "      <th>77568</th>\n",
       "      <td>11115649</td>\n",
       "      <td>-0.0222</td>\n",
       "      <td>2016-09-20</td>\n",
       "      <td>0.717462</td>\n",
       "      <td>-0.027558</td>\n",
       "      <td>-0.524366</td>\n",
       "      <td>0.795989</td>\n",
       "      <td>0.716029</td>\n",
       "      <td>-0.477289</td>\n",
       "      <td>-0.454845</td>\n",
       "      <td>...</td>\n",
       "      <td>0</td>\n",
       "      <td>0</td>\n",
       "      <td>0</td>\n",
       "      <td>0</td>\n",
       "      <td>0</td>\n",
       "      <td>0</td>\n",
       "      <td>1</td>\n",
       "      <td>0</td>\n",
       "      <td>0</td>\n",
       "      <td>0</td>\n",
       "    </tr>\n",
       "  </tbody>\n",
       "</table>\n",
       "<p>5 rows × 55 columns</p>\n",
       "</div>"
      ],
      "text/plain": [
       "       parcelid  logerror transactiondate  bathroomcnt  bedroomcnt   roomcnt  \\\n",
       "33534  12298892   -0.0070      2016-05-10    -1.274032   -0.892284 -0.524366   \n",
       "74398  12546271   -0.1791      2016-09-09     1.713209    2.566620 -0.524366   \n",
       "18216  14465356    0.0020      2016-03-22     0.219588    0.837168  2.667546   \n",
       "72001  12069190   -0.0090      2016-08-31     0.717462   -0.892284 -0.524366   \n",
       "77568  11115649   -0.0222      2016-09-20     0.717462   -0.027558 -0.524366   \n",
       "\n",
       "       fullbathcnt  calculatedbathnbr  calculatedfinishedsquarefeet  \\\n",
       "33534    -1.293420          -1.344982                     -0.676214   \n",
       "74398     1.840694           1.746534                      2.139007   \n",
       "18216    -0.248716           0.200776                      1.323847   \n",
       "72001     0.795989           0.716029                     -0.478370   \n",
       "77568     0.795989           0.716029                     -0.477289   \n",
       "\n",
       "       finishedsquarefeet12    ...     month_3  month_4  month_5  month_6  \\\n",
       "33534             -0.662174    ...           0        0        1        0   \n",
       "74398             -0.243009    ...           0        0        0        0   \n",
       "18216              1.422382    ...           1        0        0        0   \n",
       "72001             -0.455972    ...           0        0        0        0   \n",
       "77568             -0.454845    ...           0        0        0        0   \n",
       "\n",
       "       month_7  month_8  month_9  month_10  month_11  month_12  \n",
       "33534        0        0        0         0         0         0  \n",
       "74398        0        0        1         0         0         0  \n",
       "18216        0        0        0         0         0         0  \n",
       "72001        0        1        0         0         0         0  \n",
       "77568        0        0        1         0         0         0  \n",
       "\n",
       "[5 rows x 55 columns]"
      ]
     },
     "execution_count": 581,
     "metadata": {},
     "output_type": "execute_result"
    }
   ],
   "source": [
    "train.head()"
   ]
  },
  {
   "cell_type": "code",
   "execution_count": 582,
   "metadata": {
    "collapsed": true
   },
   "outputs": [],
   "source": [
    "# Separating predictors and response variables\n",
    "all_column_names = list(train.columns)\n",
    "for i in ['parcelid','logerror','transactiondate']:\n",
    "    all_column_names.remove(i)\n",
    "    \n",
    "# X variable names\n",
    "x_vars = all_column_names\n",
    "y_var = 'logerror'\n",
    "# Train set\n",
    "train_Y = train[y_var]\n",
    "train_X = train[x_vars]\n",
    "#Test set\n",
    "test_Y = test[y_var]\n",
    "test_X = test[x_vars]\n",
    "test_key = test['parcelid']"
   ]
  },
  {
   "cell_type": "markdown",
   "metadata": {},
   "source": [
    "## Model building phase\n",
    " - I will start with logistic regression from previous exercise and then move to other models\n",
    " - KNN and Random Forest regressors are some model I would be exploring."
   ]
  },
  {
   "cell_type": "code",
   "execution_count": 583,
   "metadata": {},
   "outputs": [
    {
     "name": "stdout",
     "output_type": "stream",
     "text": [
      "Coefficients: \n",
      " [ -1.41865482e-02   6.92479507e-04   1.84469761e-04   3.04091749e-04\n",
      "   1.25690110e-02   3.05018204e-03   4.85548312e-03  -1.10087931e-03\n",
      "  -1.21592114e-01   3.27223464e-01  -2.40022999e-01  -1.64715262e-02\n",
      "  -1.82725785e-02   8.82484739e-02  -2.03416103e-02  -1.36327918e-02\n",
      "  -3.68636791e-03  -1.58435992e-02  -7.16057909e-02  -7.84168290e-02\n",
      "  -7.40271105e-02  -2.56984519e-02  -7.41110776e-02   6.16700154e-01\n",
      "  -7.90314220e-02  -9.64500601e-02  -1.17359412e-01   6.11361890e-03\n",
      "   2.14253703e-02   1.16603420e-02   7.34158972e-03   8.75107124e-03\n",
      "  -3.33721220e-02  -2.82958033e-02  -7.71607579e-03  -8.74794191e-03\n",
      "   2.86539793e-02   1.61494248e-02  -4.27822233e-03  -1.76852309e-02\n",
      "   2.05822416e-03   4.79686878e-03  -2.53566564e-03  -7.65736334e-03\n",
      "  -5.32513359e-03  -6.36650942e-03  -2.09441461e-03  -1.12054578e-03\n",
      "   4.18818171e-03   4.79841312e-03   3.15305931e-03   6.10488531e-03]\n",
      "Mean squared error: 0.02667\n",
      "Variance score: 0.00046\n"
     ]
    }
   ],
   "source": [
    "#Create a Linear regression model\n",
    "regr = linear_model.LinearRegression()\n",
    "# Train the model using the training sets\n",
    "regr.fit(train_X, train_Y)\n",
    "# Make predictions using the testing set\n",
    "logerror_prediction_y = regr.predict(test_X)\n",
    "\n",
    "# The coefficients\n",
    "print('Coefficients: \\n', regr.coef_)\n",
    "# The mean squared error\n",
    "print(\"Mean squared error: %1.5f\"\n",
    "      % mean_squared_error(test_Y, logerror_prediction_y))\n",
    "# Explained variance score: 1 is perfect prediction\n",
    "print('Variance score: %1.5f' % r2_score(test_Y, logerror_prediction_y))"
   ]
  },
  {
   "cell_type": "code",
   "execution_count": 590,
   "metadata": {},
   "outputs": [
    {
     "name": "stdout",
     "output_type": "stream",
     "text": [
      "Mean squared error: 0.02681\n",
      "Variance score: -0.00482\n"
     ]
    }
   ],
   "source": [
    "#Create a K-Nearest Neighbour model\n",
    "knn = neighbors.KNeighborsRegressor(n_neighbors=90,weights='distance')\n",
    "# Train the model using the training sets & Make predictions using the testing set\n",
    "logerror_prediction_y = knn.fit(train_X, train_Y).predict(test_X)\n",
    "# The mean squared error\n",
    "print(\"Mean squared error: %1.5f\"\n",
    "      % mean_squared_error(test_Y, logerror_prediction_y))\n",
    "# Explained variance score: 1 is perfect prediction\n",
    "print('Variance score: %1.5f' % r2_score(test_Y, logerror_prediction_y))"
   ]
  },
  {
   "cell_type": "code",
   "execution_count": 598,
   "metadata": {},
   "outputs": [
    {
     "name": "stdout",
     "output_type": "stream",
     "text": [
      "Mean squared error: 0.02642\n",
      "Variance score: 0.00963\n"
     ]
    }
   ],
   "source": [
    "# Random forest example\n",
    "randreg = RandomForestRegressor(n_estimators=40,max_depth=4,warm_start=True)\n",
    "randreg.fit(train_X,train_Y)\n",
    "logerror_prediction_y=randreg.predict(test_X)\n",
    "# The mean squared error\n",
    "print(\"Mean squared error: %1.5f\"\n",
    "      % mean_squared_error(test_Y, logerror_prediction_y))\n",
    "# Explained variance score: 1 is perfect prediction\n",
    "print('Variance score: %1.5f' % r2_score(test_Y, logerror_prediction_y))"
   ]
  },
  {
   "cell_type": "markdown",
   "metadata": {},
   "source": [
    "### Summary of model exploration\n",
    "So models I tested with are Linear regression, Knearest neighbour regression and Random forest. In each case the RMSE was around 0.03. However, with some tuning of the model parameters, and cleaning of variables-- R^2 value changed. Random Forest regressors with 40 estimators, and maximum tree-depth or 4 seems to be working well as per the data I have. R^2 Value was approximately 0.01 (which is much better than 0.0005 for the linear regression). So to summarize:\n",
    "\n",
    "    - Linear regression: RMSE: 0.0267, R^2: 0.00046\n",
    "    - K Nearest Neighbour: RMSE: 0.0274, R^2: -0.005 (improved from -0.17, by tuning the n_neighbours parameter)\n",
    "    - Random Forest regressor: RMSE 0.026, R^2: 0.009 (improved from -0.15 by tuning number of estimatos and depth)\n",
    "    \n",
    "### Here on the focus is to get a submission ready for Kaggle using the Random forest model trained above\n",
    "In this segment, the focus will be to get predictions for all 2.98 million Zillow property listings. Essentially the relevant variables are passed through the same pipeline we used to get to the test and train data, and then we use the Random Forest model to get a prediction. Finally the relevant CSV is composed and pushed to Kaggle, to get a score."
   ]
  },
  {
   "cell_type": "code",
   "execution_count": 599,
   "metadata": {
    "collapsed": true
   },
   "outputs": [],
   "source": [
    "## Preparing for Submission to Kaggle\n",
    "dpf = df_properties.copy()"
   ]
  },
  {
   "cell_type": "code",
   "execution_count": 600,
   "metadata": {
    "collapsed": true
   },
   "outputs": [],
   "source": [
    "#Save the key col\n",
    "dp_key_col = dpf['parcelid'].copy()"
   ]
  },
  {
   "cell_type": "code",
   "execution_count": 601,
   "metadata": {
    "collapsed": true
   },
   "outputs": [],
   "source": [
    "# Categorical variables are Numeric here. Replace NaN's with 0.0, then hot one encode.\n",
    "categorical_variables=['airconditioningtypeid','buildingqualitytypeid','heatingorsystemtypeid']\n",
    "## Impute the NaN's in the following columns with median values\n",
    "numeric_variables = ['bathroomcnt','bedroomcnt','roomcnt','fullbathcnt', 'calculatedbathnbr',\n",
    "          'calculatedfinishedsquarefeet', 'finishedsquarefeet12','garagetotalsqft',\n",
    "          'structuretaxvaluedollarcnt','taxvaluedollarcnt', 'landtaxvaluedollarcnt']\n",
    "# This is the key variable that will help with the join\n",
    "key_variable = ['parcelid']\n",
    "# Full variable list:\n",
    "properties_variables = key_variable + numeric_variables + categorical_variables\n",
    "\n"
   ]
  },
  {
   "cell_type": "code",
   "execution_count": 602,
   "metadata": {
    "collapsed": true
   },
   "outputs": [],
   "source": [
    "dp = dpf[properties_variables].copy()\n",
    "dp = dp.drop('parcelid',1)\n"
   ]
  },
  {
   "cell_type": "code",
   "execution_count": 603,
   "metadata": {},
   "outputs": [
    {
     "name": "stdout",
     "output_type": "stream",
     "text": [
      "imputation happened for:  bathroomcnt  with  2.0\n",
      "imputation happened for:  bedroomcnt  with  3.0\n",
      "imputation happened for:  roomcnt  with  0.0\n",
      "imputation happened for:  fullbathcnt  with  2.0\n",
      "imputation happened for:  calculatedbathnbr  with  2.0\n",
      "imputation happened for:  calculatedfinishedsquarefeet  with  1540.0\n",
      "imputation happened for:  finishedsquarefeet12  with  1518.0\n",
      "imputation happened for:  garagetotalsqft  with  433.0\n",
      "imputation happened for:  structuretaxvaluedollarcnt  with  132000.0\n",
      "imputation happened for:  taxvaluedollarcnt  with  342872.0\n",
      "imputation happened for:  landtaxvaluedollarcnt  with  192970.0\n"
     ]
    }
   ],
   "source": [
    "for i in numeric_variables:\n",
    "    x = sum(dp[i].isnull()*1)\n",
    "    if x>0:\n",
    "        dp[i].replace(np.nan,imputation_dict[i],inplace=True)\n",
    "        print(\"imputation happened for: \", i,\" with \",imputation_dict[i])"
   ]
  },
  {
   "cell_type": "code",
   "execution_count": 604,
   "metadata": {
    "collapsed": true
   },
   "outputs": [],
   "source": [
    "#Normalizing The Numeric variables\n",
    "for i in numeric_variables:\n",
    "    dp[i]=(dp[i]-mu_dict[i])/sig_dict[i]"
   ]
  },
  {
   "cell_type": "code",
   "execution_count": 605,
   "metadata": {},
   "outputs": [
    {
     "data": {
      "text/plain": [
       "['airconditioningtypeid', 'buildingqualitytypeid', 'heatingorsystemtypeid']"
      ]
     },
     "execution_count": 605,
     "metadata": {},
     "output_type": "execute_result"
    }
   ],
   "source": [
    "categorical_variables"
   ]
  },
  {
   "cell_type": "code",
   "execution_count": 606,
   "metadata": {},
   "outputs": [
    {
     "name": "stdout",
     "output_type": "stream",
     "text": [
      "airconditioningtypeid 811519\n",
      "buildingqualitytypeid 1938488\n",
      "heatingorsystemtypeid 1806401\n"
     ]
    }
   ],
   "source": [
    "# Checking for NaNs in categorical numeric variables\n",
    "for i in categorical_variables:\n",
    "    print(i, sum(dp[i].notnull()*1))"
   ]
  },
  {
   "cell_type": "code",
   "execution_count": 607,
   "metadata": {
    "collapsed": true
   },
   "outputs": [],
   "source": [
    "## Replacing NaNs in Categorical variables with 0's\n",
    "for i in categorical_variables:\n",
    "    dp[i].replace(np.nan,0.0,inplace=True)"
   ]
  },
  {
   "cell_type": "code",
   "execution_count": 608,
   "metadata": {},
   "outputs": [
    {
     "name": "stdout",
     "output_type": "stream",
     "text": [
      "One Hot Encoding:  airconditioningtypeid\n",
      "One Hot Encoding:  buildingqualitytypeid\n",
      "One Hot Encoding:  heatingorsystemtypeid\n"
     ]
    }
   ],
   "source": [
    "## One hot encoding the categorical variables\n",
    "columnsToEncode = categorical_variables\n",
    "# Adding dummies\n",
    "for feature in columnsToEncode:\n",
    "        print('One Hot Encoding: ', feature)\n",
    "        dp = pd.concat([dp, pd.get_dummies(dp[feature],prefix=feature)], axis=1)\n",
    "        del dp[feature]"
   ]
  },
  {
   "cell_type": "code",
   "execution_count": 609,
   "metadata": {
    "collapsed": true
   },
   "outputs": [],
   "source": [
    "updation_list = ['month_1','month_2','month_3','month_4','month_5','month_6',\n",
    "                 'month_7','month_8','month_9','month_10','month_11','month_12']\n",
    "#Creating month dummy variables\n",
    "for i in updation_list:\n",
    "     dp[i]=0\n",
    "\n",
    "      "
   ]
  },
  {
   "cell_type": "code",
   "execution_count": 610,
   "metadata": {},
   "outputs": [
    {
     "data": {
      "text/plain": [
       "52"
      ]
     },
     "execution_count": 610,
     "metadata": {},
     "output_type": "execute_result"
    }
   ],
   "source": [
    "columns_of_interest=list(dfmain.columns) \n",
    "columns_of_interest.remove('parcelid')\n",
    "columns_of_interest.remove('logerror')\n",
    "columns_of_interest.remove('transactiondate')\n",
    "len(columns_of_interest) \n"
   ]
  },
  {
   "cell_type": "code",
   "execution_count": 611,
   "metadata": {
    "collapsed": true
   },
   "outputs": [],
   "source": [
    "dp=dp[columns_of_interest]"
   ]
  },
  {
   "cell_type": "code",
   "execution_count": 612,
   "metadata": {},
   "outputs": [
    {
     "data": {
      "text/html": [
       "<div>\n",
       "<style>\n",
       "    .dataframe thead tr:only-child th {\n",
       "        text-align: right;\n",
       "    }\n",
       "\n",
       "    .dataframe thead th {\n",
       "        text-align: left;\n",
       "    }\n",
       "\n",
       "    .dataframe tbody tr th {\n",
       "        vertical-align: top;\n",
       "    }\n",
       "</style>\n",
       "<table border=\"1\" class=\"dataframe\">\n",
       "  <thead>\n",
       "    <tr style=\"text-align: right;\">\n",
       "      <th></th>\n",
       "      <th>bathroomcnt</th>\n",
       "      <th>bedroomcnt</th>\n",
       "      <th>roomcnt</th>\n",
       "      <th>fullbathcnt</th>\n",
       "      <th>calculatedbathnbr</th>\n",
       "      <th>calculatedfinishedsquarefeet</th>\n",
       "      <th>finishedsquarefeet12</th>\n",
       "      <th>garagetotalsqft</th>\n",
       "      <th>structuretaxvaluedollarcnt</th>\n",
       "      <th>taxvaluedollarcnt</th>\n",
       "      <th>...</th>\n",
       "      <th>month_3</th>\n",
       "      <th>month_4</th>\n",
       "      <th>month_5</th>\n",
       "      <th>month_6</th>\n",
       "      <th>month_7</th>\n",
       "      <th>month_8</th>\n",
       "      <th>month_9</th>\n",
       "      <th>month_10</th>\n",
       "      <th>month_11</th>\n",
       "      <th>month_12</th>\n",
       "    </tr>\n",
       "  </thead>\n",
       "  <tbody>\n",
       "    <tr>\n",
       "      <th>0</th>\n",
       "      <td>-2.26978</td>\n",
       "      <td>-2.621737</td>\n",
       "      <td>-0.524366</td>\n",
       "      <td>-0.248716</td>\n",
       "      <td>-0.314477</td>\n",
       "      <td>-0.250255</td>\n",
       "      <td>-0.243009</td>\n",
       "      <td>0.182241</td>\n",
       "      <td>-0.229459</td>\n",
       "      <td>-0.824793</td>\n",
       "      <td>...</td>\n",
       "      <td>0</td>\n",
       "      <td>0</td>\n",
       "      <td>0</td>\n",
       "      <td>0</td>\n",
       "      <td>0</td>\n",
       "      <td>0</td>\n",
       "      <td>0</td>\n",
       "      <td>0</td>\n",
       "      <td>0</td>\n",
       "      <td>0</td>\n",
       "    </tr>\n",
       "    <tr>\n",
       "      <th>1</th>\n",
       "      <td>-2.26978</td>\n",
       "      <td>-2.621737</td>\n",
       "      <td>-0.524366</td>\n",
       "      <td>-0.248716</td>\n",
       "      <td>-0.314477</td>\n",
       "      <td>-0.250255</td>\n",
       "      <td>-0.243009</td>\n",
       "      <td>0.182241</td>\n",
       "      <td>-0.229459</td>\n",
       "      <td>-0.775220</td>\n",
       "      <td>...</td>\n",
       "      <td>0</td>\n",
       "      <td>0</td>\n",
       "      <td>0</td>\n",
       "      <td>0</td>\n",
       "      <td>0</td>\n",
       "      <td>0</td>\n",
       "      <td>0</td>\n",
       "      <td>0</td>\n",
       "      <td>0</td>\n",
       "      <td>0</td>\n",
       "    </tr>\n",
       "    <tr>\n",
       "      <th>2</th>\n",
       "      <td>-2.26978</td>\n",
       "      <td>-2.621737</td>\n",
       "      <td>-0.524366</td>\n",
       "      <td>-0.248716</td>\n",
       "      <td>-0.314477</td>\n",
       "      <td>77.034268</td>\n",
       "      <td>-0.243009</td>\n",
       "      <td>0.182241</td>\n",
       "      <td>2.256046</td>\n",
       "      <td>1.722378</td>\n",
       "      <td>...</td>\n",
       "      <td>0</td>\n",
       "      <td>0</td>\n",
       "      <td>0</td>\n",
       "      <td>0</td>\n",
       "      <td>0</td>\n",
       "      <td>0</td>\n",
       "      <td>0</td>\n",
       "      <td>0</td>\n",
       "      <td>0</td>\n",
       "      <td>0</td>\n",
       "    </tr>\n",
       "    <tr>\n",
       "      <th>3</th>\n",
       "      <td>-2.26978</td>\n",
       "      <td>-2.621737</td>\n",
       "      <td>-0.524366</td>\n",
       "      <td>-0.248716</td>\n",
       "      <td>-0.314477</td>\n",
       "      <td>3.563916</td>\n",
       "      <td>-0.243009</td>\n",
       "      <td>0.182241</td>\n",
       "      <td>1.875571</td>\n",
       "      <td>1.260022</td>\n",
       "      <td>...</td>\n",
       "      <td>0</td>\n",
       "      <td>0</td>\n",
       "      <td>0</td>\n",
       "      <td>0</td>\n",
       "      <td>0</td>\n",
       "      <td>0</td>\n",
       "      <td>0</td>\n",
       "      <td>0</td>\n",
       "      <td>0</td>\n",
       "      <td>0</td>\n",
       "    </tr>\n",
       "    <tr>\n",
       "      <th>4</th>\n",
       "      <td>-2.26978</td>\n",
       "      <td>-2.621737</td>\n",
       "      <td>-0.524366</td>\n",
       "      <td>-0.248716</td>\n",
       "      <td>-0.314477</td>\n",
       "      <td>0.004888</td>\n",
       "      <td>-0.243009</td>\n",
       "      <td>0.182241</td>\n",
       "      <td>0.066623</td>\n",
       "      <td>-0.043578</td>\n",
       "      <td>...</td>\n",
       "      <td>0</td>\n",
       "      <td>0</td>\n",
       "      <td>0</td>\n",
       "      <td>0</td>\n",
       "      <td>0</td>\n",
       "      <td>0</td>\n",
       "      <td>0</td>\n",
       "      <td>0</td>\n",
       "      <td>0</td>\n",
       "      <td>0</td>\n",
       "    </tr>\n",
       "  </tbody>\n",
       "</table>\n",
       "<p>5 rows × 52 columns</p>\n",
       "</div>"
      ],
      "text/plain": [
       "   bathroomcnt  bedroomcnt   roomcnt  fullbathcnt  calculatedbathnbr  \\\n",
       "0     -2.26978   -2.621737 -0.524366    -0.248716          -0.314477   \n",
       "1     -2.26978   -2.621737 -0.524366    -0.248716          -0.314477   \n",
       "2     -2.26978   -2.621737 -0.524366    -0.248716          -0.314477   \n",
       "3     -2.26978   -2.621737 -0.524366    -0.248716          -0.314477   \n",
       "4     -2.26978   -2.621737 -0.524366    -0.248716          -0.314477   \n",
       "\n",
       "   calculatedfinishedsquarefeet  finishedsquarefeet12  garagetotalsqft  \\\n",
       "0                     -0.250255             -0.243009         0.182241   \n",
       "1                     -0.250255             -0.243009         0.182241   \n",
       "2                     77.034268             -0.243009         0.182241   \n",
       "3                      3.563916             -0.243009         0.182241   \n",
       "4                      0.004888             -0.243009         0.182241   \n",
       "\n",
       "   structuretaxvaluedollarcnt  taxvaluedollarcnt    ...     month_3  month_4  \\\n",
       "0                   -0.229459          -0.824793    ...           0        0   \n",
       "1                   -0.229459          -0.775220    ...           0        0   \n",
       "2                    2.256046           1.722378    ...           0        0   \n",
       "3                    1.875571           1.260022    ...           0        0   \n",
       "4                    0.066623          -0.043578    ...           0        0   \n",
       "\n",
       "   month_5  month_6  month_7  month_8  month_9  month_10  month_11  month_12  \n",
       "0        0        0        0        0        0         0         0         0  \n",
       "1        0        0        0        0        0         0         0         0  \n",
       "2        0        0        0        0        0         0         0         0  \n",
       "3        0        0        0        0        0         0         0         0  \n",
       "4        0        0        0        0        0         0         0         0  \n",
       "\n",
       "[5 rows x 52 columns]"
      ]
     },
     "execution_count": 612,
     "metadata": {},
     "output_type": "execute_result"
    }
   ],
   "source": [
    "#Prediction months are 201610,201611,201612, 201710,201711,201712\n",
    "# According to this variables I have set up, I need to set month_10, month_11 ... so on for the predictions\n",
    "# Also my current model has nothing that factors in temporal change year on year so I'd replicase my 2016 predictions.\n",
    "\n",
    "dp.head()"
   ]
  },
  {
   "cell_type": "code",
   "execution_count": 613,
   "metadata": {},
   "outputs": [
    {
     "name": "stdout",
     "output_type": "stream",
     "text": [
      "Length is:  2985217\n"
     ]
    }
   ],
   "source": [
    "#For month 10:\n",
    "for i in updation_list:\n",
    "     dp[i]=0\n",
    "dp['month_10']=1\n",
    "        \n",
    "pred_logerr_10 = randreg.predict(dp)\n",
    "print(\"Length is: \", len(pred_logerr_10))"
   ]
  },
  {
   "cell_type": "code",
   "execution_count": 614,
   "metadata": {},
   "outputs": [
    {
     "name": "stdout",
     "output_type": "stream",
     "text": [
      "Length is:  2985217\n"
     ]
    }
   ],
   "source": [
    "#For month 11:\n",
    "for i in updation_list:\n",
    "     dp[i]=0\n",
    "dp['month_11']=1\n",
    "\n",
    "pred_logerr_11 = randreg.predict(dp)\n",
    "print(\"Length is: \", len(pred_logerr_11))"
   ]
  },
  {
   "cell_type": "code",
   "execution_count": 615,
   "metadata": {},
   "outputs": [
    {
     "name": "stdout",
     "output_type": "stream",
     "text": [
      "Length is:  2985217\n"
     ]
    }
   ],
   "source": [
    "#For month 12:\n",
    "for i in updation_list:\n",
    "     dp[i]=0\n",
    "dp['month_12']=1\n",
    "        \n",
    "pred_logerr_12 = randreg.predict(dp)\n",
    "print(\"Length is: \", len(pred_logerr_12))"
   ]
  },
  {
   "cell_type": "code",
   "execution_count": 616,
   "metadata": {
    "collapsed": true
   },
   "outputs": [],
   "source": [
    "## Adding the columns\n",
    "dp['201610']=pred_logerr_10\n",
    "dp['201611']=pred_logerr_11\n",
    "dp['201612']=pred_logerr_12\n",
    "dp['201710']=pred_logerr_10\n",
    "dp['201711']=pred_logerr_11\n",
    "dp['201712']=pred_logerr_12\n",
    "dp = pd.concat([dp_key_col,dp],axis=1)"
   ]
  },
  {
   "cell_type": "code",
   "execution_count": 617,
   "metadata": {},
   "outputs": [
    {
     "data": {
      "text/html": [
       "<div>\n",
       "<style>\n",
       "    .dataframe thead tr:only-child th {\n",
       "        text-align: right;\n",
       "    }\n",
       "\n",
       "    .dataframe thead th {\n",
       "        text-align: left;\n",
       "    }\n",
       "\n",
       "    .dataframe tbody tr th {\n",
       "        vertical-align: top;\n",
       "    }\n",
       "</style>\n",
       "<table border=\"1\" class=\"dataframe\">\n",
       "  <thead>\n",
       "    <tr style=\"text-align: right;\">\n",
       "      <th></th>\n",
       "      <th>parcelid</th>\n",
       "      <th>bathroomcnt</th>\n",
       "      <th>bedroomcnt</th>\n",
       "      <th>roomcnt</th>\n",
       "      <th>fullbathcnt</th>\n",
       "      <th>calculatedbathnbr</th>\n",
       "      <th>calculatedfinishedsquarefeet</th>\n",
       "      <th>finishedsquarefeet12</th>\n",
       "      <th>garagetotalsqft</th>\n",
       "      <th>structuretaxvaluedollarcnt</th>\n",
       "      <th>...</th>\n",
       "      <th>month_9</th>\n",
       "      <th>month_10</th>\n",
       "      <th>month_11</th>\n",
       "      <th>month_12</th>\n",
       "      <th>201610</th>\n",
       "      <th>201611</th>\n",
       "      <th>201612</th>\n",
       "      <th>201710</th>\n",
       "      <th>201711</th>\n",
       "      <th>201712</th>\n",
       "    </tr>\n",
       "  </thead>\n",
       "  <tbody>\n",
       "    <tr>\n",
       "      <th>0</th>\n",
       "      <td>10754147</td>\n",
       "      <td>-2.26978</td>\n",
       "      <td>-2.621737</td>\n",
       "      <td>-0.524366</td>\n",
       "      <td>-0.248716</td>\n",
       "      <td>-0.314477</td>\n",
       "      <td>-0.250255</td>\n",
       "      <td>-0.243009</td>\n",
       "      <td>0.182241</td>\n",
       "      <td>-0.229459</td>\n",
       "      <td>...</td>\n",
       "      <td>0</td>\n",
       "      <td>0</td>\n",
       "      <td>0</td>\n",
       "      <td>1</td>\n",
       "      <td>0.008743</td>\n",
       "      <td>0.008743</td>\n",
       "      <td>0.008743</td>\n",
       "      <td>0.008743</td>\n",
       "      <td>0.008743</td>\n",
       "      <td>0.008743</td>\n",
       "    </tr>\n",
       "    <tr>\n",
       "      <th>1</th>\n",
       "      <td>10759547</td>\n",
       "      <td>-2.26978</td>\n",
       "      <td>-2.621737</td>\n",
       "      <td>-0.524366</td>\n",
       "      <td>-0.248716</td>\n",
       "      <td>-0.314477</td>\n",
       "      <td>-0.250255</td>\n",
       "      <td>-0.243009</td>\n",
       "      <td>0.182241</td>\n",
       "      <td>-0.229459</td>\n",
       "      <td>...</td>\n",
       "      <td>0</td>\n",
       "      <td>0</td>\n",
       "      <td>0</td>\n",
       "      <td>1</td>\n",
       "      <td>0.008743</td>\n",
       "      <td>0.008743</td>\n",
       "      <td>0.008743</td>\n",
       "      <td>0.008743</td>\n",
       "      <td>0.008743</td>\n",
       "      <td>0.008743</td>\n",
       "    </tr>\n",
       "    <tr>\n",
       "      <th>2</th>\n",
       "      <td>10843547</td>\n",
       "      <td>-2.26978</td>\n",
       "      <td>-2.621737</td>\n",
       "      <td>-0.524366</td>\n",
       "      <td>-0.248716</td>\n",
       "      <td>-0.314477</td>\n",
       "      <td>77.034268</td>\n",
       "      <td>-0.243009</td>\n",
       "      <td>0.182241</td>\n",
       "      <td>2.256046</td>\n",
       "      <td>...</td>\n",
       "      <td>0</td>\n",
       "      <td>0</td>\n",
       "      <td>0</td>\n",
       "      <td>1</td>\n",
       "      <td>0.106546</td>\n",
       "      <td>0.106546</td>\n",
       "      <td>0.106546</td>\n",
       "      <td>0.106546</td>\n",
       "      <td>0.106546</td>\n",
       "      <td>0.106546</td>\n",
       "    </tr>\n",
       "    <tr>\n",
       "      <th>3</th>\n",
       "      <td>10859147</td>\n",
       "      <td>-2.26978</td>\n",
       "      <td>-2.621737</td>\n",
       "      <td>-0.524366</td>\n",
       "      <td>-0.248716</td>\n",
       "      <td>-0.314477</td>\n",
       "      <td>3.563916</td>\n",
       "      <td>-0.243009</td>\n",
       "      <td>0.182241</td>\n",
       "      <td>1.875571</td>\n",
       "      <td>...</td>\n",
       "      <td>0</td>\n",
       "      <td>0</td>\n",
       "      <td>0</td>\n",
       "      <td>1</td>\n",
       "      <td>0.012933</td>\n",
       "      <td>0.012933</td>\n",
       "      <td>0.012933</td>\n",
       "      <td>0.012933</td>\n",
       "      <td>0.012933</td>\n",
       "      <td>0.012933</td>\n",
       "    </tr>\n",
       "    <tr>\n",
       "      <th>4</th>\n",
       "      <td>10879947</td>\n",
       "      <td>-2.26978</td>\n",
       "      <td>-2.621737</td>\n",
       "      <td>-0.524366</td>\n",
       "      <td>-0.248716</td>\n",
       "      <td>-0.314477</td>\n",
       "      <td>0.004888</td>\n",
       "      <td>-0.243009</td>\n",
       "      <td>0.182241</td>\n",
       "      <td>0.066623</td>\n",
       "      <td>...</td>\n",
       "      <td>0</td>\n",
       "      <td>0</td>\n",
       "      <td>0</td>\n",
       "      <td>1</td>\n",
       "      <td>0.008490</td>\n",
       "      <td>0.008490</td>\n",
       "      <td>0.008490</td>\n",
       "      <td>0.008490</td>\n",
       "      <td>0.008490</td>\n",
       "      <td>0.008490</td>\n",
       "    </tr>\n",
       "  </tbody>\n",
       "</table>\n",
       "<p>5 rows × 59 columns</p>\n",
       "</div>"
      ],
      "text/plain": [
       "   parcelid  bathroomcnt  bedroomcnt   roomcnt  fullbathcnt  \\\n",
       "0  10754147     -2.26978   -2.621737 -0.524366    -0.248716   \n",
       "1  10759547     -2.26978   -2.621737 -0.524366    -0.248716   \n",
       "2  10843547     -2.26978   -2.621737 -0.524366    -0.248716   \n",
       "3  10859147     -2.26978   -2.621737 -0.524366    -0.248716   \n",
       "4  10879947     -2.26978   -2.621737 -0.524366    -0.248716   \n",
       "\n",
       "   calculatedbathnbr  calculatedfinishedsquarefeet  finishedsquarefeet12  \\\n",
       "0          -0.314477                     -0.250255             -0.243009   \n",
       "1          -0.314477                     -0.250255             -0.243009   \n",
       "2          -0.314477                     77.034268             -0.243009   \n",
       "3          -0.314477                      3.563916             -0.243009   \n",
       "4          -0.314477                      0.004888             -0.243009   \n",
       "\n",
       "   garagetotalsqft  structuretaxvaluedollarcnt    ...     month_9  month_10  \\\n",
       "0         0.182241                   -0.229459    ...           0         0   \n",
       "1         0.182241                   -0.229459    ...           0         0   \n",
       "2         0.182241                    2.256046    ...           0         0   \n",
       "3         0.182241                    1.875571    ...           0         0   \n",
       "4         0.182241                    0.066623    ...           0         0   \n",
       "\n",
       "   month_11  month_12    201610    201611    201612    201710    201711  \\\n",
       "0         0         1  0.008743  0.008743  0.008743  0.008743  0.008743   \n",
       "1         0         1  0.008743  0.008743  0.008743  0.008743  0.008743   \n",
       "2         0         1  0.106546  0.106546  0.106546  0.106546  0.106546   \n",
       "3         0         1  0.012933  0.012933  0.012933  0.012933  0.012933   \n",
       "4         0         1  0.008490  0.008490  0.008490  0.008490  0.008490   \n",
       "\n",
       "     201712  \n",
       "0  0.008743  \n",
       "1  0.008743  \n",
       "2  0.106546  \n",
       "3  0.012933  \n",
       "4  0.008490  \n",
       "\n",
       "[5 rows x 59 columns]"
      ]
     },
     "execution_count": 617,
     "metadata": {},
     "output_type": "execute_result"
    }
   ],
   "source": [
    "dp.head()"
   ]
  },
  {
   "cell_type": "code",
   "execution_count": 618,
   "metadata": {
    "collapsed": true
   },
   "outputs": [],
   "source": [
    "#Finally creating the target CSV by dropping off unnecessary columns\n",
    "tdf = dp.copy()\n",
    "for i in list(tdf.columns):\n",
    "    if i in ['parcelid','201610','201611','201612','201710','201711','201712']:\n",
    "        continue\n",
    "    else:\n",
    "        #print('Dropped: ',i)\n",
    "        tdf=tdf.drop(i,1)"
   ]
  },
  {
   "cell_type": "code",
   "execution_count": 619,
   "metadata": {},
   "outputs": [
    {
     "data": {
      "text/html": [
       "<div>\n",
       "<style>\n",
       "    .dataframe thead tr:only-child th {\n",
       "        text-align: right;\n",
       "    }\n",
       "\n",
       "    .dataframe thead th {\n",
       "        text-align: left;\n",
       "    }\n",
       "\n",
       "    .dataframe tbody tr th {\n",
       "        vertical-align: top;\n",
       "    }\n",
       "</style>\n",
       "<table border=\"1\" class=\"dataframe\">\n",
       "  <thead>\n",
       "    <tr style=\"text-align: right;\">\n",
       "      <th></th>\n",
       "      <th>parcelid</th>\n",
       "      <th>201610</th>\n",
       "      <th>201611</th>\n",
       "      <th>201612</th>\n",
       "      <th>201710</th>\n",
       "      <th>201711</th>\n",
       "      <th>201712</th>\n",
       "    </tr>\n",
       "  </thead>\n",
       "  <tbody>\n",
       "    <tr>\n",
       "      <th>0</th>\n",
       "      <td>10754147</td>\n",
       "      <td>0.008743</td>\n",
       "      <td>0.008743</td>\n",
       "      <td>0.008743</td>\n",
       "      <td>0.008743</td>\n",
       "      <td>0.008743</td>\n",
       "      <td>0.008743</td>\n",
       "    </tr>\n",
       "    <tr>\n",
       "      <th>1</th>\n",
       "      <td>10759547</td>\n",
       "      <td>0.008743</td>\n",
       "      <td>0.008743</td>\n",
       "      <td>0.008743</td>\n",
       "      <td>0.008743</td>\n",
       "      <td>0.008743</td>\n",
       "      <td>0.008743</td>\n",
       "    </tr>\n",
       "    <tr>\n",
       "      <th>2</th>\n",
       "      <td>10843547</td>\n",
       "      <td>0.106546</td>\n",
       "      <td>0.106546</td>\n",
       "      <td>0.106546</td>\n",
       "      <td>0.106546</td>\n",
       "      <td>0.106546</td>\n",
       "      <td>0.106546</td>\n",
       "    </tr>\n",
       "    <tr>\n",
       "      <th>3</th>\n",
       "      <td>10859147</td>\n",
       "      <td>0.012933</td>\n",
       "      <td>0.012933</td>\n",
       "      <td>0.012933</td>\n",
       "      <td>0.012933</td>\n",
       "      <td>0.012933</td>\n",
       "      <td>0.012933</td>\n",
       "    </tr>\n",
       "    <tr>\n",
       "      <th>4</th>\n",
       "      <td>10879947</td>\n",
       "      <td>0.008490</td>\n",
       "      <td>0.008490</td>\n",
       "      <td>0.008490</td>\n",
       "      <td>0.008490</td>\n",
       "      <td>0.008490</td>\n",
       "      <td>0.008490</td>\n",
       "    </tr>\n",
       "  </tbody>\n",
       "</table>\n",
       "</div>"
      ],
      "text/plain": [
       "   parcelid    201610    201611    201612    201710    201711    201712\n",
       "0  10754147  0.008743  0.008743  0.008743  0.008743  0.008743  0.008743\n",
       "1  10759547  0.008743  0.008743  0.008743  0.008743  0.008743  0.008743\n",
       "2  10843547  0.106546  0.106546  0.106546  0.106546  0.106546  0.106546\n",
       "3  10859147  0.012933  0.012933  0.012933  0.012933  0.012933  0.012933\n",
       "4  10879947  0.008490  0.008490  0.008490  0.008490  0.008490  0.008490"
      ]
     },
     "execution_count": 619,
     "metadata": {},
     "output_type": "execute_result"
    }
   ],
   "source": [
    "tdf.head()"
   ]
  },
  {
   "cell_type": "markdown",
   "metadata": {},
   "source": [
    "The month of transaction turned out to be of very little significane, essentially 6 time points are equivalent for my modelling exercise."
   ]
  },
  {
   "cell_type": "code",
   "execution_count": 620,
   "metadata": {
    "collapsed": true
   },
   "outputs": [],
   "source": [
    "tdf.to_csv(\"c:/Users/ibipul/Documents/Python Scripts/datasets/zillow_data/prepd_submission_file.csv\",index=False)"
   ]
  },
  {
   "cell_type": "markdown",
   "metadata": {},
   "source": [
    "### Kaggle Submission score: 0.0650391 (v.1), 0.0650219 (v.2)\n"
   ]
  },
  {
   "cell_type": "code",
   "execution_count": null,
   "metadata": {
    "collapsed": true
   },
   "outputs": [],
   "source": []
  }
 ],
 "metadata": {
  "kernelspec": {
   "display_name": "Python 3",
   "language": "python",
   "name": "python3"
  },
  "language_info": {
   "codemirror_mode": {
    "name": "ipython",
    "version": 3
   },
   "file_extension": ".py",
   "mimetype": "text/x-python",
   "name": "python",
   "nbconvert_exporter": "python",
   "pygments_lexer": "ipython3",
   "version": "3.6.1"
  }
 },
 "nbformat": 4,
 "nbformat_minor": 2
}

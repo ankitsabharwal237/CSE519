{
 "cells": [
  {
   "cell_type": "code",
   "execution_count": 128,
   "metadata": {
    "collapsed": true
   },
   "outputs": [],
   "source": [
    "%matplotlib inline\n",
    "\n",
    "import pandas as pd\n",
    "import numpy as np\n",
    "import seaborn as sns\n",
    "import matplotlib.pyplot as plt"
   ]
  },
  {
   "cell_type": "code",
   "execution_count": 129,
   "metadata": {
    "collapsed": true
   },
   "outputs": [],
   "source": [
    "from collections import defaultdict"
   ]
  },
  {
   "cell_type": "code",
   "execution_count": 130,
   "metadata": {
    "collapsed": true
   },
   "outputs": [],
   "source": [
    "df = pd.read_csv(\"C://Users//ibipul//codes//datasets//Zillow_data//train_2016_v2.csv\")"
   ]
  },
  {
   "cell_type": "code",
   "execution_count": 131,
   "metadata": {
    "collapsed": true
   },
   "outputs": [],
   "source": [
    "dfp = pd.read_csv(\"C://Users//ibipul//codes//datasets//Zillow_data/properties_2016.csv\", low_memory = False)"
   ]
  },
  {
   "cell_type": "code",
   "execution_count": 132,
   "metadata": {
    "collapsed": true
   },
   "outputs": [],
   "source": [
    "df1 = pd.merge(df,dfp, on='parcelid')"
   ]
  },
  {
   "cell_type": "code",
   "execution_count": 133,
   "metadata": {},
   "outputs": [
    {
     "data": {
      "text/html": [
       "<div>\n",
       "<style>\n",
       "    .dataframe thead tr:only-child th {\n",
       "        text-align: right;\n",
       "    }\n",
       "\n",
       "    .dataframe thead th {\n",
       "        text-align: left;\n",
       "    }\n",
       "\n",
       "    .dataframe tbody tr th {\n",
       "        vertical-align: top;\n",
       "    }\n",
       "</style>\n",
       "<table border=\"1\" class=\"dataframe\">\n",
       "  <thead>\n",
       "    <tr style=\"text-align: right;\">\n",
       "      <th></th>\n",
       "      <th>parcelid</th>\n",
       "      <th>airconditioningtypeid</th>\n",
       "      <th>architecturalstyletypeid</th>\n",
       "      <th>basementsqft</th>\n",
       "      <th>bathroomcnt</th>\n",
       "      <th>bedroomcnt</th>\n",
       "      <th>buildingclasstypeid</th>\n",
       "      <th>buildingqualitytypeid</th>\n",
       "      <th>calculatedbathnbr</th>\n",
       "      <th>decktypeid</th>\n",
       "      <th>...</th>\n",
       "      <th>numberofstories</th>\n",
       "      <th>fireplaceflag</th>\n",
       "      <th>structuretaxvaluedollarcnt</th>\n",
       "      <th>taxvaluedollarcnt</th>\n",
       "      <th>assessmentyear</th>\n",
       "      <th>landtaxvaluedollarcnt</th>\n",
       "      <th>taxamount</th>\n",
       "      <th>taxdelinquencyflag</th>\n",
       "      <th>taxdelinquencyyear</th>\n",
       "      <th>censustractandblock</th>\n",
       "    </tr>\n",
       "  </thead>\n",
       "  <tbody>\n",
       "    <tr>\n",
       "      <th>0</th>\n",
       "      <td>10754147</td>\n",
       "      <td>NaN</td>\n",
       "      <td>NaN</td>\n",
       "      <td>NaN</td>\n",
       "      <td>0.0</td>\n",
       "      <td>0.0</td>\n",
       "      <td>NaN</td>\n",
       "      <td>NaN</td>\n",
       "      <td>NaN</td>\n",
       "      <td>NaN</td>\n",
       "      <td>...</td>\n",
       "      <td>NaN</td>\n",
       "      <td>NaN</td>\n",
       "      <td>NaN</td>\n",
       "      <td>9.0</td>\n",
       "      <td>2015.0</td>\n",
       "      <td>9.0</td>\n",
       "      <td>NaN</td>\n",
       "      <td>NaN</td>\n",
       "      <td>NaN</td>\n",
       "      <td>NaN</td>\n",
       "    </tr>\n",
       "    <tr>\n",
       "      <th>1</th>\n",
       "      <td>10759547</td>\n",
       "      <td>NaN</td>\n",
       "      <td>NaN</td>\n",
       "      <td>NaN</td>\n",
       "      <td>0.0</td>\n",
       "      <td>0.0</td>\n",
       "      <td>NaN</td>\n",
       "      <td>NaN</td>\n",
       "      <td>NaN</td>\n",
       "      <td>NaN</td>\n",
       "      <td>...</td>\n",
       "      <td>NaN</td>\n",
       "      <td>NaN</td>\n",
       "      <td>NaN</td>\n",
       "      <td>27516.0</td>\n",
       "      <td>2015.0</td>\n",
       "      <td>27516.0</td>\n",
       "      <td>NaN</td>\n",
       "      <td>NaN</td>\n",
       "      <td>NaN</td>\n",
       "      <td>NaN</td>\n",
       "    </tr>\n",
       "    <tr>\n",
       "      <th>2</th>\n",
       "      <td>10843547</td>\n",
       "      <td>NaN</td>\n",
       "      <td>NaN</td>\n",
       "      <td>NaN</td>\n",
       "      <td>0.0</td>\n",
       "      <td>0.0</td>\n",
       "      <td>NaN</td>\n",
       "      <td>NaN</td>\n",
       "      <td>NaN</td>\n",
       "      <td>NaN</td>\n",
       "      <td>...</td>\n",
       "      <td>NaN</td>\n",
       "      <td>NaN</td>\n",
       "      <td>650756.0</td>\n",
       "      <td>1413387.0</td>\n",
       "      <td>2015.0</td>\n",
       "      <td>762631.0</td>\n",
       "      <td>20800.37</td>\n",
       "      <td>NaN</td>\n",
       "      <td>NaN</td>\n",
       "      <td>NaN</td>\n",
       "    </tr>\n",
       "    <tr>\n",
       "      <th>3</th>\n",
       "      <td>10859147</td>\n",
       "      <td>NaN</td>\n",
       "      <td>NaN</td>\n",
       "      <td>NaN</td>\n",
       "      <td>0.0</td>\n",
       "      <td>0.0</td>\n",
       "      <td>3.0</td>\n",
       "      <td>7.0</td>\n",
       "      <td>NaN</td>\n",
       "      <td>NaN</td>\n",
       "      <td>...</td>\n",
       "      <td>1.0</td>\n",
       "      <td>NaN</td>\n",
       "      <td>571346.0</td>\n",
       "      <td>1156834.0</td>\n",
       "      <td>2015.0</td>\n",
       "      <td>585488.0</td>\n",
       "      <td>14557.57</td>\n",
       "      <td>NaN</td>\n",
       "      <td>NaN</td>\n",
       "      <td>NaN</td>\n",
       "    </tr>\n",
       "    <tr>\n",
       "      <th>4</th>\n",
       "      <td>10879947</td>\n",
       "      <td>NaN</td>\n",
       "      <td>NaN</td>\n",
       "      <td>NaN</td>\n",
       "      <td>0.0</td>\n",
       "      <td>0.0</td>\n",
       "      <td>4.0</td>\n",
       "      <td>NaN</td>\n",
       "      <td>NaN</td>\n",
       "      <td>NaN</td>\n",
       "      <td>...</td>\n",
       "      <td>NaN</td>\n",
       "      <td>NaN</td>\n",
       "      <td>193796.0</td>\n",
       "      <td>433491.0</td>\n",
       "      <td>2015.0</td>\n",
       "      <td>239695.0</td>\n",
       "      <td>5725.17</td>\n",
       "      <td>NaN</td>\n",
       "      <td>NaN</td>\n",
       "      <td>NaN</td>\n",
       "    </tr>\n",
       "  </tbody>\n",
       "</table>\n",
       "<p>5 rows × 58 columns</p>\n",
       "</div>"
      ],
      "text/plain": [
       "   parcelid  airconditioningtypeid  architecturalstyletypeid  basementsqft  \\\n",
       "0  10754147                    NaN                       NaN           NaN   \n",
       "1  10759547                    NaN                       NaN           NaN   \n",
       "2  10843547                    NaN                       NaN           NaN   \n",
       "3  10859147                    NaN                       NaN           NaN   \n",
       "4  10879947                    NaN                       NaN           NaN   \n",
       "\n",
       "   bathroomcnt  bedroomcnt  buildingclasstypeid  buildingqualitytypeid  \\\n",
       "0          0.0         0.0                  NaN                    NaN   \n",
       "1          0.0         0.0                  NaN                    NaN   \n",
       "2          0.0         0.0                  NaN                    NaN   \n",
       "3          0.0         0.0                  3.0                    7.0   \n",
       "4          0.0         0.0                  4.0                    NaN   \n",
       "\n",
       "   calculatedbathnbr  decktypeid         ...           numberofstories  \\\n",
       "0                NaN         NaN         ...                       NaN   \n",
       "1                NaN         NaN         ...                       NaN   \n",
       "2                NaN         NaN         ...                       NaN   \n",
       "3                NaN         NaN         ...                       1.0   \n",
       "4                NaN         NaN         ...                       NaN   \n",
       "\n",
       "   fireplaceflag  structuretaxvaluedollarcnt  taxvaluedollarcnt  \\\n",
       "0            NaN                         NaN                9.0   \n",
       "1            NaN                         NaN            27516.0   \n",
       "2            NaN                    650756.0          1413387.0   \n",
       "3            NaN                    571346.0          1156834.0   \n",
       "4            NaN                    193796.0           433491.0   \n",
       "\n",
       "   assessmentyear  landtaxvaluedollarcnt  taxamount  taxdelinquencyflag  \\\n",
       "0          2015.0                    9.0        NaN                 NaN   \n",
       "1          2015.0                27516.0        NaN                 NaN   \n",
       "2          2015.0               762631.0   20800.37                 NaN   \n",
       "3          2015.0               585488.0   14557.57                 NaN   \n",
       "4          2015.0               239695.0    5725.17                 NaN   \n",
       "\n",
       "   taxdelinquencyyear  censustractandblock  \n",
       "0                 NaN                  NaN  \n",
       "1                 NaN                  NaN  \n",
       "2                 NaN                  NaN  \n",
       "3                 NaN                  NaN  \n",
       "4                 NaN                  NaN  \n",
       "\n",
       "[5 rows x 58 columns]"
      ]
     },
     "execution_count": 133,
     "metadata": {},
     "output_type": "execute_result"
    }
   ],
   "source": [
    "dfp.head()"
   ]
  },
  {
   "cell_type": "code",
   "execution_count": 134,
   "metadata": {
    "collapsed": true
   },
   "outputs": [],
   "source": [
    "desirability_attributes = []\n",
    "key = ['parcelid']\n",
    "count_attributes = ['bedroomcnt','bathroomcnt']\n",
    "house_area_attributes = ['calculatedfinishedsquarefeet','lotsizesquarefeet']\n",
    "oldness_attribute = ['yearbuilt']\n",
    "monetary_attribute = ['structuretaxvaluedollarcnt']\n",
    "desirability_attributes = count_attributes + house_area_attributes + oldness_attribute + monetary_attribute\n",
    "all_attributes = key + desirability_attributes"
   ]
  },
  {
   "cell_type": "code",
   "execution_count": 135,
   "metadata": {
    "scrolled": false
   },
   "outputs": [],
   "source": [
    "dfr = dfp[all_attributes]"
   ]
  },
  {
   "cell_type": "code",
   "execution_count": 136,
   "metadata": {},
   "outputs": [
    {
     "data": {
      "text/html": [
       "<div>\n",
       "<style>\n",
       "    .dataframe thead tr:only-child th {\n",
       "        text-align: right;\n",
       "    }\n",
       "\n",
       "    .dataframe thead th {\n",
       "        text-align: left;\n",
       "    }\n",
       "\n",
       "    .dataframe tbody tr th {\n",
       "        vertical-align: top;\n",
       "    }\n",
       "</style>\n",
       "<table border=\"1\" class=\"dataframe\">\n",
       "  <thead>\n",
       "    <tr style=\"text-align: right;\">\n",
       "      <th></th>\n",
       "      <th>count</th>\n",
       "      <th>mean</th>\n",
       "      <th>std</th>\n",
       "      <th>min</th>\n",
       "      <th>25%</th>\n",
       "      <th>50%</th>\n",
       "      <th>75%</th>\n",
       "      <th>max</th>\n",
       "    </tr>\n",
       "  </thead>\n",
       "  <tbody>\n",
       "    <tr>\n",
       "      <th>bedroomcnt</th>\n",
       "      <td>2973767.0</td>\n",
       "      <td>3.088949</td>\n",
       "      <td>1.275859</td>\n",
       "      <td>0.0</td>\n",
       "      <td>2.0</td>\n",
       "      <td>3.0</td>\n",
       "      <td>4.0</td>\n",
       "      <td>20.0</td>\n",
       "    </tr>\n",
       "    <tr>\n",
       "      <th>bathroomcnt</th>\n",
       "      <td>2973755.0</td>\n",
       "      <td>2.209143</td>\n",
       "      <td>1.077754</td>\n",
       "      <td>0.0</td>\n",
       "      <td>2.0</td>\n",
       "      <td>2.0</td>\n",
       "      <td>3.0</td>\n",
       "      <td>20.0</td>\n",
       "    </tr>\n",
       "    <tr>\n",
       "      <th>calculatedfinishedsquarefeet</th>\n",
       "      <td>2929652.0</td>\n",
       "      <td>1827.162124</td>\n",
       "      <td>1819.780469</td>\n",
       "      <td>1.0</td>\n",
       "      <td>1213.0</td>\n",
       "      <td>1572.0</td>\n",
       "      <td>2136.0</td>\n",
       "      <td>952576.0</td>\n",
       "    </tr>\n",
       "    <tr>\n",
       "      <th>lotsizesquarefeet</th>\n",
       "      <td>2709118.0</td>\n",
       "      <td>22822.805528</td>\n",
       "      <td>337592.366408</td>\n",
       "      <td>100.0</td>\n",
       "      <td>5688.0</td>\n",
       "      <td>7000.0</td>\n",
       "      <td>9898.0</td>\n",
       "      <td>328263808.0</td>\n",
       "    </tr>\n",
       "    <tr>\n",
       "      <th>yearbuilt</th>\n",
       "      <td>2925289.0</td>\n",
       "      <td>1964.261641</td>\n",
       "      <td>23.441319</td>\n",
       "      <td>1801.0</td>\n",
       "      <td>1950.0</td>\n",
       "      <td>1963.0</td>\n",
       "      <td>1981.0</td>\n",
       "      <td>2015.0</td>\n",
       "    </tr>\n",
       "    <tr>\n",
       "      <th>structuretaxvaluedollarcnt</th>\n",
       "      <td>2930235.0</td>\n",
       "      <td>170883.577166</td>\n",
       "      <td>402068.342015</td>\n",
       "      <td>1.0</td>\n",
       "      <td>74800.0</td>\n",
       "      <td>122590.0</td>\n",
       "      <td>196889.0</td>\n",
       "      <td>251486000.0</td>\n",
       "    </tr>\n",
       "  </tbody>\n",
       "</table>\n",
       "</div>"
      ],
      "text/plain": [
       "                                  count           mean            std     min  \\\n",
       "bedroomcnt                    2973767.0       3.088949       1.275859     0.0   \n",
       "bathroomcnt                   2973755.0       2.209143       1.077754     0.0   \n",
       "calculatedfinishedsquarefeet  2929652.0    1827.162124    1819.780469     1.0   \n",
       "lotsizesquarefeet             2709118.0   22822.805528  337592.366408   100.0   \n",
       "yearbuilt                     2925289.0    1964.261641      23.441319  1801.0   \n",
       "structuretaxvaluedollarcnt    2930235.0  170883.577166  402068.342015     1.0   \n",
       "\n",
       "                                  25%       50%       75%          max  \n",
       "bedroomcnt                        2.0       3.0       4.0         20.0  \n",
       "bathroomcnt                       2.0       2.0       3.0         20.0  \n",
       "calculatedfinishedsquarefeet   1213.0    1572.0    2136.0     952576.0  \n",
       "lotsizesquarefeet              5688.0    7000.0    9898.0  328263808.0  \n",
       "yearbuilt                      1950.0    1963.0    1981.0       2015.0  \n",
       "structuretaxvaluedollarcnt    74800.0  122590.0  196889.0  251486000.0  "
      ]
     },
     "execution_count": 136,
     "metadata": {},
     "output_type": "execute_result"
    }
   ],
   "source": [
    "dfr[desirability_attributes].describe().transpose()"
   ]
  },
  {
   "cell_type": "code",
   "execution_count": 137,
   "metadata": {
    "collapsed": true
   },
   "outputs": [],
   "source": [
    "missing_df = dfr.isnull().sum(axis=0).reset_index()\n",
    "missing_df.columns = ['column_name', 'missing_count']\n",
    "missing_df = missing_df.loc[missing_df['missing_count']>0]\n",
    "missing_df = missing_df.sort_values(by='missing_count')"
   ]
  },
  {
   "cell_type": "code",
   "execution_count": 138,
   "metadata": {},
   "outputs": [
    {
     "data": {
      "text/html": [
       "<div>\n",
       "<style>\n",
       "    .dataframe thead tr:only-child th {\n",
       "        text-align: right;\n",
       "    }\n",
       "\n",
       "    .dataframe thead th {\n",
       "        text-align: left;\n",
       "    }\n",
       "\n",
       "    .dataframe tbody tr th {\n",
       "        vertical-align: top;\n",
       "    }\n",
       "</style>\n",
       "<table border=\"1\" class=\"dataframe\">\n",
       "  <thead>\n",
       "    <tr style=\"text-align: right;\">\n",
       "      <th></th>\n",
       "      <th>column_name</th>\n",
       "      <th>missing_count</th>\n",
       "    </tr>\n",
       "  </thead>\n",
       "  <tbody>\n",
       "    <tr>\n",
       "      <th>1</th>\n",
       "      <td>bedroomcnt</td>\n",
       "      <td>11450</td>\n",
       "    </tr>\n",
       "    <tr>\n",
       "      <th>2</th>\n",
       "      <td>bathroomcnt</td>\n",
       "      <td>11462</td>\n",
       "    </tr>\n",
       "    <tr>\n",
       "      <th>6</th>\n",
       "      <td>structuretaxvaluedollarcnt</td>\n",
       "      <td>54982</td>\n",
       "    </tr>\n",
       "    <tr>\n",
       "      <th>3</th>\n",
       "      <td>calculatedfinishedsquarefeet</td>\n",
       "      <td>55565</td>\n",
       "    </tr>\n",
       "    <tr>\n",
       "      <th>5</th>\n",
       "      <td>yearbuilt</td>\n",
       "      <td>59928</td>\n",
       "    </tr>\n",
       "    <tr>\n",
       "      <th>4</th>\n",
       "      <td>lotsizesquarefeet</td>\n",
       "      <td>276099</td>\n",
       "    </tr>\n",
       "  </tbody>\n",
       "</table>\n",
       "</div>"
      ],
      "text/plain": [
       "                    column_name  missing_count\n",
       "1                    bedroomcnt          11450\n",
       "2                   bathroomcnt          11462\n",
       "6    structuretaxvaluedollarcnt          54982\n",
       "3  calculatedfinishedsquarefeet          55565\n",
       "5                     yearbuilt          59928\n",
       "4             lotsizesquarefeet         276099"
      ]
     },
     "execution_count": 138,
     "metadata": {},
     "output_type": "execute_result"
    }
   ],
   "source": [
    "missing_df"
   ]
  },
  {
   "cell_type": "code",
   "execution_count": 139,
   "metadata": {
    "collapsed": true
   },
   "outputs": [],
   "source": [
    "dfr1 = dfr.dropna(axis=0, how='any')"
   ]
  },
  {
   "cell_type": "code",
   "execution_count": 140,
   "metadata": {},
   "outputs": [
    {
     "data": {
      "text/html": [
       "<div>\n",
       "<style>\n",
       "    .dataframe thead tr:only-child th {\n",
       "        text-align: right;\n",
       "    }\n",
       "\n",
       "    .dataframe thead th {\n",
       "        text-align: left;\n",
       "    }\n",
       "\n",
       "    .dataframe tbody tr th {\n",
       "        vertical-align: top;\n",
       "    }\n",
       "</style>\n",
       "<table border=\"1\" class=\"dataframe\">\n",
       "  <thead>\n",
       "    <tr style=\"text-align: right;\">\n",
       "      <th></th>\n",
       "      <th>count</th>\n",
       "      <th>mean</th>\n",
       "      <th>std</th>\n",
       "      <th>min</th>\n",
       "      <th>25%</th>\n",
       "      <th>50%</th>\n",
       "      <th>75%</th>\n",
       "      <th>max</th>\n",
       "    </tr>\n",
       "  </thead>\n",
       "  <tbody>\n",
       "    <tr>\n",
       "      <th>parcelid</th>\n",
       "      <td>2688057.0</td>\n",
       "      <td>1.280385e+07</td>\n",
       "      <td>2.413644e+06</td>\n",
       "      <td>10711725.0</td>\n",
       "      <td>11578096.0</td>\n",
       "      <td>12425993.0</td>\n",
       "      <td>13934696.0</td>\n",
       "      <td>163275886.0</td>\n",
       "    </tr>\n",
       "    <tr>\n",
       "      <th>bedroomcnt</th>\n",
       "      <td>2688057.0</td>\n",
       "      <td>3.229671e+00</td>\n",
       "      <td>1.181220e+00</td>\n",
       "      <td>0.0</td>\n",
       "      <td>3.0</td>\n",
       "      <td>3.0</td>\n",
       "      <td>4.0</td>\n",
       "      <td>20.0</td>\n",
       "    </tr>\n",
       "    <tr>\n",
       "      <th>bathroomcnt</th>\n",
       "      <td>2688057.0</td>\n",
       "      <td>2.275778e+00</td>\n",
       "      <td>1.041868e+00</td>\n",
       "      <td>0.0</td>\n",
       "      <td>2.0</td>\n",
       "      <td>2.0</td>\n",
       "      <td>3.0</td>\n",
       "      <td>20.0</td>\n",
       "    </tr>\n",
       "    <tr>\n",
       "      <th>calculatedfinishedsquarefeet</th>\n",
       "      <td>2688057.0</td>\n",
       "      <td>1.861594e+03</td>\n",
       "      <td>1.625765e+03</td>\n",
       "      <td>1.0</td>\n",
       "      <td>1238.0</td>\n",
       "      <td>1604.0</td>\n",
       "      <td>2188.0</td>\n",
       "      <td>952576.0</td>\n",
       "    </tr>\n",
       "    <tr>\n",
       "      <th>lotsizesquarefeet</th>\n",
       "      <td>2688057.0</td>\n",
       "      <td>2.258375e+04</td>\n",
       "      <td>3.377145e+05</td>\n",
       "      <td>104.0</td>\n",
       "      <td>5694.0</td>\n",
       "      <td>7000.0</td>\n",
       "      <td>9873.0</td>\n",
       "      <td>328263808.0</td>\n",
       "    </tr>\n",
       "    <tr>\n",
       "      <th>yearbuilt</th>\n",
       "      <td>2688057.0</td>\n",
       "      <td>1.962227e+03</td>\n",
       "      <td>2.285559e+01</td>\n",
       "      <td>1801.0</td>\n",
       "      <td>1949.0</td>\n",
       "      <td>1961.0</td>\n",
       "      <td>1979.0</td>\n",
       "      <td>2015.0</td>\n",
       "    </tr>\n",
       "    <tr>\n",
       "      <th>structuretaxvaluedollarcnt</th>\n",
       "      <td>2688057.0</td>\n",
       "      <td>1.705272e+05</td>\n",
       "      <td>2.814063e+05</td>\n",
       "      <td>1.0</td>\n",
       "      <td>75180.0</td>\n",
       "      <td>122831.0</td>\n",
       "      <td>197150.0</td>\n",
       "      <td>109192169.0</td>\n",
       "    </tr>\n",
       "  </tbody>\n",
       "</table>\n",
       "</div>"
      ],
      "text/plain": [
       "                                  count          mean           std  \\\n",
       "parcelid                      2688057.0  1.280385e+07  2.413644e+06   \n",
       "bedroomcnt                    2688057.0  3.229671e+00  1.181220e+00   \n",
       "bathroomcnt                   2688057.0  2.275778e+00  1.041868e+00   \n",
       "calculatedfinishedsquarefeet  2688057.0  1.861594e+03  1.625765e+03   \n",
       "lotsizesquarefeet             2688057.0  2.258375e+04  3.377145e+05   \n",
       "yearbuilt                     2688057.0  1.962227e+03  2.285559e+01   \n",
       "structuretaxvaluedollarcnt    2688057.0  1.705272e+05  2.814063e+05   \n",
       "\n",
       "                                     min         25%         50%         75%  \\\n",
       "parcelid                      10711725.0  11578096.0  12425993.0  13934696.0   \n",
       "bedroomcnt                           0.0         3.0         3.0         4.0   \n",
       "bathroomcnt                          0.0         2.0         2.0         3.0   \n",
       "calculatedfinishedsquarefeet         1.0      1238.0      1604.0      2188.0   \n",
       "lotsizesquarefeet                  104.0      5694.0      7000.0      9873.0   \n",
       "yearbuilt                         1801.0      1949.0      1961.0      1979.0   \n",
       "structuretaxvaluedollarcnt           1.0     75180.0    122831.0    197150.0   \n",
       "\n",
       "                                      max  \n",
       "parcelid                      163275886.0  \n",
       "bedroomcnt                           20.0  \n",
       "bathroomcnt                          20.0  \n",
       "calculatedfinishedsquarefeet     952576.0  \n",
       "lotsizesquarefeet             328263808.0  \n",
       "yearbuilt                          2015.0  \n",
       "structuretaxvaluedollarcnt    109192169.0  "
      ]
     },
     "execution_count": 140,
     "metadata": {},
     "output_type": "execute_result"
    }
   ],
   "source": [
    "dfr1[all_attributes].describe().transpose()"
   ]
  },
  {
   "cell_type": "code",
   "execution_count": 141,
   "metadata": {},
   "outputs": [
    {
     "data": {
      "text/plain": [
       "28"
      ]
     },
     "execution_count": 141,
     "metadata": {},
     "output_type": "execute_result"
    }
   ],
   "source": [
    "sum((dfr1['calculatedfinishedsquarefeet'] <20)*1)"
   ]
  },
  {
   "cell_type": "code",
   "execution_count": 142,
   "metadata": {
    "collapsed": true
   },
   "outputs": [],
   "source": [
    "# For other columns imputations don't make sense, as there are a range of values for which we might have junk numbers\n",
    "# Like some inspection showed there are cases where rooms are listed to have calculated finished sq foot of 1, or \n",
    "# structural tax of of 1 dollar. Often lot size, structural tax have ridiculously high values.\n",
    "# So I intend to drop bottom 5%ile and top 95%ile data to get rid of outliers rather than taking up\n",
    "# a hackneyed imputation\n",
    "count_cols = ['bedroomcnt','bathroomcnt']\n",
    "filter_by_percentile_cols = ['calculatedfinishedsquarefeet','lotsizesquarefeet', 'structuretaxvaluedollarcnt'] + count_cols\n"
   ]
  },
  {
   "cell_type": "code",
   "execution_count": 143,
   "metadata": {
    "collapsed": true
   },
   "outputs": [],
   "source": [
    "removal_band = 5\n",
    "quanitile_filter_dict = defaultdict()\n",
    "for col in filter_by_percentile_cols:\n",
    "    quanitile_filter_dict[col] = (np.percentile(dfr1[col],removal_band),np.percentile(dfr1[col],100 - removal_band))"
   ]
  },
  {
   "cell_type": "code",
   "execution_count": 144,
   "metadata": {},
   "outputs": [
    {
     "name": "stdout",
     "output_type": "stream",
     "text": [
      "Column:  calculatedfinishedsquarefeet  Drop below:  860.0  Drop Above:  3583.0\n",
      "Column:  lotsizesquarefeet  Drop below:  3200.0  Drop Above:  75658.0\n",
      "Column:  structuretaxvaluedollarcnt  Drop below:  31392.0  Drop Above:  432375.2\n",
      "Column:  bedroomcnt  Drop below:  2.0  Drop Above:  5.0\n",
      "Column:  bathroomcnt  Drop below:  1.0  Drop Above:  4.0\n"
     ]
    }
   ],
   "source": [
    "dfr2 = dfr1.copy()\n",
    "for key in quanitile_filter_dict.keys():\n",
    "    print('Column: ', key,' Drop below: ', quanitile_filter_dict[key][0],' Drop Above: ', quanitile_filter_dict[key][1])\n",
    "    dfr2 = dfr2[dfr2[key] > quanitile_filter_dict[key][0]]\n",
    "    dfr2 = dfr2[dfr2[key] < quanitile_filter_dict[key][1]]\n"
   ]
  },
  {
   "cell_type": "code",
   "execution_count": 145,
   "metadata": {},
   "outputs": [
    {
     "data": {
      "text/html": [
       "<div>\n",
       "<style>\n",
       "    .dataframe thead tr:only-child th {\n",
       "        text-align: right;\n",
       "    }\n",
       "\n",
       "    .dataframe thead th {\n",
       "        text-align: left;\n",
       "    }\n",
       "\n",
       "    .dataframe tbody tr th {\n",
       "        vertical-align: top;\n",
       "    }\n",
       "</style>\n",
       "<table border=\"1\" class=\"dataframe\">\n",
       "  <thead>\n",
       "    <tr style=\"text-align: right;\">\n",
       "      <th></th>\n",
       "      <th>column_name</th>\n",
       "      <th>missing_count</th>\n",
       "    </tr>\n",
       "  </thead>\n",
       "  <tbody>\n",
       "  </tbody>\n",
       "</table>\n",
       "</div>"
      ],
      "text/plain": [
       "Empty DataFrame\n",
       "Columns: [column_name, missing_count]\n",
       "Index: []"
      ]
     },
     "execution_count": 145,
     "metadata": {},
     "output_type": "execute_result"
    }
   ],
   "source": [
    "missing_df = dfr2.isnull().sum(axis=0).reset_index()\n",
    "missing_df.columns = ['column_name', 'missing_count']\n",
    "missing_df = missing_df.loc[missing_df['missing_count']>0]\n",
    "missing_df = missing_df.sort_values(by='missing_count')\n",
    "missing_df"
   ]
  },
  {
   "cell_type": "code",
   "execution_count": 146,
   "metadata": {},
   "outputs": [
    {
     "data": {
      "text/html": [
       "<div>\n",
       "<style>\n",
       "    .dataframe thead tr:only-child th {\n",
       "        text-align: right;\n",
       "    }\n",
       "\n",
       "    .dataframe thead th {\n",
       "        text-align: left;\n",
       "    }\n",
       "\n",
       "    .dataframe tbody tr th {\n",
       "        vertical-align: top;\n",
       "    }\n",
       "</style>\n",
       "<table border=\"1\" class=\"dataframe\">\n",
       "  <thead>\n",
       "    <tr style=\"text-align: right;\">\n",
       "      <th></th>\n",
       "      <th>count</th>\n",
       "      <th>mean</th>\n",
       "      <th>std</th>\n",
       "      <th>min</th>\n",
       "      <th>25%</th>\n",
       "      <th>50%</th>\n",
       "      <th>75%</th>\n",
       "      <th>max</th>\n",
       "    </tr>\n",
       "  </thead>\n",
       "  <tbody>\n",
       "    <tr>\n",
       "      <th>parcelid</th>\n",
       "      <td>1360701.0</td>\n",
       "      <td>1.300694e+07</td>\n",
       "      <td>2.554090e+06</td>\n",
       "      <td>10711725.0</td>\n",
       "      <td>11556686.0</td>\n",
       "      <td>12696274.0</td>\n",
       "      <td>14077908.0</td>\n",
       "      <td>163275886.0</td>\n",
       "    </tr>\n",
       "    <tr>\n",
       "      <th>bedroomcnt</th>\n",
       "      <td>1360701.0</td>\n",
       "      <td>3.422096e+00</td>\n",
       "      <td>4.938938e-01</td>\n",
       "      <td>3.0</td>\n",
       "      <td>3.0</td>\n",
       "      <td>3.0</td>\n",
       "      <td>4.0</td>\n",
       "      <td>4.0</td>\n",
       "    </tr>\n",
       "    <tr>\n",
       "      <th>bathroomcnt</th>\n",
       "      <td>1360701.0</td>\n",
       "      <td>2.323959e+00</td>\n",
       "      <td>4.634935e-01</td>\n",
       "      <td>1.5</td>\n",
       "      <td>2.0</td>\n",
       "      <td>2.0</td>\n",
       "      <td>3.0</td>\n",
       "      <td>3.5</td>\n",
       "    </tr>\n",
       "    <tr>\n",
       "      <th>calculatedfinishedsquarefeet</th>\n",
       "      <td>1360701.0</td>\n",
       "      <td>1.806830e+03</td>\n",
       "      <td>5.057303e+02</td>\n",
       "      <td>861.0</td>\n",
       "      <td>1420.0</td>\n",
       "      <td>1703.0</td>\n",
       "      <td>2108.0</td>\n",
       "      <td>3582.0</td>\n",
       "    </tr>\n",
       "    <tr>\n",
       "      <th>lotsizesquarefeet</th>\n",
       "      <td>1360701.0</td>\n",
       "      <td>8.887701e+03</td>\n",
       "      <td>7.449588e+03</td>\n",
       "      <td>3201.0</td>\n",
       "      <td>5985.0</td>\n",
       "      <td>7000.0</td>\n",
       "      <td>8650.0</td>\n",
       "      <td>75642.0</td>\n",
       "    </tr>\n",
       "    <tr>\n",
       "      <th>yearbuilt</th>\n",
       "      <td>1360701.0</td>\n",
       "      <td>1.964505e+03</td>\n",
       "      <td>1.952145e+01</td>\n",
       "      <td>1810.0</td>\n",
       "      <td>1954.0</td>\n",
       "      <td>1962.0</td>\n",
       "      <td>1978.0</td>\n",
       "      <td>2015.0</td>\n",
       "    </tr>\n",
       "    <tr>\n",
       "      <th>structuretaxvaluedollarcnt</th>\n",
       "      <td>1360701.0</td>\n",
       "      <td>1.469807e+05</td>\n",
       "      <td>8.090506e+04</td>\n",
       "      <td>31393.0</td>\n",
       "      <td>86000.0</td>\n",
       "      <td>129658.0</td>\n",
       "      <td>190205.0</td>\n",
       "      <td>432372.0</td>\n",
       "    </tr>\n",
       "  </tbody>\n",
       "</table>\n",
       "</div>"
      ],
      "text/plain": [
       "                                  count          mean           std  \\\n",
       "parcelid                      1360701.0  1.300694e+07  2.554090e+06   \n",
       "bedroomcnt                    1360701.0  3.422096e+00  4.938938e-01   \n",
       "bathroomcnt                   1360701.0  2.323959e+00  4.634935e-01   \n",
       "calculatedfinishedsquarefeet  1360701.0  1.806830e+03  5.057303e+02   \n",
       "lotsizesquarefeet             1360701.0  8.887701e+03  7.449588e+03   \n",
       "yearbuilt                     1360701.0  1.964505e+03  1.952145e+01   \n",
       "structuretaxvaluedollarcnt    1360701.0  1.469807e+05  8.090506e+04   \n",
       "\n",
       "                                     min         25%         50%         75%  \\\n",
       "parcelid                      10711725.0  11556686.0  12696274.0  14077908.0   \n",
       "bedroomcnt                           3.0         3.0         3.0         4.0   \n",
       "bathroomcnt                          1.5         2.0         2.0         3.0   \n",
       "calculatedfinishedsquarefeet       861.0      1420.0      1703.0      2108.0   \n",
       "lotsizesquarefeet                 3201.0      5985.0      7000.0      8650.0   \n",
       "yearbuilt                         1810.0      1954.0      1962.0      1978.0   \n",
       "structuretaxvaluedollarcnt       31393.0     86000.0    129658.0    190205.0   \n",
       "\n",
       "                                      max  \n",
       "parcelid                      163275886.0  \n",
       "bedroomcnt                            4.0  \n",
       "bathroomcnt                           3.5  \n",
       "calculatedfinishedsquarefeet       3582.0  \n",
       "lotsizesquarefeet                 75642.0  \n",
       "yearbuilt                          2015.0  \n",
       "structuretaxvaluedollarcnt       432372.0  "
      ]
     },
     "execution_count": 146,
     "metadata": {},
     "output_type": "execute_result"
    }
   ],
   "source": [
    "dfr2[all_attributes].describe().transpose()"
   ]
  },
  {
   "cell_type": "code",
   "execution_count": 147,
   "metadata": {
    "collapsed": true
   },
   "outputs": [],
   "source": [
    "# Desirablity:\n",
    "# More Bedrooms & bath rooms more desirable\n",
    "# More finished square footing and more lot area means more desirable\n",
    "# Buildings built later implies newer buildings, hence more desirable\n",
    "# Lower tax value means higher desirability"
   ]
  },
  {
   "cell_type": "code",
   "execution_count": 148,
   "metadata": {
    "collapsed": true
   },
   "outputs": [],
   "source": [
    "from scipy import stats"
   ]
  },
  {
   "cell_type": "code",
   "execution_count": 167,
   "metadata": {},
   "outputs": [],
   "source": [
    "ascending_desirability_columns = ['bedroomcnt','bathroomcnt','calculatedfinishedsquarefeet','lotsizesquarefeet', 'yearbuilt']\n",
    "descending_desirability_columns = ['structuretaxvaluedollarcnt']\n",
    "quantile_score_columns = ascending_desirability_columns + descending_desirability_columns\n",
    "parcel_ids = pd.DataFrame(dfr2['parcelid'])\n",
    "#all_columns= quantile_score_columns + ['parcelid']"
   ]
  },
  {
   "cell_type": "code",
   "execution_count": 168,
   "metadata": {},
   "outputs": [
    {
     "data": {
      "text/plain": [
       "(1360701, 1)"
      ]
     },
     "execution_count": 168,
     "metadata": {},
     "output_type": "execute_result"
    }
   ],
   "source": [
    "parcel_ids.shape"
   ]
  },
  {
   "cell_type": "code",
   "execution_count": 173,
   "metadata": {
    "collapsed": true
   },
   "outputs": [],
   "source": [
    "#parcel_id_list = pd.DataFrame(dfr2['parcelid'])\n",
    "# structuretaxvaluedollarcnt_score = pd.DataFrame(1 - (stats.rankdata(dfr2['structuretaxvaluedollarcnt'], \n",
    "#                                                                     \"average\")/len(dfr2['structuretaxvaluedollarcnt'])))\n",
    "# bedroomcnt_score = pd.DataFrame(stats.rankdata(dfr2['bedroomcnt'], \"average\")/len(dfr2['bedroomcnt']))\n",
    "# bathroomcnt_score = pd.DataFrame(stats.rankdata(dfr2['bathroomcnt'], \"average\")/len(dfr2['bathroomcnt']))\n",
    "# calculatedfinishedsquarefeet_score = pd.DataFrame(stats.rankdata(dfr2['calculatedfinishedsquarefeet'],\n",
    "#                                                                  \"average\")/len(dfr2['calculatedfinishedsquarefeet']))\n",
    "# lotsizesquarefeet_score = pd.DataFrame(stats.rankdata(dfr2['lotsizesquarefeet'], \"average\")/len(dfr2['lotsizesquarefeet']))\n",
    "# yearbuilt_score = pd.DataFrame(stats.rankdata(dfr2['yearbuilt'], \"average\")/len(dfr2['yearbuilt']))\n",
    "\n",
    "quantile_score_frame = pd.DataFrame({'structuretaxvaluedollarcnt_score': 1 - (stats.rankdata(dfr2['structuretaxvaluedollarcnt'], \n",
    "                                                                     \"average\")/len(dfr2['structuretaxvaluedollarcnt']))})\n",
    "score_names = []\n",
    "for col in ascending_desirability_columns:\n",
    "    quantile_score_frame[col+'_score'] = stats.rankdata(dfr2[col], \"average\")/len(dfr2[col])\n",
    "    score_names += [col + '_score']\n",
    "\n",
    "quantile_score_frame['parcelid'] = parcel_ids.iloc[:,0].values"
   ]
  },
  {
   "cell_type": "code",
   "execution_count": 174,
   "metadata": {},
   "outputs": [],
   "source": [
    "all_score_columns = score_names + ['parcelid']"
   ]
  },
  {
   "cell_type": "code",
   "execution_count": 175,
   "metadata": {},
   "outputs": [
    {
     "data": {
      "text/html": [
       "<div>\n",
       "<style>\n",
       "    .dataframe thead tr:only-child th {\n",
       "        text-align: right;\n",
       "    }\n",
       "\n",
       "    .dataframe thead th {\n",
       "        text-align: left;\n",
       "    }\n",
       "\n",
       "    .dataframe tbody tr th {\n",
       "        vertical-align: top;\n",
       "    }\n",
       "</style>\n",
       "<table border=\"1\" class=\"dataframe\">\n",
       "  <thead>\n",
       "    <tr style=\"text-align: right;\">\n",
       "      <th></th>\n",
       "      <th>column_name</th>\n",
       "      <th>missing_count</th>\n",
       "    </tr>\n",
       "  </thead>\n",
       "  <tbody>\n",
       "  </tbody>\n",
       "</table>\n",
       "</div>"
      ],
      "text/plain": [
       "Empty DataFrame\n",
       "Columns: [column_name, missing_count]\n",
       "Index: []"
      ]
     },
     "execution_count": 175,
     "metadata": {},
     "output_type": "execute_result"
    }
   ],
   "source": [
    "missing_df = quantile_score_frame.isnull().sum(axis=0).reset_index()\n",
    "missing_df.columns = ['column_name', 'missing_count']\n",
    "missing_df = missing_df.loc[missing_df['missing_count']>0]\n",
    "missing_df = missing_df.sort_values(by='missing_count')\n",
    "missing_df"
   ]
  },
  {
   "cell_type": "code",
   "execution_count": 176,
   "metadata": {},
   "outputs": [
    {
     "data": {
      "text/plain": [
       "(1360701, 1)"
      ]
     },
     "execution_count": 176,
     "metadata": {},
     "output_type": "execute_result"
    }
   ],
   "source": [
    "bathroomcnt_score.shape"
   ]
  },
  {
   "cell_type": "code",
   "execution_count": 178,
   "metadata": {},
   "outputs": [
    {
     "data": {
      "text/html": [
       "<div>\n",
       "<style>\n",
       "    .dataframe thead tr:only-child th {\n",
       "        text-align: right;\n",
       "    }\n",
       "\n",
       "    .dataframe thead th {\n",
       "        text-align: left;\n",
       "    }\n",
       "\n",
       "    .dataframe tbody tr th {\n",
       "        vertical-align: top;\n",
       "    }\n",
       "</style>\n",
       "<table border=\"1\" class=\"dataframe\">\n",
       "  <thead>\n",
       "    <tr style=\"text-align: right;\">\n",
       "      <th></th>\n",
       "      <th>count</th>\n",
       "      <th>mean</th>\n",
       "      <th>std</th>\n",
       "      <th>min</th>\n",
       "      <th>25%</th>\n",
       "      <th>50%</th>\n",
       "      <th>75%</th>\n",
       "      <th>max</th>\n",
       "    </tr>\n",
       "  </thead>\n",
       "  <tbody>\n",
       "    <tr>\n",
       "      <th>bedroomcnt_score</th>\n",
       "      <td>1360701.0</td>\n",
       "      <td>0.5</td>\n",
       "      <td>0.246947</td>\n",
       "      <td>2.889525e-01</td>\n",
       "      <td>0.288953</td>\n",
       "      <td>0.288953</td>\n",
       "      <td>0.788953</td>\n",
       "      <td>0.788953</td>\n",
       "    </tr>\n",
       "    <tr>\n",
       "      <th>bathroomcnt_score</th>\n",
       "      <td>1360701.0</td>\n",
       "      <td>0.5</td>\n",
       "      <td>0.248375</td>\n",
       "      <td>6.786575e-03</td>\n",
       "      <td>0.323210</td>\n",
       "      <td>0.323210</td>\n",
       "      <td>0.852832</td>\n",
       "      <td>0.996159</td>\n",
       "    </tr>\n",
       "    <tr>\n",
       "      <th>calculatedfinishedsquarefeet_score</th>\n",
       "      <td>1360701.0</td>\n",
       "      <td>0.5</td>\n",
       "      <td>0.288675</td>\n",
       "      <td>1.837288e-06</td>\n",
       "      <td>0.250549</td>\n",
       "      <td>0.499819</td>\n",
       "      <td>0.749928</td>\n",
       "      <td>0.999997</td>\n",
       "    </tr>\n",
       "    <tr>\n",
       "      <th>lotsizesquarefeet_score</th>\n",
       "      <td>1360701.0</td>\n",
       "      <td>0.5</td>\n",
       "      <td>0.288672</td>\n",
       "      <td>1.139119e-05</td>\n",
       "      <td>0.249859</td>\n",
       "      <td>0.497400</td>\n",
       "      <td>0.750004</td>\n",
       "      <td>1.000000</td>\n",
       "    </tr>\n",
       "    <tr>\n",
       "      <th>yearbuilt_score</th>\n",
       "      <td>1360701.0</td>\n",
       "      <td>0.5</td>\n",
       "      <td>0.288611</td>\n",
       "      <td>7.349153e-07</td>\n",
       "      <td>0.262850</td>\n",
       "      <td>0.492928</td>\n",
       "      <td>0.757544</td>\n",
       "      <td>0.999989</td>\n",
       "    </tr>\n",
       "  </tbody>\n",
       "</table>\n",
       "</div>"
      ],
      "text/plain": [
       "                                        count  mean       std           min  \\\n",
       "bedroomcnt_score                    1360701.0   0.5  0.246947  2.889525e-01   \n",
       "bathroomcnt_score                   1360701.0   0.5  0.248375  6.786575e-03   \n",
       "calculatedfinishedsquarefeet_score  1360701.0   0.5  0.288675  1.837288e-06   \n",
       "lotsizesquarefeet_score             1360701.0   0.5  0.288672  1.139119e-05   \n",
       "yearbuilt_score                     1360701.0   0.5  0.288611  7.349153e-07   \n",
       "\n",
       "                                         25%       50%       75%       max  \n",
       "bedroomcnt_score                    0.288953  0.288953  0.788953  0.788953  \n",
       "bathroomcnt_score                   0.323210  0.323210  0.852832  0.996159  \n",
       "calculatedfinishedsquarefeet_score  0.250549  0.499819  0.749928  0.999997  \n",
       "lotsizesquarefeet_score             0.249859  0.497400  0.750004  1.000000  \n",
       "yearbuilt_score                     0.262850  0.492928  0.757544  0.999989  "
      ]
     },
     "execution_count": 178,
     "metadata": {},
     "output_type": "execute_result"
    }
   ],
   "source": [
    "quantile_score_frame[score_names].describe().transpose()"
   ]
  },
  {
   "cell_type": "code",
   "execution_count": 179,
   "metadata": {},
   "outputs": [
    {
     "data": {
      "text/html": [
       "<div>\n",
       "<style>\n",
       "    .dataframe thead tr:only-child th {\n",
       "        text-align: right;\n",
       "    }\n",
       "\n",
       "    .dataframe thead th {\n",
       "        text-align: left;\n",
       "    }\n",
       "\n",
       "    .dataframe tbody tr th {\n",
       "        vertical-align: top;\n",
       "    }\n",
       "</style>\n",
       "<table border=\"1\" class=\"dataframe\">\n",
       "  <thead>\n",
       "    <tr style=\"text-align: right;\">\n",
       "      <th></th>\n",
       "      <th>bedroomcnt_score</th>\n",
       "      <th>bathroomcnt_score</th>\n",
       "      <th>calculatedfinishedsquarefeet_score</th>\n",
       "      <th>lotsizesquarefeet_score</th>\n",
       "      <th>yearbuilt_score</th>\n",
       "      <th>parcelid</th>\n",
       "    </tr>\n",
       "  </thead>\n",
       "  <tbody>\n",
       "    <tr>\n",
       "      <th>0</th>\n",
       "      <td>0.288953</td>\n",
       "      <td>0.323210</td>\n",
       "      <td>0.735119</td>\n",
       "      <td>0.395742</td>\n",
       "      <td>0.041892</td>\n",
       "      <td>11585547</td>\n",
       "    </tr>\n",
       "    <tr>\n",
       "      <th>1</th>\n",
       "      <td>0.788953</td>\n",
       "      <td>0.323210</td>\n",
       "      <td>0.656840</td>\n",
       "      <td>0.164248</td>\n",
       "      <td>0.375079</td>\n",
       "      <td>11759947</td>\n",
       "    </tr>\n",
       "    <tr>\n",
       "      <th>2</th>\n",
       "      <td>0.288953</td>\n",
       "      <td>0.852832</td>\n",
       "      <td>0.775931</td>\n",
       "      <td>0.959389</td>\n",
       "      <td>0.984010</td>\n",
       "      <td>12606547</td>\n",
       "    </tr>\n",
       "    <tr>\n",
       "      <th>3</th>\n",
       "      <td>0.288953</td>\n",
       "      <td>0.323210</td>\n",
       "      <td>0.148551</td>\n",
       "      <td>0.075224</td>\n",
       "      <td>0.171228</td>\n",
       "      <td>12757147</td>\n",
       "    </tr>\n",
       "    <tr>\n",
       "      <th>4</th>\n",
       "      <td>0.288953</td>\n",
       "      <td>0.323210</td>\n",
       "      <td>0.087150</td>\n",
       "      <td>0.176444</td>\n",
       "      <td>0.191573</td>\n",
       "      <td>12757947</td>\n",
       "    </tr>\n",
       "  </tbody>\n",
       "</table>\n",
       "</div>"
      ],
      "text/plain": [
       "   bedroomcnt_score  bathroomcnt_score  calculatedfinishedsquarefeet_score  \\\n",
       "0          0.288953           0.323210                            0.735119   \n",
       "1          0.788953           0.323210                            0.656840   \n",
       "2          0.288953           0.852832                            0.775931   \n",
       "3          0.288953           0.323210                            0.148551   \n",
       "4          0.288953           0.323210                            0.087150   \n",
       "\n",
       "   lotsizesquarefeet_score  yearbuilt_score  parcelid  \n",
       "0                 0.395742         0.041892  11585547  \n",
       "1                 0.164248         0.375079  11759947  \n",
       "2                 0.959389         0.984010  12606547  \n",
       "3                 0.075224         0.171228  12757147  \n",
       "4                 0.176444         0.191573  12757947  "
      ]
     },
     "execution_count": 179,
     "metadata": {},
     "output_type": "execute_result"
    }
   ],
   "source": [
    "quantile_score_frame[all_score_columns].head(5)"
   ]
  },
  {
   "cell_type": "code",
   "execution_count": 181,
   "metadata": {
    "scrolled": false
   },
   "outputs": [
    {
     "data": {
      "text/html": [
       "<div>\n",
       "<style>\n",
       "    .dataframe thead tr:only-child th {\n",
       "        text-align: right;\n",
       "    }\n",
       "\n",
       "    .dataframe thead th {\n",
       "        text-align: left;\n",
       "    }\n",
       "\n",
       "    .dataframe tbody tr th {\n",
       "        vertical-align: top;\n",
       "    }\n",
       "</style>\n",
       "<table border=\"1\" class=\"dataframe\">\n",
       "  <thead>\n",
       "    <tr style=\"text-align: right;\">\n",
       "      <th></th>\n",
       "      <th>column_name</th>\n",
       "      <th>missing_count</th>\n",
       "    </tr>\n",
       "  </thead>\n",
       "  <tbody>\n",
       "  </tbody>\n",
       "</table>\n",
       "</div>"
      ],
      "text/plain": [
       "Empty DataFrame\n",
       "Columns: [column_name, missing_count]\n",
       "Index: []"
      ]
     },
     "execution_count": 181,
     "metadata": {},
     "output_type": "execute_result"
    }
   ],
   "source": [
    "X = quantile_score_frame[score_names]\n",
    "missing_df = X.isnull().sum(axis=0).reset_index()\n",
    "missing_df.columns = ['column_name', 'missing_count']\n",
    "missing_df = missing_df.loc[missing_df['missing_count']>0]\n",
    "missing_df = missing_df.sort_values(by='missing_count')\n",
    "missing_df          "
   ]
  },
  {
   "cell_type": "code",
   "execution_count": 182,
   "metadata": {},
   "outputs": [
    {
     "data": {
      "text/plain": [
       "PCA(copy=True, iterated_power='auto', n_components=2, random_state=None,\n",
       "  svd_solver='auto', tol=0.0, whiten=False)"
      ]
     },
     "execution_count": 182,
     "metadata": {},
     "output_type": "execute_result"
    }
   ],
   "source": [
    "# Generating combination coifficients using PCA\n",
    "from sklearn.decomposition import PCA\n",
    "pca = PCA(n_components=2)\n",
    "pca.fit(X)"
   ]
  },
  {
   "cell_type": "code",
   "execution_count": 183,
   "metadata": {},
   "outputs": [
    {
     "data": {
      "text/html": [
       "<div>\n",
       "<style>\n",
       "    .dataframe thead tr:only-child th {\n",
       "        text-align: right;\n",
       "    }\n",
       "\n",
       "    .dataframe thead th {\n",
       "        text-align: left;\n",
       "    }\n",
       "\n",
       "    .dataframe tbody tr th {\n",
       "        vertical-align: top;\n",
       "    }\n",
       "</style>\n",
       "<table border=\"1\" class=\"dataframe\">\n",
       "  <thead>\n",
       "    <tr style=\"text-align: right;\">\n",
       "      <th></th>\n",
       "      <th>0</th>\n",
       "    </tr>\n",
       "  </thead>\n",
       "  <tbody>\n",
       "    <tr>\n",
       "      <th>0</th>\n",
       "      <td>0.315227</td>\n",
       "    </tr>\n",
       "    <tr>\n",
       "      <th>1</th>\n",
       "      <td>0.497906</td>\n",
       "    </tr>\n",
       "    <tr>\n",
       "      <th>2</th>\n",
       "      <td>0.626557</td>\n",
       "    </tr>\n",
       "    <tr>\n",
       "      <th>3</th>\n",
       "      <td>0.228665</td>\n",
       "    </tr>\n",
       "    <tr>\n",
       "      <th>4</th>\n",
       "      <td>0.455916</td>\n",
       "    </tr>\n",
       "  </tbody>\n",
       "</table>\n",
       "</div>"
      ],
      "text/plain": [
       "          0\n",
       "0  0.315227\n",
       "1  0.497906\n",
       "2  0.626557\n",
       "3  0.228665\n",
       "4  0.455916"
      ]
     },
     "execution_count": 183,
     "metadata": {},
     "output_type": "execute_result"
    }
   ],
   "source": [
    "combination_coefficients = pd.DataFrame(pca.components_[0]) \n",
    "# Eigen Vector of PC1, Linear combination but with PC1 components 1xn form\n",
    "combination_coefficients"
   ]
  },
  {
   "cell_type": "code",
   "execution_count": 184,
   "metadata": {
    "collapsed": true
   },
   "outputs": [],
   "source": [
    "# def linear_combination(row,coeffs = combination_coefficients):\n",
    "#     score = 0\n",
    "#     for i in range(len(coeffs)):\n",
    "#         score += row[i]*coeffs[i]\n",
    "#     return score\n",
    "#quantile_score_frame =quantile_score_frame.drop('tentative_score',1)\n",
    "tentative_score = np.dot(quantile_score_frame[score_names], combination_coefficients)"
   ]
  },
  {
   "cell_type": "code",
   "execution_count": 186,
   "metadata": {},
   "outputs": [],
   "source": [
    "quantile_score_frame['tentative_score'] = tentative_score"
   ]
  },
  {
   "cell_type": "code",
   "execution_count": 254,
   "metadata": {
    "collapsed": true
   },
   "outputs": [],
   "source": [
    "#quantile_score_frame['tentative_score'] = pd.DataFrame(tentative_score)"
   ]
  },
  {
   "cell_type": "code",
   "execution_count": 187,
   "metadata": {},
   "outputs": [
    {
     "data": {
      "text/html": [
       "<div>\n",
       "<style>\n",
       "    .dataframe thead tr:only-child th {\n",
       "        text-align: right;\n",
       "    }\n",
       "\n",
       "    .dataframe thead th {\n",
       "        text-align: left;\n",
       "    }\n",
       "\n",
       "    .dataframe tbody tr th {\n",
       "        vertical-align: top;\n",
       "    }\n",
       "</style>\n",
       "<table border=\"1\" class=\"dataframe\">\n",
       "  <thead>\n",
       "    <tr style=\"text-align: right;\">\n",
       "      <th></th>\n",
       "      <th>column_name</th>\n",
       "      <th>missing_count</th>\n",
       "    </tr>\n",
       "  </thead>\n",
       "  <tbody>\n",
       "  </tbody>\n",
       "</table>\n",
       "</div>"
      ],
      "text/plain": [
       "Empty DataFrame\n",
       "Columns: [column_name, missing_count]\n",
       "Index: []"
      ]
     },
     "execution_count": 187,
     "metadata": {},
     "output_type": "execute_result"
    }
   ],
   "source": [
    "\n",
    "missing_df = quantile_score_frame.isnull().sum(axis=0).reset_index()\n",
    "missing_df.columns = ['column_name', 'missing_count']\n",
    "missing_df = missing_df.loc[missing_df['missing_count']>0]\n",
    "missing_df = missing_df.sort_values(by='missing_count')\n",
    "missing_df"
   ]
  },
  {
   "cell_type": "code",
   "execution_count": 192,
   "metadata": {},
   "outputs": [
    {
     "data": {
      "image/png": "[encoded data removed]",
      "text/plain": [
       "<matplotlib.figure.Figure at 0x1712312a240>"
      ]
     },
     "metadata": {},
     "output_type": "display_data"
    }
   ],
   "source": [
    "#plt.xlim(xmin=-.5, xmax = 2)\n",
    "#plt.ylim(ymin=0,ymax=2000000)\n",
    "x=plt.hist(quantile_score_frame['tentative_score'],bins=100)"
   ]
  },
  {
   "cell_type": "code",
   "execution_count": 189,
   "metadata": {},
   "outputs": [
    {
     "data": {
      "text/html": [
       "<div>\n",
       "<style>\n",
       "    .dataframe thead tr:only-child th {\n",
       "        text-align: right;\n",
       "    }\n",
       "\n",
       "    .dataframe thead th {\n",
       "        text-align: left;\n",
       "    }\n",
       "\n",
       "    .dataframe tbody tr th {\n",
       "        vertical-align: top;\n",
       "    }\n",
       "</style>\n",
       "<table border=\"1\" class=\"dataframe\">\n",
       "  <thead>\n",
       "    <tr style=\"text-align: right;\">\n",
       "      <th></th>\n",
       "      <th>structuretaxvaluedollarcnt_score</th>\n",
       "      <th>bedroomcnt_score</th>\n",
       "      <th>bathroomcnt_score</th>\n",
       "      <th>calculatedfinishedsquarefeet_score</th>\n",
       "      <th>lotsizesquarefeet_score</th>\n",
       "      <th>yearbuilt_score</th>\n",
       "      <th>parcelid</th>\n",
       "      <th>tentative_score</th>\n",
       "    </tr>\n",
       "  </thead>\n",
       "  <tbody>\n",
       "    <tr>\n",
       "      <th>0</th>\n",
       "      <td>0.203687</td>\n",
       "      <td>0.288953</td>\n",
       "      <td>0.323210</td>\n",
       "      <td>0.735119</td>\n",
       "      <td>0.395742</td>\n",
       "      <td>0.041892</td>\n",
       "      <td>11585547</td>\n",
       "      <td>0.822199</td>\n",
       "    </tr>\n",
       "    <tr>\n",
       "      <th>1</th>\n",
       "      <td>0.535923</td>\n",
       "      <td>0.788953</td>\n",
       "      <td>0.323210</td>\n",
       "      <td>0.656840</td>\n",
       "      <td>0.164248</td>\n",
       "      <td>0.375079</td>\n",
       "      <td>11759947</td>\n",
       "      <td>1.029738</td>\n",
       "    </tr>\n",
       "    <tr>\n",
       "      <th>2</th>\n",
       "      <td>0.019898</td>\n",
       "      <td>0.288953</td>\n",
       "      <td>0.852832</td>\n",
       "      <td>0.775931</td>\n",
       "      <td>0.959389</td>\n",
       "      <td>0.984010</td>\n",
       "      <td>12606547</td>\n",
       "      <td>1.669886</td>\n",
       "    </tr>\n",
       "    <tr>\n",
       "      <th>3</th>\n",
       "      <td>0.805760</td>\n",
       "      <td>0.288953</td>\n",
       "      <td>0.323210</td>\n",
       "      <td>0.148551</td>\n",
       "      <td>0.075224</td>\n",
       "      <td>0.171228</td>\n",
       "      <td>12757147</td>\n",
       "      <td>0.440356</td>\n",
       "    </tr>\n",
       "    <tr>\n",
       "      <th>4</th>\n",
       "      <td>0.573477</td>\n",
       "      <td>0.288953</td>\n",
       "      <td>0.323210</td>\n",
       "      <td>0.087150</td>\n",
       "      <td>0.176444</td>\n",
       "      <td>0.191573</td>\n",
       "      <td>12757947</td>\n",
       "      <td>0.434306</td>\n",
       "    </tr>\n",
       "  </tbody>\n",
       "</table>\n",
       "</div>"
      ],
      "text/plain": [
       "   structuretaxvaluedollarcnt_score  bedroomcnt_score  bathroomcnt_score  \\\n",
       "0                          0.203687          0.288953           0.323210   \n",
       "1                          0.535923          0.788953           0.323210   \n",
       "2                          0.019898          0.288953           0.852832   \n",
       "3                          0.805760          0.288953           0.323210   \n",
       "4                          0.573477          0.288953           0.323210   \n",
       "\n",
       "   calculatedfinishedsquarefeet_score  lotsizesquarefeet_score  \\\n",
       "0                            0.735119                 0.395742   \n",
       "1                            0.656840                 0.164248   \n",
       "2                            0.775931                 0.959389   \n",
       "3                            0.148551                 0.075224   \n",
       "4                            0.087150                 0.176444   \n",
       "\n",
       "   yearbuilt_score  parcelid  tentative_score  \n",
       "0         0.041892  11585547         0.822199  \n",
       "1         0.375079  11759947         1.029738  \n",
       "2         0.984010  12606547         1.669886  \n",
       "3         0.171228  12757147         0.440356  \n",
       "4         0.191573  12757947         0.434306  "
      ]
     },
     "execution_count": 189,
     "metadata": {},
     "output_type": "execute_result"
    }
   ],
   "source": [
    "quantile_score_frame.head()"
   ]
  },
  {
   "cell_type": "code",
   "execution_count": 27,
   "metadata": {
    "collapsed": true
   },
   "outputs": [],
   "source": [
    "df['relative_error']=100*(np.exp(df['logerror']) - 1)\n",
    "df['sq_rel_error']=df['relative_error'].apply(lambda x: x**2)\n",
    "df['month'] = df['transactiondate'].apply(lambda x:  int(x.split('-')[1]))"
   ]
  },
  {
   "cell_type": "code",
   "execution_count": 5,
   "metadata": {},
   "outputs": [
    {
     "data": {
      "text/plain": [
       "[<matplotlib.lines.Line2D at 0x28859ce6470>]"
      ]
     },
     "execution_count": 5,
     "metadata": {},
     "output_type": "execute_result"
    },
    {
     "data": {
      "image/png": "[encoded data removed]",
      "text/plain": [
       "<matplotlib.figure.Figure at 0x2885e290a20>"
      ]
     },
     "metadata": {},
     "output_type": "display_data"
    }
   ],
   "source": [
    "plt.plot(df['relative_error'].quantile([i/100 for i in range(0,100, 1)]),[i/100 for i in range(0,100, 1)])"
   ]
  },
  {
   "cell_type": "code",
   "execution_count": 6,
   "metadata": {
    "scrolled": false
   },
   "outputs": [
    {
     "data": {
      "image/png": "[encoded data removed]",
      "text/plain": [
       "<matplotlib.figure.Figure at 0x2885e694f60>"
      ]
     },
     "metadata": {},
     "output_type": "display_data"
    }
   ],
   "source": [
    "plt.xlim(xmin=-100, xmax = +100)\n",
    "plt.ylim(ymin=0,ymax=10000)\n",
    "x=plt.hist(df['relative_error'],bins=10000)"
   ]
  },
  {
   "cell_type": "code",
   "execution_count": 7,
   "metadata": {},
   "outputs": [
    {
     "data": {
      "image/png": "[encoded data removed]",
      "text/plain": [
       "<matplotlib.figure.Figure at 0x2885e7111d0>"
      ]
     },
     "metadata": {},
     "output_type": "display_data"
    }
   ],
   "source": [
    "plt.xlim(xmin=-1, xmax = +1)\n",
    "plt.ylim(ymin=0,ymax=10000)\n",
    "x=plt.hist(df['logerror'],bins=1000)"
   ]
  },
  {
   "cell_type": "code",
   "execution_count": 8,
   "metadata": {},
   "outputs": [
    {
     "data": {
      "text/plain": [
       "<matplotlib.axes._subplots.AxesSubplot at 0x2886d4a1b70>"
      ]
     },
     "execution_count": 8,
     "metadata": {},
     "output_type": "execute_result"
    },
    {
     "data": {
      "image/png": "[encoded data removed]",
      "text/plain": [
       "<matplotlib.figure.Figure at 0x2885a8a6780>"
      ]
     },
     "metadata": {},
     "output_type": "display_data"
    }
   ],
   "source": [
    "sns.regplot(x='month', y='relative_error', data=df)"
   ]
  },
  {
   "cell_type": "code",
   "execution_count": 37,
   "metadata": {
    "collapsed": true
   },
   "outputs": [],
   "source": [
    "grouped_means_error = df.groupby(['month'])['relative_error'].mean()/100\n",
    "grouped_means_sqerror = df.groupby(['month'])['sq_rel_error'].mean()/10000"
   ]
  },
  {
   "cell_type": "code",
   "execution_count": 38,
   "metadata": {
    "collapsed": true
   },
   "outputs": [],
   "source": [
    "temp = pd.DataFrame(data = {'month':df.month.unique(), 'sum_rel_err':grouped_means, 'sum_rel_sq_error':grouped_means_sqerror})"
   ]
  },
  {
   "cell_type": "code",
   "execution_count": 39,
   "metadata": {},
   "outputs": [
    {
     "data": {
      "text/html": [
       "<div>\n",
       "<style>\n",
       "    .dataframe thead tr:only-child th {\n",
       "        text-align: right;\n",
       "    }\n",
       "\n",
       "    .dataframe thead th {\n",
       "        text-align: left;\n",
       "    }\n",
       "\n",
       "    .dataframe tbody tr th {\n",
       "        vertical-align: top;\n",
       "    }\n",
       "</style>\n",
       "<table border=\"1\" class=\"dataframe\">\n",
       "  <thead>\n",
       "    <tr style=\"text-align: right;\">\n",
       "      <th></th>\n",
       "      <th>count</th>\n",
       "      <th>mean</th>\n",
       "      <th>std</th>\n",
       "      <th>min</th>\n",
       "      <th>25%</th>\n",
       "      <th>50%</th>\n",
       "      <th>75%</th>\n",
       "      <th>max</th>\n",
       "    </tr>\n",
       "  </thead>\n",
       "  <tbody>\n",
       "    <tr>\n",
       "      <th>month</th>\n",
       "      <td>12.0</td>\n",
       "      <td>6.500000</td>\n",
       "      <td>3.605551</td>\n",
       "      <td>1.000000</td>\n",
       "      <td>3.750000</td>\n",
       "      <td>6.500000</td>\n",
       "      <td>9.250000</td>\n",
       "      <td>12.000000</td>\n",
       "    </tr>\n",
       "    <tr>\n",
       "      <th>sum_rel_err</th>\n",
       "      <td>12.0</td>\n",
       "      <td>3.422602</td>\n",
       "      <td>1.192347</td>\n",
       "      <td>2.051949</td>\n",
       "      <td>2.888415</td>\n",
       "      <td>3.392092</td>\n",
       "      <td>3.634139</td>\n",
       "      <td>6.701986</td>\n",
       "    </tr>\n",
       "    <tr>\n",
       "      <th>sum_rel_sq_error</th>\n",
       "      <td>12.0</td>\n",
       "      <td>0.526148</td>\n",
       "      <td>0.842839</td>\n",
       "      <td>0.034417</td>\n",
       "      <td>0.111446</td>\n",
       "      <td>0.185107</td>\n",
       "      <td>0.343913</td>\n",
       "      <td>2.770870</td>\n",
       "    </tr>\n",
       "  </tbody>\n",
       "</table>\n",
       "</div>"
      ],
      "text/plain": [
       "                  count      mean       std       min       25%       50%  \\\n",
       "month              12.0  6.500000  3.605551  1.000000  3.750000  6.500000   \n",
       "sum_rel_err        12.0  3.422602  1.192347  2.051949  2.888415  3.392092   \n",
       "sum_rel_sq_error   12.0  0.526148  0.842839  0.034417  0.111446  0.185107   \n",
       "\n",
       "                       75%        max  \n",
       "month             9.250000  12.000000  \n",
       "sum_rel_err       3.634139   6.701986  \n",
       "sum_rel_sq_error  0.343913   2.770870  "
      ]
     },
     "execution_count": 39,
     "metadata": {},
     "output_type": "execute_result"
    }
   ],
   "source": [
    "temp.describe().transpose()"
   ]
  },
  {
   "cell_type": "code",
   "execution_count": 8,
   "metadata": {},
   "outputs": [
    {
     "data": {
      "text/html": [
       "<div>\n",
       "<style>\n",
       "    .dataframe thead tr:only-child th {\n",
       "        text-align: right;\n",
       "    }\n",
       "\n",
       "    .dataframe thead th {\n",
       "        text-align: left;\n",
       "    }\n",
       "\n",
       "    .dataframe tbody tr th {\n",
       "        vertical-align: top;\n",
       "    }\n",
       "</style>\n",
       "<table border=\"1\" class=\"dataframe\">\n",
       "  <thead>\n",
       "    <tr style=\"text-align: right;\">\n",
       "      <th></th>\n",
       "      <th>parcelid</th>\n",
       "      <th>logerror</th>\n",
       "      <th>transactiondate</th>\n",
       "      <th>airconditioningtypeid</th>\n",
       "      <th>architecturalstyletypeid</th>\n",
       "      <th>basementsqft</th>\n",
       "      <th>bathroomcnt</th>\n",
       "      <th>bedroomcnt</th>\n",
       "      <th>buildingclasstypeid</th>\n",
       "      <th>buildingqualitytypeid</th>\n",
       "      <th>...</th>\n",
       "      <th>numberofstories</th>\n",
       "      <th>fireplaceflag</th>\n",
       "      <th>structuretaxvaluedollarcnt</th>\n",
       "      <th>taxvaluedollarcnt</th>\n",
       "      <th>assessmentyear</th>\n",
       "      <th>landtaxvaluedollarcnt</th>\n",
       "      <th>taxamount</th>\n",
       "      <th>taxdelinquencyflag</th>\n",
       "      <th>taxdelinquencyyear</th>\n",
       "      <th>censustractandblock</th>\n",
       "    </tr>\n",
       "  </thead>\n",
       "  <tbody>\n",
       "    <tr>\n",
       "      <th>0</th>\n",
       "      <td>11016594</td>\n",
       "      <td>0.0276</td>\n",
       "      <td>2016-01-01</td>\n",
       "      <td>1.0</td>\n",
       "      <td>NaN</td>\n",
       "      <td>NaN</td>\n",
       "      <td>2.0</td>\n",
       "      <td>3.0</td>\n",
       "      <td>NaN</td>\n",
       "      <td>4.0</td>\n",
       "      <td>...</td>\n",
       "      <td>NaN</td>\n",
       "      <td>NaN</td>\n",
       "      <td>122754.0</td>\n",
       "      <td>360170.0</td>\n",
       "      <td>2015.0</td>\n",
       "      <td>237416.0</td>\n",
       "      <td>6735.88</td>\n",
       "      <td>NaN</td>\n",
       "      <td>NaN</td>\n",
       "      <td>6.037107e+13</td>\n",
       "    </tr>\n",
       "    <tr>\n",
       "      <th>1</th>\n",
       "      <td>14366692</td>\n",
       "      <td>-0.1684</td>\n",
       "      <td>2016-01-01</td>\n",
       "      <td>NaN</td>\n",
       "      <td>NaN</td>\n",
       "      <td>NaN</td>\n",
       "      <td>3.5</td>\n",
       "      <td>4.0</td>\n",
       "      <td>NaN</td>\n",
       "      <td>NaN</td>\n",
       "      <td>...</td>\n",
       "      <td>NaN</td>\n",
       "      <td>NaN</td>\n",
       "      <td>346458.0</td>\n",
       "      <td>585529.0</td>\n",
       "      <td>2015.0</td>\n",
       "      <td>239071.0</td>\n",
       "      <td>10153.02</td>\n",
       "      <td>NaN</td>\n",
       "      <td>NaN</td>\n",
       "      <td>NaN</td>\n",
       "    </tr>\n",
       "    <tr>\n",
       "      <th>2</th>\n",
       "      <td>12098116</td>\n",
       "      <td>-0.0040</td>\n",
       "      <td>2016-01-01</td>\n",
       "      <td>1.0</td>\n",
       "      <td>NaN</td>\n",
       "      <td>NaN</td>\n",
       "      <td>3.0</td>\n",
       "      <td>2.0</td>\n",
       "      <td>NaN</td>\n",
       "      <td>4.0</td>\n",
       "      <td>...</td>\n",
       "      <td>NaN</td>\n",
       "      <td>NaN</td>\n",
       "      <td>61994.0</td>\n",
       "      <td>119906.0</td>\n",
       "      <td>2015.0</td>\n",
       "      <td>57912.0</td>\n",
       "      <td>11484.48</td>\n",
       "      <td>NaN</td>\n",
       "      <td>NaN</td>\n",
       "      <td>6.037464e+13</td>\n",
       "    </tr>\n",
       "    <tr>\n",
       "      <th>3</th>\n",
       "      <td>12643413</td>\n",
       "      <td>0.0218</td>\n",
       "      <td>2016-01-02</td>\n",
       "      <td>1.0</td>\n",
       "      <td>NaN</td>\n",
       "      <td>NaN</td>\n",
       "      <td>2.0</td>\n",
       "      <td>2.0</td>\n",
       "      <td>NaN</td>\n",
       "      <td>4.0</td>\n",
       "      <td>...</td>\n",
       "      <td>NaN</td>\n",
       "      <td>NaN</td>\n",
       "      <td>171518.0</td>\n",
       "      <td>244880.0</td>\n",
       "      <td>2015.0</td>\n",
       "      <td>73362.0</td>\n",
       "      <td>3048.74</td>\n",
       "      <td>NaN</td>\n",
       "      <td>NaN</td>\n",
       "      <td>6.037296e+13</td>\n",
       "    </tr>\n",
       "    <tr>\n",
       "      <th>4</th>\n",
       "      <td>14432541</td>\n",
       "      <td>-0.0050</td>\n",
       "      <td>2016-01-02</td>\n",
       "      <td>NaN</td>\n",
       "      <td>NaN</td>\n",
       "      <td>NaN</td>\n",
       "      <td>2.5</td>\n",
       "      <td>4.0</td>\n",
       "      <td>NaN</td>\n",
       "      <td>NaN</td>\n",
       "      <td>...</td>\n",
       "      <td>2.0</td>\n",
       "      <td>NaN</td>\n",
       "      <td>169574.0</td>\n",
       "      <td>434551.0</td>\n",
       "      <td>2015.0</td>\n",
       "      <td>264977.0</td>\n",
       "      <td>5488.96</td>\n",
       "      <td>NaN</td>\n",
       "      <td>NaN</td>\n",
       "      <td>6.059042e+13</td>\n",
       "    </tr>\n",
       "  </tbody>\n",
       "</table>\n",
       "<p>5 rows × 60 columns</p>\n",
       "</div>"
      ],
      "text/plain": [
       "   parcelid  logerror transactiondate  airconditioningtypeid  \\\n",
       "0  11016594    0.0276      2016-01-01                    1.0   \n",
       "1  14366692   -0.1684      2016-01-01                    NaN   \n",
       "2  12098116   -0.0040      2016-01-01                    1.0   \n",
       "3  12643413    0.0218      2016-01-02                    1.0   \n",
       "4  14432541   -0.0050      2016-01-02                    NaN   \n",
       "\n",
       "   architecturalstyletypeid  basementsqft  bathroomcnt  bedroomcnt  \\\n",
       "0                       NaN           NaN          2.0         3.0   \n",
       "1                       NaN           NaN          3.5         4.0   \n",
       "2                       NaN           NaN          3.0         2.0   \n",
       "3                       NaN           NaN          2.0         2.0   \n",
       "4                       NaN           NaN          2.5         4.0   \n",
       "\n",
       "   buildingclasstypeid  buildingqualitytypeid         ...           \\\n",
       "0                  NaN                    4.0         ...            \n",
       "1                  NaN                    NaN         ...            \n",
       "2                  NaN                    4.0         ...            \n",
       "3                  NaN                    4.0         ...            \n",
       "4                  NaN                    NaN         ...            \n",
       "\n",
       "   numberofstories  fireplaceflag  structuretaxvaluedollarcnt  \\\n",
       "0              NaN            NaN                    122754.0   \n",
       "1              NaN            NaN                    346458.0   \n",
       "2              NaN            NaN                     61994.0   \n",
       "3              NaN            NaN                    171518.0   \n",
       "4              2.0            NaN                    169574.0   \n",
       "\n",
       "   taxvaluedollarcnt  assessmentyear  landtaxvaluedollarcnt  taxamount  \\\n",
       "0           360170.0          2015.0               237416.0    6735.88   \n",
       "1           585529.0          2015.0               239071.0   10153.02   \n",
       "2           119906.0          2015.0                57912.0   11484.48   \n",
       "3           244880.0          2015.0                73362.0    3048.74   \n",
       "4           434551.0          2015.0               264977.0    5488.96   \n",
       "\n",
       "   taxdelinquencyflag  taxdelinquencyyear  censustractandblock  \n",
       "0                 NaN                 NaN         6.037107e+13  \n",
       "1                 NaN                 NaN                  NaN  \n",
       "2                 NaN                 NaN         6.037464e+13  \n",
       "3                 NaN                 NaN         6.037296e+13  \n",
       "4                 NaN                 NaN         6.059042e+13  \n",
       "\n",
       "[5 rows x 60 columns]"
      ]
     },
     "execution_count": 8,
     "metadata": {},
     "output_type": "execute_result"
    }
   ],
   "source": [
    "df1.head()"
   ]
  },
  {
   "cell_type": "code",
   "execution_count": null,
   "metadata": {
    "collapsed": true
   },
   "outputs": [],
   "source": []
  }
 ],
 "metadata": {
  "kernelspec": {
   "display_name": "Python 3",
   "language": "python",
   "name": "python3"
  },
  "language_info": {
   "codemirror_mode": {
    "name": "ipython",
    "version": 3
   },
   "file_extension": ".py",
   "mimetype": "text/x-python",
   "name": "python",
   "nbconvert_exporter": "python",
   "pygments_lexer": "ipython3",
   "version": "3.6.1"
  }
 },
 "nbformat": 4,
 "nbformat_minor": 2
}

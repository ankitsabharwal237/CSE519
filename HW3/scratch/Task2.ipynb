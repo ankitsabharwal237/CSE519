{
 "cells": [
  {
   "cell_type": "markdown",
   "metadata": {},
   "source": [
    "## Choosing a Distance metric\n",
    "    - This task requires us to figure out a distance metric between properties\n",
    "    - The features should have:\n",
    "        - property specific variables-- bathroom, bedroom counts, finished living area, year built, and structure tax.\n",
    "        - location specific data: Latitude and longitude\n",
    "### The Distance metric I am choosing is Mahalanobis distance\n",
    "    - This is an improvement over the Eucleadian distance, as Eucledian distance gives equal importance to all features\n",
    "    - Mahalanobis distance uses the covariance matrix of the data to normalise them\n",
    "    \n",
    "### Evaluation Process\n",
    "    - Group A: 3 of the top 10 houses were chosen from the top 10 houses list of Task 1,\n",
    "        - that were built around the same time 2000's, \n",
    "        - taxes close to eachother,\n",
    "        - similar home configurations\n",
    "        - similar square footage of living area\n",
    "    - Group B: 3 of the bottom 10 houses were chosen from bottom 10 houses of of Task 1.\n",
    "        which were much older, and had similar properties as described above.\n",
    "        \n",
    "    - A pairwise distance evaluation was run on the two groups stacked together.\n",
    "    \n",
    "### Results\n",
    "    - Houses in group A had similar small distance among eachother (<1)\n",
    "    - Houses in group B had small distance among eachother\n",
    "    - Group A house to Group B house distance was >= 3"
   ]
  },
  {
   "cell_type": "code",
   "execution_count": 1,
   "metadata": {
    "collapsed": true
   },
   "outputs": [],
   "source": [
    "%matplotlib inline\n",
    "\n",
    "import pandas as pd\n",
    "import numpy as np\n",
    "import seaborn as sns\n",
    "import matplotlib.pyplot as plt"
   ]
  },
  {
   "cell_type": "code",
   "execution_count": 2,
   "metadata": {
    "collapsed": true
   },
   "outputs": [],
   "source": [
    "from collections import defaultdict"
   ]
  },
  {
   "cell_type": "code",
   "execution_count": 3,
   "metadata": {
    "collapsed": true
   },
   "outputs": [],
   "source": [
    "df = pd.read_csv(\"C://Users//ibipul//codes//datasets//Zillow_data//train_2016_v2.csv\")"
   ]
  },
  {
   "cell_type": "code",
   "execution_count": 4,
   "metadata": {
    "collapsed": true
   },
   "outputs": [],
   "source": [
    "dfp = pd.read_csv(\"C://Users//ibipul//codes//datasets//Zillow_data/properties_2016.csv\", low_memory = False)"
   ]
  },
  {
   "cell_type": "markdown",
   "metadata": {},
   "source": [
    "### Choice of attributes\n",
    "    - Attributes chosen are similar as Task 1, \n",
    "    - Only latitude and longitude are being added to bring in the geographical favour"
   ]
  },
  {
   "cell_type": "code",
   "execution_count": 51,
   "metadata": {
    "collapsed": true
   },
   "outputs": [],
   "source": [
    "distance_attributes = []\n",
    "key = ['parcelid']\n",
    "latlong = ['latitude', 'longitude']\n",
    "count_attributes = ['bedroomcnt','bathroomcnt']\n",
    "house_area_attributes = ['calculatedfinishedsquarefeet']\n",
    "oldness_attribute = ['yearbuilt']\n",
    "monetary_attribute = ['structuretaxvaluedollarcnt']\n",
    "distance_attributes = latlong + count_attributes + house_area_attributes + oldness_attribute + monetary_attribute\n",
    "all_attributes = key + distance_attributes"
   ]
  },
  {
   "cell_type": "code",
   "execution_count": 52,
   "metadata": {
    "collapsed": true
   },
   "outputs": [],
   "source": [
    "dfr = dfp[all_attributes]"
   ]
  },
  {
   "cell_type": "code",
   "execution_count": 54,
   "metadata": {},
   "outputs": [
    {
     "data": {
      "text/plain": [
       "(2985217, 8)"
      ]
     },
     "execution_count": 54,
     "metadata": {},
     "output_type": "execute_result"
    }
   ],
   "source": [
    "dfr.shape"
   ]
  },
  {
   "cell_type": "code",
   "execution_count": 40,
   "metadata": {},
   "outputs": [
    {
     "data": {
      "text/html": [
       "<div>\n",
       "<style>\n",
       "    .dataframe thead tr:only-child th {\n",
       "        text-align: right;\n",
       "    }\n",
       "\n",
       "    .dataframe thead th {\n",
       "        text-align: left;\n",
       "    }\n",
       "\n",
       "    .dataframe tbody tr th {\n",
       "        vertical-align: top;\n",
       "    }\n",
       "</style>\n",
       "<table border=\"1\" class=\"dataframe\">\n",
       "  <thead>\n",
       "    <tr style=\"text-align: right;\">\n",
       "      <th></th>\n",
       "      <th>column_name</th>\n",
       "      <th>missing_count</th>\n",
       "    </tr>\n",
       "  </thead>\n",
       "  <tbody>\n",
       "    <tr>\n",
       "      <th>1</th>\n",
       "      <td>latitude</td>\n",
       "      <td>11437</td>\n",
       "    </tr>\n",
       "    <tr>\n",
       "      <th>2</th>\n",
       "      <td>longitude</td>\n",
       "      <td>11437</td>\n",
       "    </tr>\n",
       "    <tr>\n",
       "      <th>3</th>\n",
       "      <td>bedroomcnt</td>\n",
       "      <td>11450</td>\n",
       "    </tr>\n",
       "    <tr>\n",
       "      <th>4</th>\n",
       "      <td>bathroomcnt</td>\n",
       "      <td>11462</td>\n",
       "    </tr>\n",
       "    <tr>\n",
       "      <th>7</th>\n",
       "      <td>structuretaxvaluedollarcnt</td>\n",
       "      <td>54982</td>\n",
       "    </tr>\n",
       "    <tr>\n",
       "      <th>5</th>\n",
       "      <td>calculatedfinishedsquarefeet</td>\n",
       "      <td>55565</td>\n",
       "    </tr>\n",
       "    <tr>\n",
       "      <th>6</th>\n",
       "      <td>yearbuilt</td>\n",
       "      <td>59928</td>\n",
       "    </tr>\n",
       "  </tbody>\n",
       "</table>\n",
       "</div>"
      ],
      "text/plain": [
       "                    column_name  missing_count\n",
       "1                      latitude          11437\n",
       "2                     longitude          11437\n",
       "3                    bedroomcnt          11450\n",
       "4                   bathroomcnt          11462\n",
       "7    structuretaxvaluedollarcnt          54982\n",
       "5  calculatedfinishedsquarefeet          55565\n",
       "6                     yearbuilt          59928"
      ]
     },
     "execution_count": 40,
     "metadata": {},
     "output_type": "execute_result"
    }
   ],
   "source": [
    "## Testing out the missing data stats\n",
    "missing_df = dfr.isnull().sum(axis=0).reset_index()\n",
    "missing_df.columns = ['column_name', 'missing_count']\n",
    "missing_df = missing_df.loc[missing_df['missing_count']>0]\n",
    "missing_df = missing_df.sort_values(by='missing_count')\n",
    "missing_df"
   ]
  },
  {
   "cell_type": "code",
   "execution_count": 55,
   "metadata": {},
   "outputs": [],
   "source": [
    "## It suffices to just drop the NaNs \n",
    "#as we will just be testing out the distance in a controlled manner in this example.\n",
    "dfr = dfr.dropna(how='any',axis=0)"
   ]
  },
  {
   "cell_type": "code",
   "execution_count": 58,
   "metadata": {},
   "outputs": [
    {
     "data": {
      "text/html": [
       "<div>\n",
       "<style>\n",
       "    .dataframe thead tr:only-child th {\n",
       "        text-align: right;\n",
       "    }\n",
       "\n",
       "    .dataframe thead th {\n",
       "        text-align: left;\n",
       "    }\n",
       "\n",
       "    .dataframe tbody tr th {\n",
       "        vertical-align: top;\n",
       "    }\n",
       "</style>\n",
       "<table border=\"1\" class=\"dataframe\">\n",
       "  <thead>\n",
       "    <tr style=\"text-align: right;\">\n",
       "      <th></th>\n",
       "      <th>latitude</th>\n",
       "      <th>longitude</th>\n",
       "      <th>bedroomcnt</th>\n",
       "      <th>bathroomcnt</th>\n",
       "      <th>calculatedfinishedsquarefeet</th>\n",
       "      <th>yearbuilt</th>\n",
       "      <th>structuretaxvaluedollarcnt</th>\n",
       "    </tr>\n",
       "  </thead>\n",
       "  <tbody>\n",
       "    <tr>\n",
       "      <th>3</th>\n",
       "      <td>34148863.0</td>\n",
       "      <td>-118437206.0</td>\n",
       "      <td>0.0</td>\n",
       "      <td>0.0</td>\n",
       "      <td>5068.0</td>\n",
       "      <td>1948.0</td>\n",
       "      <td>571346.0</td>\n",
       "    </tr>\n",
       "    <tr>\n",
       "      <th>4</th>\n",
       "      <td>34194168.0</td>\n",
       "      <td>-118385816.0</td>\n",
       "      <td>0.0</td>\n",
       "      <td>0.0</td>\n",
       "      <td>1776.0</td>\n",
       "      <td>1947.0</td>\n",
       "      <td>193796.0</td>\n",
       "    </tr>\n",
       "    <tr>\n",
       "      <th>5</th>\n",
       "      <td>34171873.0</td>\n",
       "      <td>-118380906.0</td>\n",
       "      <td>0.0</td>\n",
       "      <td>0.0</td>\n",
       "      <td>2400.0</td>\n",
       "      <td>1943.0</td>\n",
       "      <td>176383.0</td>\n",
       "    </tr>\n",
       "    <tr>\n",
       "      <th>7</th>\n",
       "      <td>34171345.0</td>\n",
       "      <td>-118314900.0</td>\n",
       "      <td>0.0</td>\n",
       "      <td>0.0</td>\n",
       "      <td>3611.0</td>\n",
       "      <td>1946.0</td>\n",
       "      <td>101998.0</td>\n",
       "    </tr>\n",
       "    <tr>\n",
       "      <th>9</th>\n",
       "      <td>34289776.0</td>\n",
       "      <td>-118432085.0</td>\n",
       "      <td>0.0</td>\n",
       "      <td>0.0</td>\n",
       "      <td>3754.0</td>\n",
       "      <td>1978.0</td>\n",
       "      <td>218440.0</td>\n",
       "    </tr>\n",
       "  </tbody>\n",
       "</table>\n",
       "</div>"
      ],
      "text/plain": [
       "     latitude    longitude  bedroomcnt  bathroomcnt  \\\n",
       "3  34148863.0 -118437206.0         0.0          0.0   \n",
       "4  34194168.0 -118385816.0         0.0          0.0   \n",
       "5  34171873.0 -118380906.0         0.0          0.0   \n",
       "7  34171345.0 -118314900.0         0.0          0.0   \n",
       "9  34289776.0 -118432085.0         0.0          0.0   \n",
       "\n",
       "   calculatedfinishedsquarefeet  yearbuilt  structuretaxvaluedollarcnt  \n",
       "3                        5068.0     1948.0                    571346.0  \n",
       "4                        1776.0     1947.0                    193796.0  \n",
       "5                        2400.0     1943.0                    176383.0  \n",
       "7                        3611.0     1946.0                    101998.0  \n",
       "9                        3754.0     1978.0                    218440.0  "
      ]
     },
     "execution_count": 58,
     "metadata": {},
     "output_type": "execute_result"
    }
   ],
   "source": [
    "dfr[distance_attributes].head()"
   ]
  },
  {
   "cell_type": "markdown",
   "metadata": {},
   "source": [
    "### Distance metric\n",
    "    - Here we set up the mahalanobis distance metric using sklearn\n",
    "    - The covariance matrix of data has to be computed and passed to the\n",
    "    get_metric() function as a parameter."
   ]
  },
  {
   "cell_type": "code",
   "execution_count": 59,
   "metadata": {
    "collapsed": true
   },
   "outputs": [],
   "source": [
    "from sklearn.neighbors import DistanceMetric"
   ]
  },
  {
   "cell_type": "code",
   "execution_count": 69,
   "metadata": {},
   "outputs": [],
   "source": [
    "dist_m = DistanceMetric.get_metric('mahalanobis', V=np.cov(dfr[distance_attributes].T))"
   ]
  },
  {
   "cell_type": "code",
   "execution_count": 70,
   "metadata": {},
   "outputs": [
    {
     "data": {
      "text/plain": [
       "array([[  5.86461153e+10,  -4.82392648e+10,   9.31523517e+03,\n",
       "          3.57923331e+03,  -5.48357979e+05,  -6.42482701e+04,\n",
       "          8.76025720e+07],\n",
       "       [ -4.82392648e+10,   1.17725406e+11,   4.18600570e+03,\n",
       "         -3.20486989e+03,  -6.50499067e+06,   5.12519113e+05,\n",
       "         -4.24304022e+09],\n",
       "       [  9.31523517e+03,   4.18600570e+03,   1.40799919e+00,\n",
       "          8.03598938e-01,   5.69965726e+02,   1.97101711e+00,\n",
       "          6.47479144e+04],\n",
       "       [  3.57923331e+03,  -3.20486989e+03,   8.03598938e-01,\n",
       "          1.05903059e+00,   6.66080529e+02,   8.59484629e+00,\n",
       "          1.17718192e+05],\n",
       "       [ -5.48357979e+05,  -6.50499067e+06,   5.69965726e+02,\n",
       "          6.66080529e+02,   3.27077151e+06,   5.03292533e+03,\n",
       "          3.97151210e+08],\n",
       "       [ -6.42482701e+04,   5.12519113e+05,   1.97101711e+00,\n",
       "          8.59484629e+00,   5.03292533e+03,   5.48738320e+02,\n",
       "          1.51187923e+06],\n",
       "       [  8.76025720e+07,  -4.24304022e+09,   6.47479144e+04,\n",
       "          1.17718192e+05,   3.97151210e+08,   1.51187923e+06,\n",
       "          1.21867064e+11]])"
      ]
     },
     "execution_count": 70,
     "metadata": {},
     "output_type": "execute_result"
    }
   ],
   "source": [
    "# Following is the 7x7 covariance matrix\n",
    "V"
   ]
  },
  {
   "cell_type": "markdown",
   "metadata": {},
   "source": [
    "### Evaluation\n",
    "    - First we get the list of top 10 and bottom 10 houses we obtained in previous task\n",
    "    - We acquire corresponding subsets"
   ]
  },
  {
   "cell_type": "code",
   "execution_count": 71,
   "metadata": {
    "collapsed": true
   },
   "outputs": [],
   "source": [
    "top_10_house_ids = [14202712,17257315,14145142,17300511,14201457,14232873,17051508,14144920,17264250,17263523]"
   ]
  },
  {
   "cell_type": "code",
   "execution_count": 72,
   "metadata": {
    "collapsed": true
   },
   "outputs": [],
   "source": [
    "bottom_10_house_ids = [14132206,17066219,17097563,14404129,13878336,13893976,17070566,14118787,13839592,13951584]"
   ]
  },
  {
   "cell_type": "code",
   "execution_count": 77,
   "metadata": {
    "collapsed": true
   },
   "outputs": [],
   "source": [
    "top_10_houses = dfr[dfr['parcelid'].isin(top_10_house_ids)]"
   ]
  },
  {
   "cell_type": "code",
   "execution_count": 78,
   "metadata": {},
   "outputs": [],
   "source": [
    "bottom_10_houses = dfr[dfr['parcelid'].isin(bottom_10_house_ids)]"
   ]
  },
  {
   "cell_type": "markdown",
   "metadata": {},
   "source": [
    "    - Top 3 houses of top 10 houses &\n",
    "    - Bottom 3 houses of bottom 10 houses are chosen for the test"
   ]
  },
  {
   "cell_type": "code",
   "execution_count": 114,
   "metadata": {
    "collapsed": true
   },
   "outputs": [],
   "source": [
    "from sklearn.metrics.pairwise import pairwise_distances"
   ]
  },
  {
   "cell_type": "code",
   "execution_count": 108,
   "metadata": {},
   "outputs": [],
   "source": [
    "house_mix = top_10_houses[:3].append(bottom_10_houses[7:10])"
   ]
  },
  {
   "cell_type": "code",
   "execution_count": 109,
   "metadata": {},
   "outputs": [
    {
     "data": {
      "text/html": [
       "<div>\n",
       "<style>\n",
       "    .dataframe thead tr:only-child th {\n",
       "        text-align: right;\n",
       "    }\n",
       "\n",
       "    .dataframe thead th {\n",
       "        text-align: left;\n",
       "    }\n",
       "\n",
       "    .dataframe tbody tr th {\n",
       "        vertical-align: top;\n",
       "    }\n",
       "</style>\n",
       "<table border=\"1\" class=\"dataframe\">\n",
       "  <thead>\n",
       "    <tr style=\"text-align: right;\">\n",
       "      <th></th>\n",
       "      <th>parcelid</th>\n",
       "      <th>latitude</th>\n",
       "      <th>longitude</th>\n",
       "      <th>bedroomcnt</th>\n",
       "      <th>bathroomcnt</th>\n",
       "      <th>calculatedfinishedsquarefeet</th>\n",
       "      <th>yearbuilt</th>\n",
       "      <th>structuretaxvaluedollarcnt</th>\n",
       "    </tr>\n",
       "  </thead>\n",
       "  <tbody>\n",
       "    <tr>\n",
       "      <th>457881</th>\n",
       "      <td>14202712</td>\n",
       "      <td>33895303.0</td>\n",
       "      <td>-117730832.0</td>\n",
       "      <td>4.0</td>\n",
       "      <td>3.5</td>\n",
       "      <td>3431.0</td>\n",
       "      <td>2009.0</td>\n",
       "      <td>418848.0</td>\n",
       "    </tr>\n",
       "    <tr>\n",
       "      <th>859514</th>\n",
       "      <td>14201457</td>\n",
       "      <td>33878347.0</td>\n",
       "      <td>-117716104.0</td>\n",
       "      <td>4.0</td>\n",
       "      <td>3.5</td>\n",
       "      <td>3133.0</td>\n",
       "      <td>2010.0</td>\n",
       "      <td>408255.0</td>\n",
       "    </tr>\n",
       "    <tr>\n",
       "      <th>1112356</th>\n",
       "      <td>14232873</td>\n",
       "      <td>33797701.0</td>\n",
       "      <td>-117781094.0</td>\n",
       "      <td>4.0</td>\n",
       "      <td>3.5</td>\n",
       "      <td>3422.0</td>\n",
       "      <td>2001.0</td>\n",
       "      <td>424425.0</td>\n",
       "    </tr>\n",
       "    <tr>\n",
       "      <th>2241462</th>\n",
       "      <td>13951584</td>\n",
       "      <td>33771991.0</td>\n",
       "      <td>-117951852.0</td>\n",
       "      <td>3.0</td>\n",
       "      <td>1.5</td>\n",
       "      <td>876.0</td>\n",
       "      <td>1923.0</td>\n",
       "      <td>34871.0</td>\n",
       "    </tr>\n",
       "    <tr>\n",
       "      <th>2360062</th>\n",
       "      <td>13893976</td>\n",
       "      <td>33594772.0</td>\n",
       "      <td>-117869225.0</td>\n",
       "      <td>3.0</td>\n",
       "      <td>1.5</td>\n",
       "      <td>999.0</td>\n",
       "      <td>1950.0</td>\n",
       "      <td>33372.0</td>\n",
       "    </tr>\n",
       "    <tr>\n",
       "      <th>2468660</th>\n",
       "      <td>17066219</td>\n",
       "      <td>34400333.0</td>\n",
       "      <td>-118911182.0</td>\n",
       "      <td>3.0</td>\n",
       "      <td>1.5</td>\n",
       "      <td>1014.0</td>\n",
       "      <td>1910.0</td>\n",
       "      <td>43077.0</td>\n",
       "    </tr>\n",
       "  </tbody>\n",
       "</table>\n",
       "</div>"
      ],
      "text/plain": [
       "         parcelid    latitude    longitude  bedroomcnt  bathroomcnt  \\\n",
       "457881   14202712  33895303.0 -117730832.0         4.0          3.5   \n",
       "859514   14201457  33878347.0 -117716104.0         4.0          3.5   \n",
       "1112356  14232873  33797701.0 -117781094.0         4.0          3.5   \n",
       "2241462  13951584  33771991.0 -117951852.0         3.0          1.5   \n",
       "2360062  13893976  33594772.0 -117869225.0         3.0          1.5   \n",
       "2468660  17066219  34400333.0 -118911182.0         3.0          1.5   \n",
       "\n",
       "         calculatedfinishedsquarefeet  yearbuilt  structuretaxvaluedollarcnt  \n",
       "457881                         3431.0     2009.0                    418848.0  \n",
       "859514                         3133.0     2010.0                    408255.0  \n",
       "1112356                        3422.0     2001.0                    424425.0  \n",
       "2241462                         876.0     1923.0                     34871.0  \n",
       "2360062                         999.0     1950.0                     33372.0  \n",
       "2468660                        1014.0     1910.0                     43077.0  "
      ]
     },
     "execution_count": 109,
     "metadata": {},
     "output_type": "execute_result"
    }
   ],
   "source": [
    "house_mix"
   ]
  },
  {
   "cell_type": "code",
   "execution_count": 110,
   "metadata": {},
   "outputs": [
    {
     "data": {
      "text/html": [
       "<div>\n",
       "<style>\n",
       "    .dataframe thead tr:only-child th {\n",
       "        text-align: right;\n",
       "    }\n",
       "\n",
       "    .dataframe thead th {\n",
       "        text-align: left;\n",
       "    }\n",
       "\n",
       "    .dataframe tbody tr th {\n",
       "        vertical-align: top;\n",
       "    }\n",
       "</style>\n",
       "<table border=\"1\" class=\"dataframe\">\n",
       "  <thead>\n",
       "    <tr style=\"text-align: right;\">\n",
       "      <th></th>\n",
       "      <th>0</th>\n",
       "      <th>1</th>\n",
       "      <th>2</th>\n",
       "      <th>3</th>\n",
       "      <th>4</th>\n",
       "      <th>5</th>\n",
       "    </tr>\n",
       "  </thead>\n",
       "  <tbody>\n",
       "    <tr>\n",
       "      <th>0</th>\n",
       "      <td>0.000000</td>\n",
       "      <td>0.213766</td>\n",
       "      <td>0.706355</td>\n",
       "      <td>3.973377</td>\n",
       "      <td>3.363108</td>\n",
       "      <td>5.380226</td>\n",
       "    </tr>\n",
       "    <tr>\n",
       "      <th>1</th>\n",
       "      <td>0.213766</td>\n",
       "      <td>0.000000</td>\n",
       "      <td>0.714472</td>\n",
       "      <td>3.965588</td>\n",
       "      <td>3.328405</td>\n",
       "      <td>5.416363</td>\n",
       "    </tr>\n",
       "    <tr>\n",
       "      <th>2</th>\n",
       "      <td>0.706355</td>\n",
       "      <td>0.714472</td>\n",
       "      <td>0.000000</td>\n",
       "      <td>3.557867</td>\n",
       "      <td>2.874884</td>\n",
       "      <td>5.112261</td>\n",
       "    </tr>\n",
       "    <tr>\n",
       "      <th>3</th>\n",
       "      <td>3.973377</td>\n",
       "      <td>3.965588</td>\n",
       "      <td>3.557867</td>\n",
       "      <td>0.000000</td>\n",
       "      <td>1.507543</td>\n",
       "      <td>3.073966</td>\n",
       "    </tr>\n",
       "    <tr>\n",
       "      <th>4</th>\n",
       "      <td>3.363108</td>\n",
       "      <td>3.328405</td>\n",
       "      <td>2.874884</td>\n",
       "      <td>1.507543</td>\n",
       "      <td>0.000000</td>\n",
       "      <td>3.989124</td>\n",
       "    </tr>\n",
       "    <tr>\n",
       "      <th>5</th>\n",
       "      <td>5.380226</td>\n",
       "      <td>5.416363</td>\n",
       "      <td>5.112261</td>\n",
       "      <td>3.073966</td>\n",
       "      <td>3.989124</td>\n",
       "      <td>0.000000</td>\n",
       "    </tr>\n",
       "  </tbody>\n",
       "</table>\n",
       "</div>"
      ],
      "text/plain": [
       "          0         1         2         3         4         5\n",
       "0  0.000000  0.213766  0.706355  3.973377  3.363108  5.380226\n",
       "1  0.213766  0.000000  0.714472  3.965588  3.328405  5.416363\n",
       "2  0.706355  0.714472  0.000000  3.557867  2.874884  5.112261\n",
       "3  3.973377  3.965588  3.557867  0.000000  1.507543  3.073966\n",
       "4  3.363108  3.328405  2.874884  1.507543  0.000000  3.989124\n",
       "5  5.380226  5.416363  5.112261  3.073966  3.989124  0.000000"
      ]
     },
     "execution_count": 110,
     "metadata": {},
     "output_type": "execute_result"
    }
   ],
   "source": [
    "pd.DataFrame(dist_m.pairwise(house_mix[distance_attributes]))"
   ]
  },
  {
   "cell_type": "markdown",
   "metadata": {},
   "source": [
    "### Result:\n",
    "    -- We can clearly see, houses 0,1,2 which are among the top 3 houses and similar in listing and also locally closer\n",
    "       have very low inter point distance.\n",
    "    -- Compared to them houses 3,4,5 which are essentially bottom 3 houses of bottom 10 houses and have a much difference\n",
    "       in listing descriptions are quite far away from group of houses {0,1,2}.\n",
    "    -- Interestingly, even intra-group distance among bottom 3 houses is higher as they were built over 50 years of time."
   ]
  },
  {
   "cell_type": "markdown",
   "metadata": {},
   "source": [
    "### Experimental figure \n",
    "### (Using sns.heatmap as a hack to visualise the pairwise distance matrix)\n",
    "Below I have tried to elucidate the above point with a figure. Passed the computed distance matrix to the heatmap visualization function, which essentially takes a square matrix and plots the intensities of the values in each cell.\n",
    "\n",
    "    - We can see that houses 0,1,2 have values very similar among eachother compared to \n",
    "      set of houses 3,4,5\n",
    "    - also color among houses in 3,4,5 is not as uniform as in the other group owing to the in group \n",
    "      dissimilarity of the houses as well (as discussed above)"
   ]
  },
  {
   "cell_type": "code",
   "execution_count": 119,
   "metadata": {},
   "outputs": [
    {
     "data": {
      "text/plain": [
       "<matplotlib.axes._subplots.AxesSubplot at 0x1ec205e93c8>"
      ]
     },
     "execution_count": 119,
     "metadata": {},
     "output_type": "execute_result"
    },
    {
     "data": {
      "image/png": "[encoded data removed]",
      "text/plain": [
       "<matplotlib.figure.Figure at 0x1ec205dddd8>"
      ]
     },
     "metadata": {},
     "output_type": "display_data"
    }
   ],
   "source": [
    "sns.heatmap(pd.DataFrame(dist_m.pairwise(house_mix[distance_attributes])),cbar=False)"
   ]
  },
  {
   "cell_type": "code",
   "execution_count": null,
   "metadata": {
    "collapsed": true
   },
   "outputs": [],
   "source": []
  }
 ],
 "metadata": {
  "kernelspec": {
   "display_name": "Python 3",
   "language": "python",
   "name": "python3"
  },
  "language_info": {
   "codemirror_mode": {
    "name": "ipython",
    "version": 3
   },
   "file_extension": ".py",
   "mimetype": "text/x-python",
   "name": "python",
   "nbconvert_exporter": "python",
   "pygments_lexer": "ipython3",
   "version": "3.6.1"
  }
 },
 "nbformat": 4,
 "nbformat_minor": 2
}

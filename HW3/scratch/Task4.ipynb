{
 "cells": [
  {
   "cell_type": "code",
   "execution_count": 1,
   "metadata": {
    "collapsed": true
   },
   "outputs": [],
   "source": [
    "%matplotlib inline\n",
    "\n",
    "import pandas as pd\n",
    "import numpy as np\n",
    "import seaborn as sns\n",
    "import matplotlib.pyplot as plt"
   ]
  },
  {
   "cell_type": "markdown",
   "metadata": {},
   "source": [
    "#### External Data gathering\n",
    "Here are my external data sources, they are publicly available:\n",
    "    - http://www.usinflationcalculator.com/inflation/current-inflation-rates/\n",
    "      I have obtained the month on month inflation rates from here.\n",
    "    - https://www.reit.com/data-research/reit-indexes/monthly-property-index-values-returns\n",
    "      This is called Real Estate Investment Trust. It tracks several indices about real estate and it's specific contributing\n",
    "      factors. I have used the month on month % change in prices from the indices.\n",
    "      \n",
    "#### What is a 'Real Estate Investment Trust - REIT'\n",
    "\n",
    "A REIT is a type of security that invests in real estate through property or mortgages and often trades on major exchanges like a stock. REITs provide investors with an extremely liquid stake in real estate. They receive special tax considerations and typically offer high dividend yields.\n",
    "\n",
    "REITs, an investment vehicle for real estate that is comparable to a mutual fund, allowing both small and large investors to acquire ownership in real estate ventures, own and in some cases operate commercial properties such as apartment complexes, hospitals, office buildings, timber land, warehouses, hotels and shopping malls.\n",
    "\n",
    "All REITs must have at least 100 shareholders, no five of whom can hold more than 50% of shares between them. At least 75% of a REIT's assets must be invested in real estate, cash or U.S. Treasurys; 75% of gross income must be derived from real estate.\n",
    "\n",
    "REITs are required by law to maintain dividend payout ratios of at least 90%, making them a favorite for income-seeking investors. REITs can deduct these dividends and avoid most or all tax liabilities, though investors still pay income tax on the payouts they receive. Many REITs have dividend reinvestment plans (DRIPs​), allowing returns to compound over time.\n",
    "\n",
    "\n",
    "Source: Real Estate Investment Trust (REIT) http://www.investopedia.com/terms/r/reit.asp#ixzz4vZIsSkR8 \n",
    "    "
   ]
  },
  {
   "cell_type": "code",
   "execution_count": 11,
   "metadata": {
    "collapsed": true
   },
   "outputs": [],
   "source": [
    "year_month = [201601,201602,201603,201604,201605,201606,201607,201608,201609,201610,201611,201612,\n",
    "         201701,201702,201703,201704,201705,201706,201707,201708,201709]\n",
    "# Inflation data\n",
    "inflation_rate = [\n",
    "     1.4,1.0,0.9,1.1,1.0,1.0,0.8,1.1,1.5,1.6,1.7,2.1,2.5,2.7,2.4,2.2,1.9,1.6,1.7,1.9,2.2]\n",
    "# Reit indices\n",
    "equity_residential_index_price = [\n",
    "    -5.01,-1.62,11.02,-6.42,3.96,2.93,1.93,-4.25,0.68,-2.81,-3.03,6.47,-2.42,5.16,-1.90,2.37,1.56,1.19,1.73,-0.07,-3.01]\n",
    "equity_apartments_index_price = [\n",
    "    -5.09,-2.01,11.53,-6.73,3.41,1.94,1.58,-4.42,0.90,-2.97,-2.90,7.13,-3.42,4.86,-1.81,2.26,1.53,1.04,1.84,-0.43,-2.87 ]\n",
    "equity_healthcare_index_price = [\n",
    "    -4.69,-2.17,9.62,0.07,1.61,8.69,5.69,-1.65,-2.50,-7.01,-8.67,4.22,0.23,6.02,-0.73,0.26,0.58,2.94,-2.59,-0.62,-3.48 ]\n",
    "equity_single_family_home_price_index = [\n",
    "    -9.20,-3.87,12.70,-0.89,13.92,11.37,6.38,-0.32,-2.98,-1.90,1.35,-1.71,6.14,7.93,-1.73,0.65,-1.52,0.40,1.29,1.51,-2.45 ]\n",
    "equity_manufactured_homes_price_index = [\n",
    "    -1.99,4.18,4.67,-5.47,5.19,9.50,3.13,-4.70,0.83,-1.75,-7.02,5.22,2.49,6.33,-2.94,4.60,3.73,1.98,1.16,1.60,-4.74 ]\n",
    "## Mortgage\n",
    "home_financing_price_index=[\n",
    "    -4.29,5.19,3.46,1.28,3.96,2.60,1.51,0.21,-1.73,-0.73,1.72,-1.58,1.57,6.29,1.28,3.88,-1.12,0.24,0.81,1.82,-0.57 ]\n",
    "infrastructure_reit_price_index = [\n",
    "    -1.51,-1.18,6.67,1.74,2.54,9.40,-0.28,-1.99,-0.23,0.03,-10.92,3.54,-0.55,9.00,3.03,2.83,5.29,-0.38,2.14,7.45,-7.81 ]\n",
    "\n",
    "\n",
    "indices_and_inflation_data = pd.DataFrame({'year_month':year_month,\n",
    "                                'inflation_rate':inflation_rate,\n",
    "                                'equity_residential_index_price':equity_residential_index_price,\n",
    "                                'equity_apartments_index_price':equity_apartments_index_price,\n",
    "                                'equity_healthcare_index_price':equity_healthcare_index_price,\n",
    "                                'equity_single_family_home_price_index':equity_single_family_home_price_index,\n",
    "                                'equity_manufactured_homes_price_index':equity_manufactured_homes_price_index,           \n",
    "                                'home_financing_price_index':home_financing_price_index,\n",
    "                                'infrastructure_reit_price_index':infrastructure_reit_price_index})\n",
    "# Setting up addressable column names\n",
    "pricing_column_names = ['equity_residential_index_price','equity_apartments_index_price',\n",
    "                         'equity_healthcare_index_price', 'equity_single_family_home_price_index',\n",
    "                         'equity_manufactured_homes_price_index','home_financing_price_index',\n",
    "                         'infrastructure_reit_price_index']\n",
    "inflation_rate_column_names = ['inflation_rate']\n",
    "year_month_column_names = ['year_month']\n"
   ]
  },
  {
   "cell_type": "code",
   "execution_count": 3,
   "metadata": {},
   "outputs": [
    {
     "data": {
      "text/plain": [
       "equity_apartments_index_price            float64\n",
       "equity_healthcare_index_price            float64\n",
       "equity_manufactured_homes_price_index    float64\n",
       "equity_residential_index_price           float64\n",
       "equity_single_family_home_price_index    float64\n",
       "home_financing_price_index               float64\n",
       "inflation_rate                           float64\n",
       "infrastructure_reit_price_index          float64\n",
       "year_month                                 int64\n",
       "dtype: object"
      ]
     },
     "execution_count": 3,
     "metadata": {},
     "output_type": "execute_result"
    }
   ],
   "source": [
    "indices_and_inflation_data.dtypes"
   ]
  },
  {
   "cell_type": "code",
   "execution_count": 4,
   "metadata": {
    "collapsed": true
   },
   "outputs": [],
   "source": [
    "df1 = pd.read_csv(\"C://Users//ibipul//codes//datasets//Zillow_data//train_2016_v2.csv\")\n",
    "df2 = pd.read_csv(\"C://Users//ibipul//codes//datasets//Zillow_data/train_2017.csv\")"
   ]
  },
  {
   "cell_type": "code",
   "execution_count": 6,
   "metadata": {
    "collapsed": true
   },
   "outputs": [],
   "source": [
    "#Convert transaction date to yearmonth format\n",
    "def yearmonth(x):\n",
    "    s = x.split('-')\n",
    "    return int(s[0]+s[1])\n",
    "    "
   ]
  },
  {
   "cell_type": "code",
   "execution_count": 7,
   "metadata": {
    "collapsed": true
   },
   "outputs": [],
   "source": [
    "df1['year_month'] = df1['transactiondate'].apply(lambda x: yearmonth(x))\n",
    "df2['year_month'] = df2['transactiondate'].apply(lambda x: yearmonth(x))\n",
    "df1 = df1.append(df2, ignore_index=True)"
   ]
  },
  {
   "cell_type": "code",
   "execution_count": 8,
   "metadata": {
    "collapsed": true
   },
   "outputs": [],
   "source": [
    "df = pd.merge(df1,indices_and_inflation_data, on='year_month')"
   ]
  },
  {
   "cell_type": "code",
   "execution_count": 9,
   "metadata": {},
   "outputs": [
    {
     "data": {
      "text/plain": [
       "parcelid                                   int64\n",
       "logerror                                 float64\n",
       "transactiondate                           object\n",
       "year_month                                 int64\n",
       "equity_apartments_index_price            float64\n",
       "equity_healthcare_index_price            float64\n",
       "equity_manufactured_homes_price_index    float64\n",
       "equity_residential_index_price           float64\n",
       "equity_single_family_home_price_index    float64\n",
       "home_financing_price_index               float64\n",
       "inflation_rate                           float64\n",
       "infrastructure_reit_price_index          float64\n",
       "dtype: object"
      ]
     },
     "execution_count": 9,
     "metadata": {},
     "output_type": "execute_result"
    }
   ],
   "source": [
    "df.dtypes"
   ]
  },
  {
   "cell_type": "markdown",
   "metadata": {},
   "source": [
    "### Correlation among the pricing indices, and inflation data\n",
    "It makes sense to see how the month on month data on the various % change of indices correlate among eachother"
   ]
  },
  {
   "cell_type": "code",
   "execution_count": 58,
   "metadata": {},
   "outputs": [
    {
     "data": {
      "text/plain": [
       "<matplotlib.axes._subplots.AxesSubplot at 0x1d9db6760f0>"
      ]
     },
     "execution_count": 58,
     "metadata": {},
     "output_type": "execute_result"
    },
    {
     "data": {
      "image/png": "[encoded data removed]",
      "text/plain": [
       "<matplotlib.figure.Figure at 0x1d9db667a58>"
      ]
     },
     "metadata": {},
     "output_type": "display_data"
    }
   ],
   "source": [
    "df_corr = df[pricing_column_names+inflation_rate_column_names + ['logerror']].corr()\n",
    "sns.heatmap(df_corr,xticklabels=df_corr.columns.values,yticklabels=df_corr.columns.values)"
   ]
  },
  {
   "cell_type": "markdown",
   "metadata": {},
   "source": [
    "It is interesting to see that there is some good correlation among the various index and pricing data that was obtained.\n",
    "However it is also interesting to note, inflation rate almost 0 to inversely correlated with other indices in the pallatte.\n",
    "\n",
    "It is however interesting to see that only inflation rates have a very minor correlation with log-error values (0.02). May be inflation rate can be useful when used in presense of the structure tax with some adjustment as well ass other details of the house. I present the correlation matrix below."
   ]
  },
  {
   "cell_type": "code",
   "execution_count": 57,
   "metadata": {},
   "outputs": [
    {
     "data": {
      "text/html": [
       "<div>\n",
       "<style>\n",
       "    .dataframe thead tr:only-child th {\n",
       "        text-align: right;\n",
       "    }\n",
       "\n",
       "    .dataframe thead th {\n",
       "        text-align: left;\n",
       "    }\n",
       "\n",
       "    .dataframe tbody tr th {\n",
       "        vertical-align: top;\n",
       "    }\n",
       "</style>\n",
       "<table border=\"1\" class=\"dataframe\">\n",
       "  <thead>\n",
       "    <tr style=\"text-align: right;\">\n",
       "      <th></th>\n",
       "      <th>equity_residential_index_price</th>\n",
       "      <th>equity_apartments_index_price</th>\n",
       "      <th>equity_healthcare_index_price</th>\n",
       "      <th>equity_single_family_home_price_index</th>\n",
       "      <th>equity_manufactured_homes_price_index</th>\n",
       "      <th>home_financing_price_index</th>\n",
       "      <th>infrastructure_reit_price_index</th>\n",
       "      <th>inflation_rate</th>\n",
       "      <th>logerror</th>\n",
       "    </tr>\n",
       "  </thead>\n",
       "  <tbody>\n",
       "    <tr>\n",
       "      <th>equity_residential_index_price</th>\n",
       "      <td>1.000000</td>\n",
       "      <td>0.995792</td>\n",
       "      <td>0.714445</td>\n",
       "      <td>0.689572</td>\n",
       "      <td>0.759740</td>\n",
       "      <td>0.463852</td>\n",
       "      <td>0.562961</td>\n",
       "      <td>-0.097730</td>\n",
       "      <td>-0.005517</td>\n",
       "    </tr>\n",
       "    <tr>\n",
       "      <th>equity_apartments_index_price</th>\n",
       "      <td>0.995792</td>\n",
       "      <td>1.000000</td>\n",
       "      <td>0.677373</td>\n",
       "      <td>0.637571</td>\n",
       "      <td>0.708263</td>\n",
       "      <td>0.423051</td>\n",
       "      <td>0.530243</td>\n",
       "      <td>-0.085656</td>\n",
       "      <td>-0.004997</td>\n",
       "    </tr>\n",
       "    <tr>\n",
       "      <th>equity_healthcare_index_price</th>\n",
       "      <td>0.714445</td>\n",
       "      <td>0.677373</td>\n",
       "      <td>1.000000</td>\n",
       "      <td>0.757461</td>\n",
       "      <td>0.687419</td>\n",
       "      <td>0.490959</td>\n",
       "      <td>0.631102</td>\n",
       "      <td>-0.280741</td>\n",
       "      <td>-0.012529</td>\n",
       "    </tr>\n",
       "    <tr>\n",
       "      <th>equity_single_family_home_price_index</th>\n",
       "      <td>0.689572</td>\n",
       "      <td>0.637571</td>\n",
       "      <td>0.757461</td>\n",
       "      <td>1.000000</td>\n",
       "      <td>0.635681</td>\n",
       "      <td>0.649974</td>\n",
       "      <td>0.499579</td>\n",
       "      <td>-0.289702</td>\n",
       "      <td>-0.011466</td>\n",
       "    </tr>\n",
       "    <tr>\n",
       "      <th>equity_manufactured_homes_price_index</th>\n",
       "      <td>0.759740</td>\n",
       "      <td>0.708263</td>\n",
       "      <td>0.687419</td>\n",
       "      <td>0.635681</td>\n",
       "      <td>1.000000</td>\n",
       "      <td>0.502079</td>\n",
       "      <td>0.657597</td>\n",
       "      <td>-0.083599</td>\n",
       "      <td>-0.005965</td>\n",
       "    </tr>\n",
       "    <tr>\n",
       "      <th>home_financing_price_index</th>\n",
       "      <td>0.463852</td>\n",
       "      <td>0.423051</td>\n",
       "      <td>0.490959</td>\n",
       "      <td>0.649974</td>\n",
       "      <td>0.502079</td>\n",
       "      <td>1.000000</td>\n",
       "      <td>0.419352</td>\n",
       "      <td>-0.008970</td>\n",
       "      <td>-0.004791</td>\n",
       "    </tr>\n",
       "    <tr>\n",
       "      <th>infrastructure_reit_price_index</th>\n",
       "      <td>0.562961</td>\n",
       "      <td>0.530243</td>\n",
       "      <td>0.631102</td>\n",
       "      <td>0.499579</td>\n",
       "      <td>0.657597</td>\n",
       "      <td>0.419352</td>\n",
       "      <td>1.000000</td>\n",
       "      <td>0.058607</td>\n",
       "      <td>-0.007136</td>\n",
       "    </tr>\n",
       "    <tr>\n",
       "      <th>inflation_rate</th>\n",
       "      <td>-0.097730</td>\n",
       "      <td>-0.085656</td>\n",
       "      <td>-0.280741</td>\n",
       "      <td>-0.289702</td>\n",
       "      <td>-0.083599</td>\n",
       "      <td>-0.008970</td>\n",
       "      <td>0.058607</td>\n",
       "      <td>1.000000</td>\n",
       "      <td>0.020127</td>\n",
       "    </tr>\n",
       "    <tr>\n",
       "      <th>logerror</th>\n",
       "      <td>-0.005517</td>\n",
       "      <td>-0.004997</td>\n",
       "      <td>-0.012529</td>\n",
       "      <td>-0.011466</td>\n",
       "      <td>-0.005965</td>\n",
       "      <td>-0.004791</td>\n",
       "      <td>-0.007136</td>\n",
       "      <td>0.020127</td>\n",
       "      <td>1.000000</td>\n",
       "    </tr>\n",
       "  </tbody>\n",
       "</table>\n",
       "</div>"
      ],
      "text/plain": [
       "                                       equity_residential_index_price  \\\n",
       "equity_residential_index_price                               1.000000   \n",
       "equity_apartments_index_price                                0.995792   \n",
       "equity_healthcare_index_price                                0.714445   \n",
       "equity_single_family_home_price_index                        0.689572   \n",
       "equity_manufactured_homes_price_index                        0.759740   \n",
       "home_financing_price_index                                   0.463852   \n",
       "infrastructure_reit_price_index                              0.562961   \n",
       "inflation_rate                                              -0.097730   \n",
       "logerror                                                    -0.005517   \n",
       "\n",
       "                                       equity_apartments_index_price  \\\n",
       "equity_residential_index_price                              0.995792   \n",
       "equity_apartments_index_price                               1.000000   \n",
       "equity_healthcare_index_price                               0.677373   \n",
       "equity_single_family_home_price_index                       0.637571   \n",
       "equity_manufactured_homes_price_index                       0.708263   \n",
       "home_financing_price_index                                  0.423051   \n",
       "infrastructure_reit_price_index                             0.530243   \n",
       "inflation_rate                                             -0.085656   \n",
       "logerror                                                   -0.004997   \n",
       "\n",
       "                                       equity_healthcare_index_price  \\\n",
       "equity_residential_index_price                              0.714445   \n",
       "equity_apartments_index_price                               0.677373   \n",
       "equity_healthcare_index_price                               1.000000   \n",
       "equity_single_family_home_price_index                       0.757461   \n",
       "equity_manufactured_homes_price_index                       0.687419   \n",
       "home_financing_price_index                                  0.490959   \n",
       "infrastructure_reit_price_index                             0.631102   \n",
       "inflation_rate                                             -0.280741   \n",
       "logerror                                                   -0.012529   \n",
       "\n",
       "                                       equity_single_family_home_price_index  \\\n",
       "equity_residential_index_price                                      0.689572   \n",
       "equity_apartments_index_price                                       0.637571   \n",
       "equity_healthcare_index_price                                       0.757461   \n",
       "equity_single_family_home_price_index                               1.000000   \n",
       "equity_manufactured_homes_price_index                               0.635681   \n",
       "home_financing_price_index                                          0.649974   \n",
       "infrastructure_reit_price_index                                     0.499579   \n",
       "inflation_rate                                                     -0.289702   \n",
       "logerror                                                           -0.011466   \n",
       "\n",
       "                                       equity_manufactured_homes_price_index  \\\n",
       "equity_residential_index_price                                      0.759740   \n",
       "equity_apartments_index_price                                       0.708263   \n",
       "equity_healthcare_index_price                                       0.687419   \n",
       "equity_single_family_home_price_index                               0.635681   \n",
       "equity_manufactured_homes_price_index                               1.000000   \n",
       "home_financing_price_index                                          0.502079   \n",
       "infrastructure_reit_price_index                                     0.657597   \n",
       "inflation_rate                                                     -0.083599   \n",
       "logerror                                                           -0.005965   \n",
       "\n",
       "                                       home_financing_price_index  \\\n",
       "equity_residential_index_price                           0.463852   \n",
       "equity_apartments_index_price                            0.423051   \n",
       "equity_healthcare_index_price                            0.490959   \n",
       "equity_single_family_home_price_index                    0.649974   \n",
       "equity_manufactured_homes_price_index                    0.502079   \n",
       "home_financing_price_index                               1.000000   \n",
       "infrastructure_reit_price_index                          0.419352   \n",
       "inflation_rate                                          -0.008970   \n",
       "logerror                                                -0.004791   \n",
       "\n",
       "                                       infrastructure_reit_price_index  \\\n",
       "equity_residential_index_price                                0.562961   \n",
       "equity_apartments_index_price                                 0.530243   \n",
       "equity_healthcare_index_price                                 0.631102   \n",
       "equity_single_family_home_price_index                         0.499579   \n",
       "equity_manufactured_homes_price_index                         0.657597   \n",
       "home_financing_price_index                                    0.419352   \n",
       "infrastructure_reit_price_index                               1.000000   \n",
       "inflation_rate                                                0.058607   \n",
       "logerror                                                     -0.007136   \n",
       "\n",
       "                                       inflation_rate  logerror  \n",
       "equity_residential_index_price              -0.097730 -0.005517  \n",
       "equity_apartments_index_price               -0.085656 -0.004997  \n",
       "equity_healthcare_index_price               -0.280741 -0.012529  \n",
       "equity_single_family_home_price_index       -0.289702 -0.011466  \n",
       "equity_manufactured_homes_price_index       -0.083599 -0.005965  \n",
       "home_financing_price_index                  -0.008970 -0.004791  \n",
       "infrastructure_reit_price_index              0.058607 -0.007136  \n",
       "inflation_rate                               1.000000  0.020127  \n",
       "logerror                                     0.020127  1.000000  "
      ]
     },
     "execution_count": 57,
     "metadata": {},
     "output_type": "execute_result"
    }
   ],
   "source": [
    "df_corr"
   ]
  },
  {
   "cell_type": "code",
   "execution_count": null,
   "metadata": {
    "collapsed": true
   },
   "outputs": [],
   "source": []
  }
 ],
 "metadata": {
  "kernelspec": {
   "display_name": "Python 3",
   "language": "python",
   "name": "python3"
  },
  "language_info": {
   "codemirror_mode": {
    "name": "ipython",
    "version": 3
   },
   "file_extension": ".py",
   "mimetype": "text/x-python",
   "name": "python",
   "nbconvert_exporter": "python",
   "pygments_lexer": "ipython3",
   "version": "3.6.1"
  }
 },
 "nbformat": 4,
 "nbformat_minor": 2
}

{
 "cells": [
  {
   "cell_type": "markdown",
   "metadata": {},
   "source": [
    "# Task 1. Create a Scoring Scheme for Listed Houses\n",
    "\n",
    "#### Methodology\n",
    "    - Select Attributes that are mostly complete and generally describe a property hollistically\n",
    "    - Some inspection shows simple imputation is fallible to outlier irregularities,\n",
    "        - Lot of rows though non-empty likely has garbage values. eg: There are houses with structure tax 1,2,3 etc.\n",
    "          similarly for lotsizes, finished square feet etc.\n",
    "        - So it's a safe bet to reject all data in bottom and top 5%ile for each column.\n",
    "        - This gets us clean data of 1.3million points.\n",
    "    - The distributions of attributes are mostly skewed, so \n",
    "        - Get quantile scores for each columns, i.e - Each value gets a score between 0-1.\n",
    "        - The columns with descending desirability get scores of the form (1 - quant. score) i.e higher is worse.\n",
    "        - Now all columns are transformed to uniform(0,1) distributions.\n",
    "        - We call these component scores of attributes for the listing\n",
    "    - Score for each listed property is chosen to be a linear combination of the component attribute scores\n",
    "        - I choose to combine using Principal Component 1 coefficients.\n",
    "    -Finally we obtain a distribution of the scores for the data pool"
   ]
  },
  {
   "cell_type": "code",
   "execution_count": null,
   "metadata": {
    "collapsed": true
   },
   "outputs": [],
   "source": [
    "%matplotlib inline\n",
    "\n",
    "import pandas as pd\n",
    "import numpy as np\n",
    "import seaborn as sns\n",
    "import matplotlib.pyplot as plt"
   ]
  },
  {
   "cell_type": "code",
   "execution_count": null,
   "metadata": {
    "collapsed": true
   },
   "outputs": [],
   "source": [
    "from collections import defaultdict"
   ]
  },
  {
   "cell_type": "markdown",
   "metadata": {},
   "source": [
    "### Getting the data\n",
    "    - We read the data\n",
    "    -selecting Columns of interest\n",
    "        - select some count data about the house, \n",
    "        - an oldness qualifier, \n",
    "        - a monetary qualifier, and \n",
    "        - house space-descriptors\n",
    "    - Do some analysis on how much missing data exists\n",
    "      - Given our choice of columns, not much. So we can safely discard the rows with NaNs\n",
    "    "
   ]
  },
  {
   "cell_type": "code",
   "execution_count": null,
   "metadata": {
    "collapsed": true
   },
   "outputs": [],
   "source": [
    "df = pd.read_csv(\"C://Users//ibipul//codes//datasets//Zillow_data//train_2016_v2.csv\")"
   ]
  },
  {
   "cell_type": "code",
   "execution_count": null,
   "metadata": {
    "collapsed": true
   },
   "outputs": [],
   "source": [
    "dfp = pd.read_csv(\"C://Users//ibipul//codes//datasets//Zillow_data/properties_2016.csv\", low_memory = False)"
   ]
  },
  {
   "cell_type": "code",
   "execution_count": 122,
   "metadata": {
    "collapsed": true
   },
   "outputs": [],
   "source": [
    "# Picking the desirability attributes\n",
    "desirability_attributes = []\n",
    "key = ['parcelid']\n",
    "count_attributes = ['bedroomcnt','bathroomcnt']\n",
    "house_area_attributes = ['calculatedfinishedsquarefeet','lotsizesquarefeet']\n",
    "oldness_attribute = ['yearbuilt']\n",
    "monetary_attribute = ['structuretaxvaluedollarcnt']\n",
    "\n",
    "desirability_attributes = count_attributes + house_area_attributes + oldness_attribute + monetary_attribute\n",
    "all_attributes = key + desirability_attributes"
   ]
  },
  {
   "cell_type": "code",
   "execution_count": 123,
   "metadata": {
    "collapsed": true
   },
   "outputs": [],
   "source": [
    "dfr = dfp[all_attributes]"
   ]
  },
  {
   "cell_type": "code",
   "execution_count": 124,
   "metadata": {},
   "outputs": [
    {
     "data": {
      "text/html": [
       "<div>\n",
       "<style>\n",
       "    .dataframe thead tr:only-child th {\n",
       "        text-align: right;\n",
       "    }\n",
       "\n",
       "    .dataframe thead th {\n",
       "        text-align: left;\n",
       "    }\n",
       "\n",
       "    .dataframe tbody tr th {\n",
       "        vertical-align: top;\n",
       "    }\n",
       "</style>\n",
       "<table border=\"1\" class=\"dataframe\">\n",
       "  <thead>\n",
       "    <tr style=\"text-align: right;\">\n",
       "      <th></th>\n",
       "      <th>count</th>\n",
       "      <th>mean</th>\n",
       "      <th>std</th>\n",
       "      <th>min</th>\n",
       "      <th>25%</th>\n",
       "      <th>50%</th>\n",
       "      <th>75%</th>\n",
       "      <th>max</th>\n",
       "    </tr>\n",
       "  </thead>\n",
       "  <tbody>\n",
       "    <tr>\n",
       "      <th>bedroomcnt</th>\n",
       "      <td>2973767.0</td>\n",
       "      <td>3.088949</td>\n",
       "      <td>1.275859</td>\n",
       "      <td>0.0</td>\n",
       "      <td>2.0</td>\n",
       "      <td>3.0</td>\n",
       "      <td>4.0</td>\n",
       "      <td>20.0</td>\n",
       "    </tr>\n",
       "    <tr>\n",
       "      <th>bathroomcnt</th>\n",
       "      <td>2973755.0</td>\n",
       "      <td>2.209143</td>\n",
       "      <td>1.077754</td>\n",
       "      <td>0.0</td>\n",
       "      <td>2.0</td>\n",
       "      <td>2.0</td>\n",
       "      <td>3.0</td>\n",
       "      <td>20.0</td>\n",
       "    </tr>\n",
       "    <tr>\n",
       "      <th>calculatedfinishedsquarefeet</th>\n",
       "      <td>2929652.0</td>\n",
       "      <td>1827.162124</td>\n",
       "      <td>1819.780469</td>\n",
       "      <td>1.0</td>\n",
       "      <td>1213.0</td>\n",
       "      <td>1572.0</td>\n",
       "      <td>2136.0</td>\n",
       "      <td>952576.0</td>\n",
       "    </tr>\n",
       "    <tr>\n",
       "      <th>lotsizesquarefeet</th>\n",
       "      <td>2709118.0</td>\n",
       "      <td>22822.805528</td>\n",
       "      <td>337592.366408</td>\n",
       "      <td>100.0</td>\n",
       "      <td>5688.0</td>\n",
       "      <td>7000.0</td>\n",
       "      <td>9898.0</td>\n",
       "      <td>328263808.0</td>\n",
       "    </tr>\n",
       "    <tr>\n",
       "      <th>yearbuilt</th>\n",
       "      <td>2925289.0</td>\n",
       "      <td>1964.261641</td>\n",
       "      <td>23.441319</td>\n",
       "      <td>1801.0</td>\n",
       "      <td>1950.0</td>\n",
       "      <td>1963.0</td>\n",
       "      <td>1981.0</td>\n",
       "      <td>2015.0</td>\n",
       "    </tr>\n",
       "    <tr>\n",
       "      <th>structuretaxvaluedollarcnt</th>\n",
       "      <td>2930235.0</td>\n",
       "      <td>170883.577166</td>\n",
       "      <td>402068.342015</td>\n",
       "      <td>1.0</td>\n",
       "      <td>74800.0</td>\n",
       "      <td>122590.0</td>\n",
       "      <td>196889.0</td>\n",
       "      <td>251486000.0</td>\n",
       "    </tr>\n",
       "  </tbody>\n",
       "</table>\n",
       "</div>"
      ],
      "text/plain": [
       "                                  count           mean            std     min  \\\n",
       "bedroomcnt                    2973767.0       3.088949       1.275859     0.0   \n",
       "bathroomcnt                   2973755.0       2.209143       1.077754     0.0   \n",
       "calculatedfinishedsquarefeet  2929652.0    1827.162124    1819.780469     1.0   \n",
       "lotsizesquarefeet             2709118.0   22822.805528  337592.366408   100.0   \n",
       "yearbuilt                     2925289.0    1964.261641      23.441319  1801.0   \n",
       "structuretaxvaluedollarcnt    2930235.0  170883.577166  402068.342015     1.0   \n",
       "\n",
       "                                  25%       50%       75%          max  \n",
       "bedroomcnt                        2.0       3.0       4.0         20.0  \n",
       "bathroomcnt                       2.0       2.0       3.0         20.0  \n",
       "calculatedfinishedsquarefeet   1213.0    1572.0    2136.0     952576.0  \n",
       "lotsizesquarefeet              5688.0    7000.0    9898.0  328263808.0  \n",
       "yearbuilt                      1950.0    1963.0    1981.0       2015.0  \n",
       "structuretaxvaluedollarcnt    74800.0  122590.0  196889.0  251486000.0  "
      ]
     },
     "execution_count": 124,
     "metadata": {},
     "output_type": "execute_result"
    }
   ],
   "source": [
    "dfr[desirability_attributes].describe().transpose()"
   ]
  },
  {
   "cell_type": "code",
   "execution_count": 125,
   "metadata": {},
   "outputs": [
    {
     "data": {
      "text/html": [
       "<div>\n",
       "<style>\n",
       "    .dataframe thead tr:only-child th {\n",
       "        text-align: right;\n",
       "    }\n",
       "\n",
       "    .dataframe thead th {\n",
       "        text-align: left;\n",
       "    }\n",
       "\n",
       "    .dataframe tbody tr th {\n",
       "        vertical-align: top;\n",
       "    }\n",
       "</style>\n",
       "<table border=\"1\" class=\"dataframe\">\n",
       "  <thead>\n",
       "    <tr style=\"text-align: right;\">\n",
       "      <th></th>\n",
       "      <th>column_name</th>\n",
       "      <th>missing_count</th>\n",
       "    </tr>\n",
       "  </thead>\n",
       "  <tbody>\n",
       "    <tr>\n",
       "      <th>1</th>\n",
       "      <td>bedroomcnt</td>\n",
       "      <td>11450</td>\n",
       "    </tr>\n",
       "    <tr>\n",
       "      <th>2</th>\n",
       "      <td>bathroomcnt</td>\n",
       "      <td>11462</td>\n",
       "    </tr>\n",
       "    <tr>\n",
       "      <th>6</th>\n",
       "      <td>structuretaxvaluedollarcnt</td>\n",
       "      <td>54982</td>\n",
       "    </tr>\n",
       "    <tr>\n",
       "      <th>3</th>\n",
       "      <td>calculatedfinishedsquarefeet</td>\n",
       "      <td>55565</td>\n",
       "    </tr>\n",
       "    <tr>\n",
       "      <th>5</th>\n",
       "      <td>yearbuilt</td>\n",
       "      <td>59928</td>\n",
       "    </tr>\n",
       "    <tr>\n",
       "      <th>4</th>\n",
       "      <td>lotsizesquarefeet</td>\n",
       "      <td>276099</td>\n",
       "    </tr>\n",
       "  </tbody>\n",
       "</table>\n",
       "</div>"
      ],
      "text/plain": [
       "                    column_name  missing_count\n",
       "1                    bedroomcnt          11450\n",
       "2                   bathroomcnt          11462\n",
       "6    structuretaxvaluedollarcnt          54982\n",
       "3  calculatedfinishedsquarefeet          55565\n",
       "5                     yearbuilt          59928\n",
       "4             lotsizesquarefeet         276099"
      ]
     },
     "execution_count": 125,
     "metadata": {},
     "output_type": "execute_result"
    }
   ],
   "source": [
    "# Analysis of missing data\n",
    "missing_df = dfr.isnull().sum(axis=0).reset_index()\n",
    "missing_df.columns = ['column_name', 'missing_count']\n",
    "missing_df = missing_df.loc[missing_df['missing_count']>0]\n",
    "missing_df = missing_df.sort_values(by='missing_count')\n",
    "missing_df"
   ]
  },
  {
   "cell_type": "code",
   "execution_count": 126,
   "metadata": {
    "collapsed": true
   },
   "outputs": [],
   "source": [
    "# Drop all rows with NaNs\n",
    "dfr1 = dfr.dropna(axis=0, how='any')"
   ]
  },
  {
   "cell_type": "code",
   "execution_count": 127,
   "metadata": {},
   "outputs": [
    {
     "data": {
      "text/html": [
       "<div>\n",
       "<style>\n",
       "    .dataframe thead tr:only-child th {\n",
       "        text-align: right;\n",
       "    }\n",
       "\n",
       "    .dataframe thead th {\n",
       "        text-align: left;\n",
       "    }\n",
       "\n",
       "    .dataframe tbody tr th {\n",
       "        vertical-align: top;\n",
       "    }\n",
       "</style>\n",
       "<table border=\"1\" class=\"dataframe\">\n",
       "  <thead>\n",
       "    <tr style=\"text-align: right;\">\n",
       "      <th></th>\n",
       "      <th>count</th>\n",
       "      <th>mean</th>\n",
       "      <th>std</th>\n",
       "      <th>min</th>\n",
       "      <th>25%</th>\n",
       "      <th>50%</th>\n",
       "      <th>75%</th>\n",
       "      <th>max</th>\n",
       "    </tr>\n",
       "  </thead>\n",
       "  <tbody>\n",
       "    <tr>\n",
       "      <th>parcelid</th>\n",
       "      <td>2688057.0</td>\n",
       "      <td>1.280385e+07</td>\n",
       "      <td>2.413644e+06</td>\n",
       "      <td>10711725.0</td>\n",
       "      <td>11578096.0</td>\n",
       "      <td>12425993.0</td>\n",
       "      <td>13934696.0</td>\n",
       "      <td>163275886.0</td>\n",
       "    </tr>\n",
       "    <tr>\n",
       "      <th>bedroomcnt</th>\n",
       "      <td>2688057.0</td>\n",
       "      <td>3.229671e+00</td>\n",
       "      <td>1.181220e+00</td>\n",
       "      <td>0.0</td>\n",
       "      <td>3.0</td>\n",
       "      <td>3.0</td>\n",
       "      <td>4.0</td>\n",
       "      <td>20.0</td>\n",
       "    </tr>\n",
       "    <tr>\n",
       "      <th>bathroomcnt</th>\n",
       "      <td>2688057.0</td>\n",
       "      <td>2.275778e+00</td>\n",
       "      <td>1.041868e+00</td>\n",
       "      <td>0.0</td>\n",
       "      <td>2.0</td>\n",
       "      <td>2.0</td>\n",
       "      <td>3.0</td>\n",
       "      <td>20.0</td>\n",
       "    </tr>\n",
       "    <tr>\n",
       "      <th>calculatedfinishedsquarefeet</th>\n",
       "      <td>2688057.0</td>\n",
       "      <td>1.861594e+03</td>\n",
       "      <td>1.625765e+03</td>\n",
       "      <td>1.0</td>\n",
       "      <td>1238.0</td>\n",
       "      <td>1604.0</td>\n",
       "      <td>2188.0</td>\n",
       "      <td>952576.0</td>\n",
       "    </tr>\n",
       "    <tr>\n",
       "      <th>lotsizesquarefeet</th>\n",
       "      <td>2688057.0</td>\n",
       "      <td>2.258375e+04</td>\n",
       "      <td>3.377145e+05</td>\n",
       "      <td>104.0</td>\n",
       "      <td>5694.0</td>\n",
       "      <td>7000.0</td>\n",
       "      <td>9873.0</td>\n",
       "      <td>328263808.0</td>\n",
       "    </tr>\n",
       "    <tr>\n",
       "      <th>yearbuilt</th>\n",
       "      <td>2688057.0</td>\n",
       "      <td>1.962227e+03</td>\n",
       "      <td>2.285559e+01</td>\n",
       "      <td>1801.0</td>\n",
       "      <td>1949.0</td>\n",
       "      <td>1961.0</td>\n",
       "      <td>1979.0</td>\n",
       "      <td>2015.0</td>\n",
       "    </tr>\n",
       "    <tr>\n",
       "      <th>structuretaxvaluedollarcnt</th>\n",
       "      <td>2688057.0</td>\n",
       "      <td>1.705272e+05</td>\n",
       "      <td>2.814063e+05</td>\n",
       "      <td>1.0</td>\n",
       "      <td>75180.0</td>\n",
       "      <td>122831.0</td>\n",
       "      <td>197150.0</td>\n",
       "      <td>109192169.0</td>\n",
       "    </tr>\n",
       "  </tbody>\n",
       "</table>\n",
       "</div>"
      ],
      "text/plain": [
       "                                  count          mean           std  \\\n",
       "parcelid                      2688057.0  1.280385e+07  2.413644e+06   \n",
       "bedroomcnt                    2688057.0  3.229671e+00  1.181220e+00   \n",
       "bathroomcnt                   2688057.0  2.275778e+00  1.041868e+00   \n",
       "calculatedfinishedsquarefeet  2688057.0  1.861594e+03  1.625765e+03   \n",
       "lotsizesquarefeet             2688057.0  2.258375e+04  3.377145e+05   \n",
       "yearbuilt                     2688057.0  1.962227e+03  2.285559e+01   \n",
       "structuretaxvaluedollarcnt    2688057.0  1.705272e+05  2.814063e+05   \n",
       "\n",
       "                                     min         25%         50%         75%  \\\n",
       "parcelid                      10711725.0  11578096.0  12425993.0  13934696.0   \n",
       "bedroomcnt                           0.0         3.0         3.0         4.0   \n",
       "bathroomcnt                          0.0         2.0         2.0         3.0   \n",
       "calculatedfinishedsquarefeet         1.0      1238.0      1604.0      2188.0   \n",
       "lotsizesquarefeet                  104.0      5694.0      7000.0      9873.0   \n",
       "yearbuilt                         1801.0      1949.0      1961.0      1979.0   \n",
       "structuretaxvaluedollarcnt           1.0     75180.0    122831.0    197150.0   \n",
       "\n",
       "                                      max  \n",
       "parcelid                      163275886.0  \n",
       "bedroomcnt                           20.0  \n",
       "bathroomcnt                          20.0  \n",
       "calculatedfinishedsquarefeet     952576.0  \n",
       "lotsizesquarefeet             328263808.0  \n",
       "yearbuilt                          2015.0  \n",
       "structuretaxvaluedollarcnt    109192169.0  "
      ]
     },
     "execution_count": 127,
     "metadata": {},
     "output_type": "execute_result"
    }
   ],
   "source": [
    "dfr1[all_attributes].describe().transpose()"
   ]
  },
  {
   "cell_type": "markdown",
   "metadata": {},
   "source": [
    "### Cleaning the dataset\n",
    "    - Based on the table above, simple imputations of min values in count data, structuretaxvalue, or finished sq feet data\n",
    "      would not make a lot of sense as I observed there are a range of values which are not natural.\n",
    "      - For instance structure tax values are present like 1,2,3,4... again more than millions etc\n",
    "        While practically higher values may make sense, as compared to lower values, \n",
    "        but I'd like to build on a standard range.\n",
    "    -So my cleaning scheme:\n",
    "        - reject data points for each column which are below 5%ile of the values.\n",
    "        - reject data points for each column where data points are above 95% of values"
   ]
  },
  {
   "cell_type": "code",
   "execution_count": 128,
   "metadata": {
    "collapsed": true
   },
   "outputs": [],
   "source": [
    "# Imputations don't make much sense here, as there are a range of values for which we might have junk numbers\n",
    "# Like some inspection showed there are cases where rooms are listed to have calculated finished sq foot of 1, or \n",
    "# structural tax of of 1 dollar. Often lot size, structural tax have ridiculously high values.\n",
    "# So I intend to drop bottom 5%ile and top 95%ile data to get rid of outliers rather than taking up\n",
    "# a hackneyed imputation\n",
    "count_cols = ['bedroomcnt','bathroomcnt']\n",
    "filter_by_percentile_cols = ['calculatedfinishedsquarefeet','lotsizesquarefeet', 'structuretaxvaluedollarcnt'] + count_cols"
   ]
  },
  {
   "cell_type": "code",
   "execution_count": 129,
   "metadata": {
    "collapsed": true
   },
   "outputs": [],
   "source": [
    "## Removal band specifies how much data we are rejecting from either end\n",
    "removal_band = 5\n",
    "quanitile_filter_dict = defaultdict()\n",
    "for col in filter_by_percentile_cols:\n",
    "    quanitile_filter_dict[col] = (np.percentile(dfr1[col],removal_band),np.percentile(dfr1[col],100 - removal_band))"
   ]
  },
  {
   "cell_type": "code",
   "execution_count": 130,
   "metadata": {},
   "outputs": [
    {
     "name": "stdout",
     "output_type": "stream",
     "text": [
      "Column:  calculatedfinishedsquarefeet  Drop below:  860.0  Drop Above:  3583.0\n",
      "Column:  lotsizesquarefeet  Drop below:  3200.0  Drop Above:  75658.0\n",
      "Column:  structuretaxvaluedollarcnt  Drop below:  31392.0  Drop Above:  432375.2\n",
      "Column:  bedroomcnt  Drop below:  2.0  Drop Above:  5.0\n",
      "Column:  bathroomcnt  Drop below:  1.0  Drop Above:  4.0\n"
     ]
    }
   ],
   "source": [
    "dfr2 = dfr1.copy()\n",
    "for key in quanitile_filter_dict.keys():\n",
    "    print('Column: ', key,' Drop below: ', quanitile_filter_dict[key][0],' Drop Above: ', quanitile_filter_dict[key][1])\n",
    "    dfr2 = dfr2[dfr2[key] > quanitile_filter_dict[key][0]]\n",
    "    dfr2 = dfr2[dfr2[key] < quanitile_filter_dict[key][1]]"
   ]
  },
  {
   "cell_type": "code",
   "execution_count": 131,
   "metadata": {},
   "outputs": [
    {
     "data": {
      "text/html": [
       "<div>\n",
       "<style>\n",
       "    .dataframe thead tr:only-child th {\n",
       "        text-align: right;\n",
       "    }\n",
       "\n",
       "    .dataframe thead th {\n",
       "        text-align: left;\n",
       "    }\n",
       "\n",
       "    .dataframe tbody tr th {\n",
       "        vertical-align: top;\n",
       "    }\n",
       "</style>\n",
       "<table border=\"1\" class=\"dataframe\">\n",
       "  <thead>\n",
       "    <tr style=\"text-align: right;\">\n",
       "      <th></th>\n",
       "      <th>count</th>\n",
       "      <th>mean</th>\n",
       "      <th>std</th>\n",
       "      <th>min</th>\n",
       "      <th>25%</th>\n",
       "      <th>50%</th>\n",
       "      <th>75%</th>\n",
       "      <th>max</th>\n",
       "    </tr>\n",
       "  </thead>\n",
       "  <tbody>\n",
       "    <tr>\n",
       "      <th>parcelid</th>\n",
       "      <td>1360701.0</td>\n",
       "      <td>1.300694e+07</td>\n",
       "      <td>2.554090e+06</td>\n",
       "      <td>10711725.0</td>\n",
       "      <td>11556686.0</td>\n",
       "      <td>12696274.0</td>\n",
       "      <td>14077908.0</td>\n",
       "      <td>163275886.0</td>\n",
       "    </tr>\n",
       "    <tr>\n",
       "      <th>bedroomcnt</th>\n",
       "      <td>1360701.0</td>\n",
       "      <td>3.422096e+00</td>\n",
       "      <td>4.938938e-01</td>\n",
       "      <td>3.0</td>\n",
       "      <td>3.0</td>\n",
       "      <td>3.0</td>\n",
       "      <td>4.0</td>\n",
       "      <td>4.0</td>\n",
       "    </tr>\n",
       "    <tr>\n",
       "      <th>bathroomcnt</th>\n",
       "      <td>1360701.0</td>\n",
       "      <td>2.323959e+00</td>\n",
       "      <td>4.634935e-01</td>\n",
       "      <td>1.5</td>\n",
       "      <td>2.0</td>\n",
       "      <td>2.0</td>\n",
       "      <td>3.0</td>\n",
       "      <td>3.5</td>\n",
       "    </tr>\n",
       "    <tr>\n",
       "      <th>calculatedfinishedsquarefeet</th>\n",
       "      <td>1360701.0</td>\n",
       "      <td>1.806830e+03</td>\n",
       "      <td>5.057303e+02</td>\n",
       "      <td>861.0</td>\n",
       "      <td>1420.0</td>\n",
       "      <td>1703.0</td>\n",
       "      <td>2108.0</td>\n",
       "      <td>3582.0</td>\n",
       "    </tr>\n",
       "    <tr>\n",
       "      <th>lotsizesquarefeet</th>\n",
       "      <td>1360701.0</td>\n",
       "      <td>8.887701e+03</td>\n",
       "      <td>7.449588e+03</td>\n",
       "      <td>3201.0</td>\n",
       "      <td>5985.0</td>\n",
       "      <td>7000.0</td>\n",
       "      <td>8650.0</td>\n",
       "      <td>75642.0</td>\n",
       "    </tr>\n",
       "    <tr>\n",
       "      <th>yearbuilt</th>\n",
       "      <td>1360701.0</td>\n",
       "      <td>1.964505e+03</td>\n",
       "      <td>1.952145e+01</td>\n",
       "      <td>1810.0</td>\n",
       "      <td>1954.0</td>\n",
       "      <td>1962.0</td>\n",
       "      <td>1978.0</td>\n",
       "      <td>2015.0</td>\n",
       "    </tr>\n",
       "    <tr>\n",
       "      <th>structuretaxvaluedollarcnt</th>\n",
       "      <td>1360701.0</td>\n",
       "      <td>1.469807e+05</td>\n",
       "      <td>8.090506e+04</td>\n",
       "      <td>31393.0</td>\n",
       "      <td>86000.0</td>\n",
       "      <td>129658.0</td>\n",
       "      <td>190205.0</td>\n",
       "      <td>432372.0</td>\n",
       "    </tr>\n",
       "  </tbody>\n",
       "</table>\n",
       "</div>"
      ],
      "text/plain": [
       "                                  count          mean           std  \\\n",
       "parcelid                      1360701.0  1.300694e+07  2.554090e+06   \n",
       "bedroomcnt                    1360701.0  3.422096e+00  4.938938e-01   \n",
       "bathroomcnt                   1360701.0  2.323959e+00  4.634935e-01   \n",
       "calculatedfinishedsquarefeet  1360701.0  1.806830e+03  5.057303e+02   \n",
       "lotsizesquarefeet             1360701.0  8.887701e+03  7.449588e+03   \n",
       "yearbuilt                     1360701.0  1.964505e+03  1.952145e+01   \n",
       "structuretaxvaluedollarcnt    1360701.0  1.469807e+05  8.090506e+04   \n",
       "\n",
       "                                     min         25%         50%         75%  \\\n",
       "parcelid                      10711725.0  11556686.0  12696274.0  14077908.0   \n",
       "bedroomcnt                           3.0         3.0         3.0         4.0   \n",
       "bathroomcnt                          1.5         2.0         2.0         3.0   \n",
       "calculatedfinishedsquarefeet       861.0      1420.0      1703.0      2108.0   \n",
       "lotsizesquarefeet                 3201.0      5985.0      7000.0      8650.0   \n",
       "yearbuilt                         1810.0      1954.0      1962.0      1978.0   \n",
       "structuretaxvaluedollarcnt       31393.0     86000.0    129658.0    190205.0   \n",
       "\n",
       "                                      max  \n",
       "parcelid                      163275886.0  \n",
       "bedroomcnt                            4.0  \n",
       "bathroomcnt                           3.5  \n",
       "calculatedfinishedsquarefeet       3582.0  \n",
       "lotsizesquarefeet                 75642.0  \n",
       "yearbuilt                          2015.0  \n",
       "structuretaxvaluedollarcnt       432372.0  "
      ]
     },
     "execution_count": 131,
     "metadata": {},
     "output_type": "execute_result"
    }
   ],
   "source": [
    "# Clearly data looks much more sensible now, how ever our current data set is now 1.36 million points\n",
    "dfr2[all_attributes].describe().transpose()"
   ]
  },
  {
   "cell_type": "markdown",
   "metadata": {},
   "source": [
    "### Desirablity:\n",
    "    - More Bedrooms & bath rooms more desirable, higher scores better\n",
    "    - More finished square footing and more lot area means more desirable, higher scores will mean better\n",
    "    - Buildings built later implies newer buildings, hence more desirable, higher score better\n",
    "    - Lower tax value means higher desirability, Lower scores will mean better"
   ]
  },
  {
   "cell_type": "code",
   "execution_count": 132,
   "metadata": {
    "collapsed": true
   },
   "outputs": [],
   "source": [
    "from scipy import stats"
   ]
  },
  {
   "cell_type": "code",
   "execution_count": 133,
   "metadata": {
    "collapsed": true
   },
   "outputs": [],
   "source": [
    "ascending_desirability_columns = ['bedroomcnt','bathroomcnt','calculatedfinishedsquarefeet','lotsizesquarefeet', 'yearbuilt']\n",
    "descending_desirability_columns = ['structuretaxvaluedollarcnt']\n",
    "quantile_score_columns = ascending_desirability_columns + descending_desirability_columns\n",
    "parcel_ids = pd.DataFrame(dfr2['parcelid'])\n"
   ]
  },
  {
   "cell_type": "code",
   "execution_count": 134,
   "metadata": {
    "collapsed": true
   },
   "outputs": [],
   "source": [
    "#Creating the data frame with Quantile scores of the data\n",
    "# This also removes the need to normalise columns, as the data is now mapped to 0-1 range, for all\n",
    "quantile_score_frame = pd.DataFrame({'structuretaxvaluedollarcnt_score': 1 - (stats.rankdata(dfr2['structuretaxvaluedollarcnt'], \n",
    "                                                                     \"average\")/len(dfr2['structuretaxvaluedollarcnt']))})\n",
    "score_names = ['structuretaxvaluedollarcnt_score']\n",
    "for col in ascending_desirability_columns:\n",
    "    quantile_score_frame[col+'_score'] = stats.rankdata(dfr2[col], \"average\")/len(dfr2[col])\n",
    "    score_names += [col + '_score']\n",
    "\n",
    "quantile_score_frame['parcelid'] = parcel_ids.iloc[:,0].values"
   ]
  },
  {
   "cell_type": "code",
   "execution_count": 135,
   "metadata": {
    "collapsed": true
   },
   "outputs": [],
   "source": [
    "all_score_columns = score_names + ['parcelid']"
   ]
  },
  {
   "cell_type": "code",
   "execution_count": 136,
   "metadata": {},
   "outputs": [
    {
     "data": {
      "text/html": [
       "<div>\n",
       "<style>\n",
       "    .dataframe thead tr:only-child th {\n",
       "        text-align: right;\n",
       "    }\n",
       "\n",
       "    .dataframe thead th {\n",
       "        text-align: left;\n",
       "    }\n",
       "\n",
       "    .dataframe tbody tr th {\n",
       "        vertical-align: top;\n",
       "    }\n",
       "</style>\n",
       "<table border=\"1\" class=\"dataframe\">\n",
       "  <thead>\n",
       "    <tr style=\"text-align: right;\">\n",
       "      <th></th>\n",
       "      <th>parcelid</th>\n",
       "      <th>bedroomcnt</th>\n",
       "      <th>bathroomcnt</th>\n",
       "      <th>calculatedfinishedsquarefeet</th>\n",
       "      <th>lotsizesquarefeet</th>\n",
       "      <th>yearbuilt</th>\n",
       "      <th>structuretaxvaluedollarcnt</th>\n",
       "    </tr>\n",
       "  </thead>\n",
       "  <tbody>\n",
       "    <tr>\n",
       "      <th>31</th>\n",
       "      <td>11585547</td>\n",
       "      <td>3.0</td>\n",
       "      <td>2.0</td>\n",
       "      <td>2077.0</td>\n",
       "      <td>6490.0</td>\n",
       "      <td>1926.0</td>\n",
       "      <td>207035.0</td>\n",
       "    </tr>\n",
       "    <tr>\n",
       "      <th>43</th>\n",
       "      <td>11759947</td>\n",
       "      <td>4.0</td>\n",
       "      <td>2.0</td>\n",
       "      <td>1931.0</td>\n",
       "      <td>5420.0</td>\n",
       "      <td>1957.0</td>\n",
       "      <td>122915.0</td>\n",
       "    </tr>\n",
       "    <tr>\n",
       "      <th>101</th>\n",
       "      <td>12606547</td>\n",
       "      <td>3.0</td>\n",
       "      <td>3.0</td>\n",
       "      <td>2166.0</td>\n",
       "      <td>22073.0</td>\n",
       "      <td>2005.0</td>\n",
       "      <td>363000.0</td>\n",
       "    </tr>\n",
       "    <tr>\n",
       "      <th>109</th>\n",
       "      <td>12757147</td>\n",
       "      <td>3.0</td>\n",
       "      <td>2.0</td>\n",
       "      <td>1300.0</td>\n",
       "      <td>4917.0</td>\n",
       "      <td>1950.0</td>\n",
       "      <td>76253.0</td>\n",
       "    </tr>\n",
       "    <tr>\n",
       "      <th>110</th>\n",
       "      <td>12757947</td>\n",
       "      <td>3.0</td>\n",
       "      <td>2.0</td>\n",
       "      <td>1222.0</td>\n",
       "      <td>5500.0</td>\n",
       "      <td>1951.0</td>\n",
       "      <td>116069.0</td>\n",
       "    </tr>\n",
       "  </tbody>\n",
       "</table>\n",
       "</div>"
      ],
      "text/plain": [
       "     parcelid  bedroomcnt  bathroomcnt  calculatedfinishedsquarefeet  \\\n",
       "31   11585547         3.0          2.0                        2077.0   \n",
       "43   11759947         4.0          2.0                        1931.0   \n",
       "101  12606547         3.0          3.0                        2166.0   \n",
       "109  12757147         3.0          2.0                        1300.0   \n",
       "110  12757947         3.0          2.0                        1222.0   \n",
       "\n",
       "     lotsizesquarefeet  yearbuilt  structuretaxvaluedollarcnt  \n",
       "31              6490.0     1926.0                    207035.0  \n",
       "43              5420.0     1957.0                    122915.0  \n",
       "101            22073.0     2005.0                    363000.0  \n",
       "109             4917.0     1950.0                     76253.0  \n",
       "110             5500.0     1951.0                    116069.0  "
      ]
     },
     "execution_count": 136,
     "metadata": {},
     "output_type": "execute_result"
    }
   ],
   "source": [
    "dfr2.head(5)"
   ]
  },
  {
   "cell_type": "code",
   "execution_count": 137,
   "metadata": {},
   "outputs": [
    {
     "data": {
      "text/html": [
       "<div>\n",
       "<style>\n",
       "    .dataframe thead tr:only-child th {\n",
       "        text-align: right;\n",
       "    }\n",
       "\n",
       "    .dataframe thead th {\n",
       "        text-align: left;\n",
       "    }\n",
       "\n",
       "    .dataframe tbody tr th {\n",
       "        vertical-align: top;\n",
       "    }\n",
       "</style>\n",
       "<table border=\"1\" class=\"dataframe\">\n",
       "  <thead>\n",
       "    <tr style=\"text-align: right;\">\n",
       "      <th></th>\n",
       "      <th>structuretaxvaluedollarcnt_score</th>\n",
       "      <th>bedroomcnt_score</th>\n",
       "      <th>bathroomcnt_score</th>\n",
       "      <th>calculatedfinishedsquarefeet_score</th>\n",
       "      <th>lotsizesquarefeet_score</th>\n",
       "      <th>yearbuilt_score</th>\n",
       "      <th>parcelid</th>\n",
       "    </tr>\n",
       "  </thead>\n",
       "  <tbody>\n",
       "    <tr>\n",
       "      <th>0</th>\n",
       "      <td>0.203687</td>\n",
       "      <td>0.288953</td>\n",
       "      <td>0.323210</td>\n",
       "      <td>0.735119</td>\n",
       "      <td>0.395742</td>\n",
       "      <td>0.041892</td>\n",
       "      <td>11585547</td>\n",
       "    </tr>\n",
       "    <tr>\n",
       "      <th>1</th>\n",
       "      <td>0.535923</td>\n",
       "      <td>0.788953</td>\n",
       "      <td>0.323210</td>\n",
       "      <td>0.656840</td>\n",
       "      <td>0.164248</td>\n",
       "      <td>0.375079</td>\n",
       "      <td>11759947</td>\n",
       "    </tr>\n",
       "    <tr>\n",
       "      <th>2</th>\n",
       "      <td>0.019898</td>\n",
       "      <td>0.288953</td>\n",
       "      <td>0.852832</td>\n",
       "      <td>0.775931</td>\n",
       "      <td>0.959389</td>\n",
       "      <td>0.984010</td>\n",
       "      <td>12606547</td>\n",
       "    </tr>\n",
       "    <tr>\n",
       "      <th>3</th>\n",
       "      <td>0.805760</td>\n",
       "      <td>0.288953</td>\n",
       "      <td>0.323210</td>\n",
       "      <td>0.148551</td>\n",
       "      <td>0.075224</td>\n",
       "      <td>0.171228</td>\n",
       "      <td>12757147</td>\n",
       "    </tr>\n",
       "    <tr>\n",
       "      <th>4</th>\n",
       "      <td>0.573477</td>\n",
       "      <td>0.288953</td>\n",
       "      <td>0.323210</td>\n",
       "      <td>0.087150</td>\n",
       "      <td>0.176444</td>\n",
       "      <td>0.191573</td>\n",
       "      <td>12757947</td>\n",
       "    </tr>\n",
       "  </tbody>\n",
       "</table>\n",
       "</div>"
      ],
      "text/plain": [
       "   structuretaxvaluedollarcnt_score  bedroomcnt_score  bathroomcnt_score  \\\n",
       "0                          0.203687          0.288953           0.323210   \n",
       "1                          0.535923          0.788953           0.323210   \n",
       "2                          0.019898          0.288953           0.852832   \n",
       "3                          0.805760          0.288953           0.323210   \n",
       "4                          0.573477          0.288953           0.323210   \n",
       "\n",
       "   calculatedfinishedsquarefeet_score  lotsizesquarefeet_score  \\\n",
       "0                            0.735119                 0.395742   \n",
       "1                            0.656840                 0.164248   \n",
       "2                            0.775931                 0.959389   \n",
       "3                            0.148551                 0.075224   \n",
       "4                            0.087150                 0.176444   \n",
       "\n",
       "   yearbuilt_score  parcelid  \n",
       "0         0.041892  11585547  \n",
       "1         0.375079  11759947  \n",
       "2         0.984010  12606547  \n",
       "3         0.171228  12757147  \n",
       "4         0.191573  12757947  "
      ]
     },
     "execution_count": 137,
     "metadata": {},
     "output_type": "execute_result"
    }
   ],
   "source": [
    "quantile_score_frame[all_score_columns].head(5)\n",
    "# We can see how the quantile scores are behaving as we set up the desirability definitions"
   ]
  },
  {
   "cell_type": "markdown",
   "metadata": {},
   "source": [
    "### Generating combination Linear combination coifficients using PCA"
   ]
  },
  {
   "cell_type": "code",
   "execution_count": 138,
   "metadata": {},
   "outputs": [
    {
     "data": {
      "text/plain": [
       "PCA(copy=True, iterated_power='auto', n_components=2, random_state=None,\n",
       "  svd_solver='auto', tol=0.0, whiten=False)"
      ]
     },
     "execution_count": 138,
     "metadata": {},
     "output_type": "execute_result"
    }
   ],
   "source": [
    "X = quantile_score_frame[score_names]\n",
    "from sklearn.decomposition import PCA\n",
    "pca = PCA(n_components=2)\n",
    "pca.fit(X)"
   ]
  },
  {
   "cell_type": "code",
   "execution_count": 139,
   "metadata": {},
   "outputs": [
    {
     "data": {
      "text/html": [
       "<div>\n",
       "<style>\n",
       "    .dataframe thead tr:only-child th {\n",
       "        text-align: right;\n",
       "    }\n",
       "\n",
       "    .dataframe thead th {\n",
       "        text-align: left;\n",
       "    }\n",
       "\n",
       "    .dataframe tbody tr th {\n",
       "        vertical-align: top;\n",
       "    }\n",
       "</style>\n",
       "<table border=\"1\" class=\"dataframe\">\n",
       "  <thead>\n",
       "    <tr style=\"text-align: right;\">\n",
       "      <th></th>\n",
       "      <th>0</th>\n",
       "    </tr>\n",
       "  </thead>\n",
       "  <tbody>\n",
       "    <tr>\n",
       "      <th>0</th>\n",
       "      <td>-0.520797</td>\n",
       "    </tr>\n",
       "    <tr>\n",
       "      <th>1</th>\n",
       "      <td>0.235099</td>\n",
       "    </tr>\n",
       "    <tr>\n",
       "      <th>2</th>\n",
       "      <td>0.430328</td>\n",
       "    </tr>\n",
       "    <tr>\n",
       "      <th>3</th>\n",
       "      <td>0.546572</td>\n",
       "    </tr>\n",
       "    <tr>\n",
       "      <th>4</th>\n",
       "      <td>0.172876</td>\n",
       "    </tr>\n",
       "    <tr>\n",
       "      <th>5</th>\n",
       "      <td>0.399611</td>\n",
       "    </tr>\n",
       "  </tbody>\n",
       "</table>\n",
       "</div>"
      ],
      "text/plain": [
       "          0\n",
       "0 -0.520797\n",
       "1  0.235099\n",
       "2  0.430328\n",
       "3  0.546572\n",
       "4  0.172876\n",
       "5  0.399611"
      ]
     },
     "execution_count": 139,
     "metadata": {},
     "output_type": "execute_result"
    }
   ],
   "source": [
    "combination_coefficients = pd.DataFrame(pca.components_[0]) \n",
    "# Eigen Vector of PC1. nx1 form\n",
    "combination_coefficients"
   ]
  },
  {
   "cell_type": "markdown",
   "metadata": {},
   "source": [
    "### Generating the desirability Score for the houses"
   ]
  },
  {
   "cell_type": "code",
   "execution_count": 142,
   "metadata": {
    "collapsed": true
   },
   "outputs": [],
   "source": [
    "#Linear Combination of score columns with the PC1 coefficients. nx6 mult 6x1 = nx1 score values.\n",
    "desirability_score = np.dot(quantile_score_frame[score_names], combination_coefficients)\n",
    "quantile_score_frame['desirability_score'] = desirability_score"
   ]
  },
  {
   "cell_type": "markdown",
   "metadata": {},
   "source": [
    "## Score Distribution \n",
    "    - Following is the distribution of scores we have assigned to the houses\n",
    "    - Now We can sort the houses by these scores and \n",
    "        -the top 10 will have highest scores \n",
    "        - the bottom 10 will have the lowest scores\n",
    "        \n",
    "### All the houses have been mapped to score values between (-0.5, 1.8)\n",
    "#### Higher score implies a higher desirability of a house than a house with a lower score\n",
    "    - On the X axis we have the scores\n",
    "    - On the Y axis we have the frequency\n",
    "    - According to our scoring algorithm\n",
    "      - largest number of houses have scores between 0-0.25"
   ]
  },
  {
   "cell_type": "code",
   "execution_count": 148,
   "metadata": {},
   "outputs": [
    {
     "data": {
      "image/png": "[encoded data removed]",
      "text/plain": [
       "<matplotlib.figure.Figure at 0x28401394780>"
      ]
     },
     "metadata": {},
     "output_type": "display_data"
    }
   ],
   "source": [
    "fig = plt.figure(figsize=(12,7))\n",
    "x=plt.hist(quantile_score_frame['desirability_score'],bins=100)"
   ]
  },
  {
   "cell_type": "markdown",
   "metadata": {},
   "source": [
    "### Top 10 Houses\n",
    "These are the 10 houses ranked by the desirability score"
   ]
  },
  {
   "cell_type": "code",
   "execution_count": 146,
   "metadata": {},
   "outputs": [
    {
     "data": {
      "text/html": [
       "<div>\n",
       "<style>\n",
       "    .dataframe thead tr:only-child th {\n",
       "        text-align: right;\n",
       "    }\n",
       "\n",
       "    .dataframe thead th {\n",
       "        text-align: left;\n",
       "    }\n",
       "\n",
       "    .dataframe tbody tr th {\n",
       "        vertical-align: top;\n",
       "    }\n",
       "</style>\n",
       "<table border=\"1\" class=\"dataframe\">\n",
       "  <thead>\n",
       "    <tr style=\"text-align: right;\">\n",
       "      <th></th>\n",
       "      <th>structuretaxvaluedollarcnt_score</th>\n",
       "      <th>bedroomcnt_score</th>\n",
       "      <th>bathroomcnt_score</th>\n",
       "      <th>calculatedfinishedsquarefeet_score</th>\n",
       "      <th>lotsizesquarefeet_score</th>\n",
       "      <th>yearbuilt_score</th>\n",
       "      <th>parcelid</th>\n",
       "      <th>desirability_score</th>\n",
       "    </tr>\n",
       "  </thead>\n",
       "  <tbody>\n",
       "    <tr>\n",
       "      <th>209387</th>\n",
       "      <td>0.002664</td>\n",
       "      <td>0.788953</td>\n",
       "      <td>0.996159</td>\n",
       "      <td>0.996772</td>\n",
       "      <td>0.978609</td>\n",
       "      <td>0.996314</td>\n",
       "      <td>14202712</td>\n",
       "      <td>1.724894</td>\n",
       "    </tr>\n",
       "    <tr>\n",
       "      <th>782015</th>\n",
       "      <td>0.007261</td>\n",
       "      <td>0.788953</td>\n",
       "      <td>0.996159</td>\n",
       "      <td>0.997825</td>\n",
       "      <td>0.963362</td>\n",
       "      <td>0.997624</td>\n",
       "      <td>17257315</td>\n",
       "      <td>1.720963</td>\n",
       "    </tr>\n",
       "    <tr>\n",
       "      <th>876111</th>\n",
       "      <td>0.001374</td>\n",
       "      <td>0.788953</td>\n",
       "      <td>0.996159</td>\n",
       "      <td>0.994658</td>\n",
       "      <td>0.955507</td>\n",
       "      <td>0.984010</td>\n",
       "      <td>14145142</td>\n",
       "      <td>1.715499</td>\n",
       "    </tr>\n",
       "    <tr>\n",
       "      <th>1177315</th>\n",
       "      <td>0.001056</td>\n",
       "      <td>0.788953</td>\n",
       "      <td>0.996159</td>\n",
       "      <td>0.993698</td>\n",
       "      <td>0.993605</td>\n",
       "      <td>0.967803</td>\n",
       "      <td>17300511</td>\n",
       "      <td>1.715250</td>\n",
       "    </tr>\n",
       "    <tr>\n",
       "      <th>393266</th>\n",
       "      <td>0.004982</td>\n",
       "      <td>0.788953</td>\n",
       "      <td>0.996159</td>\n",
       "      <td>0.983406</td>\n",
       "      <td>0.963675</td>\n",
       "      <td>0.997004</td>\n",
       "      <td>14201457</td>\n",
       "      <td>1.714075</td>\n",
       "    </tr>\n",
       "    <tr>\n",
       "      <th>508981</th>\n",
       "      <td>0.001559</td>\n",
       "      <td>0.788953</td>\n",
       "      <td>0.996159</td>\n",
       "      <td>0.996587</td>\n",
       "      <td>0.986777</td>\n",
       "      <td>0.962090</td>\n",
       "      <td>14232873</td>\n",
       "      <td>1.713104</td>\n",
       "    </tr>\n",
       "    <tr>\n",
       "      <th>1027010</th>\n",
       "      <td>0.010693</td>\n",
       "      <td>0.788953</td>\n",
       "      <td>0.996159</td>\n",
       "      <td>0.993676</td>\n",
       "      <td>0.972135</td>\n",
       "      <td>0.984010</td>\n",
       "      <td>17051508</td>\n",
       "      <td>1.712984</td>\n",
       "    </tr>\n",
       "    <tr>\n",
       "      <th>1331984</th>\n",
       "      <td>0.008381</td>\n",
       "      <td>0.788953</td>\n",
       "      <td>0.996159</td>\n",
       "      <td>0.998878</td>\n",
       "      <td>0.962523</td>\n",
       "      <td>0.973224</td>\n",
       "      <td>14144920</td>\n",
       "      <td>1.711059</td>\n",
       "    </tr>\n",
       "    <tr>\n",
       "      <th>577720</th>\n",
       "      <td>0.003893</td>\n",
       "      <td>0.788953</td>\n",
       "      <td>0.996159</td>\n",
       "      <td>0.995828</td>\n",
       "      <td>0.994223</td>\n",
       "      <td>0.956012</td>\n",
       "      <td>17264250</td>\n",
       "      <td>1.710331</td>\n",
       "    </tr>\n",
       "    <tr>\n",
       "      <th>659367</th>\n",
       "      <td>0.003450</td>\n",
       "      <td>0.788953</td>\n",
       "      <td>0.996159</td>\n",
       "      <td>0.998077</td>\n",
       "      <td>0.943581</td>\n",
       "      <td>0.973224</td>\n",
       "      <td>17263523</td>\n",
       "      <td>1.709915</td>\n",
       "    </tr>\n",
       "  </tbody>\n",
       "</table>\n",
       "</div>"
      ],
      "text/plain": [
       "         structuretaxvaluedollarcnt_score  bedroomcnt_score  \\\n",
       "209387                           0.002664          0.788953   \n",
       "782015                           0.007261          0.788953   \n",
       "876111                           0.001374          0.788953   \n",
       "1177315                          0.001056          0.788953   \n",
       "393266                           0.004982          0.788953   \n",
       "508981                           0.001559          0.788953   \n",
       "1027010                          0.010693          0.788953   \n",
       "1331984                          0.008381          0.788953   \n",
       "577720                           0.003893          0.788953   \n",
       "659367                           0.003450          0.788953   \n",
       "\n",
       "         bathroomcnt_score  calculatedfinishedsquarefeet_score  \\\n",
       "209387            0.996159                            0.996772   \n",
       "782015            0.996159                            0.997825   \n",
       "876111            0.996159                            0.994658   \n",
       "1177315           0.996159                            0.993698   \n",
       "393266            0.996159                            0.983406   \n",
       "508981            0.996159                            0.996587   \n",
       "1027010           0.996159                            0.993676   \n",
       "1331984           0.996159                            0.998878   \n",
       "577720            0.996159                            0.995828   \n",
       "659367            0.996159                            0.998077   \n",
       "\n",
       "         lotsizesquarefeet_score  yearbuilt_score  parcelid  \\\n",
       "209387                  0.978609         0.996314  14202712   \n",
       "782015                  0.963362         0.997624  17257315   \n",
       "876111                  0.955507         0.984010  14145142   \n",
       "1177315                 0.993605         0.967803  17300511   \n",
       "393266                  0.963675         0.997004  14201457   \n",
       "508981                  0.986777         0.962090  14232873   \n",
       "1027010                 0.972135         0.984010  17051508   \n",
       "1331984                 0.962523         0.973224  14144920   \n",
       "577720                  0.994223         0.956012  17264250   \n",
       "659367                  0.943581         0.973224  17263523   \n",
       "\n",
       "         desirability_score  \n",
       "209387             1.724894  \n",
       "782015             1.720963  \n",
       "876111             1.715499  \n",
       "1177315            1.715250  \n",
       "393266             1.714075  \n",
       "508981             1.713104  \n",
       "1027010            1.712984  \n",
       "1331984            1.711059  \n",
       "577720             1.710331  \n",
       "659367             1.709915  "
      ]
     },
     "execution_count": 146,
     "metadata": {},
     "output_type": "execute_result"
    }
   ],
   "source": [
    "quantile_score_frame.nlargest(10, 'desirability_score')"
   ]
  },
  {
   "cell_type": "markdown",
   "metadata": {},
   "source": [
    "### Bottom 10 houses\n",
    "These are the bottom 10 houses ranked by the desirability score"
   ]
  },
  {
   "cell_type": "code",
   "execution_count": 147,
   "metadata": {},
   "outputs": [
    {
     "data": {
      "text/html": [
       "<div>\n",
       "<style>\n",
       "    .dataframe thead tr:only-child th {\n",
       "        text-align: right;\n",
       "    }\n",
       "\n",
       "    .dataframe thead th {\n",
       "        text-align: left;\n",
       "    }\n",
       "\n",
       "    .dataframe tbody tr th {\n",
       "        vertical-align: top;\n",
       "    }\n",
       "</style>\n",
       "<table border=\"1\" class=\"dataframe\">\n",
       "  <thead>\n",
       "    <tr style=\"text-align: right;\">\n",
       "      <th></th>\n",
       "      <th>structuretaxvaluedollarcnt_score</th>\n",
       "      <th>bedroomcnt_score</th>\n",
       "      <th>bathroomcnt_score</th>\n",
       "      <th>calculatedfinishedsquarefeet_score</th>\n",
       "      <th>lotsizesquarefeet_score</th>\n",
       "      <th>yearbuilt_score</th>\n",
       "      <th>parcelid</th>\n",
       "      <th>desirability_score</th>\n",
       "    </tr>\n",
       "  </thead>\n",
       "  <tbody>\n",
       "    <tr>\n",
       "      <th>515493</th>\n",
       "      <td>0.990136</td>\n",
       "      <td>0.288953</td>\n",
       "      <td>0.006787</td>\n",
       "      <td>0.002211</td>\n",
       "      <td>0.015235</td>\n",
       "      <td>0.001365</td>\n",
       "      <td>14132206</td>\n",
       "      <td>-0.440420</td>\n",
       "    </tr>\n",
       "    <tr>\n",
       "      <th>1129310</th>\n",
       "      <td>0.961495</td>\n",
       "      <td>0.288953</td>\n",
       "      <td>0.006787</td>\n",
       "      <td>0.004681</td>\n",
       "      <td>0.018869</td>\n",
       "      <td>0.005261</td>\n",
       "      <td>17066219</td>\n",
       "      <td>-0.421968</td>\n",
       "    </tr>\n",
       "    <tr>\n",
       "      <th>748124</th>\n",
       "      <td>0.980024</td>\n",
       "      <td>0.288953</td>\n",
       "      <td>0.006787</td>\n",
       "      <td>0.007135</td>\n",
       "      <td>0.025849</td>\n",
       "      <td>0.036680</td>\n",
       "      <td>17097563</td>\n",
       "      <td>-0.416515</td>\n",
       "    </tr>\n",
       "    <tr>\n",
       "      <th>461828</th>\n",
       "      <td>0.954598</td>\n",
       "      <td>0.288953</td>\n",
       "      <td>0.006787</td>\n",
       "      <td>0.000223</td>\n",
       "      <td>0.041751</td>\n",
       "      <td>0.062132</td>\n",
       "      <td>14404129</td>\n",
       "      <td>-0.394131</td>\n",
       "    </tr>\n",
       "    <tr>\n",
       "      <th>235708</th>\n",
       "      <td>0.986342</td>\n",
       "      <td>0.288953</td>\n",
       "      <td>0.006787</td>\n",
       "      <td>0.067440</td>\n",
       "      <td>0.033187</td>\n",
       "      <td>0.046515</td>\n",
       "      <td>13878336</td>\n",
       "      <td>-0.381646</td>\n",
       "    </tr>\n",
       "    <tr>\n",
       "      <th>1079579</th>\n",
       "      <td>0.994777</td>\n",
       "      <td>0.288953</td>\n",
       "      <td>0.006787</td>\n",
       "      <td>0.003160</td>\n",
       "      <td>0.011565</td>\n",
       "      <td>0.171228</td>\n",
       "      <td>13893976</td>\n",
       "      <td>-0.375073</td>\n",
       "    </tr>\n",
       "    <tr>\n",
       "      <th>924999</th>\n",
       "      <td>0.933541</td>\n",
       "      <td>0.288953</td>\n",
       "      <td>0.006787</td>\n",
       "      <td>0.000149</td>\n",
       "      <td>0.208086</td>\n",
       "      <td>0.050470</td>\n",
       "      <td>17070566</td>\n",
       "      <td>-0.359110</td>\n",
       "    </tr>\n",
       "    <tr>\n",
       "      <th>971268</th>\n",
       "      <td>0.970329</td>\n",
       "      <td>0.288953</td>\n",
       "      <td>0.006787</td>\n",
       "      <td>0.037594</td>\n",
       "      <td>0.350226</td>\n",
       "      <td>0.003637</td>\n",
       "      <td>14118787</td>\n",
       "      <td>-0.351945</td>\n",
       "    </tr>\n",
       "    <tr>\n",
       "      <th>235637</th>\n",
       "      <td>0.989538</td>\n",
       "      <td>0.288953</td>\n",
       "      <td>0.006787</td>\n",
       "      <td>0.021173</td>\n",
       "      <td>0.350226</td>\n",
       "      <td>0.054022</td>\n",
       "      <td>13839592</td>\n",
       "      <td>-0.350790</td>\n",
       "    </tr>\n",
       "    <tr>\n",
       "      <th>1025246</th>\n",
       "      <td>0.989829</td>\n",
       "      <td>0.288953</td>\n",
       "      <td>0.006787</td>\n",
       "      <td>0.000085</td>\n",
       "      <td>0.486024</td>\n",
       "      <td>0.024701</td>\n",
       "      <td>13951584</td>\n",
       "      <td>-0.350709</td>\n",
       "    </tr>\n",
       "  </tbody>\n",
       "</table>\n",
       "</div>"
      ],
      "text/plain": [
       "         structuretaxvaluedollarcnt_score  bedroomcnt_score  \\\n",
       "515493                           0.990136          0.288953   \n",
       "1129310                          0.961495          0.288953   \n",
       "748124                           0.980024          0.288953   \n",
       "461828                           0.954598          0.288953   \n",
       "235708                           0.986342          0.288953   \n",
       "1079579                          0.994777          0.288953   \n",
       "924999                           0.933541          0.288953   \n",
       "971268                           0.970329          0.288953   \n",
       "235637                           0.989538          0.288953   \n",
       "1025246                          0.989829          0.288953   \n",
       "\n",
       "         bathroomcnt_score  calculatedfinishedsquarefeet_score  \\\n",
       "515493            0.006787                            0.002211   \n",
       "1129310           0.006787                            0.004681   \n",
       "748124            0.006787                            0.007135   \n",
       "461828            0.006787                            0.000223   \n",
       "235708            0.006787                            0.067440   \n",
       "1079579           0.006787                            0.003160   \n",
       "924999            0.006787                            0.000149   \n",
       "971268            0.006787                            0.037594   \n",
       "235637            0.006787                            0.021173   \n",
       "1025246           0.006787                            0.000085   \n",
       "\n",
       "         lotsizesquarefeet_score  yearbuilt_score  parcelid  \\\n",
       "515493                  0.015235         0.001365  14132206   \n",
       "1129310                 0.018869         0.005261  17066219   \n",
       "748124                  0.025849         0.036680  17097563   \n",
       "461828                  0.041751         0.062132  14404129   \n",
       "235708                  0.033187         0.046515  13878336   \n",
       "1079579                 0.011565         0.171228  13893976   \n",
       "924999                  0.208086         0.050470  17070566   \n",
       "971268                  0.350226         0.003637  14118787   \n",
       "235637                  0.350226         0.054022  13839592   \n",
       "1025246                 0.486024         0.024701  13951584   \n",
       "\n",
       "         desirability_score  \n",
       "515493            -0.440420  \n",
       "1129310           -0.421968  \n",
       "748124            -0.416515  \n",
       "461828            -0.394131  \n",
       "235708            -0.381646  \n",
       "1079579           -0.375073  \n",
       "924999            -0.359110  \n",
       "971268            -0.351945  \n",
       "235637            -0.350790  \n",
       "1025246           -0.350709  "
      ]
     },
     "execution_count": 147,
     "metadata": {},
     "output_type": "execute_result"
    }
   ],
   "source": [
    "quantile_score_frame.nsmallest(10, 'desirability_score')"
   ]
  },
  {
   "cell_type": "markdown",
   "metadata": {},
   "source": [
    "# Task 2. Choosing a Distance metric\n",
    "    - This task requires us to figure out a distance metric between properties\n",
    "    - The features should have:\n",
    "        - property specific variables-- bathroom, bedroom counts, finished living area, year built, and structure tax.\n",
    "        - location specific data: Latitude and longitude\n",
    "### The Distance metric I am choosing is Mahalanobis distance\n",
    "    - This is an improvement over the Eucleadian distance, as Eucledian distance gives equal importance to all features\n",
    "    - Mahalanobis distance uses the covariance matrix of the data to normalise them\n",
    "    \n",
    "### Evaluation Process\n",
    "    - Group A: 3 of the top 10 houses were chosen from the top 10 houses list of Task 1,\n",
    "        - that were built around the same time 2000's, \n",
    "        - taxes close to eachother,\n",
    "        - similar home configurations\n",
    "        - similar square footage of living area\n",
    "    - Group B: 3 of the bottom 10 houses were chosen from bottom 10 houses of of Task 1.\n",
    "        which were much older, and had similar properties as described above.\n",
    "        \n",
    "    - A pairwise distance evaluation was run on the two groups stacked together.\n",
    "    \n",
    "### Results\n",
    "    - Houses in group A had similar small distance among eachother (<1)\n",
    "    - Houses in group B had small distance among eachother\n",
    "    - Group A house to Group B house distance was >= 3"
   ]
  },
  {
   "cell_type": "code",
   "execution_count": null,
   "metadata": {
    "collapsed": true
   },
   "outputs": [],
   "source": [
    "%matplotlib inline\n",
    "\n",
    "import pandas as pd\n",
    "import numpy as np\n",
    "import seaborn as sns\n",
    "import matplotlib.pyplot as plt"
   ]
  },
  {
   "cell_type": "code",
   "execution_count": 101,
   "metadata": {
    "collapsed": true
   },
   "outputs": [],
   "source": [
    "from collections import defaultdict"
   ]
  },
  {
   "cell_type": "code",
   "execution_count": null,
   "metadata": {
    "collapsed": true
   },
   "outputs": [],
   "source": [
    "df = pd.read_csv(\"C://Users//ibipul//codes//datasets//Zillow_data//train_2016_v2.csv\")"
   ]
  },
  {
   "cell_type": "code",
   "execution_count": null,
   "metadata": {
    "collapsed": true
   },
   "outputs": [],
   "source": [
    "dfp = pd.read_csv(\"C://Users//ibipul//codes//datasets//Zillow_data/properties_2016.csv\", low_memory = False)"
   ]
  },
  {
   "cell_type": "markdown",
   "metadata": {},
   "source": [
    "### Choice of attributes\n",
    "    - Attributes chosen are similar as Task 1, \n",
    "    - Only latitude and longitude are being added to bring in the geographical favour"
   ]
  },
  {
   "cell_type": "code",
   "execution_count": 100,
   "metadata": {
    "collapsed": true
   },
   "outputs": [],
   "source": [
    "distance_attributes = []\n",
    "key = ['parcelid']\n",
    "latlong = ['latitude', 'longitude']\n",
    "count_attributes = ['bedroomcnt','bathroomcnt']\n",
    "house_area_attributes = ['calculatedfinishedsquarefeet']\n",
    "oldness_attribute = ['yearbuilt']\n",
    "monetary_attribute = ['structuretaxvaluedollarcnt']\n",
    "distance_attributes = latlong + count_attributes + house_area_attributes + oldness_attribute + monetary_attribute\n",
    "all_attributes = key + distance_attributes"
   ]
  },
  {
   "cell_type": "code",
   "execution_count": 102,
   "metadata": {
    "collapsed": true
   },
   "outputs": [],
   "source": [
    "dfr = dfp[all_attributes]"
   ]
  },
  {
   "cell_type": "code",
   "execution_count": 103,
   "metadata": {},
   "outputs": [
    {
     "data": {
      "text/html": [
       "<div>\n",
       "<style>\n",
       "    .dataframe thead tr:only-child th {\n",
       "        text-align: right;\n",
       "    }\n",
       "\n",
       "    .dataframe thead th {\n",
       "        text-align: left;\n",
       "    }\n",
       "\n",
       "    .dataframe tbody tr th {\n",
       "        vertical-align: top;\n",
       "    }\n",
       "</style>\n",
       "<table border=\"1\" class=\"dataframe\">\n",
       "  <thead>\n",
       "    <tr style=\"text-align: right;\">\n",
       "      <th></th>\n",
       "      <th>column_name</th>\n",
       "      <th>missing_count</th>\n",
       "    </tr>\n",
       "  </thead>\n",
       "  <tbody>\n",
       "    <tr>\n",
       "      <th>1</th>\n",
       "      <td>latitude</td>\n",
       "      <td>11437</td>\n",
       "    </tr>\n",
       "    <tr>\n",
       "      <th>2</th>\n",
       "      <td>longitude</td>\n",
       "      <td>11437</td>\n",
       "    </tr>\n",
       "    <tr>\n",
       "      <th>3</th>\n",
       "      <td>bedroomcnt</td>\n",
       "      <td>11450</td>\n",
       "    </tr>\n",
       "    <tr>\n",
       "      <th>4</th>\n",
       "      <td>bathroomcnt</td>\n",
       "      <td>11462</td>\n",
       "    </tr>\n",
       "    <tr>\n",
       "      <th>7</th>\n",
       "      <td>structuretaxvaluedollarcnt</td>\n",
       "      <td>54982</td>\n",
       "    </tr>\n",
       "    <tr>\n",
       "      <th>5</th>\n",
       "      <td>calculatedfinishedsquarefeet</td>\n",
       "      <td>55565</td>\n",
       "    </tr>\n",
       "    <tr>\n",
       "      <th>6</th>\n",
       "      <td>yearbuilt</td>\n",
       "      <td>59928</td>\n",
       "    </tr>\n",
       "  </tbody>\n",
       "</table>\n",
       "</div>"
      ],
      "text/plain": [
       "                    column_name  missing_count\n",
       "1                      latitude          11437\n",
       "2                     longitude          11437\n",
       "3                    bedroomcnt          11450\n",
       "4                   bathroomcnt          11462\n",
       "7    structuretaxvaluedollarcnt          54982\n",
       "5  calculatedfinishedsquarefeet          55565\n",
       "6                     yearbuilt          59928"
      ]
     },
     "execution_count": 103,
     "metadata": {},
     "output_type": "execute_result"
    }
   ],
   "source": [
    "## Testing out the missing data stats\n",
    "missing_df = dfr.isnull().sum(axis=0).reset_index()\n",
    "missing_df.columns = ['column_name', 'missing_count']\n",
    "missing_df = missing_df.loc[missing_df['missing_count']>0]\n",
    "missing_df = missing_df.sort_values(by='missing_count')\n",
    "missing_df"
   ]
  },
  {
   "cell_type": "code",
   "execution_count": 104,
   "metadata": {
    "collapsed": true
   },
   "outputs": [],
   "source": [
    "## It suffices to just drop the NaNs \n",
    "#as we will just be testing out the distance in a controlled manner in this example.\n",
    "dfr = dfr.dropna(how='any',axis=0)"
   ]
  },
  {
   "cell_type": "code",
   "execution_count": 105,
   "metadata": {},
   "outputs": [
    {
     "data": {
      "text/html": [
       "<div>\n",
       "<style>\n",
       "    .dataframe thead tr:only-child th {\n",
       "        text-align: right;\n",
       "    }\n",
       "\n",
       "    .dataframe thead th {\n",
       "        text-align: left;\n",
       "    }\n",
       "\n",
       "    .dataframe tbody tr th {\n",
       "        vertical-align: top;\n",
       "    }\n",
       "</style>\n",
       "<table border=\"1\" class=\"dataframe\">\n",
       "  <thead>\n",
       "    <tr style=\"text-align: right;\">\n",
       "      <th></th>\n",
       "      <th>latitude</th>\n",
       "      <th>longitude</th>\n",
       "      <th>bedroomcnt</th>\n",
       "      <th>bathroomcnt</th>\n",
       "      <th>calculatedfinishedsquarefeet</th>\n",
       "      <th>yearbuilt</th>\n",
       "      <th>structuretaxvaluedollarcnt</th>\n",
       "    </tr>\n",
       "  </thead>\n",
       "  <tbody>\n",
       "    <tr>\n",
       "      <th>3</th>\n",
       "      <td>34148863.0</td>\n",
       "      <td>-118437206.0</td>\n",
       "      <td>0.0</td>\n",
       "      <td>0.0</td>\n",
       "      <td>5068.0</td>\n",
       "      <td>1948.0</td>\n",
       "      <td>571346.0</td>\n",
       "    </tr>\n",
       "    <tr>\n",
       "      <th>4</th>\n",
       "      <td>34194168.0</td>\n",
       "      <td>-118385816.0</td>\n",
       "      <td>0.0</td>\n",
       "      <td>0.0</td>\n",
       "      <td>1776.0</td>\n",
       "      <td>1947.0</td>\n",
       "      <td>193796.0</td>\n",
       "    </tr>\n",
       "    <tr>\n",
       "      <th>5</th>\n",
       "      <td>34171873.0</td>\n",
       "      <td>-118380906.0</td>\n",
       "      <td>0.0</td>\n",
       "      <td>0.0</td>\n",
       "      <td>2400.0</td>\n",
       "      <td>1943.0</td>\n",
       "      <td>176383.0</td>\n",
       "    </tr>\n",
       "    <tr>\n",
       "      <th>7</th>\n",
       "      <td>34171345.0</td>\n",
       "      <td>-118314900.0</td>\n",
       "      <td>0.0</td>\n",
       "      <td>0.0</td>\n",
       "      <td>3611.0</td>\n",
       "      <td>1946.0</td>\n",
       "      <td>101998.0</td>\n",
       "    </tr>\n",
       "    <tr>\n",
       "      <th>9</th>\n",
       "      <td>34289776.0</td>\n",
       "      <td>-118432085.0</td>\n",
       "      <td>0.0</td>\n",
       "      <td>0.0</td>\n",
       "      <td>3754.0</td>\n",
       "      <td>1978.0</td>\n",
       "      <td>218440.0</td>\n",
       "    </tr>\n",
       "  </tbody>\n",
       "</table>\n",
       "</div>"
      ],
      "text/plain": [
       "     latitude    longitude  bedroomcnt  bathroomcnt  \\\n",
       "3  34148863.0 -118437206.0         0.0          0.0   \n",
       "4  34194168.0 -118385816.0         0.0          0.0   \n",
       "5  34171873.0 -118380906.0         0.0          0.0   \n",
       "7  34171345.0 -118314900.0         0.0          0.0   \n",
       "9  34289776.0 -118432085.0         0.0          0.0   \n",
       "\n",
       "   calculatedfinishedsquarefeet  yearbuilt  structuretaxvaluedollarcnt  \n",
       "3                        5068.0     1948.0                    571346.0  \n",
       "4                        1776.0     1947.0                    193796.0  \n",
       "5                        2400.0     1943.0                    176383.0  \n",
       "7                        3611.0     1946.0                    101998.0  \n",
       "9                        3754.0     1978.0                    218440.0  "
      ]
     },
     "execution_count": 105,
     "metadata": {},
     "output_type": "execute_result"
    }
   ],
   "source": [
    "dfr[distance_attributes].head()"
   ]
  },
  {
   "cell_type": "markdown",
   "metadata": {},
   "source": [
    "### Distance metric\n",
    "    - Here we set up the mahalanobis distance metric using sklearn\n",
    "    - The covariance matrix of data has to be computed and passed to the\n",
    "    get_metric() function as a parameter."
   ]
  },
  {
   "cell_type": "code",
   "execution_count": 110,
   "metadata": {
    "collapsed": true
   },
   "outputs": [],
   "source": [
    "from sklearn.neighbors import DistanceMetric"
   ]
  },
  {
   "cell_type": "code",
   "execution_count": 109,
   "metadata": {},
   "outputs": [
    {
     "data": {
      "text/plain": [
       "array([[  5.86461153e+10,  -4.82392648e+10,   9.31523517e+03,\n",
       "          3.57923331e+03,  -5.48357979e+05,  -6.42482701e+04,\n",
       "          8.76025720e+07],\n",
       "       [ -4.82392648e+10,   1.17725406e+11,   4.18600570e+03,\n",
       "         -3.20486989e+03,  -6.50499067e+06,   5.12519113e+05,\n",
       "         -4.24304022e+09],\n",
       "       [  9.31523517e+03,   4.18600570e+03,   1.40799919e+00,\n",
       "          8.03598938e-01,   5.69965726e+02,   1.97101711e+00,\n",
       "          6.47479144e+04],\n",
       "       [  3.57923331e+03,  -3.20486989e+03,   8.03598938e-01,\n",
       "          1.05903059e+00,   6.66080529e+02,   8.59484629e+00,\n",
       "          1.17718192e+05],\n",
       "       [ -5.48357979e+05,  -6.50499067e+06,   5.69965726e+02,\n",
       "          6.66080529e+02,   3.27077151e+06,   5.03292533e+03,\n",
       "          3.97151210e+08],\n",
       "       [ -6.42482701e+04,   5.12519113e+05,   1.97101711e+00,\n",
       "          8.59484629e+00,   5.03292533e+03,   5.48738320e+02,\n",
       "          1.51187923e+06],\n",
       "       [  8.76025720e+07,  -4.24304022e+09,   6.47479144e+04,\n",
       "          1.17718192e+05,   3.97151210e+08,   1.51187923e+06,\n",
       "          1.21867064e+11]])"
      ]
     },
     "execution_count": 109,
     "metadata": {},
     "output_type": "execute_result"
    }
   ],
   "source": [
    "## Getting the covariance matrix\n",
    "V=np.cov(dfr[distance_attributes].T)\n",
    "V"
   ]
  },
  {
   "cell_type": "code",
   "execution_count": 111,
   "metadata": {
    "collapsed": true
   },
   "outputs": [],
   "source": [
    "dist_m = DistanceMetric.get_metric('mahalanobis', V=np.cov(dfr[distance_attributes].T))"
   ]
  },
  {
   "cell_type": "markdown",
   "metadata": {},
   "source": [
    "### Evaluation\n",
    "    - First we get the list of top 10 and bottom 10 houses we obtained in previous task\n",
    "    - We acquire corresponding subsets"
   ]
  },
  {
   "cell_type": "code",
   "execution_count": 114,
   "metadata": {
    "collapsed": true
   },
   "outputs": [],
   "source": [
    "top_10_house_ids = [14202712,17257315,14145142,17300511,14201457,14232873,17051508,14144920,17264250,17263523]\n",
    "bottom_10_house_ids = [14132206,17066219,17097563,14404129,13878336,13893976,17070566,14118787,13839592,13951584]"
   ]
  },
  {
   "cell_type": "code",
   "execution_count": 115,
   "metadata": {},
   "outputs": [],
   "source": [
    "# These are the top 10 and bottom 10 houses as obtained from Scoring developed earlier\n",
    "top_10_houses = dfr[dfr['parcelid'].isin(top_10_house_ids)]\n",
    "bottom_10_houses = dfr[dfr['parcelid'].isin(bottom_10_house_ids)]"
   ]
  },
  {
   "cell_type": "markdown",
   "metadata": {},
   "source": [
    "    - Top 3 houses of top 10 houses &\n",
    "    - Bottom 3 houses of bottom 10 houses are chosen for the test"
   ]
  },
  {
   "cell_type": "code",
   "execution_count": 116,
   "metadata": {
    "collapsed": true
   },
   "outputs": [],
   "source": [
    "from sklearn.metrics.pairwise import pairwise_distances"
   ]
  },
  {
   "cell_type": "code",
   "execution_count": 118,
   "metadata": {},
   "outputs": [
    {
     "data": {
      "text/html": [
       "<div>\n",
       "<style>\n",
       "    .dataframe thead tr:only-child th {\n",
       "        text-align: right;\n",
       "    }\n",
       "\n",
       "    .dataframe thead th {\n",
       "        text-align: left;\n",
       "    }\n",
       "\n",
       "    .dataframe tbody tr th {\n",
       "        vertical-align: top;\n",
       "    }\n",
       "</style>\n",
       "<table border=\"1\" class=\"dataframe\">\n",
       "  <thead>\n",
       "    <tr style=\"text-align: right;\">\n",
       "      <th></th>\n",
       "      <th>parcelid</th>\n",
       "      <th>latitude</th>\n",
       "      <th>longitude</th>\n",
       "      <th>bedroomcnt</th>\n",
       "      <th>bathroomcnt</th>\n",
       "      <th>calculatedfinishedsquarefeet</th>\n",
       "      <th>yearbuilt</th>\n",
       "      <th>structuretaxvaluedollarcnt</th>\n",
       "    </tr>\n",
       "  </thead>\n",
       "  <tbody>\n",
       "    <tr>\n",
       "      <th>457881</th>\n",
       "      <td>14202712</td>\n",
       "      <td>33895303.0</td>\n",
       "      <td>-117730832.0</td>\n",
       "      <td>4.0</td>\n",
       "      <td>3.5</td>\n",
       "      <td>3431.0</td>\n",
       "      <td>2009.0</td>\n",
       "      <td>418848.0</td>\n",
       "    </tr>\n",
       "    <tr>\n",
       "      <th>859514</th>\n",
       "      <td>14201457</td>\n",
       "      <td>33878347.0</td>\n",
       "      <td>-117716104.0</td>\n",
       "      <td>4.0</td>\n",
       "      <td>3.5</td>\n",
       "      <td>3133.0</td>\n",
       "      <td>2010.0</td>\n",
       "      <td>408255.0</td>\n",
       "    </tr>\n",
       "    <tr>\n",
       "      <th>1112356</th>\n",
       "      <td>14232873</td>\n",
       "      <td>33797701.0</td>\n",
       "      <td>-117781094.0</td>\n",
       "      <td>4.0</td>\n",
       "      <td>3.5</td>\n",
       "      <td>3422.0</td>\n",
       "      <td>2001.0</td>\n",
       "      <td>424425.0</td>\n",
       "    </tr>\n",
       "    <tr>\n",
       "      <th>2241462</th>\n",
       "      <td>13951584</td>\n",
       "      <td>33771991.0</td>\n",
       "      <td>-117951852.0</td>\n",
       "      <td>3.0</td>\n",
       "      <td>1.5</td>\n",
       "      <td>876.0</td>\n",
       "      <td>1923.0</td>\n",
       "      <td>34871.0</td>\n",
       "    </tr>\n",
       "    <tr>\n",
       "      <th>2360062</th>\n",
       "      <td>13893976</td>\n",
       "      <td>33594772.0</td>\n",
       "      <td>-117869225.0</td>\n",
       "      <td>3.0</td>\n",
       "      <td>1.5</td>\n",
       "      <td>999.0</td>\n",
       "      <td>1950.0</td>\n",
       "      <td>33372.0</td>\n",
       "    </tr>\n",
       "    <tr>\n",
       "      <th>2468660</th>\n",
       "      <td>17066219</td>\n",
       "      <td>34400333.0</td>\n",
       "      <td>-118911182.0</td>\n",
       "      <td>3.0</td>\n",
       "      <td>1.5</td>\n",
       "      <td>1014.0</td>\n",
       "      <td>1910.0</td>\n",
       "      <td>43077.0</td>\n",
       "    </tr>\n",
       "  </tbody>\n",
       "</table>\n",
       "</div>"
      ],
      "text/plain": [
       "         parcelid    latitude    longitude  bedroomcnt  bathroomcnt  \\\n",
       "457881   14202712  33895303.0 -117730832.0         4.0          3.5   \n",
       "859514   14201457  33878347.0 -117716104.0         4.0          3.5   \n",
       "1112356  14232873  33797701.0 -117781094.0         4.0          3.5   \n",
       "2241462  13951584  33771991.0 -117951852.0         3.0          1.5   \n",
       "2360062  13893976  33594772.0 -117869225.0         3.0          1.5   \n",
       "2468660  17066219  34400333.0 -118911182.0         3.0          1.5   \n",
       "\n",
       "         calculatedfinishedsquarefeet  yearbuilt  structuretaxvaluedollarcnt  \n",
       "457881                         3431.0     2009.0                    418848.0  \n",
       "859514                         3133.0     2010.0                    408255.0  \n",
       "1112356                        3422.0     2001.0                    424425.0  \n",
       "2241462                         876.0     1923.0                     34871.0  \n",
       "2360062                         999.0     1950.0                     33372.0  \n",
       "2468660                        1014.0     1910.0                     43077.0  "
      ]
     },
     "execution_count": 118,
     "metadata": {},
     "output_type": "execute_result"
    }
   ],
   "source": [
    "house_mix = top_10_houses[:3].append(bottom_10_houses[7:10])\n",
    "house_mix"
   ]
  },
  {
   "cell_type": "code",
   "execution_count": 119,
   "metadata": {},
   "outputs": [
    {
     "data": {
      "text/html": [
       "<div>\n",
       "<style>\n",
       "    .dataframe thead tr:only-child th {\n",
       "        text-align: right;\n",
       "    }\n",
       "\n",
       "    .dataframe thead th {\n",
       "        text-align: left;\n",
       "    }\n",
       "\n",
       "    .dataframe tbody tr th {\n",
       "        vertical-align: top;\n",
       "    }\n",
       "</style>\n",
       "<table border=\"1\" class=\"dataframe\">\n",
       "  <thead>\n",
       "    <tr style=\"text-align: right;\">\n",
       "      <th></th>\n",
       "      <th>0</th>\n",
       "      <th>1</th>\n",
       "      <th>2</th>\n",
       "      <th>3</th>\n",
       "      <th>4</th>\n",
       "      <th>5</th>\n",
       "    </tr>\n",
       "  </thead>\n",
       "  <tbody>\n",
       "    <tr>\n",
       "      <th>0</th>\n",
       "      <td>0.000000</td>\n",
       "      <td>0.213766</td>\n",
       "      <td>0.706355</td>\n",
       "      <td>3.973377</td>\n",
       "      <td>3.363108</td>\n",
       "      <td>5.380226</td>\n",
       "    </tr>\n",
       "    <tr>\n",
       "      <th>1</th>\n",
       "      <td>0.213766</td>\n",
       "      <td>0.000000</td>\n",
       "      <td>0.714472</td>\n",
       "      <td>3.965588</td>\n",
       "      <td>3.328405</td>\n",
       "      <td>5.416363</td>\n",
       "    </tr>\n",
       "    <tr>\n",
       "      <th>2</th>\n",
       "      <td>0.706355</td>\n",
       "      <td>0.714472</td>\n",
       "      <td>0.000000</td>\n",
       "      <td>3.557867</td>\n",
       "      <td>2.874884</td>\n",
       "      <td>5.112261</td>\n",
       "    </tr>\n",
       "    <tr>\n",
       "      <th>3</th>\n",
       "      <td>3.973377</td>\n",
       "      <td>3.965588</td>\n",
       "      <td>3.557867</td>\n",
       "      <td>0.000000</td>\n",
       "      <td>1.507543</td>\n",
       "      <td>3.073966</td>\n",
       "    </tr>\n",
       "    <tr>\n",
       "      <th>4</th>\n",
       "      <td>3.363108</td>\n",
       "      <td>3.328405</td>\n",
       "      <td>2.874884</td>\n",
       "      <td>1.507543</td>\n",
       "      <td>0.000000</td>\n",
       "      <td>3.989124</td>\n",
       "    </tr>\n",
       "    <tr>\n",
       "      <th>5</th>\n",
       "      <td>5.380226</td>\n",
       "      <td>5.416363</td>\n",
       "      <td>5.112261</td>\n",
       "      <td>3.073966</td>\n",
       "      <td>3.989124</td>\n",
       "      <td>0.000000</td>\n",
       "    </tr>\n",
       "  </tbody>\n",
       "</table>\n",
       "</div>"
      ],
      "text/plain": [
       "          0         1         2         3         4         5\n",
       "0  0.000000  0.213766  0.706355  3.973377  3.363108  5.380226\n",
       "1  0.213766  0.000000  0.714472  3.965588  3.328405  5.416363\n",
       "2  0.706355  0.714472  0.000000  3.557867  2.874884  5.112261\n",
       "3  3.973377  3.965588  3.557867  0.000000  1.507543  3.073966\n",
       "4  3.363108  3.328405  2.874884  1.507543  0.000000  3.989124\n",
       "5  5.380226  5.416363  5.112261  3.073966  3.989124  0.000000"
      ]
     },
     "execution_count": 119,
     "metadata": {},
     "output_type": "execute_result"
    }
   ],
   "source": [
    "pd.DataFrame(dist_m.pairwise(house_mix[distance_attributes]))"
   ]
  },
  {
   "cell_type": "markdown",
   "metadata": {},
   "source": [
    "### Result:\n",
    "    -- We can clearly see, houses 0,1,2 which are among the top 3 houses and similar in listing and also locally closer\n",
    "       have very low inter point distance.\n",
    "    -- Compared to them houses 3,4,5 which are essentially bottom 3 houses of bottom 10 houses and have a much difference\n",
    "       in listing descriptions are quite far away from group of houses {0,1,2}.\n",
    "    -- Interestingly, even intra-group distance among bottom 3 houses is higher as they were built over 50 years of time."
   ]
  },
  {
   "cell_type": "markdown",
   "metadata": {},
   "source": [
    "### Experimental figure \n",
    "### (Using sns.heatmap as a hack to visualise & illustrate the pairwise distance matrix)\n",
    "Below I have tried to elucidate the above point with a figure. Passed the computed distance matrix to the heatmap visualization function, which essentially takes a square matrix and plots the intensities of the values in each cell.\n",
    "\n",
    "    - We can see that houses 0,1,2 have values very similar among eachother compared to \n",
    "      set of houses 3,4,5\n",
    "    - also color among houses in 3,4,5 is not as uniform as in the other group owing to the in group \n",
    "      dissimilarity of the houses as well (as discussed above)"
   ]
  },
  {
   "cell_type": "code",
   "execution_count": 120,
   "metadata": {},
   "outputs": [
    {
     "data": {
      "text/plain": [
       "<matplotlib.axes._subplots.AxesSubplot at 0x284009ea128>"
      ]
     },
     "execution_count": 120,
     "metadata": {},
     "output_type": "execute_result"
    },
    {
     "data": {
      "image/png": "[encoded data removed]",
      "text/plain": [
       "<matplotlib.figure.Figure at 0x284001e6470>"
      ]
     },
     "metadata": {},
     "output_type": "display_data"
    }
   ],
   "source": [
    "sns.heatmap(pd.DataFrame(dist_m.pairwise(house_mix[distance_attributes])),cbar=False)"
   ]
  },
  {
   "cell_type": "markdown",
   "metadata": {},
   "source": [
    "# Task 3. Clustering with the proposed distance function\n",
    "\n",
    "Here we try an unsupervisied clustering using the distance metric that was proposed in task 2.\n",
    "    - We use DBSCAN algorithm, with parameters set to epsilon 0.5 and min_samples 40.\n",
    "    - Distance metric is chosesn as mahalanobis distance, with the covariance matrix generated from Data\n",
    "      - Added benefit of this is we do not need to run a separate normalization, as this distance is\n",
    "        itself a form of normalized euclidean distance.\n",
    "    - We use 60k zillow data points for this task.\n",
    "    - 36 Clusters were obtained, along with a cluster tagged -1, which is composed of samples which are \n",
    "      noisy and could not be clustered. \n",
    "    - A dot-plot of the analysis is presented (with noisy points removed)"
   ]
  },
  {
   "cell_type": "code",
   "execution_count": null,
   "metadata": {
    "collapsed": true
   },
   "outputs": [],
   "source": [
    "%matplotlib inline\n",
    "\n",
    "import pandas as pd\n",
    "import numpy as np\n",
    "import seaborn as sns\n",
    "import matplotlib.pyplot as plt\n",
    "import sklearn"
   ]
  },
  {
   "cell_type": "code",
   "execution_count": 91,
   "metadata": {
    "collapsed": true
   },
   "outputs": [],
   "source": [
    "from sklearn.neighbors import DistanceMetric\n",
    "from sklearn.cluster import DBSCAN"
   ]
  },
  {
   "cell_type": "code",
   "execution_count": 80,
   "metadata": {
    "collapsed": true
   },
   "outputs": [],
   "source": [
    "from matplotlib.pyplot import cm "
   ]
  },
  {
   "cell_type": "code",
   "execution_count": 81,
   "metadata": {
    "collapsed": true
   },
   "outputs": [],
   "source": [
    "df = pd.read_csv(\"C://Users//ibipul//codes//datasets//Zillow_data//train_2016_v2.csv\")"
   ]
  },
  {
   "cell_type": "code",
   "execution_count": 82,
   "metadata": {
    "collapsed": true
   },
   "outputs": [],
   "source": [
    "dfp = pd.read_csv(\"C://Users//ibipul//codes//datasets//Zillow_data/properties_2016.csv\", low_memory = False)"
   ]
  },
  {
   "cell_type": "code",
   "execution_count": 83,
   "metadata": {
    "collapsed": true
   },
   "outputs": [],
   "source": [
    "distance_attributes = []\n",
    "key = ['parcelid']\n",
    "latlong = ['latitude', 'longitude']\n",
    "count_attributes = ['bedroomcnt','bathroomcnt']\n",
    "house_area_attributes = ['calculatedfinishedsquarefeet']\n",
    "oldness_attribute = ['yearbuilt']\n",
    "monetary_attribute = ['structuretaxvaluedollarcnt']\n",
    "distance_attributes = latlong + count_attributes + house_area_attributes + oldness_attribute + monetary_attribute\n",
    "all_attributes = key + distance_attributes"
   ]
  },
  {
   "cell_type": "code",
   "execution_count": 84,
   "metadata": {
    "collapsed": true
   },
   "outputs": [],
   "source": [
    "dfr = dfp[all_attributes]"
   ]
  },
  {
   "cell_type": "code",
   "execution_count": 85,
   "metadata": {},
   "outputs": [
    {
     "data": {
      "text/html": [
       "<div>\n",
       "<style>\n",
       "    .dataframe thead tr:only-child th {\n",
       "        text-align: right;\n",
       "    }\n",
       "\n",
       "    .dataframe thead th {\n",
       "        text-align: left;\n",
       "    }\n",
       "\n",
       "    .dataframe tbody tr th {\n",
       "        vertical-align: top;\n",
       "    }\n",
       "</style>\n",
       "<table border=\"1\" class=\"dataframe\">\n",
       "  <thead>\n",
       "    <tr style=\"text-align: right;\">\n",
       "      <th></th>\n",
       "      <th>column_name</th>\n",
       "      <th>missing_count</th>\n",
       "    </tr>\n",
       "  </thead>\n",
       "  <tbody>\n",
       "    <tr>\n",
       "      <th>1</th>\n",
       "      <td>latitude</td>\n",
       "      <td>11437</td>\n",
       "    </tr>\n",
       "    <tr>\n",
       "      <th>2</th>\n",
       "      <td>longitude</td>\n",
       "      <td>11437</td>\n",
       "    </tr>\n",
       "    <tr>\n",
       "      <th>3</th>\n",
       "      <td>bedroomcnt</td>\n",
       "      <td>11450</td>\n",
       "    </tr>\n",
       "    <tr>\n",
       "      <th>4</th>\n",
       "      <td>bathroomcnt</td>\n",
       "      <td>11462</td>\n",
       "    </tr>\n",
       "    <tr>\n",
       "      <th>7</th>\n",
       "      <td>structuretaxvaluedollarcnt</td>\n",
       "      <td>54982</td>\n",
       "    </tr>\n",
       "    <tr>\n",
       "      <th>5</th>\n",
       "      <td>calculatedfinishedsquarefeet</td>\n",
       "      <td>55565</td>\n",
       "    </tr>\n",
       "    <tr>\n",
       "      <th>6</th>\n",
       "      <td>yearbuilt</td>\n",
       "      <td>59928</td>\n",
       "    </tr>\n",
       "  </tbody>\n",
       "</table>\n",
       "</div>"
      ],
      "text/plain": [
       "                    column_name  missing_count\n",
       "1                      latitude          11437\n",
       "2                     longitude          11437\n",
       "3                    bedroomcnt          11450\n",
       "4                   bathroomcnt          11462\n",
       "7    structuretaxvaluedollarcnt          54982\n",
       "5  calculatedfinishedsquarefeet          55565\n",
       "6                     yearbuilt          59928"
      ]
     },
     "execution_count": 85,
     "metadata": {},
     "output_type": "execute_result"
    }
   ],
   "source": [
    "## Testing out the missing data stats\n",
    "missing_df = dfr.isnull().sum(axis=0).reset_index()\n",
    "missing_df.columns = ['column_name', 'missing_count']\n",
    "missing_df = missing_df.loc[missing_df['missing_count']>0]\n",
    "missing_df = missing_df.sort_values(by='missing_count')\n",
    "missing_df"
   ]
  },
  {
   "cell_type": "code",
   "execution_count": 86,
   "metadata": {
    "collapsed": true
   },
   "outputs": [],
   "source": [
    "## It suffices to just drop the NaNs \n",
    "#as we will just be testing out the distance in a controlled manner in this example.\n",
    "dfr = dfr.dropna(how='any',axis=0)"
   ]
  },
  {
   "cell_type": "code",
   "execution_count": 87,
   "metadata": {
    "collapsed": true
   },
   "outputs": [],
   "source": [
    "# reverting lat longs in their usual forms\n",
    "dfr.latitude = dfr.latitude/10**6\n",
    "dfr.longitude = dfr.longitude/10**6"
   ]
  },
  {
   "cell_type": "code",
   "execution_count": 88,
   "metadata": {},
   "outputs": [
    {
     "data": {
      "text/html": [
       "<div>\n",
       "<style>\n",
       "    .dataframe thead tr:only-child th {\n",
       "        text-align: right;\n",
       "    }\n",
       "\n",
       "    .dataframe thead th {\n",
       "        text-align: left;\n",
       "    }\n",
       "\n",
       "    .dataframe tbody tr th {\n",
       "        vertical-align: top;\n",
       "    }\n",
       "</style>\n",
       "<table border=\"1\" class=\"dataframe\">\n",
       "  <thead>\n",
       "    <tr style=\"text-align: right;\">\n",
       "      <th></th>\n",
       "      <th>latitude</th>\n",
       "      <th>longitude</th>\n",
       "      <th>bedroomcnt</th>\n",
       "      <th>bathroomcnt</th>\n",
       "      <th>calculatedfinishedsquarefeet</th>\n",
       "      <th>yearbuilt</th>\n",
       "      <th>structuretaxvaluedollarcnt</th>\n",
       "    </tr>\n",
       "  </thead>\n",
       "  <tbody>\n",
       "    <tr>\n",
       "      <th>3</th>\n",
       "      <td>34.148863</td>\n",
       "      <td>-118.437206</td>\n",
       "      <td>0.0</td>\n",
       "      <td>0.0</td>\n",
       "      <td>5068.0</td>\n",
       "      <td>1948.0</td>\n",
       "      <td>571346.0</td>\n",
       "    </tr>\n",
       "    <tr>\n",
       "      <th>4</th>\n",
       "      <td>34.194168</td>\n",
       "      <td>-118.385816</td>\n",
       "      <td>0.0</td>\n",
       "      <td>0.0</td>\n",
       "      <td>1776.0</td>\n",
       "      <td>1947.0</td>\n",
       "      <td>193796.0</td>\n",
       "    </tr>\n",
       "    <tr>\n",
       "      <th>5</th>\n",
       "      <td>34.171873</td>\n",
       "      <td>-118.380906</td>\n",
       "      <td>0.0</td>\n",
       "      <td>0.0</td>\n",
       "      <td>2400.0</td>\n",
       "      <td>1943.0</td>\n",
       "      <td>176383.0</td>\n",
       "    </tr>\n",
       "    <tr>\n",
       "      <th>7</th>\n",
       "      <td>34.171345</td>\n",
       "      <td>-118.314900</td>\n",
       "      <td>0.0</td>\n",
       "      <td>0.0</td>\n",
       "      <td>3611.0</td>\n",
       "      <td>1946.0</td>\n",
       "      <td>101998.0</td>\n",
       "    </tr>\n",
       "    <tr>\n",
       "      <th>9</th>\n",
       "      <td>34.289776</td>\n",
       "      <td>-118.432085</td>\n",
       "      <td>0.0</td>\n",
       "      <td>0.0</td>\n",
       "      <td>3754.0</td>\n",
       "      <td>1978.0</td>\n",
       "      <td>218440.0</td>\n",
       "    </tr>\n",
       "  </tbody>\n",
       "</table>\n",
       "</div>"
      ],
      "text/plain": [
       "    latitude   longitude  bedroomcnt  bathroomcnt  \\\n",
       "3  34.148863 -118.437206         0.0          0.0   \n",
       "4  34.194168 -118.385816         0.0          0.0   \n",
       "5  34.171873 -118.380906         0.0          0.0   \n",
       "7  34.171345 -118.314900         0.0          0.0   \n",
       "9  34.289776 -118.432085         0.0          0.0   \n",
       "\n",
       "   calculatedfinishedsquarefeet  yearbuilt  structuretaxvaluedollarcnt  \n",
       "3                        5068.0     1948.0                    571346.0  \n",
       "4                        1776.0     1947.0                    193796.0  \n",
       "5                        2400.0     1943.0                    176383.0  \n",
       "7                        3611.0     1946.0                    101998.0  \n",
       "9                        3754.0     1978.0                    218440.0  "
      ]
     },
     "execution_count": 88,
     "metadata": {},
     "output_type": "execute_result"
    }
   ],
   "source": [
    "dfr[distance_attributes].head()"
   ]
  },
  {
   "cell_type": "markdown",
   "metadata": {},
   "source": [
    "### Clustering Step\n",
    "\n",
    "    - First we get the covariance matrix of this data (7x7)\n",
    "    - Next we set up the DBSCAN clustering object with metric mahalanobis, and param cov matrix of data.\n",
    "    - We set the algorithm to be used for clustering to be ball_tree\n",
    "    - The process is run on 60k points\n",
    "#### Results:\n",
    "    - 36 unique clusters are obtained, additionally a noise cluster tagged -1 is returned.\n",
    "    - A dot plot is made with the lat-long features in the data. "
   ]
  },
  {
   "cell_type": "code",
   "execution_count": 89,
   "metadata": {
    "collapsed": true
   },
   "outputs": [],
   "source": [
    "cov_data=np.cov(dfr[distance_attributes].T)"
   ]
  },
  {
   "cell_type": "code",
   "execution_count": 92,
   "metadata": {},
   "outputs": [],
   "source": [
    "# Creating the DBSCAN Clustering Object\n",
    "db = DBSCAN(eps=0.5, min_samples =40, metric='mahalanobis',metric_params={'V': cov_data},n_jobs=-1, algorithm='ball_tree')"
   ]
  },
  {
   "cell_type": "code",
   "execution_count": 94,
   "metadata": {},
   "outputs": [
    {
     "data": {
      "text/plain": [
       "DBSCAN(algorithm='ball_tree', eps=0.5, leaf_size=30, metric='mahalanobis',\n",
       "    metric_params={'V': array([[  5.86461e-02,  -4.82393e-02,   9.31524e-03,   3.57923e-03,\n",
       "         -5.48358e-01,  -6.42483e-02,   8.76026e+01],\n",
       "       [ -4.82393e-02,   1.17725e-01,   4.18601e-03,  -3.20487e-03,\n",
       "         -6.50499e+00,   5.12519e-01,  -4.24304e+03],\n",
       "       [  9.31524e-03,   4.18601e-03... -4.24304e+03,   6.47479e+04,   1.17718e+05,\n",
       "          3.97151e+08,   1.51188e+06,   1.21867e+11]])},\n",
       "    min_samples=40, n_jobs=-1, p=None)"
      ]
     },
     "execution_count": 94,
     "metadata": {},
     "output_type": "execute_result"
    }
   ],
   "source": [
    "# The actual clustering step with the DBSCAN object\n",
    "db.fit(dfr[distance_attributes][:60000])"
   ]
  },
  {
   "cell_type": "code",
   "execution_count": 95,
   "metadata": {},
   "outputs": [
    {
     "name": "stdout",
     "output_type": "stream",
     "text": [
      "Estimated number of clusters: 37\n"
     ]
    }
   ],
   "source": [
    "print('Estimated number of clusters: %d' % len(set(db.labels_)))"
   ]
  },
  {
   "cell_type": "code",
   "execution_count": 96,
   "metadata": {
    "collapsed": true
   },
   "outputs": [],
   "source": [
    "cl_data = dfr[distance_attributes][:60000]\n",
    "cl_data['label'] = db.labels_"
   ]
  },
  {
   "cell_type": "code",
   "execution_count": 97,
   "metadata": {},
   "outputs": [
    {
     "data": {
      "text/plain": [
       "array([-1, 32,  2,  0, 12,  1,  3,  4,  5,  7,  8, 35,  6, 11,  9, 10, 13,\n",
       "       14, 15, 16, 17, 18, 21, 33, 20, 19, 23, 22, 27, 30, 28, 29, 24, 25,\n",
       "       34, 31, 26], dtype=int64)"
      ]
     },
     "execution_count": 97,
     "metadata": {},
     "output_type": "execute_result"
    }
   ],
   "source": [
    "cl_data.label.unique()"
   ]
  },
  {
   "cell_type": "code",
   "execution_count": 98,
   "metadata": {
    "collapsed": true
   },
   "outputs": [],
   "source": [
    "groups = cl_data.groupby('label')"
   ]
  },
  {
   "cell_type": "markdown",
   "metadata": {},
   "source": [
    "We use YlGn Color palatter of matplotlib to generate the desired dot plot.\n",
    "    - In this plot area the Coastline that extends from Long beach (centre) to San Diego below.\n",
    "    - The small disjointed location far from the coastline is probably the area around Palm Springs"
   ]
  },
  {
   "cell_type": "code",
   "execution_count": 157,
   "metadata": {},
   "outputs": [
    {
     "data": {
      "text/plain": [
       "<matplotlib.legend.Legend at 0x28407a7dfd0>"
      ]
     },
     "execution_count": 157,
     "metadata": {},
     "output_type": "execute_result"
    },
    {
     "data": {
      "image/png": "[encoded data removed]",
      "text/plain": [
       "<matplotlib.figure.Figure at 0x28407994320>"
      ]
     },
     "metadata": {},
     "output_type": "display_data"
    }
   ],
   "source": [
    "fig = plt.figure(figsize=(20,15))\n",
    "ax = fig.add_subplot(111,facecolor='slategrey')\n",
    "color=iter(cm.YlGn(np.linspace(0,3,2*len(cl_data.label.unique()))))\n",
    "#c=next(color)\n",
    "ax.margins(0.05)\n",
    "ax.grid(False)\n",
    "for name, group in groups:\n",
    "    c=next(color)\n",
    "    lats = group.latitude\n",
    "    lons = group.longitude\n",
    "    if name == -1:\n",
    "          # Filtering out the Noise (aka points that couldn't be clustered)\n",
    "        continue\n",
    "    else:\n",
    "        ax.plot(lats, lons, marker='^', ms=4, linestyle='', label=name, color=c)\n",
    "    \n",
    "ax.legend()"
   ]
  },
  {
   "cell_type": "markdown",
   "metadata": {},
   "source": [
    "# Task 4. Select an external dataset that may enhance the existing dataset"
   ]
  },
  {
   "cell_type": "code",
   "execution_count": 1,
   "metadata": {
    "collapsed": true
   },
   "outputs": [],
   "source": [
    "%matplotlib inline\n",
    "\n",
    "import pandas as pd\n",
    "import numpy as np\n",
    "import seaborn as sns\n",
    "import matplotlib.pyplot as plt"
   ]
  },
  {
   "cell_type": "code",
   "execution_count": 2,
   "metadata": {
    "collapsed": true
   },
   "outputs": [],
   "source": [
    "from collections import defaultdict"
   ]
  },
  {
   "cell_type": "code",
   "execution_count": 3,
   "metadata": {
    "collapsed": true
   },
   "outputs": [],
   "source": [
    "from sklearn.ensemble import RandomForestRegressor\n",
    "from sklearn.metrics import mean_squared_error, r2_score"
   ]
  },
  {
   "cell_type": "markdown",
   "metadata": {},
   "source": [
    "#### External Data gathering\n",
    "Here are my external data sources, they are publicly available:\n",
    "    - http://www.usinflationcalculator.com/inflation/current-inflation-rates/\n",
    "      I have obtained the month on month inflation rates from here.\n",
    "    - https://www.reit.com/data-research/reit-indexes/monthly-property-index-values-returns\n",
    "      This is called Real Estate Investment Trust. It tracks several indices about real estate and it's specific contributing\n",
    "      factors. I have used the month on month % change in prices from the indices.\n",
    "      \n",
    "#### What is a 'Real Estate Investment Trust - REIT'\n",
    "\n",
    "A REIT is a type of security that invests in real estate through property or mortgages and often trades on major exchanges like a stock. REITs provide investors with an extremely liquid stake in real estate. They receive special tax considerations and typically offer high dividend yields.\n",
    "\n",
    "REITs, an investment vehicle for real estate that is comparable to a mutual fund, allowing both small and large investors to acquire ownership in real estate ventures, own and in some cases operate commercial properties such as apartment complexes, hospitals, office buildings, timber land, warehouses, hotels and shopping malls.\n",
    "\n",
    "All REITs must have at least 100 shareholders, no five of whom can hold more than 50% of shares between them. At least 75% of a REIT's assets must be invested in real estate, cash or U.S. Treasurys; 75% of gross income must be derived from real estate.\n",
    "\n",
    "REITs are required by law to maintain dividend payout ratios of at least 90%, making them a favorite for income-seeking investors. REITs can deduct these dividends and avoid most or all tax liabilities, though investors still pay income tax on the payouts they receive. Many REITs have dividend reinvestment plans (DRIPs​), allowing returns to compound over time.\n",
    "\n",
    "\n",
    "Source: Real Estate Investment Trust (REIT) http://www.investopedia.com/terms/r/reit.asp#ixzz4vZIsSkR8 \n",
    "    "
   ]
  },
  {
   "cell_type": "code",
   "execution_count": null,
   "metadata": {
    "collapsed": true
   },
   "outputs": [],
   "source": [
    "year_month = [201601,201602,201603,201604,201605,201606,201607,201608,201609,201610,201611,201612,\n",
    "         201701,201702,201703,201704,201705,201706,201707,201708,201709]"
   ]
  },
  {
   "cell_type": "code",
   "execution_count": null,
   "metadata": {
    "collapsed": true
   },
   "outputs": [],
   "source": [
    "# Inflation data\n",
    "inflation_rate = [\n",
    "     1.4,1.0,0.9,1.1,1.0,1.0,0.8,1.1,1.5,1.6,1.7,2.1,2.5,2.7,2.4,2.2,1.9,1.6,1.7,1.9,2.2]"
   ]
  },
  {
   "cell_type": "code",
   "execution_count": null,
   "metadata": {
    "collapsed": true
   },
   "outputs": [],
   "source": [
    "# Reit indices\n",
    "equity_residential_index_price = [\n",
    "    -5.01,-1.62,11.02,-6.42,3.96,2.93,1.93,-4.25,0.68,-2.81,-3.03,6.47,-2.42,5.16,-1.90,2.37,1.56,1.19,1.73,-0.07,-3.01]"
   ]
  },
  {
   "cell_type": "code",
   "execution_count": null,
   "metadata": {
    "collapsed": true
   },
   "outputs": [],
   "source": [
    "# Apartment pricing index\n",
    "equity_apartments_index_price = [\n",
    "    -5.09,-2.01,11.53,-6.73,3.41,1.94,1.58,-4.42,0.90,-2.97,-2.90,7.13,-3.42,4.86,-1.81,2.26,1.53,1.04,1.84,-0.43,-2.87 ]"
   ]
  },
  {
   "cell_type": "code",
   "execution_count": null,
   "metadata": {
    "collapsed": true
   },
   "outputs": [],
   "source": [
    "# healthcare pricing index\n",
    "equity_healthcare_index_price = [\n",
    "    -4.69,-2.17,9.62,0.07,1.61,8.69,5.69,-1.65,-2.50,-7.01,-8.67,4.22,0.23,6.02,-0.73,0.26,0.58,2.94,-2.59,-0.62,-3.48 ]"
   ]
  },
  {
   "cell_type": "code",
   "execution_count": null,
   "metadata": {
    "collapsed": true
   },
   "outputs": [],
   "source": [
    "# Single family home & manufactured home pricing index\n",
    "equity_single_family_home_price_index = [\n",
    "    -9.20,-3.87,12.70,-0.89,13.92,11.37,6.38,-0.32,-2.98,-1.90,1.35,-1.71,6.14,7.93,-1.73,0.65,-1.52,0.40,1.29,1.51,-2.45 ]\n",
    "equity_manufactured_homes_price_index = [\n",
    "    -1.99,4.18,4.67,-5.47,5.19,9.50,3.13,-4.70,0.83,-1.75,-7.02,5.22,2.49,6.33,-2.94,4.60,3.73,1.98,1.16,1.60,-4.74 ]"
   ]
  },
  {
   "cell_type": "code",
   "execution_count": null,
   "metadata": {
    "collapsed": true
   },
   "outputs": [],
   "source": [
    "## Mortgage\n",
    "home_financing_price_index=[\n",
    "    -4.29,5.19,3.46,1.28,3.96,2.60,1.51,0.21,-1.73,-0.73,1.72,-1.58,1.57,6.29,1.28,3.88,-1.12,0.24,0.81,1.82,-0.57 ]\n",
    "infrastructure_reit_price_index = [\n",
    "    -1.51,-1.18,6.67,1.74,2.54,9.40,-0.28,-1.99,-0.23,0.03,-10.92,3.54,-0.55,9.00,3.03,2.83,5.29,-0.38,2.14,7.45,-7.81 ]"
   ]
  },
  {
   "cell_type": "code",
   "execution_count": 4,
   "metadata": {
    "collapsed": true
   },
   "outputs": [],
   "source": [
    "## Finally Storing it up as a data set indexed by yearmonth (yyyymm)\n",
    "indices_and_inflation_data = pd.DataFrame({'year_month':year_month,\n",
    "                                'inflation_rate':inflation_rate,\n",
    "                                'equity_residential_index_price':equity_residential_index_price,\n",
    "                                'equity_apartments_index_price':equity_apartments_index_price,\n",
    "                                'equity_healthcare_index_price':equity_healthcare_index_price,\n",
    "                                'equity_single_family_home_price_index':equity_single_family_home_price_index,\n",
    "                                'equity_manufactured_homes_price_index':equity_manufactured_homes_price_index,           \n",
    "                                'home_financing_price_index':home_financing_price_index,\n",
    "                                'infrastructure_reit_price_index':infrastructure_reit_price_index})\n",
    "# Setting up addressable column names\n",
    "pricing_column_names = ['home_financing_price_index','infrastructure_reit_price_index',# ]#,\n",
    "                         'equity_residential_index_price','equity_single_family_home_price_index',\n",
    "                        'equity_apartments_index_price']\n",
    "inflation_rate_column_names = ['inflation_rate']\n",
    "year_month_column_names = ['year_month']"
   ]
  },
  {
   "cell_type": "markdown",
   "metadata": {},
   "source": [
    "### Correlation among the pricing indices, and inflation data\n",
    "It makes sense to see how the month on month data on the various % change of indices correlate among eachother"
   ]
  },
  {
   "cell_type": "code",
   "execution_count": 77,
   "metadata": {},
   "outputs": [
    {
     "data": {
      "text/plain": [
       "<matplotlib.axes._subplots.AxesSubplot at 0x28428b3dc88>"
      ]
     },
     "execution_count": 77,
     "metadata": {},
     "output_type": "execute_result"
    },
    {
     "data": {
      "image/png": "[encoded data removed]",
      "text/plain": [
       "<matplotlib.figure.Figure at 0x284273fdd68>"
      ]
     },
     "metadata": {},
     "output_type": "display_data"
    }
   ],
   "source": [
    "df_corr = indices_and_inflation_data[pricing_column_names+inflation_rate_column_names].corr()\n",
    "sns.heatmap(df_corr,xticklabels=df_corr.columns.values,yticklabels=df_corr.columns.values)"
   ]
  },
  {
   "cell_type": "markdown",
   "metadata": {},
   "source": [
    "It is interesting to see that there is some good correlation among the various index and pricing data that was obtained.\n",
    "However it is also interesting to note, inflation rate almost 0 to inversely correlated with other indices in the pallatte.\n",
    "\n",
    "It is however interesting to see that only inflation rates have a very minor correlation with log-error values (0.02). May be inflation rate can be useful when used in presense of the structure tax with some adjustment as well ass other details of the house. I present the correlation matrix below.\n",
    "\n",
    "# Task 5. Building a Predictive model with esisting as well as external data\n",
    "Here we use the external data set and learnings we obtained while performing previous tasks to create an improved model \n",
    "for the data set. \n",
    "    - First step is to train a model using the complete data we have for the two sets of zillow data.\n",
    "    - Second we use that to predict costs for the time points in the sample submission data set.\n",
    "\n",
    "#### Setting up the data\n",
    "    - Read: train_2016, train_2017, properties_2016, properties_2017\n",
    "    - join train and properties for 2016, and similarly for 2017 on parcelid columns\n",
    "    - append the two joined data sets.\n",
    "    - create the year_month colum for this data set\n",
    "    - join this data set with the indices_and_inflation_data data set to add external data"
   ]
  },
  {
   "cell_type": "code",
   "execution_count": 5,
   "metadata": {
    "collapsed": true
   },
   "outputs": [],
   "source": [
    "df1 = pd.read_csv(\"C://Users//ibipul//codes//datasets//Zillow_data//train_2016_v2.csv\")\n",
    "df2 = pd.read_csv(\"C://Users//ibipul//codes//datasets//Zillow_data/train_2017.csv\")"
   ]
  },
  {
   "cell_type": "code",
   "execution_count": 6,
   "metadata": {
    "collapsed": true
   },
   "outputs": [],
   "source": [
    "dfp1 = pd.read_csv(\"C://Users//ibipul//codes//datasets//Zillow_data/properties_2016.csv\", low_memory = False)"
   ]
  },
  {
   "cell_type": "code",
   "execution_count": 7,
   "metadata": {
    "collapsed": true
   },
   "outputs": [],
   "source": [
    "dfp2 = pd.read_csv(\"C://Users//ibipul//codes//datasets//Zillow_data/properties_2017.csv\", low_memory = False)"
   ]
  },
  {
   "cell_type": "code",
   "execution_count": 8,
   "metadata": {
    "collapsed": true
   },
   "outputs": [],
   "source": [
    "d1 = pd.merge(df1,dfp1, on='parcelid')"
   ]
  },
  {
   "cell_type": "code",
   "execution_count": 9,
   "metadata": {
    "collapsed": true
   },
   "outputs": [],
   "source": [
    "d2 = pd.merge(df2,dfp2, on='parcelid')"
   ]
  },
  {
   "cell_type": "code",
   "execution_count": 10,
   "metadata": {
    "collapsed": true
   },
   "outputs": [],
   "source": [
    "data = d1.append(d2, ignore_index=True)"
   ]
  },
  {
   "cell_type": "markdown",
   "metadata": {},
   "source": [
    "#### Functions to split up month year"
   ]
  },
  {
   "cell_type": "code",
   "execution_count": 11,
   "metadata": {
    "collapsed": true
   },
   "outputs": [],
   "source": [
    "#Convert transaction date to yearmonth format\n",
    "def yearmonth(x):\n",
    "    s = x.split('-')\n",
    "    return int(s[0]+s[1])\n",
    "def getmonth(x):\n",
    "    s = x.split('-')\n",
    "    return int(s[1])\n",
    "def getyear(x):\n",
    "    s = x.split('-')\n",
    "    return int(s[0])\n",
    "\n",
    "data['year_month'] = data.transactiondate.apply(lambda x: yearmonth(x)) \n",
    "data['month'] = data.transactiondate.apply(lambda x: getmonth(x))\n",
    "data['year'] = data.transactiondate.apply(lambda x: getyear(x))"
   ]
  },
  {
   "cell_type": "code",
   "execution_count": 12,
   "metadata": {
    "collapsed": true
   },
   "outputs": [],
   "source": [
    "data = pd.merge(data,indices_and_inflation_data, on='year_month')"
   ]
  },
  {
   "cell_type": "code",
   "execution_count": 13,
   "metadata": {},
   "outputs": [
    {
     "data": {
      "text/html": [
       "<div>\n",
       "<style>\n",
       "    .dataframe thead tr:only-child th {\n",
       "        text-align: right;\n",
       "    }\n",
       "\n",
       "    .dataframe thead th {\n",
       "        text-align: left;\n",
       "    }\n",
       "\n",
       "    .dataframe tbody tr th {\n",
       "        vertical-align: top;\n",
       "    }\n",
       "</style>\n",
       "<table border=\"1\" class=\"dataframe\">\n",
       "  <thead>\n",
       "    <tr style=\"text-align: right;\">\n",
       "      <th></th>\n",
       "      <th>parcelid</th>\n",
       "      <th>logerror</th>\n",
       "      <th>transactiondate</th>\n",
       "      <th>airconditioningtypeid</th>\n",
       "      <th>architecturalstyletypeid</th>\n",
       "      <th>basementsqft</th>\n",
       "      <th>bathroomcnt</th>\n",
       "      <th>bedroomcnt</th>\n",
       "      <th>buildingclasstypeid</th>\n",
       "      <th>buildingqualitytypeid</th>\n",
       "      <th>...</th>\n",
       "      <th>month</th>\n",
       "      <th>year</th>\n",
       "      <th>equity_apartments_index_price</th>\n",
       "      <th>equity_healthcare_index_price</th>\n",
       "      <th>equity_manufactured_homes_price_index</th>\n",
       "      <th>equity_residential_index_price</th>\n",
       "      <th>equity_single_family_home_price_index</th>\n",
       "      <th>home_financing_price_index</th>\n",
       "      <th>inflation_rate</th>\n",
       "      <th>infrastructure_reit_price_index</th>\n",
       "    </tr>\n",
       "  </thead>\n",
       "  <tbody>\n",
       "    <tr>\n",
       "      <th>0</th>\n",
       "      <td>11016594</td>\n",
       "      <td>0.0276</td>\n",
       "      <td>2016-01-01</td>\n",
       "      <td>1.0</td>\n",
       "      <td>NaN</td>\n",
       "      <td>NaN</td>\n",
       "      <td>2.0</td>\n",
       "      <td>3.0</td>\n",
       "      <td>NaN</td>\n",
       "      <td>4.0</td>\n",
       "      <td>...</td>\n",
       "      <td>1</td>\n",
       "      <td>2016</td>\n",
       "      <td>-5.09</td>\n",
       "      <td>-4.69</td>\n",
       "      <td>-1.99</td>\n",
       "      <td>-5.01</td>\n",
       "      <td>-9.2</td>\n",
       "      <td>-4.29</td>\n",
       "      <td>1.4</td>\n",
       "      <td>-1.51</td>\n",
       "    </tr>\n",
       "    <tr>\n",
       "      <th>1</th>\n",
       "      <td>14366692</td>\n",
       "      <td>-0.1684</td>\n",
       "      <td>2016-01-01</td>\n",
       "      <td>NaN</td>\n",
       "      <td>NaN</td>\n",
       "      <td>NaN</td>\n",
       "      <td>3.5</td>\n",
       "      <td>4.0</td>\n",
       "      <td>NaN</td>\n",
       "      <td>NaN</td>\n",
       "      <td>...</td>\n",
       "      <td>1</td>\n",
       "      <td>2016</td>\n",
       "      <td>-5.09</td>\n",
       "      <td>-4.69</td>\n",
       "      <td>-1.99</td>\n",
       "      <td>-5.01</td>\n",
       "      <td>-9.2</td>\n",
       "      <td>-4.29</td>\n",
       "      <td>1.4</td>\n",
       "      <td>-1.51</td>\n",
       "    </tr>\n",
       "    <tr>\n",
       "      <th>2</th>\n",
       "      <td>12098116</td>\n",
       "      <td>-0.0040</td>\n",
       "      <td>2016-01-01</td>\n",
       "      <td>1.0</td>\n",
       "      <td>NaN</td>\n",
       "      <td>NaN</td>\n",
       "      <td>3.0</td>\n",
       "      <td>2.0</td>\n",
       "      <td>NaN</td>\n",
       "      <td>4.0</td>\n",
       "      <td>...</td>\n",
       "      <td>1</td>\n",
       "      <td>2016</td>\n",
       "      <td>-5.09</td>\n",
       "      <td>-4.69</td>\n",
       "      <td>-1.99</td>\n",
       "      <td>-5.01</td>\n",
       "      <td>-9.2</td>\n",
       "      <td>-4.29</td>\n",
       "      <td>1.4</td>\n",
       "      <td>-1.51</td>\n",
       "    </tr>\n",
       "    <tr>\n",
       "      <th>3</th>\n",
       "      <td>12643413</td>\n",
       "      <td>0.0218</td>\n",
       "      <td>2016-01-02</td>\n",
       "      <td>1.0</td>\n",
       "      <td>NaN</td>\n",
       "      <td>NaN</td>\n",
       "      <td>2.0</td>\n",
       "      <td>2.0</td>\n",
       "      <td>NaN</td>\n",
       "      <td>4.0</td>\n",
       "      <td>...</td>\n",
       "      <td>1</td>\n",
       "      <td>2016</td>\n",
       "      <td>-5.09</td>\n",
       "      <td>-4.69</td>\n",
       "      <td>-1.99</td>\n",
       "      <td>-5.01</td>\n",
       "      <td>-9.2</td>\n",
       "      <td>-4.29</td>\n",
       "      <td>1.4</td>\n",
       "      <td>-1.51</td>\n",
       "    </tr>\n",
       "    <tr>\n",
       "      <th>4</th>\n",
       "      <td>14432541</td>\n",
       "      <td>-0.0050</td>\n",
       "      <td>2016-01-02</td>\n",
       "      <td>NaN</td>\n",
       "      <td>NaN</td>\n",
       "      <td>NaN</td>\n",
       "      <td>2.5</td>\n",
       "      <td>4.0</td>\n",
       "      <td>NaN</td>\n",
       "      <td>NaN</td>\n",
       "      <td>...</td>\n",
       "      <td>1</td>\n",
       "      <td>2016</td>\n",
       "      <td>-5.09</td>\n",
       "      <td>-4.69</td>\n",
       "      <td>-1.99</td>\n",
       "      <td>-5.01</td>\n",
       "      <td>-9.2</td>\n",
       "      <td>-4.29</td>\n",
       "      <td>1.4</td>\n",
       "      <td>-1.51</td>\n",
       "    </tr>\n",
       "  </tbody>\n",
       "</table>\n",
       "<p>5 rows × 71 columns</p>\n",
       "</div>"
      ],
      "text/plain": [
       "   parcelid  logerror transactiondate  airconditioningtypeid  \\\n",
       "0  11016594    0.0276      2016-01-01                    1.0   \n",
       "1  14366692   -0.1684      2016-01-01                    NaN   \n",
       "2  12098116   -0.0040      2016-01-01                    1.0   \n",
       "3  12643413    0.0218      2016-01-02                    1.0   \n",
       "4  14432541   -0.0050      2016-01-02                    NaN   \n",
       "\n",
       "   architecturalstyletypeid  basementsqft  bathroomcnt  bedroomcnt  \\\n",
       "0                       NaN           NaN          2.0         3.0   \n",
       "1                       NaN           NaN          3.5         4.0   \n",
       "2                       NaN           NaN          3.0         2.0   \n",
       "3                       NaN           NaN          2.0         2.0   \n",
       "4                       NaN           NaN          2.5         4.0   \n",
       "\n",
       "   buildingclasstypeid  buildingqualitytypeid  \\\n",
       "0                  NaN                    4.0   \n",
       "1                  NaN                    NaN   \n",
       "2                  NaN                    4.0   \n",
       "3                  NaN                    4.0   \n",
       "4                  NaN                    NaN   \n",
       "\n",
       "                ...                 month  year  \\\n",
       "0               ...                     1  2016   \n",
       "1               ...                     1  2016   \n",
       "2               ...                     1  2016   \n",
       "3               ...                     1  2016   \n",
       "4               ...                     1  2016   \n",
       "\n",
       "   equity_apartments_index_price  equity_healthcare_index_price  \\\n",
       "0                          -5.09                          -4.69   \n",
       "1                          -5.09                          -4.69   \n",
       "2                          -5.09                          -4.69   \n",
       "3                          -5.09                          -4.69   \n",
       "4                          -5.09                          -4.69   \n",
       "\n",
       "   equity_manufactured_homes_price_index  equity_residential_index_price  \\\n",
       "0                                  -1.99                           -5.01   \n",
       "1                                  -1.99                           -5.01   \n",
       "2                                  -1.99                           -5.01   \n",
       "3                                  -1.99                           -5.01   \n",
       "4                                  -1.99                           -5.01   \n",
       "\n",
       "   equity_single_family_home_price_index  home_financing_price_index  \\\n",
       "0                                   -9.2                       -4.29   \n",
       "1                                   -9.2                       -4.29   \n",
       "2                                   -9.2                       -4.29   \n",
       "3                                   -9.2                       -4.29   \n",
       "4                                   -9.2                       -4.29   \n",
       "\n",
       "   inflation_rate  infrastructure_reit_price_index  \n",
       "0             1.4                            -1.51  \n",
       "1             1.4                            -1.51  \n",
       "2             1.4                            -1.51  \n",
       "3             1.4                            -1.51  \n",
       "4             1.4                            -1.51  \n",
       "\n",
       "[5 rows x 71 columns]"
      ]
     },
     "execution_count": 13,
     "metadata": {},
     "output_type": "execute_result"
    }
   ],
   "source": [
    "data.head()"
   ]
  },
  {
   "cell_type": "markdown",
   "metadata": {},
   "source": [
    "### Data Preprocessing\n",
    "- Here we select some of the desirable columns for out predictions\n",
    "- Then we clean up the missing values, remove outliers ans do necessary data imputations.\n",
    "- Data is categorised as: \n",
    "    - initial numeric data from existing data,\n",
    "    - additional numeric data from external source\n",
    "    - categorical (from existing source)\n",
    "    - Oldness attribute\n",
    "  All these comprise the properties variables of interest"
   ]
  },
  {
   "cell_type": "code",
   "execution_count": 15,
   "metadata": {
    "collapsed": true
   },
   "outputs": [],
   "source": [
    "# Categorical variables are Numeric here. Replace NaN's with 0.0, then hot one encode.\n",
    "categorical_variables=['buildingqualitytypeid','heatingorsystemtypeid', 'year','month']\n",
    "oldness_attribute = ['yearbuilt']\n",
    "## Impute the NaN's in the following columns with median values\n",
    "initial_numeric_variables = ['bathroomcnt','bedroomcnt','calculatedfinishedsquarefeet','structuretaxvaluedollarcnt'] + oldness_attribute\n",
    "additional_numeric_variables = pricing_column_names + inflation_rate_column_names\n",
    "\n",
    "numeric_variables = initial_numeric_variables + additional_numeric_variables\n",
    "# This is the key variable that will help with the join\n",
    "key_variable = ['parcelid']\n",
    "log_error_variable = ['logerror']\n",
    "# Full variable list:\n",
    "properties_variables = key_variable + log_error_variable + numeric_variables + categorical_variables"
   ]
  },
  {
   "cell_type": "code",
   "execution_count": 17,
   "metadata": {
    "collapsed": true
   },
   "outputs": [],
   "source": [
    "# Data subsetting\n",
    "d = data[properties_variables]"
   ]
  },
  {
   "cell_type": "markdown",
   "metadata": {},
   "source": [
    "Following is a heatmap plot of all the variables that I am about to use in this modelling exercise.\n",
    "    - The external economic indicators from Realtor indices seem to correlate amongs each other well.\n",
    "    - Variables in existing data correlate well.\n",
    "    - It is interesting to not month on month relative inflation rate is the sole indicator what has a\n",
    "      slight correlation with existing data. \n",
    "    - It is also interesting to note that inflation rate has negative correlation with some of Realtor market indices"
   ]
  },
  {
   "cell_type": "code",
   "execution_count": 19,
   "metadata": {
    "scrolled": false
   },
   "outputs": [
    {
     "data": {
      "text/plain": [
       "<matplotlib.axes._subplots.AxesSubplot at 0x28426281a20>"
      ]
     },
     "execution_count": 19,
     "metadata": {},
     "output_type": "execute_result"
    },
    {
     "data": {
      "image/png": "[encoded data removed]",
      "text/plain": [
       "<matplotlib.figure.Figure at 0x284275352b0>"
      ]
     },
     "metadata": {},
     "output_type": "display_data"
    }
   ],
   "source": [
    "sns.heatmap(d.corr(), xticklabels=d.columns.values,yticklabels=d.columns.values)"
   ]
  },
  {
   "cell_type": "code",
   "execution_count": 20,
   "metadata": {},
   "outputs": [
    {
     "data": {
      "text/html": [
       "<div>\n",
       "<style>\n",
       "    .dataframe thead tr:only-child th {\n",
       "        text-align: right;\n",
       "    }\n",
       "\n",
       "    .dataframe thead th {\n",
       "        text-align: left;\n",
       "    }\n",
       "\n",
       "    .dataframe tbody tr th {\n",
       "        vertical-align: top;\n",
       "    }\n",
       "</style>\n",
       "<table border=\"1\" class=\"dataframe\">\n",
       "  <thead>\n",
       "    <tr style=\"text-align: right;\">\n",
       "      <th></th>\n",
       "      <th>column_name</th>\n",
       "      <th>missing_count</th>\n",
       "    </tr>\n",
       "  </thead>\n",
       "  <tbody>\n",
       "    <tr>\n",
       "      <th>2</th>\n",
       "      <td>bathroomcnt</td>\n",
       "      <td>34</td>\n",
       "    </tr>\n",
       "    <tr>\n",
       "      <th>3</th>\n",
       "      <td>bedroomcnt</td>\n",
       "      <td>34</td>\n",
       "    </tr>\n",
       "    <tr>\n",
       "      <th>5</th>\n",
       "      <td>structuretaxvaluedollarcnt</td>\n",
       "      <td>529</td>\n",
       "    </tr>\n",
       "    <tr>\n",
       "      <th>4</th>\n",
       "      <td>calculatedfinishedsquarefeet</td>\n",
       "      <td>896</td>\n",
       "    </tr>\n",
       "    <tr>\n",
       "      <th>6</th>\n",
       "      <td>yearbuilt</td>\n",
       "      <td>1060</td>\n",
       "    </tr>\n",
       "    <tr>\n",
       "      <th>13</th>\n",
       "      <td>buildingqualitytypeid</td>\n",
       "      <td>60715</td>\n",
       "    </tr>\n",
       "    <tr>\n",
       "      <th>14</th>\n",
       "      <td>heatingorsystemtypeid</td>\n",
       "      <td>62237</td>\n",
       "    </tr>\n",
       "  </tbody>\n",
       "</table>\n",
       "</div>"
      ],
      "text/plain": [
       "                     column_name  missing_count\n",
       "2                    bathroomcnt             34\n",
       "3                     bedroomcnt             34\n",
       "5     structuretaxvaluedollarcnt            529\n",
       "4   calculatedfinishedsquarefeet            896\n",
       "6                      yearbuilt           1060\n",
       "13         buildingqualitytypeid          60715\n",
       "14         heatingorsystemtypeid          62237"
      ]
     },
     "execution_count": 20,
     "metadata": {},
     "output_type": "execute_result"
    }
   ],
   "source": [
    "## Testing out the missing data stats\n",
    "missing_df = d.isnull().sum(axis=0).reset_index()\n",
    "missing_df.columns = ['column_name', 'missing_count']\n",
    "missing_df = missing_df.loc[missing_df['missing_count']>0]\n",
    "missing_df = missing_df.sort_values(by='missing_count')\n",
    "missing_df"
   ]
  },
  {
   "cell_type": "markdown",
   "metadata": {},
   "source": [
    "###  Treating missing data\n",
    "This data has significant missing data on some of the variables we are using. \n",
    "    - For the numeric variables, We use median imputaiton\n",
    "    - For Categorical (numerical) variables we introduce a new category of no information."
   ]
  },
  {
   "cell_type": "code",
   "execution_count": 21,
   "metadata": {
    "collapsed": true
   },
   "outputs": [],
   "source": [
    "#Creating an imputation dictionary\n",
    "imputation_dict = defaultdict()\n",
    "for i in numeric_variables:\n",
    "    x = sum(d[i].notnull()*1)\n",
    "    imputation_dict[i]=d[i].median()"
   ]
  },
  {
   "cell_type": "code",
   "execution_count": 22,
   "metadata": {},
   "outputs": [
    {
     "data": {
      "text/plain": [
       "defaultdict(None,\n",
       "            {'bathroomcnt': 2.0,\n",
       "             'bedroomcnt': 3.0,\n",
       "             'calculatedfinishedsquarefeet': 1541.0,\n",
       "             'equity_apartments_index_price': 1.04,\n",
       "             'equity_residential_index_price': 1.19,\n",
       "             'equity_single_family_home_price_index': 0.4,\n",
       "             'home_financing_price_index': 1.28,\n",
       "             'inflation_rate': 1.6,\n",
       "             'infrastructure_reit_price_index': 2.14,\n",
       "             'structuretaxvaluedollarcnt': 134051.0,\n",
       "             'yearbuilt': 1970.0})"
      ]
     },
     "execution_count": 22,
     "metadata": {},
     "output_type": "execute_result"
    }
   ],
   "source": [
    "imputation_dict"
   ]
  },
  {
   "cell_type": "code",
   "execution_count": 23,
   "metadata": {},
   "outputs": [
    {
     "name": "stdout",
     "output_type": "stream",
     "text": [
      "imputation happened for:  bathroomcnt  with  2.0\n",
      "imputation happened for:  bedroomcnt  with  3.0\n",
      "imputation happened for:  calculatedfinishedsquarefeet  with  1541.0\n",
      "imputation happened for:  structuretaxvaluedollarcnt  with  134051.0\n",
      "imputation happened for:  yearbuilt  with  1970.0\n"
     ]
    }
   ],
   "source": [
    "d1 = d.copy()\n",
    "# Imputing missing data with median values of columns\n",
    "for i in numeric_variables:\n",
    "    x = sum(d[i].isnull()*1)\n",
    "    if x>0:\n",
    "        d1[i].replace(np.nan,imputation_dict[i],inplace=True)\n",
    "        print(\"imputation happened for: \", i,\" with \",imputation_dict[i])"
   ]
  },
  {
   "cell_type": "markdown",
   "metadata": {},
   "source": [
    "### Normalization of the data set\n",
    "The large property descripor variables are normalised - by scaling and mean centering.\n",
    "mu_dict and sig_dict store the normalization parameters of mean and standart deviation of the columns."
   ]
  },
  {
   "cell_type": "code",
   "execution_count": 24,
   "metadata": {
    "collapsed": true
   },
   "outputs": [],
   "source": [
    "#Normalizing The Numeric variables\n",
    "# Creating dictionaries for mu and sigma\n",
    "#Creating an imputation dictionary\n",
    "mu_dict = defaultdict()\n",
    "sig_dict = defaultdict()\n",
    "for i in initial_numeric_variables:\n",
    "    mu_dict[i] = d1[i].mean()\n",
    "    sig_dict[i] = d1[i].std()\n",
    "    d1[i]=(d1[i]-mu_dict[i])/sig_dict[i]"
   ]
  },
  {
   "cell_type": "code",
   "execution_count": 25,
   "metadata": {},
   "outputs": [
    {
     "data": {
      "text/plain": [
       "defaultdict(None,\n",
       "            {'bathroomcnt': 2.288207018965024,\n",
       "             'bedroomcnt': 3.0417302010864384,\n",
       "             'calculatedfinishedsquarefeet': 1777.3620389783666,\n",
       "             'structuretaxvaluedollarcnt': 184187.54495258743,\n",
       "             'yearbuilt': 1968.5783438959306})"
      ]
     },
     "execution_count": 25,
     "metadata": {},
     "output_type": "execute_result"
    }
   ],
   "source": [
    "mu_dict"
   ]
  },
  {
   "cell_type": "code",
   "execution_count": 26,
   "metadata": {},
   "outputs": [
    {
     "data": {
      "text/plain": [
       "defaultdict(None,\n",
       "            {'bathroomcnt': 1.00074254858147,\n",
       "             'bedroomcnt': 1.1490182809458915,\n",
       "             'calculatedfinishedsquarefeet': 938.0031628063293,\n",
       "             'structuretaxvaluedollarcnt': 218956.47180317095,\n",
       "             'yearbuilt': 23.702292031766458})"
      ]
     },
     "execution_count": 26,
     "metadata": {},
     "output_type": "execute_result"
    }
   ],
   "source": [
    "sig_dict"
   ]
  },
  {
   "cell_type": "markdown",
   "metadata": {},
   "source": [
    "### Treating the Numeric categorical variables\n",
    "- Now we do 0 imputation in NaNs in as a new numeric category.\n",
    "- We also do one hot encoding on them to make sure increasing numeric values don't get interpreded as higher values."
   ]
  },
  {
   "cell_type": "code",
   "execution_count": 29,
   "metadata": {},
   "outputs": [
    {
     "data": {
      "text/plain": [
       "['buildingqualitytypeid', 'heatingorsystemtypeid', 'year', 'month']"
      ]
     },
     "execution_count": 29,
     "metadata": {},
     "output_type": "execute_result"
    }
   ],
   "source": [
    "categorical_variables"
   ]
  },
  {
   "cell_type": "code",
   "execution_count": 30,
   "metadata": {
    "collapsed": true
   },
   "outputs": [],
   "source": [
    "## Replacing NaNs in Categorical variables with 0's\n",
    "for i in categorical_variables:\n",
    "    d1[i].replace(np.nan,0.0,inplace=True)"
   ]
  },
  {
   "cell_type": "code",
   "execution_count": 33,
   "metadata": {},
   "outputs": [
    {
     "name": "stdout",
     "output_type": "stream",
     "text": [
      "One Hot Encoding:  buildingqualitytypeid\n",
      "One Hot Encoding:  heatingorsystemtypeid\n",
      "One Hot Encoding:  year\n",
      "One Hot Encoding:  month\n"
     ]
    }
   ],
   "source": [
    "## One hot encoding the categorical variables\n",
    "columnsToEncode = categorical_variables\n",
    "# Adding dummies\n",
    "for feature in columnsToEncode:\n",
    "        print('One Hot Encoding: ', feature)\n",
    "        d1 = pd.concat([d1, pd.get_dummies(d1[feature],prefix=feature)], axis=1)\n",
    "        del d1[feature]\n"
   ]
  },
  {
   "cell_type": "markdown",
   "metadata": {},
   "source": [
    "## Training & Testing the model\n",
    "- Now we have preprocessed the data to a stage where we can start building models.\n",
    "- We do a 75% 25% split on the dataset, with 75% as training and 25% as test.\n",
    "\n",
    "We train a random forest regressor"
   ]
  },
  {
   "cell_type": "code",
   "execution_count": null,
   "metadata": {
    "collapsed": true
   },
   "outputs": [],
   "source": [
    "## Creating a test-train split\n",
    "train=d1.sample(frac=0.75,random_state=200)\n",
    "test=d1.drop(train.index)"
   ]
  },
  {
   "cell_type": "code",
   "execution_count": 35,
   "metadata": {
    "collapsed": true
   },
   "outputs": [],
   "source": [
    "# Separating predictors and response variables\n",
    "all_column_names = list(train.columns)\n",
    "for i in ['parcelid','logerror']:\n",
    "    all_column_names.remove(i)\n",
    "    \n",
    "# X variable names\n",
    "x_vars = all_column_names\n",
    "y_var = 'logerror'\n",
    "# Train set\n",
    "train_Y = train[y_var]\n",
    "train_X = train[x_vars]\n",
    "#Test set\n",
    "test_Y = test[y_var]\n",
    "test_X = test[x_vars]\n",
    "test_key = test['parcelid']"
   ]
  },
  {
   "cell_type": "code",
   "execution_count": 37,
   "metadata": {},
   "outputs": [
    {
     "name": "stdout",
     "output_type": "stream",
     "text": [
      "Mean squared error: 0.02572\n",
      "Variance score: 0.01381\n"
     ]
    }
   ],
   "source": [
    "# Random forest example\n",
    "randreg = RandomForestRegressor(n_estimators=50,max_depth=4)\n",
    "randreg.fit(train_X,train_Y)\n",
    "logerror_prediction_y=randreg.predict(test_X)\n",
    "# The mean squared error\n",
    "print(\"Mean squared error: %1.5f\"\n",
    "      % mean_squared_error(test_Y, logerror_prediction_y))\n",
    "# Explained variance score: 1 is perfect prediction\n",
    "print('Variance score: %1.5f' % r2_score(test_Y, logerror_prediction_y))"
   ]
  },
  {
   "cell_type": "markdown",
   "metadata": {},
   "source": [
    "###  Random Forest Results:\n",
    "    - The model has a RMSE of 0.026 and a r^2 score 0.014 on the test data.\n",
    "    - I had also tried the good old linear model, but r^2 score was about 5 times lower.\n"
   ]
  },
  {
   "cell_type": "markdown",
   "metadata": {},
   "source": [
    "### Preparing the submission now for Kaggle\n",
    "Here we start the process of prediction on all 3 million points"
   ]
  },
  {
   "cell_type": "code",
   "execution_count": 41,
   "metadata": {
    "collapsed": true
   },
   "outputs": [],
   "source": [
    "dpf = dfp1.copy()"
   ]
  },
  {
   "cell_type": "code",
   "execution_count": 42,
   "metadata": {
    "collapsed": true
   },
   "outputs": [],
   "source": [
    "#Save the key col\n",
    "dp_key_col = dpf['parcelid'].copy()"
   ]
  },
  {
   "cell_type": "code",
   "execution_count": 43,
   "metadata": {
    "collapsed": true
   },
   "outputs": [],
   "source": [
    "# Categorical variables are Numeric here. Replace NaN's with 0.0, then hot one encode.\n",
    "categorical_variables=['buildingqualitytypeid','heatingorsystemtypeid']#, 'year','month']\n",
    "\n",
    "## Impute the NaN's in the following columns with median values\n",
    "initial_numeric_variables = ['bathroomcnt','bedroomcnt','calculatedfinishedsquarefeet','structuretaxvaluedollarcnt'] + oldness_attribute\n",
    "additional_numeric_variables = pricing_column_names + inflation_rate_column_names\n",
    "\n",
    "numeric_variables = initial_numeric_variables# + additional_numeric_variables\n",
    "# This is the key variable that will help with the join\n",
    "key_variable = ['parcelid']\n",
    "log_error_variable = ['logerror']\n",
    "# Full variable list:\n",
    "properties_variables =  key_variable + numeric_variables + categorical_variables"
   ]
  },
  {
   "cell_type": "code",
   "execution_count": 44,
   "metadata": {
    "collapsed": true
   },
   "outputs": [],
   "source": [
    "dp = dpf[properties_variables].copy()\n",
    "dp = dp.drop('parcelid',1)"
   ]
  },
  {
   "cell_type": "code",
   "execution_count": 45,
   "metadata": {},
   "outputs": [
    {
     "name": "stdout",
     "output_type": "stream",
     "text": [
      "imputation happened for:  bathroomcnt  with  2.0\n",
      "imputation happened for:  bedroomcnt  with  3.0\n",
      "imputation happened for:  calculatedfinishedsquarefeet  with  1541.0\n",
      "imputation happened for:  structuretaxvaluedollarcnt  with  134051.0\n",
      "imputation happened for:  yearbuilt  with  1970.0\n"
     ]
    }
   ],
   "source": [
    "for i in numeric_variables:\n",
    "    x = sum(dp[i].isnull()*1)\n",
    "    if x>0:\n",
    "        dp[i].replace(np.nan,imputation_dict[i],inplace=True)\n",
    "        print(\"imputation happened for: \", i,\" with \",imputation_dict[i])"
   ]
  },
  {
   "cell_type": "code",
   "execution_count": 46,
   "metadata": {
    "collapsed": true
   },
   "outputs": [],
   "source": [
    "for i in initial_numeric_variables:\n",
    "    x = sum(dp[i].isnull()*1)\n",
    "    if x>0:\n",
    "        dp[i].replace(np.nan,imputation_dict[i],inplace=True)\n",
    "        print(\"imputation happened for: \", i,\" with \",imputation_dict[i])"
   ]
  },
  {
   "cell_type": "code",
   "execution_count": 47,
   "metadata": {
    "collapsed": true
   },
   "outputs": [],
   "source": [
    "#Normalizing The Numeric variables\n",
    "for i in initial_numeric_variables:\n",
    "    dp[i]=(dp[i]-mu_dict[i])/sig_dict[i]"
   ]
  },
  {
   "cell_type": "code",
   "execution_count": 48,
   "metadata": {},
   "outputs": [
    {
     "name": "stdout",
     "output_type": "stream",
     "text": [
      "buildingqualitytypeid 1938488\n",
      "heatingorsystemtypeid 1806401\n"
     ]
    }
   ],
   "source": [
    "# Checking for NaNs in categorical numeric variables\n",
    "for i in categorical_variables:\n",
    "    print(i, sum(dp[i].notnull()*1))"
   ]
  },
  {
   "cell_type": "code",
   "execution_count": 49,
   "metadata": {
    "collapsed": true
   },
   "outputs": [],
   "source": [
    "## Replacing NaNs in Categorical variables with 0's\n",
    "for i in categorical_variables:\n",
    "    dp[i].replace(np.nan,0.0,inplace=True)"
   ]
  },
  {
   "cell_type": "code",
   "execution_count": 50,
   "metadata": {},
   "outputs": [
    {
     "name": "stdout",
     "output_type": "stream",
     "text": [
      "One Hot Encoding:  buildingqualitytypeid\n",
      "One Hot Encoding:  heatingorsystemtypeid\n"
     ]
    }
   ],
   "source": [
    "## One hot encoding the simple categorical variables\n",
    "columnsToEncode = categorical_variables\n",
    "# Adding dummies\n",
    "for feature in columnsToEncode:\n",
    "        print('One Hot Encoding: ', feature)\n",
    "        dp = pd.concat([dp, pd.get_dummies(dp[feature],prefix=feature)], axis=1)\n",
    "        del dp[feature]"
   ]
  },
  {
   "cell_type": "code",
   "execution_count": 51,
   "metadata": {
    "collapsed": true
   },
   "outputs": [],
   "source": [
    "month_updation_list = ['month_1','month_2','month_3','month_4','month_5','month_6',\n",
    "                 'month_7','month_8','month_9','month_10','month_11','month_12']\n",
    "year_updation_list = ['year_2016','year_2017']\n",
    "\n",
    "#Creating year dummy variables\n",
    "for i in year_updation_list:\n",
    "     dp[i]=0\n",
    "\n",
    "#Creating month dummy variables\n",
    "for i in month_updation_list:\n",
    "     dp[i]=0"
   ]
  },
  {
   "cell_type": "markdown",
   "metadata": {},
   "source": [
    "## Hence Generating the prediction series for 6 distince time points\n",
    "-201610\n",
    "-201611\n",
    "-201612\n",
    "-201710\n",
    "-201711\n",
    "-201712\n",
    "I have not used any function as for last 3 cases the external data has to be approximated.\n",
    "For 201710, I have used 201709, for 201711 I have used the mean of 201709 and 201708, and for 201712\n",
    "I have used the mean of 201707,201708, and 201709"
   ]
  },
  {
   "cell_type": "code",
   "execution_count": 53,
   "metadata": {},
   "outputs": [
    {
     "name": "stdout",
     "output_type": "stream",
     "text": [
      "Running prediction now...\n",
      "Predict complete: Length is:  2985217\n"
     ]
    }
   ],
   "source": [
    "# For 201610\n",
    "ext_data = indices_and_inflation_data[indices_and_inflation_data['year_month']==201610]\n",
    "dq1 = dp.copy()\n",
    "for i in additional_numeric_variables:\n",
    "    dq1[i] = float(ext_data[i])\n",
    "# Set year coordinates\n",
    "for i in year_updation_list:\n",
    "    dq1[i]=0\n",
    "dq1['year_2016']=1\n",
    "\n",
    "#Set month coordinates\n",
    "for i in month_updation_list:\n",
    "    dq1[i]=0\n",
    "dq1['month_10']=1\n",
    "# Run predict\n",
    "print('Running prediction now...')\n",
    "pred_logerr_201610 = randreg.predict(dq1[all_column_names])\n",
    "print(\"Predict complete: Length is: \", len(pred_logerr_201610))"
   ]
  },
  {
   "cell_type": "code",
   "execution_count": 54,
   "metadata": {},
   "outputs": [
    {
     "name": "stdout",
     "output_type": "stream",
     "text": [
      "Running prediction now...\n",
      "Predict complete: Length is:  2985217\n"
     ]
    }
   ],
   "source": [
    "# For 201611\n",
    "ext_data = indices_and_inflation_data[indices_and_inflation_data['year_month']==201611]\n",
    "dq2 = dp.copy()\n",
    "for i in additional_numeric_variables:\n",
    "    dq2[i] = float(ext_data[i])\n",
    "# Set year coordinates\n",
    "for i in year_updation_list:\n",
    "    dq2[i]=0\n",
    "dq2['year_2016']=1\n",
    "\n",
    "#Set month coordinates\n",
    "for i in month_updation_list:\n",
    "    dq2[i]=0\n",
    "dq2['month_11']=1\n",
    "# Run predict\n",
    "print('Running prediction now...')\n",
    "pred_logerr_201611 = randreg.predict(dq2[all_column_names])\n",
    "print(\"Predict complete: Length is: \", len(pred_logerr_201611))"
   ]
  },
  {
   "cell_type": "code",
   "execution_count": 55,
   "metadata": {},
   "outputs": [
    {
     "name": "stdout",
     "output_type": "stream",
     "text": [
      "Running prediction now...\n",
      "Predict complete: Length is:  2985217\n"
     ]
    }
   ],
   "source": [
    "# For 201612\n",
    "ext_data = indices_and_inflation_data[indices_and_inflation_data['year_month']==201612]\n",
    "dq3 = dp.copy()\n",
    "for i in additional_numeric_variables:\n",
    "    dq3[i] = float(ext_data[i])\n",
    "# Set year coordinates\n",
    "for i in year_updation_list:\n",
    "     dq3[i]=0\n",
    "dq3['year_2016']=1\n",
    "\n",
    "#Set month coordinates\n",
    "for i in month_updation_list:\n",
    "     dq3[i]=0\n",
    "dq3['month_12']=1\n",
    "# Run predict\n",
    "print('Running prediction now...')\n",
    "pred_logerr_201612 = randreg.predict(dq3[all_column_names])\n",
    "print(\"Predict complete: Length is: \", len(pred_logerr_201612))"
   ]
  },
  {
   "cell_type": "code",
   "execution_count": 56,
   "metadata": {},
   "outputs": [
    {
     "name": "stdout",
     "output_type": "stream",
     "text": [
      "Running prediction now...\n",
      "Predict complete: Length is:  2985217\n"
     ]
    }
   ],
   "source": [
    "# For 201710\n",
    "ext_data = indices_and_inflation_data[indices_and_inflation_data['year_month']==201709]\n",
    "dq4 = dp.copy()\n",
    "for i in additional_numeric_variables:\n",
    "    dq4[i] = float(ext_data[i])\n",
    "# Set year coordinates\n",
    "for i in year_updation_list:\n",
    "    dq4[i]=0\n",
    "dq4['year_2017']=1\n",
    "\n",
    "#Set month coordinates\n",
    "for i in month_updation_list:\n",
    "    dq4[i]=0\n",
    "dq4['month_10']=1\n",
    "# Run predict\n",
    "print('Running prediction now...')\n",
    "pred_logerr_201710 = randreg.predict(dq4[all_column_names])\n",
    "print(\"Predict complete: Length is: \", len(pred_logerr_201710))"
   ]
  },
  {
   "cell_type": "code",
   "execution_count": 57,
   "metadata": {},
   "outputs": [
    {
     "name": "stdout",
     "output_type": "stream",
     "text": [
      "Avg for : home_financing_price_index  is:  0.625\n",
      "Avg for : infrastructure_reit_price_index  is:  -0.17999999999999972\n",
      "Avg for : equity_residential_index_price  is:  -1.5399999999999998\n",
      "Avg for : equity_single_family_home_price_index  is:  -0.4700000000000001\n",
      "Avg for : equity_apartments_index_price  is:  -1.6500000000000001\n",
      "Avg for : inflation_rate  is:  2.05\n",
      "Running prediction now...\n",
      "Predict complete: Length is:  2985217\n"
     ]
    }
   ],
   "source": [
    "# For 201711\n",
    "ext_data1 = indices_and_inflation_data[indices_and_inflation_data['year_month']==201709]\n",
    "ext_data2 = indices_and_inflation_data[indices_and_inflation_data['year_month']==201708]\n",
    "ext_data = ext_data1.append(ext_data2)\n",
    "dq5 = dp.copy()\n",
    "for i in additional_numeric_variables:\n",
    "    v = ext_data[i].mean()\n",
    "    print(\"Avg for :\",i,\" is: \", v)\n",
    "    dq5[i] = v\n",
    "# Set year coordinates\n",
    "for i in year_updation_list:\n",
    "    dq5[i]=0\n",
    "dq5['year_2017']=1\n",
    "\n",
    "#Set month coordinates\n",
    "for i in month_updation_list:\n",
    "    dq5[i]=0\n",
    "dq5['month_11']=1\n",
    "# Run predict\n",
    "print('Running prediction now...')\n",
    "pred_logerr_201711 = randreg.predict(dq5[all_column_names])\n",
    "print(\"Predict complete: Length is: \", len(pred_logerr_201711))"
   ]
  },
  {
   "cell_type": "code",
   "execution_count": 58,
   "metadata": {},
   "outputs": [
    {
     "name": "stdout",
     "output_type": "stream",
     "text": [
      "Running prediction now...\n",
      "Predict complete: Length is:  2985217\n"
     ]
    }
   ],
   "source": [
    "# For 201712\n",
    "ext_data1 = indices_and_inflation_data[indices_and_inflation_data['year_month']==201709]\n",
    "ext_data2 = indices_and_inflation_data[indices_and_inflation_data['year_month']==201708]\n",
    "ext_data3 = indices_and_inflation_data[indices_and_inflation_data['year_month']==201707]\n",
    "ext_data = ext_data1.append(ext_data2)\n",
    "ext_data = ext_data.append(ext_data3)\n",
    "dq6 = dp.copy()\n",
    "for i in additional_numeric_variables:\n",
    "    dq6[i] = float(ext_data[i].mean())\n",
    "# Set year coordinates\n",
    "for i in year_updation_list:\n",
    "     dq6[i]=0\n",
    "dq6['year_2017']=1\n",
    "\n",
    "#Set month coordinates\n",
    "for i in month_updation_list:\n",
    "     dq6[i]=0\n",
    "dq6['month_12']=1\n",
    "# Run predict\n",
    "print('Running prediction now...')\n",
    "pred_logerr_201712 = randreg.predict(dq6[all_column_names])\n",
    "print(\"Predict complete: Length is: \", len(pred_logerr_201712))"
   ]
  },
  {
   "cell_type": "code",
   "execution_count": 59,
   "metadata": {
    "collapsed": true
   },
   "outputs": [],
   "source": [
    "## Adding the columns\n",
    "dp['201610']=pred_logerr_201610\n",
    "dp['201611']=pred_logerr_201611\n",
    "dp['201612']=pred_logerr_201612\n",
    "dp['201710']=pred_logerr_201710\n",
    "dp['201711']=pred_logerr_201711\n",
    "dp['201712']=pred_logerr_201712\n",
    "dp = pd.concat([dp_key_col,dp],axis=1)"
   ]
  },
  {
   "cell_type": "code",
   "execution_count": 60,
   "metadata": {
    "collapsed": true
   },
   "outputs": [],
   "source": [
    "#Finally creating the target CSV by dropping off unnecessary columns\n",
    "tdf = dp.copy()\n",
    "for i in list(tdf.columns):\n",
    "    if i in ['parcelid','201610','201611','201612','201710','201711','201712']:\n",
    "        continue\n",
    "    else:\n",
    "        #print('Dropped: ',i)\n",
    "        tdf=tdf.drop(i,1)"
   ]
  },
  {
   "cell_type": "code",
   "execution_count": 62,
   "metadata": {},
   "outputs": [
    {
     "data": {
      "text/html": [
       "<div>\n",
       "<style>\n",
       "    .dataframe thead tr:only-child th {\n",
       "        text-align: right;\n",
       "    }\n",
       "\n",
       "    .dataframe thead th {\n",
       "        text-align: left;\n",
       "    }\n",
       "\n",
       "    .dataframe tbody tr th {\n",
       "        vertical-align: top;\n",
       "    }\n",
       "</style>\n",
       "<table border=\"1\" class=\"dataframe\">\n",
       "  <thead>\n",
       "    <tr style=\"text-align: right;\">\n",
       "      <th></th>\n",
       "      <th>parcelid</th>\n",
       "      <th>201610</th>\n",
       "      <th>201611</th>\n",
       "      <th>201612</th>\n",
       "      <th>201710</th>\n",
       "      <th>201711</th>\n",
       "      <th>201712</th>\n",
       "    </tr>\n",
       "  </thead>\n",
       "  <tbody>\n",
       "    <tr>\n",
       "      <th>0</th>\n",
       "      <td>10754147</td>\n",
       "      <td>0.009936</td>\n",
       "      <td>0.010365</td>\n",
       "      <td>0.010365</td>\n",
       "      <td>0.010365</td>\n",
       "      <td>0.010365</td>\n",
       "      <td>0.010365</td>\n",
       "    </tr>\n",
       "    <tr>\n",
       "      <th>1</th>\n",
       "      <td>10759547</td>\n",
       "      <td>0.009936</td>\n",
       "      <td>0.010365</td>\n",
       "      <td>0.010365</td>\n",
       "      <td>0.010365</td>\n",
       "      <td>0.010365</td>\n",
       "      <td>0.010365</td>\n",
       "    </tr>\n",
       "    <tr>\n",
       "      <th>2</th>\n",
       "      <td>10843547</td>\n",
       "      <td>0.092123</td>\n",
       "      <td>0.096612</td>\n",
       "      <td>0.090565</td>\n",
       "      <td>0.096612</td>\n",
       "      <td>0.092123</td>\n",
       "      <td>0.092123</td>\n",
       "    </tr>\n",
       "    <tr>\n",
       "      <th>3</th>\n",
       "      <td>10859147</td>\n",
       "      <td>0.032521</td>\n",
       "      <td>0.035262</td>\n",
       "      <td>0.033330</td>\n",
       "      <td>0.035718</td>\n",
       "      <td>0.032776</td>\n",
       "      <td>0.033330</td>\n",
       "    </tr>\n",
       "    <tr>\n",
       "      <th>4</th>\n",
       "      <td>10879947</td>\n",
       "      <td>0.006694</td>\n",
       "      <td>0.007351</td>\n",
       "      <td>0.007351</td>\n",
       "      <td>0.007351</td>\n",
       "      <td>0.007351</td>\n",
       "      <td>0.007351</td>\n",
       "    </tr>\n",
       "  </tbody>\n",
       "</table>\n",
       "</div>"
      ],
      "text/plain": [
       "   parcelid    201610    201611    201612    201710    201711    201712\n",
       "0  10754147  0.009936  0.010365  0.010365  0.010365  0.010365  0.010365\n",
       "1  10759547  0.009936  0.010365  0.010365  0.010365  0.010365  0.010365\n",
       "2  10843547  0.092123  0.096612  0.090565  0.096612  0.092123  0.092123\n",
       "3  10859147  0.032521  0.035262  0.033330  0.035718  0.032776  0.033330\n",
       "4  10879947  0.006694  0.007351  0.007351  0.007351  0.007351  0.007351"
      ]
     },
     "execution_count": 62,
     "metadata": {},
     "output_type": "execute_result"
    }
   ],
   "source": [
    "tdf.head(5)"
   ]
  },
  {
   "cell_type": "code",
   "execution_count": 61,
   "metadata": {
    "collapsed": true
   },
   "outputs": [],
   "source": [
    "tdf.to_csv(\"c:/Users/ibipul/Documents/Python Scripts/datasets/zillow_data/prepd_submission_file_1015.csv\",index=False)"
   ]
  },
  {
   "cell_type": "markdown",
   "metadata": {},
   "source": [
    "# Task 6. Permutation Test"
   ]
  },
  {
   "cell_type": "code",
   "execution_count": 165,
   "metadata": {},
   "outputs": [],
   "source": [
    "from sklearn.metrics import mean_absolute_error\n",
    "import sklearn.utils"
   ]
  },
  {
   "cell_type": "markdown",
   "metadata": {},
   "source": [
    "### Following are the functions we set up to run permutations test\n",
    "What fraction of permutations produce at least error at least as good at the real data set?"
   ]
  },
  {
   "cell_type": "code",
   "execution_count": 184,
   "metadata": {},
   "outputs": [],
   "source": [
    "# This function returns the mean absolute deviation of a random shuffle of test_y against the predicted value\n",
    "def score_a_shuffle(shuffle_y, pred_y):\n",
    "    return mean_absolute_error(shuffle_y, pred_y)\n",
    "\n",
    "# Function to compare score \n",
    "def compare_score(shuffle_score, original):\n",
    "    return(sum((shuffle_score < original)*1)/len(shuffle_score))\n",
    "\n",
    "#Function to run the permutation test           \n",
    "def permutation_test(test_Y, logerror_prediction_y,n_count=100):\n",
    "    score_list = []\n",
    "    for i in range(n_count):\n",
    "        s = score_a_shuffle(sklearn.utils.shuffle(test_Y),logerror_prediction_y)\n",
    "        score_list.append(s)\n",
    "    return score_list"
   ]
  },
  {
   "cell_type": "markdown",
   "metadata": {},
   "source": [
    "For the original test set used in Task no. 5, we have a set of ~ 42k points \n",
    "on which we ran predict to report model performance. That set is now our bench mark,\n",
    "against which we are going to run our permutation test."
   ]
  },
  {
   "cell_type": "code",
   "execution_count": 172,
   "metadata": {},
   "outputs": [
    {
     "data": {
      "text/plain": [
       "0.068695364578740647"
      ]
     },
     "execution_count": 172,
     "metadata": {},
     "output_type": "execute_result"
    }
   ],
   "source": [
    "# Use the original test_Y and predicted value of Y to get the baseline score\n",
    "original_score = score_a_shuffle(test_Y,logerror_prediction_y)\n",
    "original_score"
   ]
  },
  {
   "cell_type": "code",
   "execution_count": 181,
   "metadata": {},
   "outputs": [],
   "source": [
    "# Now we run 1000 permutations on the test_Y of the test data\n",
    "# and compute mean absolute deviation against the baseline logerror_prediction_y that the model gave out.\n",
    "scores = permutation_test(test_Y,logerror_prediction_y, n_count= 1000)"
   ]
  },
  {
   "cell_type": "code",
   "execution_count": 185,
   "metadata": {
    "scrolled": false
   },
   "outputs": [
    {
     "data": {
      "text/plain": [
       "0.0"
      ]
     },
     "execution_count": 185,
     "metadata": {},
     "output_type": "execute_result"
    }
   ],
   "source": [
    "# Here we take the list of score generated in the permutation test\n",
    "# and the original mean absolute_deviation/score for out model\n",
    "compare_score(scores, original_score)"
   ]
  },
  {
   "cell_type": "markdown",
   "metadata": {},
   "source": [
    "### Result of permutation test score\n",
    "-In the 42k test set data points, I established the baseline score (M.a.d) at 0.068 using the original log error and predicted log error.\n",
    "- Then I started running random shuffle/permutations of the 42k log errors and computed m.a.d score with the original log_error_prediction each time.\n",
    "- The thousand scores thus obtained are then compared against the baseline. \n",
    "- 0% of the time the scores were better than the model that has been build\n",
    "\n",
    "### Now we obtain p-value of prediction\n"
   ]
  },
  {
   "cell_type": "code",
   "execution_count": 190,
   "metadata": {},
   "outputs": [],
   "source": [
    "from sklearn.cross_validation import permutation_test_score"
   ]
  },
  {
   "cell_type": "code",
   "execution_count": null,
   "metadata": {
    "scrolled": false
   },
   "outputs": [],
   "source": [
    "# Sampled predictor and response data\n",
    "train_x = train_X[1:10000]\n",
    "train_y = train_Y[1:10000]\n",
    "score, pscore, pvalue = permutation_test_score(randreg, train_x, train_y, n_permutations=100)\n",
    "print(\" Permutation Score is %s with p-value of %s\", pscore, pvalue)"
   ]
  },
  {
   "cell_type": "code",
   "execution_count": 194,
   "metadata": {},
   "outputs": [
    {
     "data": {
      "text/plain": [
       "51"
      ]
     },
     "execution_count": 194,
     "metadata": {},
     "output_type": "execute_result"
    }
   ],
   "source": [
    "len(test_X.columns)"
   ]
  },
  {
   "cell_type": "code",
   "execution_count": null,
   "metadata": {
    "collapsed": true
   },
   "outputs": [],
   "source": []
  }
 ],
 "metadata": {
  "kernelspec": {
   "display_name": "Python 3",
   "language": "python",
   "name": "python3"
  },
  "language_info": {
   "codemirror_mode": {
    "name": "ipython",
    "version": 3
   },
   "file_extension": ".py",
   "mimetype": "text/x-python",
   "name": "python",
   "nbconvert_exporter": "python",
   "pygments_lexer": "ipython3",
   "version": "3.6.1"
  }
 },
 "nbformat": 4,
 "nbformat_minor": 2
}
